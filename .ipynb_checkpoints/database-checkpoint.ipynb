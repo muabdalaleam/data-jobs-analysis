{
 "cells": [
  {
   "cell_type": "code",
   "execution_count": 4,
   "id": "c78b7098-13a9-4ca4-88a2-7a033d7fd294",
   "metadata": {},
   "outputs": [],
   "source": [
    "import sqlite3\n",
    "import pandas as pd\n",
    "\n",
    "con = sqlite3.connect(\"./data/database.db\") \n",
    "\n",
    "df = pd.read_csv(\"./data/linkedin_jobs.csv\")\n",
    "df.to_sql(\"linkedin\", con, if_exists='fail', index=False)\n",
    "\n",
    "con.close()"
   ]
  },
  {
   "cell_type": "code",
   "execution_count": null,
   "id": "7f10f622-96a9-4f69-ac2b-6a54a49dc581",
   "metadata": {},
   "outputs": [],
   "source": []
  }
 ],
 "metadata": {
  "kernelspec": {
   "display_name": "Python 3 (ipykernel)",
   "language": "python",
   "name": "python3"
  },
  "language_info": {
   "codemirror_mode": {
    "name": "ipython",
    "version": 3
   },
   "file_extension": ".py",
   "mimetype": "text/x-python",
   "name": "python",
   "nbconvert_exporter": "python",
   "pygments_lexer": "ipython3",
   "version": "3.12.11"
  }
 },
 "nbformat": 4,
 "nbformat_minor": 5
}
