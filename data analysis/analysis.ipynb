{
 "cells": [
  {
   "cell_type": "markdown",
   "id": "96e28f6e-7549-40d8-ab94-46ede9ebae40",
   "metadata": {},
   "source": [
    "## <center><strong>Notebook describtion & our <span style= 'color: #51fcc6'>Questions</span>"
   ]
  },
  {
   "cell_type": "markdown",
   "id": "c9cbe5d9-8539-4d6c-ac17-958ff51f8b45",
   "metadata": {},
   "source": [
    "In this notebook we are going to create the charts that we are going to use in the final pdf report and the tools we are going<br>\n",
    "to use are matplotlib and seaborn."
   ]
  },
  {
   "cell_type": "markdown",
   "id": "756b0216-768d-4349-863b-afd91eec4701",
   "metadata": {},
   "source": [
    "#### Questions we are going to awnser:\n",
    "- How many jobs are available per job title on each platform.\n",
    "- \n",
    "- \n",
    "- "
   ]
  },
  {
   "cell_type": "markdown",
   "id": "11dfed2b-46d3-45dd-92e0-7121f0f7f077",
   "metadata": {},
   "source": [
    "## <center><strong>Importing the <span style= 'color: #48e0dc'>Packeges "
   ]
  },
  {
   "cell_type": "code",
   "execution_count": null,
   "id": "6d5421dc-61d4-4d8e-8f43-99a9b3bb66cc",
   "metadata": {},
   "outputs": [],
   "source": [
    "import os\n",
    "import warnings\n",
    "import matplotlib\n",
    "import pandas             as pd\n",
    "import numpy              as np\n",
    "import seaborn            as sns\n",
    "import matplotlib.pyplot  as plt\n",
    "\n",
    "from google.cloud         import bigquery\n",
    "from wordcloud            import WordCloud\n",
    "from collections          import Counter"
   ]
  },
  {
   "cell_type": "code",
   "execution_count": null,
   "id": "bc3cc98d-3131-4e89-87b3-43681f60b816",
   "metadata": {},
   "outputs": [],
   "source": [
    "%matplotlib inline\n",
    "plt.rcParams['font.family'] = 'Candara'\n",
    "\n",
    "warnings.filterwarnings('ignore')\n",
    "\n",
    "credentials_path :str = '../credentials.json'\n",
    "os.environ['GOOGLE_APPLICATION_CREDENTIALS'] = credentials_path\n",
    "\n",
    "FONT             :int  = 17\n",
    "COLORS           :list = ['#51fcc6', '#48e0dc', '#5cd3f7', '#4895e0', '#517afc']\n",
    "NUMERICS         :list = ['int16', 'int32', 'int64', 'float16', 'float32', 'float64',\n",
    "                          'uint16', 'uint32', 'uint64']"
   ]
  },
  {
   "cell_type": "code",
   "execution_count": null,
   "id": "edb0d106-76ab-4ea8-8955-2b56e9eb6253",
   "metadata": {},
   "outputs": [],
   "source": []
  }
 ],
 "metadata": {
  "kernelspec": {
   "display_name": "Python 3 (ipykernel)",
   "language": "python",
   "name": "python3"
  },
  "language_info": {
   "codemirror_mode": {
    "name": "ipython",
    "version": 3
   },
   "file_extension": ".py",
   "mimetype": "text/x-python",
   "name": "python",
   "nbconvert_exporter": "python",
   "pygments_lexer": "ipython3",
   "version": "3.9.16"
  }
 },
 "nbformat": 4,
 "nbformat_minor": 5
}
