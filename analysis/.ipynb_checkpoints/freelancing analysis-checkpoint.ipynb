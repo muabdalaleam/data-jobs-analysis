{
 "cells": [
  {
   "cell_type": "markdown",
   "id": "2d87eb4b-c943-4562-866b-7c2dd151f3c6",
   "metadata": {},
   "source": [
    "## <center><strong>Project<span style= \"color: #61ed6f\"> Describtion"
   ]
  },
  {
   "cell_type": "markdown",
   "id": "5753d54c-1fd0-441c-b663-98ca78298128",
   "metadata": {},
   "source": []
  },
  {
   "cell_type": "markdown",
   "id": "e59118b7-50cf-4738-8e35-cd9de6b6e46c",
   "metadata": {},
   "source": []
  },
  {
   "cell_type": "markdown",
   "id": "b08419ad-46bc-42a6-a678-356c38c435fe",
   "metadata": {},
   "source": [
    "## <center><strong>Importing<span style= \"color: #65f79d\"> Packeges"
   ]
  },
  {
   "cell_type": "code",
   "execution_count": 22,
   "id": "dfca499a-0b6e-42a6-9901-a25b403a1dbe",
   "metadata": {},
   "outputs": [],
   "source": [
    "import time\n",
    "import sqlite3\n",
    "import requests\n",
    "import numpy as np\n",
    "import pandas as pd\n",
    "import seaborn as sns\n",
    "from flask import Flask\n",
    "from selenium import webdriver\n",
    "import matplotlib.pyplot as plt\n",
    "from bs4 import BeautifulSoup as bs"
   ]
  },
  {
   "cell_type": "markdown",
   "id": "69d3e9fc-3746-4f76-be83-00f2b453be34",
   "metadata": {},
   "source": [
    "## <center><strong>Setting up the<span style= \"color: #68e0B9\"> Web scrapers"
   ]
  },
  {
   "cell_type": "code",
   "execution_count": 45,
   "id": "bfd35b8e-8c12-4e99-8819-4c6e338c3951",
   "metadata": {},
   "outputs": [],
   "source": [
    "fivver_data_jobs_titles = [\"data-entry\", \"data-processing\", \"data-engineering\",\n",
    "                           \"data-science\", \"data-analytics\", \"data-visualization\"]\n",
    "\n",
    "guru_data_jobs_titles = [\"data-analytics\", \"machine-learning\", \"data-visualization\"]\n",
    "\n",
    "\n",
    "upwork_service_types = [\"jobs\", \"profiles\", \"services\"]\n",
    "guru_service_types = [\"freelancers\", \"jobs\"]\n",
    "\n",
    "\n",
    "def scrape_page(url: str) -> str:\n",
    "\n",
    "    driver = webdriver.Chrome()\n",
    "    driver.get(url)\n",
    "    html = driver.page_source\n",
    "\n",
    "    return  html"
   ]
  },
  {
   "cell_type": "code",
   "execution_count": 55,
   "id": "16ff1bdf-99da-46f6-ab1e-b41c542daaf2",
   "metadata": {},
   "outputs": [],
   "source": [
    "# The `type` param indicates what is the nature of the job is it hiring freelancers \n",
    "# or paying services or othr thing based on the platform.\n",
    "\n",
    "upwork_scraper = lambda page, job_title, type: scrape_page(\n",
    "    f\"https://www.upwork.com/search/{type}/?page={page}&q={job_title}&user_pref=1\")\n",
    "\n",
    "guru_scraper = lambda page, job_title, type : scrape_page(\n",
    "    f\"https://www.guru.com/d/{type}/c/programming-development/sc/math-algorithms-analytics/ssc/{job_title}/pg/{page}/\")\n",
    "\n",
    "fivver_scraper = lambda page, job_title : scrape_page(\n",
    "    f\"https://www.fiverr.com/categories/data/{job_title}?source=pagination&page={page}\")\n",
    "\n",
    "peopleperhour_scraper = lambda page, job_title : scrape_page(\n",
    "    f\"https://www.peopleperhour.com/services/{job_title.replace('-', '+')}?page={page}&ref=search\")\n",
    "\n",
    "# We will not analyze requested jobs data in freelancer.com becuase it's search feature \n",
    "# isn't accurate with the it.\n",
    "\n",
    "freelancer_scraper = lambda page, job_title : scrape_page(\n",
    "    f\"https://www.freelancer.com/search/users?q={job_title.replace('-', '%20')}&page={page}\")"
   ]
  },
  {
   "cell_type": "markdown",
   "id": "c788705f-2f61-4a5c-ad84-ea24f56bccdb",
   "metadata": {},
   "source": [
    "Now we will try to calclate how much did each scraper take to collect the data"
   ]
  },
  {
   "cell_type": "code",
   "execution_count": 58,
   "id": "a0141299-f023-4a63-8e8b-52320c0b3639",
   "metadata": {},
   "outputs": [],
   "source": [
    "get_variable_name = lambda var: [name for name in globals() if globals()[name] is var][0]\n",
    "\n",
    "def func_run_time(func, *args, **kwargs):\n",
    "\n",
    "    t1 = time.perf_counter()\n",
    "    func(*args, **kwargs)\n",
    "    t2 = time.perf_counter()\n",
    "\n",
    "    run_time = t2 - t1\n",
    "\n",
    "    print(\"{} took about {:.2f}s to run.\\n\".format(\n",
    "        get_variable_name(func).replace(\"_\", \" \").title(), run_time))"
   ]
  },
  {
   "cell_type": "code",
   "execution_count": 57,
   "id": "ca74f198-7afa-423e-977f-6302a526b46f",
   "metadata": {},
   "outputs": [
    {
     "name": "stdout",
     "output_type": "stream",
     "text": [
      "Upwork Scraper took about 15.70s to run\n",
      ".\n",
      "Guru Scraper took about 7.31s to run\n",
      ".\n"
     ]
    },
    {
     "name": "stderr",
     "output_type": "stream",
     "text": [
      "Exception ignored in: <function Service.__del__ at 0x0000025FBCA07DC0>\n",
      "Traceback (most recent call last):\n",
      "  File \"C:\\Users\\FreeComp\\.conda\\envs\\data_jobs_analysis\\lib\\site-packages\\selenium\\webdriver\\common\\service.py\", line 181, in __del__\n",
      "    self.stop()\n",
      "  File \"C:\\Users\\FreeComp\\.conda\\envs\\data_jobs_analysis\\lib\\site-packages\\selenium\\webdriver\\common\\service.py\", line 142, in stop\n",
      "    self.send_remote_shutdown_command()\n",
      "  File \"C:\\Users\\FreeComp\\.conda\\envs\\data_jobs_analysis\\lib\\site-packages\\selenium\\webdriver\\common\\service.py\", line 126, in send_remote_shutdown_command\n",
      "    if not self.is_connectable():\n",
      "  File \"C:\\Users\\FreeComp\\.conda\\envs\\data_jobs_analysis\\lib\\site-packages\\selenium\\webdriver\\common\\service.py\", line 115, in is_connectable\n",
      "    return utils.is_connectable(self.port)\n",
      "  File \"C:\\Users\\FreeComp\\.conda\\envs\\data_jobs_analysis\\lib\\site-packages\\selenium\\webdriver\\common\\utils.py\", line 102, in is_connectable\n",
      "    socket_ = socket.create_connection((host, port), 1)\n",
      "  File \"C:\\Users\\FreeComp\\.conda\\envs\\data_jobs_analysis\\lib\\socket.py\", line 832, in create_connection\n",
      "    sock.connect(sa)\n",
      "KeyboardInterrupt: \n"
     ]
    },
    {
     "name": "stdout",
     "output_type": "stream",
     "text": [
      "Fivver Scraper took about 9.04s to run\n",
      ".\n",
      "Peopleperhour Scraper took about 8.40s to run\n",
      ".\n",
      "Freelancer Scraper took about 8.16s to run\n",
      ".\n"
     ]
    }
   ],
   "source": [
    "func_run_time(upwork_scraper,1 , fivver_data_jobs_titles[4], \"jobs\")\n",
    "func_run_time(guru_scraper, 1, guru_data_jobs_titles[2], \"freelancers\")\n",
    "\n",
    "func_run_time(fivver_scraper, 1, fivver_data_jobs_titles[4])\n",
    "func_run_time(peopleperhour_scraper, 1, fivver_data_jobs_titles[4])\n",
    "func_run_time(freelancer_scraper, 1, fivver_data_jobs_titles[4])"
   ]
  },
  {
   "cell_type": "code",
   "execution_count": null,
   "id": "7cbd3f64-290a-4a72-9aea-0f300c9fc79a",
   "metadata": {},
   "outputs": [],
   "source": []
  }
 ],
 "metadata": {
  "kernelspec": {
   "display_name": "Python 3 (ipykernel)",
   "language": "python",
   "name": "python3"
  },
  "language_info": {
   "codemirror_mode": {
    "name": "ipython",
    "version": 3
   },
   "file_extension": ".py",
   "mimetype": "text/x-python",
   "name": "python",
   "nbconvert_exporter": "python",
   "pygments_lexer": "ipython3",
   "version": "3.9.16"
  }
 },
 "nbformat": 4,
 "nbformat_minor": 5
}
