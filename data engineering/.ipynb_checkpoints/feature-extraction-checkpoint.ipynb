{
 "cells": [
  {
   "cell_type": "markdown",
   "id": "f2b1cb43-3be1-4f87-8c26-581f591afdce",
   "metadata": {
    "jp-MarkdownHeadingCollapsed": true,
    "tags": []
   },
   "source": [
    "## <center><strong><span style= 'color: #51fcc6'>Notebook </span>Describtion"
   ]
  },
  {
   "cell_type": "markdown",
   "id": "f922ce52-f8a8-47c3-b1fa-a8fdc1eaa87e",
   "metadata": {},
   "source": [
    "Here we will try to extract more data from the describtions of each job using simple NER, POS & Regex expressions<br>\n",
    "We will also need to clean the data after we extract it and make sure that there isn't any NANs"
   ]
  },
  {
   "cell_type": "markdown",
   "id": "b8b1713b-7169-4322-bc7b-f8c5acc5dfcc",
   "metadata": {},
   "source": [
    "**Things we will extract from the dexcribtions:**\n",
    "- Salaries data\n",
    "- Mentioned skills\n",
    "- Requeird languages <sub>*(Natural languages)</sub>\n",
    "- Requeird years of experience\n",
    "- Requeird or prefered degree"
   ]
  },
  {
   "cell_type": "markdown",
   "id": "8484e990-2723-45e1-92cf-3a59f97a2af8",
   "metadata": {},
   "source": [
    "## <center><strong>Importing the <span style= 'color: #48e0dc'>Packeges</span>"
   ]
  },
  {
   "cell_type": "code",
   "execution_count": 9,
   "id": "ce9d4d17-4dbd-4c66-b031-8a00b62a4b10",
   "metadata": {
    "tags": []
   },
   "outputs": [],
   "source": [
    "import os\n",
    "import re\n",
    "import random\n",
    "import nltk\n",
    "import warnings\n",
    "import matplotlib\n",
    "import pandas             as pd\n",
    "import numpy              as np\n",
    "import seaborn            as sns\n",
    "import matplotlib.pyplot  as plt\n",
    "\n",
    "from bs4                  import BeautifulSoup\n",
    "from google.cloud         import bigquery\n",
    "from wordcloud            import WordCloud\n",
    "from IPython.display      import set_matplotlib_formats\n",
    "from collections          import Counter"
   ]
  },
  {
   "cell_type": "code",
   "execution_count": 6,
   "id": "7a93668f-55d4-4a1f-80a7-bb55ab0ba449",
   "metadata": {
    "tags": []
   },
   "outputs": [],
   "source": [
    "%matplotlib inline\n",
    "plt.rcParams['font.family'] = 'Candara'\n",
    "\n",
    "warnings.filterwarnings('ignore')\n",
    "\n",
    "credentials_path :str = '../credentials.json'\n",
    "os.environ['GOOGLE_APPLICATION_CREDENTIALS'] = credentials_path\n",
    "\n",
    "FONT             :int  = 17\n",
    "COLORS           :list = ['#51fcc6', '#48e0dc', '#5cd3f7', '#4895e0', '#517afc']\n",
    "NUMERICS         :list = ['int16', 'int32', 'int64', 'float16', 'float32', 'float64',\n",
    "                          'uint16', 'uint32', 'uint64']"
   ]
  },
  {
   "cell_type": "markdown",
   "id": "019e6b0e-1e94-4f3a-a984-86ecc216d425",
   "metadata": {},
   "source": [
    "## <center><strong>Exploring the <span style= 'color: #48e0dc'>Text</span> data\n",
    "<sub>*And clean the text data.</sub>"
   ]
  },
  {
   "cell_type": "code",
   "execution_count": null,
   "id": "6ff15e2b-3516-4616-b543-0476c0e90879",
   "metadata": {},
   "outputs": [],
   "source": [
    "nltk.download('punkt')\n",
    "nltk.download('averaged_perceptron_tagger')\n",
    "nltk.download('maxent_ne_chunker')\n",
    "nltk.download('words')"
   ]
  },
  {
   "cell_type": "code",
   "execution_count": 7,
   "id": "5210b397-3315-4f5f-97d7-a49f3040d50d",
   "metadata": {
    "tags": []
   },
   "outputs": [],
   "source": [
    "project_id :str = 'data-jobs-analysis-db'\n",
    "dataset_id :str = 'data_jobs_analysis_db'\n",
    "\n",
    "client   = bigquery.Client(project= project_id)\n",
    "\n",
    "linkedin_jobs    = client.query(f'SELECT * FROM {dataset_id}.linkedin_jobs;').to_dataframe()\n",
    "upwork_profiles  = client.query(f'SELECT * FROM {dataset_id}.upwork_profiles;').to_dataframe()\n",
    "guru_profiles    = client.query(f'SELECT * FROM {dataset_id}.guru_profiles;').to_dataframe()"
   ]
  },
  {
   "cell_type": "code",
   "execution_count": 8,
   "id": "87fdd6d5-784b-47b9-88e0-132461b49cfe",
   "metadata": {
    "tags": []
   },
   "outputs": [
    {
     "name": "stdout",
     "output_type": "stream",
     "text": [
      "<class 'pandas.core.frame.DataFrame'>\n",
      "RangeIndex: 3455 entries, 0 to 3454\n",
      "Data columns (total 13 columns):\n",
      " #   Column              Non-Null Count  Dtype \n",
      "---  ------              --------------  ----- \n",
      " 0   jobs_locations      3455 non-null   object\n",
      " 1   listing_dates       3349 non-null   object\n",
      " 2   jobs_titles         3455 non-null   object\n",
      " 3   companies_names     3455 non-null   object\n",
      " 4   jobs_links          3455 non-null   object\n",
      " 5   describtion         3455 non-null   object\n",
      " 6   location_type       3455 non-null   object\n",
      " 7   employment_type     3455 non-null   object\n",
      " 8   industry            3414 non-null   object\n",
      " 9   reqierd_credential  3455 non-null   object\n",
      " 10  country             3455 non-null   object\n",
      " 11  job_title           3455 non-null   object\n",
      " 12  total_jobs          3455 non-null   Int64 \n",
      "dtypes: Int64(1), object(12)\n",
      "memory usage: 354.4+ KB\n"
     ]
    }
   ],
   "source": [
    "linkedin_jobs.info()"
   ]
  },
  {
   "cell_type": "code",
   "execution_count": 10,
   "id": "fc027bf8-0d74-46c0-a2e4-4634387b0595",
   "metadata": {
    "tags": []
   },
   "outputs": [
    {
     "data": {
      "text/plain": [
       "0       We are seeking a Data Engineer to join the Arc...\n",
       "1       Job Title: Entry Level Data AnalystbrbrLocatio...\n",
       "2       Oakland - California - United States of Americ...\n",
       "3       San Francisco - California - United States of ...\n",
       "4       Dice is the leading career destination for tec...\n",
       "                              ...                        \n",
       "3450    strongemSmile Identity builds trust./em/strong...\n",
       "3451    Data Engineerpbr/pNew Jersey Connecticut Chelm...\n",
       "3452    F_IT EIA Core and Compliancepbr/pFull Timepbr/...\n",
       "3453    Positions: 1 Full Time Associate, Mid-Senior l...\n",
       "3454    strongTitle: Cloud technologies/Data Analytics...\n",
       "Name: describtion, Length: 3455, dtype: object"
      ]
     },
     "execution_count": 10,
     "metadata": {},
     "output_type": "execute_result"
    }
   ],
   "source": [
    "CLEANR = re.compile('<.*?>|&([a-z0-9]+|#[0-9]{1,6}|#x[0-9a-f]{1,6});')\n",
    "\n",
    "def remove_html_tags(text):\n",
    "    cleantext = re.sub(CLEANR, '', text)\n",
    "    return cleantext\n",
    "\n",
    "linkedin_jobs['describtion'].dropna().apply(remove_html_tags)"
   ]
  },
  {
   "cell_type": "code",
   "execution_count": 14,
   "id": "806f16d6-d6b7-47d6-a86d-13e6a2d57e29",
   "metadata": {
    "tags": []
   },
   "outputs": [
    {
     "data": {
      "text/plain": [
       "'Welcome to my Upwork digital portfolio!  \\nFor quick insights and to save you time, I have summarized key points of my Data Professional career as follows:\\n✅ 4+ years of Azure experience\\n     ✔️ Azure Data warehouse | Azure SQL databases\\n     ✔️ Azure Data Factory \\n     ✔️ Azure Synapse Analytics\\n     ✔️ Microsoft PowerBI \\n     ✔️ PowerBI integration with Azure Synapse \\n✅ 2+ years of Google Cloud experience\\n     ✔️ BigQuery Expert\\n     ✔️ Google Data Studio \\n✅ 2+ years of AWS databases experience \\n     ✔️ PostgreSQL | SQL Server databases migration\\n     ✔️ MySQL database optimization\\n\\nUPWORK INSIGHTS \\n\\n✅ 5+ Upwork Enterprise/corporate clients\\n✅ $100k+ Earnings\\n✅ 4000+ Work hours\\n✅ 200+ completed jobs\\n\\nAbout Me:\\nI am a Certified Azure Data Engineer with 4+ years of corporate experience working on Azure SQL databases, Azure Data Factory Data Pipelines, Azure Synapse Analytics, Enterprise level Data Warehousing and Linked Services via Azure Synapse Analytics, and data visualizations using PowerBI. I have been delivering data-related projects with end-to-end services provided as follows:\\n- Requirements gathering\\n- Data analysis\\n- ETL data pipelines\\n- Data ingestion, data wrangling, and cleaning\\n- Data modeling and databases\\n- Data Analysis\\n- Data Visualization\\n \\nHobbies:\\n📖 Books Reading\\n🎮 Snooker \\n🏓Table Tennis'"
      ]
     },
     "execution_count": 14,
     "metadata": {},
     "output_type": "execute_result"
    }
   ],
   "source": [
    "upwork_profiles['describtion'][5]"
   ]
  },
  {
   "cell_type": "code",
   "execution_count": 20,
   "id": "70e5c659-f9ae-4469-9598-ffe65fb12be3",
   "metadata": {
    "collapsed": true,
    "jupyter": {
     "outputs_hidden": true
    },
    "tags": []
   },
   "outputs": [
    {
     "name": "stdout",
     "output_type": "stream",
     "text": [
      "['Welcome', 'to', 'my', 'Upwork', 'digital', 'portfolio', '!', 'For', 'quick', 'insights', 'and', 'to', 'save', 'you', 'time', ',', 'I', 'have', 'summarized', 'key', 'points', 'of', 'my', 'Data', 'Professional', 'career', 'as', 'follows', ':', '✅', '4+', 'years', 'of', 'Azure', 'experience', '✔️', 'Azure', 'Data', 'warehouse', '|', 'Azure', 'SQL', 'databases', '✔️', 'Azure', 'Data', 'Factory', '✔️', 'Azure', 'Synapse', 'Analytics', '✔️', 'Microsoft', 'PowerBI', '✔️', 'PowerBI', 'integration', 'with', 'Azure', 'Synapse', '✅', '2+', 'years', 'of', 'Google', 'Cloud', 'experience', '✔️', 'BigQuery', 'Expert', '✔️', 'Google', 'Data', 'Studio', '✅', '2+', 'years', 'of', 'AWS', 'databases', 'experience', '✔️', 'PostgreSQL', '|', 'SQL', 'Server', 'databases', 'migration', '✔️', 'MySQL', 'database', 'optimization', 'UPWORK', 'INSIGHTS', '✅', '5+', 'Upwork', 'Enterprise/corporate', 'clients', '✅', '$', '100k+', 'Earnings', '✅', '4000+', 'Work', 'hours', '✅', '200+', 'completed', 'jobs', 'About', 'Me', ':', 'I', 'am', 'a', 'Certified', 'Azure', 'Data', 'Engineer', 'with', '4+', 'years', 'of', 'corporate', 'experience', 'working', 'on', 'Azure', 'SQL', 'databases', ',', 'Azure', 'Data', 'Factory', 'Data', 'Pipelines', ',', 'Azure', 'Synapse', 'Analytics', ',', 'Enterprise', 'level', 'Data', 'Warehousing', 'and', 'Linked', 'Services', 'via', 'Azure', 'Synapse', 'Analytics', ',', 'and', 'data', 'visualizations', 'using', 'PowerBI', '.', 'I', 'have', 'been', 'delivering', 'data-related', 'projects', 'with', 'end-to-end', 'services', 'provided', 'as', 'follows', ':', '-', 'Requirements', 'gathering', '-', 'Data', 'analysis', '-', 'ETL', 'data', 'pipelines', '-', 'Data', 'ingestion', ',', 'data', 'wrangling', ',', 'and', 'cleaning', '-', 'Data', 'modeling', 'and', 'databases', '-', 'Data', 'Analysis', '-', 'Data', 'Visualization', 'Hobbies', ':', '📖', 'Books', 'Reading', '🎮', 'Snooker', '🏓Table', 'Tennis']\n",
      "[('Welcome', 'UH'), ('to', 'TO'), ('my', 'PRP$'), ('Upwork', 'NNP'), ('digital', 'JJ'), ('portfolio', 'NN'), ('!', '.'), ('For', 'IN'), ('quick', 'JJ'), ('insights', 'NNS'), ('and', 'CC'), ('to', 'TO'), ('save', 'VB'), ('you', 'PRP'), ('time', 'NN'), (',', ','), ('I', 'PRP'), ('have', 'VBP'), ('summarized', 'VBN'), ('key', 'JJ'), ('points', 'NNS'), ('of', 'IN'), ('my', 'PRP$'), ('Data', 'NNP'), ('Professional', 'NNP'), ('career', 'NN'), ('as', 'IN'), ('follows', 'VBZ'), (':', ':'), ('✅', 'JJ'), ('4+', 'CD'), ('years', 'NNS'), ('of', 'IN'), ('Azure', 'NNP'), ('experience', 'NN'), ('✔️', 'NN'), ('Azure', 'NNP'), ('Data', 'NNP'), ('warehouse', 'NN'), ('|', 'NN'), ('Azure', 'NNP'), ('SQL', 'NNP'), ('databases', 'VBZ'), ('✔️', 'JJ'), ('Azure', 'NNP'), ('Data', 'NNP'), ('Factory', 'NNP'), ('✔️', 'NNP'), ('Azure', 'NNP'), ('Synapse', 'NNP'), ('Analytics', 'NNP'), ('✔️', 'NNP'), ('Microsoft', 'NNP'), ('PowerBI', 'NNP'), ('✔️', 'NNP'), ('PowerBI', 'NNP'), ('integration', 'NN'), ('with', 'IN'), ('Azure', 'NNP'), ('Synapse', 'NNP'), ('✅', 'VBZ'), ('2+', 'CD'), ('years', 'NNS'), ('of', 'IN'), ('Google', 'NNP'), ('Cloud', 'NNP'), ('experience', 'NN'), ('✔️', 'NN'), ('BigQuery', 'NNP'), ('Expert', 'NNP'), ('✔️', 'NNP'), ('Google', 'NNP'), ('Data', 'NNP'), ('Studio', 'NNP'), ('✅', 'NNP'), ('2+', 'CD'), ('years', 'NNS'), ('of', 'IN'), ('AWS', 'NNP'), ('databases', 'VBZ'), ('experience', 'NN'), ('✔️', 'NNP'), ('PostgreSQL', 'NNP'), ('|', 'NNP'), ('SQL', 'NNP'), ('Server', 'NNP'), ('databases', 'VBZ'), ('migration', 'NN'), ('✔️', 'NNP'), ('MySQL', 'NNP'), ('database', 'NN'), ('optimization', 'NN'), ('UPWORK', 'NNP'), ('INSIGHTS', 'NNP'), ('✅', 'VBD'), ('5+', 'CD'), ('Upwork', 'NNP'), ('Enterprise/corporate', 'NNP'), ('clients', 'NNS'), ('✅', 'VBD'), ('$', '$'), ('100k+', 'CD'), ('Earnings', 'NNP'), ('✅', 'NN'), ('4000+', 'CD'), ('Work', 'NN'), ('hours', 'NNS'), ('✅', 'VBP'), ('200+', 'CD'), ('completed', 'VBN'), ('jobs', 'NNS'), ('About', 'IN'), ('Me', 'NN'), (':', ':'), ('I', 'PRP'), ('am', 'VBP'), ('a', 'DT'), ('Certified', 'JJ'), ('Azure', 'NNP'), ('Data', 'NNP'), ('Engineer', 'NNP'), ('with', 'IN'), ('4+', 'CD'), ('years', 'NNS'), ('of', 'IN'), ('corporate', 'JJ'), ('experience', 'NN'), ('working', 'VBG'), ('on', 'IN'), ('Azure', 'NNP'), ('SQL', 'NNP'), ('databases', 'VBZ'), (',', ','), ('Azure', 'NNP'), ('Data', 'NNP'), ('Factory', 'NNP'), ('Data', 'NNP'), ('Pipelines', 'NNP'), (',', ','), ('Azure', 'NNP'), ('Synapse', 'NNP'), ('Analytics', 'NNP'), (',', ','), ('Enterprise', 'NNP'), ('level', 'NN'), ('Data', 'NNP'), ('Warehousing', 'NNP'), ('and', 'CC'), ('Linked', 'NNP'), ('Services', 'NNPS'), ('via', 'IN'), ('Azure', 'NNP'), ('Synapse', 'NNP'), ('Analytics', 'NNP'), (',', ','), ('and', 'CC'), ('data', 'NNS'), ('visualizations', 'NNS'), ('using', 'VBG'), ('PowerBI', 'NNP'), ('.', '.'), ('I', 'PRP'), ('have', 'VBP'), ('been', 'VBN'), ('delivering', 'VBG'), ('data-related', 'JJ'), ('projects', 'NNS'), ('with', 'IN'), ('end-to-end', 'JJ'), ('services', 'NNS'), ('provided', 'VBN'), ('as', 'IN'), ('follows', 'VBZ'), (':', ':'), ('-', ':'), ('Requirements', 'NNS'), ('gathering', 'VBG'), ('-', ':'), ('Data', 'NN'), ('analysis', 'NN'), ('-', ':'), ('ETL', 'NNP'), ('data', 'NNS'), ('pipelines', 'NNS'), ('-', ':'), ('Data', 'NNP'), ('ingestion', 'NN'), (',', ','), ('data', 'NNS'), ('wrangling', 'NN'), (',', ','), ('and', 'CC'), ('cleaning', 'VBG'), ('-', ':'), ('Data', 'NNS'), ('modeling', 'NN'), ('and', 'CC'), ('databases', 'VBZ'), ('-', ':'), ('Data', 'NN'), ('Analysis', 'NNP'), ('-', ':'), ('Data', 'NNP'), ('Visualization', 'NNP'), ('Hobbies', 'NNP'), (':', ':'), ('📖', 'NN'), ('Books', 'NNP'), ('Reading', 'NNP'), ('🎮', 'NNP'), ('Snooker', 'NNP'), ('🏓Table', 'JJ'), ('Tennis', 'NN')]\n",
      "(S\n",
      "  Welcome/UH\n",
      "  to/TO\n",
      "  my/PRP$\n",
      "  Upwork/NNP\n",
      "  (NP digital/JJ portfolio/NN)\n",
      "  !/.\n",
      "  For/IN\n",
      "  quick/JJ\n",
      "  insights/NNS\n",
      "  and/CC\n",
      "  to/TO\n",
      "  save/VB\n",
      "  you/PRP\n",
      "  (NP time/NN)\n",
      "  ,/,\n",
      "  I/PRP\n",
      "  have/VBP\n",
      "  summarized/VBN\n",
      "  key/JJ\n",
      "  points/NNS\n",
      "  of/IN\n",
      "  my/PRP$\n",
      "  Data/NNP\n",
      "  Professional/NNP\n",
      "  (NP career/NN)\n",
      "  as/IN\n",
      "  follows/VBZ\n",
      "  :/:\n",
      "  ✅/JJ\n",
      "  4+/CD\n",
      "  years/NNS\n",
      "  of/IN\n",
      "  Azure/NNP\n",
      "  (NP experience/NN)\n",
      "  (NP ✔️/NN)\n",
      "  Azure/NNP\n",
      "  Data/NNP\n",
      "  (NP warehouse/NN)\n",
      "  (NP |/NN)\n",
      "  Azure/NNP\n",
      "  SQL/NNP\n",
      "  databases/VBZ\n",
      "  ✔️/JJ\n",
      "  Azure/NNP\n",
      "  Data/NNP\n",
      "  Factory/NNP\n",
      "  ✔️/NNP\n",
      "  Azure/NNP\n",
      "  Synapse/NNP\n",
      "  Analytics/NNP\n",
      "  ✔️/NNP\n",
      "  Microsoft/NNP\n",
      "  PowerBI/NNP\n",
      "  ✔️/NNP\n",
      "  PowerBI/NNP\n",
      "  (NP integration/NN)\n",
      "  with/IN\n",
      "  Azure/NNP\n",
      "  Synapse/NNP\n",
      "  ✅/VBZ\n",
      "  2+/CD\n",
      "  years/NNS\n",
      "  of/IN\n",
      "  Google/NNP\n",
      "  Cloud/NNP\n",
      "  (NP experience/NN)\n",
      "  (NP ✔️/NN)\n",
      "  BigQuery/NNP\n",
      "  Expert/NNP\n",
      "  ✔️/NNP\n",
      "  Google/NNP\n",
      "  Data/NNP\n",
      "  Studio/NNP\n",
      "  ✅/NNP\n",
      "  2+/CD\n",
      "  years/NNS\n",
      "  of/IN\n",
      "  AWS/NNP\n",
      "  databases/VBZ\n",
      "  (NP experience/NN)\n",
      "  ✔️/NNP\n",
      "  PostgreSQL/NNP\n",
      "  |/NNP\n",
      "  SQL/NNP\n",
      "  Server/NNP\n",
      "  databases/VBZ\n",
      "  (NP migration/NN)\n",
      "  ✔️/NNP\n",
      "  MySQL/NNP\n",
      "  (NP database/NN)\n",
      "  (NP optimization/NN)\n",
      "  UPWORK/NNP\n",
      "  INSIGHTS/NNP\n",
      "  ✅/VBD\n",
      "  5+/CD\n",
      "  Upwork/NNP\n",
      "  Enterprise/corporate/NNP\n",
      "  clients/NNS\n",
      "  ✅/VBD\n",
      "  $/$\n",
      "  100k+/CD\n",
      "  Earnings/NNP\n",
      "  (NP ✅/NN)\n",
      "  4000+/CD\n",
      "  (NP Work/NN)\n",
      "  hours/NNS\n",
      "  ✅/VBP\n",
      "  200+/CD\n",
      "  completed/VBN\n",
      "  jobs/NNS\n",
      "  About/IN\n",
      "  (NP Me/NN)\n",
      "  :/:\n",
      "  I/PRP\n",
      "  am/VBP\n",
      "  a/DT\n",
      "  Certified/JJ\n",
      "  Azure/NNP\n",
      "  Data/NNP\n",
      "  Engineer/NNP\n",
      "  with/IN\n",
      "  4+/CD\n",
      "  years/NNS\n",
      "  of/IN\n",
      "  (NP corporate/JJ experience/NN)\n",
      "  working/VBG\n",
      "  on/IN\n",
      "  Azure/NNP\n",
      "  SQL/NNP\n",
      "  databases/VBZ\n",
      "  ,/,\n",
      "  Azure/NNP\n",
      "  Data/NNP\n",
      "  Factory/NNP\n",
      "  Data/NNP\n",
      "  Pipelines/NNP\n",
      "  ,/,\n",
      "  Azure/NNP\n",
      "  Synapse/NNP\n",
      "  Analytics/NNP\n",
      "  ,/,\n",
      "  Enterprise/NNP\n",
      "  (NP level/NN)\n",
      "  Data/NNP\n",
      "  Warehousing/NNP\n",
      "  and/CC\n",
      "  Linked/NNP\n",
      "  Services/NNPS\n",
      "  via/IN\n",
      "  Azure/NNP\n",
      "  Synapse/NNP\n",
      "  Analytics/NNP\n",
      "  ,/,\n",
      "  and/CC\n",
      "  data/NNS\n",
      "  visualizations/NNS\n",
      "  using/VBG\n",
      "  PowerBI/NNP\n",
      "  ./.\n",
      "  I/PRP\n",
      "  have/VBP\n",
      "  been/VBN\n",
      "  delivering/VBG\n",
      "  data-related/JJ\n",
      "  projects/NNS\n",
      "  with/IN\n",
      "  end-to-end/JJ\n",
      "  services/NNS\n",
      "  provided/VBN\n",
      "  as/IN\n",
      "  follows/VBZ\n",
      "  :/:\n",
      "  -/:\n",
      "  Requirements/NNS\n",
      "  gathering/VBG\n",
      "  -/:\n",
      "  (NP Data/NN)\n",
      "  (NP analysis/NN)\n",
      "  -/:\n",
      "  ETL/NNP\n",
      "  data/NNS\n",
      "  pipelines/NNS\n",
      "  -/:\n",
      "  Data/NNP\n",
      "  (NP ingestion/NN)\n",
      "  ,/,\n",
      "  data/NNS\n",
      "  (NP wrangling/NN)\n",
      "  ,/,\n",
      "  and/CC\n",
      "  cleaning/VBG\n",
      "  -/:\n",
      "  Data/NNS\n",
      "  (NP modeling/NN)\n",
      "  and/CC\n",
      "  databases/VBZ\n",
      "  -/:\n",
      "  (NP Data/NN)\n",
      "  Analysis/NNP\n",
      "  -/:\n",
      "  Data/NNP\n",
      "  Visualization/NNP\n",
      "  Hobbies/NNP\n",
      "  :/:\n",
      "  (NP 📖/NN)\n",
      "  Books/NNP\n",
      "  Reading/NNP\n",
      "  🎮/NNP\n",
      "  Snooker/NNP\n",
      "  (NP 🏓Table/JJ Tennis/NN))\n"
     ]
    }
   ],
   "source": [
    "import nltk\n",
    "text = upwork_profiles['describtion'][5]\n",
    "tokens = nltk.word_tokenize(text)\n",
    "print(tokens)\n",
    "\n",
    "tag = nltk.pos_tag(tokens)\n",
    "print(tag)\n",
    "\n",
    "grammar = \"NP: {<DT>?<JJ>*<NN>}\"\n",
    "cp  =nltk.RegexpParser(grammar)\n",
    "result = cp.parse(tag)\n",
    "print(result)\n",
    "\n",
    "result.draw()    # It will draw the pattern graphically which can be seen in Noun Phrase chunking "
   ]
  },
  {
   "cell_type": "code",
   "execution_count": null,
   "id": "17a1957e-3205-4cdf-b27f-5540719b35fa",
   "metadata": {},
   "outputs": [],
   "source": []
  }
 ],
 "metadata": {
  "kernelspec": {
   "display_name": "Python 3 (ipykernel)",
   "language": "python",
   "name": "python3"
  },
  "language_info": {
   "codemirror_mode": {
    "name": "ipython",
    "version": 3
   },
   "file_extension": ".py",
   "mimetype": "text/x-python",
   "name": "python",
   "nbconvert_exporter": "python",
   "pygments_lexer": "ipython3",
   "version": "3.9.16"
  }
 },
 "nbformat": 4,
 "nbformat_minor": 5
}
