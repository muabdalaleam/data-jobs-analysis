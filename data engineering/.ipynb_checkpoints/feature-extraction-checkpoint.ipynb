{
 "cells": [
  {
   "cell_type": "markdown",
   "id": "f2b1cb43-3be1-4f87-8c26-581f591afdce",
   "metadata": {
    "jp-MarkdownHeadingCollapsed": true,
    "tags": []
   },
   "source": [
    "## <center><strong><span style= 'color: #51fcc6'>Notebook </span>Describtion"
   ]
  },
  {
   "cell_type": "markdown",
   "id": "f922ce52-f8a8-47c3-b1fa-a8fdc1eaa87e",
   "metadata": {},
   "source": [
    "Here we will try to extract more data from the describtions of each job using simple NER, POS & Regex expressions<br>\n",
    "We will also need to clean the data after we extract it and make sure that there isn't any NANs"
   ]
  },
  {
   "cell_type": "markdown",
   "id": "b8b1713b-7169-4322-bc7b-f8c5acc5dfcc",
   "metadata": {},
   "source": [
    "**Things we will extract from the dexcribtions:**\n",
    "- Salaries data\n",
    "- Mentioned skills\n",
    "- Requeird languages <sub>*(Natural languages)</sub>\n",
    "- Requeird years of experience\n",
    "- Requeird or prefered degree"
   ]
  },
  {
   "cell_type": "markdown",
   "id": "8484e990-2723-45e1-92cf-3a59f97a2af8",
   "metadata": {},
   "source": [
    "## <center><strong>Importing the <span style= 'color: #48e0dc'>Packeges</span>"
   ]
  },
  {
   "cell_type": "code",
   "execution_count": 9,
   "id": "ce9d4d17-4dbd-4c66-b031-8a00b62a4b10",
   "metadata": {
    "tags": []
   },
   "outputs": [],
   "source": [
    "import os\n",
    "import re\n",
    "import random\n",
    "import nltk\n",
    "import warnings\n",
    "import matplotlib\n",
    "import pandas             as pd\n",
    "import numpy              as np\n",
    "import seaborn            as sns\n",
    "import matplotlib.pyplot  as plt\n",
    "\n",
    "from bs4                  import BeautifulSoup\n",
    "from google.cloud         import bigquery\n",
    "from wordcloud            import WordCloud\n",
    "from IPython.display      import set_matplotlib_formats\n",
    "from collections          import Counter"
   ]
  },
  {
   "cell_type": "code",
   "execution_count": 6,
   "id": "7a93668f-55d4-4a1f-80a7-bb55ab0ba449",
   "metadata": {
    "tags": []
   },
   "outputs": [],
   "source": [
    "%matplotlib inline\n",
    "plt.rcParams['font.family'] = 'Candara'\n",
    "\n",
    "warnings.filterwarnings('ignore')\n",
    "\n",
    "credentials_path :str = '../credentials.json'\n",
    "os.environ['GOOGLE_APPLICATION_CREDENTIALS'] = credentials_path\n",
    "\n",
    "FONT             :int  = 17\n",
    "COLORS           :list = ['#51fcc6', '#48e0dc', '#5cd3f7', '#4895e0', '#517afc']\n",
    "NUMERICS         :list = ['int16', 'int32', 'int64', 'float16', 'float32', 'float64',\n",
    "                          'uint16', 'uint32', 'uint64']"
   ]
  },
  {
   "cell_type": "markdown",
   "id": "019e6b0e-1e94-4f3a-a984-86ecc216d425",
   "metadata": {},
   "source": [
    "## <center><strong>Exploring the <span style= 'color: #48e0dc'>Text</span> data\n",
    "<sub>*And clean the text data.</sub>"
   ]
  },
  {
   "cell_type": "code",
   "execution_count": null,
   "id": "6ff15e2b-3516-4616-b543-0476c0e90879",
   "metadata": {},
   "outputs": [],
   "source": [
    "nltk.download('punkt')\n",
    "nltk.download('averaged_perceptron_tagger')\n",
    "nltk.download('maxent_ne_chunker')\n",
    "nltk.download('words')"
   ]
  },
  {
   "cell_type": "code",
   "execution_count": 67,
   "id": "5210b397-3315-4f5f-97d7-a49f3040d50d",
   "metadata": {
    "tags": []
   },
   "outputs": [],
   "source": [
    "project_id :str = 'data-jobs-analysis-db'\n",
    "dataset_id :str = 'data_jobs_analysis_db'\n",
    "\n",
    "client   = bigquery.Client(project= project_id)\n",
    "\n",
    "linkedin_jobs    = client.query(f'SELECT * FROM {dataset_id}.linkedin_jobs;').to_dataframe()\n",
    "upwork_profiles  = client.query(f'SELECT * FROM {dataset_id}.upwork_profiles;').to_dataframe()\n",
    "guru_profiles    = client.query(f'SELECT * FROM {dataset_id}.guru_profiles;').to_dataframe()"
   ]
  },
  {
   "cell_type": "code",
   "execution_count": 68,
   "id": "87fdd6d5-784b-47b9-88e0-132461b49cfe",
   "metadata": {
    "tags": []
   },
   "outputs": [
    {
     "name": "stdout",
     "output_type": "stream",
     "text": [
      "<class 'pandas.core.frame.DataFrame'>\n",
      "RangeIndex: 3455 entries, 0 to 3454\n",
      "Data columns (total 13 columns):\n",
      " #   Column              Non-Null Count  Dtype \n",
      "---  ------              --------------  ----- \n",
      " 0   jobs_locations      3455 non-null   object\n",
      " 1   listing_dates       3349 non-null   object\n",
      " 2   jobs_titles         3455 non-null   object\n",
      " 3   companies_names     3455 non-null   object\n",
      " 4   jobs_links          3455 non-null   object\n",
      " 5   describtion         3455 non-null   object\n",
      " 6   location_type       3455 non-null   object\n",
      " 7   employment_type     3455 non-null   object\n",
      " 8   industry            3414 non-null   object\n",
      " 9   reqierd_credential  3455 non-null   object\n",
      " 10  country             3455 non-null   object\n",
      " 11  job_title           3455 non-null   object\n",
      " 12  total_jobs          3455 non-null   Int64 \n",
      "dtypes: Int64(1), object(12)\n",
      "memory usage: 354.4+ KB\n"
     ]
    }
   ],
   "source": [
    "linkedin_jobs.info()"
   ]
  },
  {
   "cell_type": "code",
   "execution_count": 73,
   "id": "fc027bf8-0d74-46c0-a2e4-4634387b0595",
   "metadata": {
    "tags": []
   },
   "outputs": [],
   "source": [
    "def remove_html_tags(text):\n",
    "    \n",
    "    text_with_raw_html : str = BeautifulSoup(text, 'lxml').text\n",
    "    text               : str = BeautifulSoup(text_with_raw_html, 'lxml').text\n",
    "\n",
    "    return text\n",
    "\n",
    "linkedin_jobs['describtion'] = linkedin_jobs['describtion'].apply(remove_html_tags)\n",
    "# The other dfs describtions doesn't requere this step becuase the are already cleaned"
   ]
  },
  {
   "cell_type": "code",
   "execution_count": 124,
   "id": "806f16d6-d6b7-47d6-a86d-13e6a2d57e29",
   "metadata": {
    "tags": []
   },
   "outputs": [
    {
     "name": "stdout",
     "output_type": "stream",
     "text": [
      "no matches\n"
     ]
    }
   ],
   "source": [
    "nltk_text.concordance(\"B.S\")"
   ]
  },
  {
   "cell_type": "code",
   "execution_count": 108,
   "id": "17a1957e-3205-4cdf-b27f-5540719b35fa",
   "metadata": {
    "tags": []
   },
   "outputs": [],
   "source": [
    "nltk_text = nltk.Text(nltk.word_tokenize(linkedin_jobs['describtion'][1500]))"
   ]
  },
  {
   "cell_type": "code",
   "execution_count": null,
   "id": "8288df55-19ca-428f-9329-85d2573fde35",
   "metadata": {},
   "outputs": [],
   "source": [
    "grammar = r\"\"\"\n",
    "    NP: {<DT>?<JJ>*<NN>+}\n",
    "    VP: {<MD>?<VB.*>+<RB.*>*<IN>?}\n",
    "    ADJP: {<JJ.*>+<CC>?<JJ.*>+}\n",
    "    ADVP: {<RB.*>+}\n",
    "    PP: {<IN><NP>}\n",
    "    S: {<NP><VP>}\n",
    "    SBAR: {<IN|WDT|WP|WP\\$|WRB><S>}\n",
    "    CLAUSE: {<S><SBAR>}\n",
    "    CHUNK: {<NP><VP><ADJP>*<ADVP>*<PP>*}\n",
    "\"\"\""
   ]
  }
 ],
 "metadata": {
  "kernelspec": {
   "display_name": "Python 3 (ipykernel)",
   "language": "python",
   "name": "python3"
  },
  "language_info": {
   "codemirror_mode": {
    "name": "ipython",
    "version": 3
   },
   "file_extension": ".py",
   "mimetype": "text/x-python",
   "name": "python",
   "nbconvert_exporter": "python",
   "pygments_lexer": "ipython3",
   "version": "3.9.16"
  }
 },
 "nbformat": 4,
 "nbformat_minor": 5
}
