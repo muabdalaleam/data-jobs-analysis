{
 "cells": [
  {
   "cell_type": "markdown",
   "id": "2d87eb4b-c943-4562-866b-7c2dd151f3c6",
   "metadata": {
    "jp-MarkdownHeadingCollapsed": true,
    "tags": []
   },
   "source": [
    "## <center><strong>Notebook<span style= 'color: #51FCC6'> Describtion"
   ]
  },
  {
   "cell_type": "markdown",
   "id": "5753d54c-1fd0-441c-b663-98ca78298128",
   "metadata": {},
   "source": []
  },
  {
   "cell_type": "markdown",
   "id": "e59118b7-50cf-4738-8e35-cd9de6b6e46c",
   "metadata": {},
   "source": []
  },
  {
   "cell_type": "markdown",
   "id": "b08419ad-46bc-42a6-a678-356c38c435fe",
   "metadata": {},
   "source": [
    "## <center><strong>Importing<span style= 'color: #48E0DC'> Packeges"
   ]
  },
  {
   "cell_type": "code",
   "execution_count": 5,
   "id": "dfca499a-0b6e-42a6-9901-a25b403a1dbe",
   "metadata": {},
   "outputs": [],
   "source": [
    "import time\n",
    "import sqlite3\n",
    "import warnings\n",
    "import requests\n",
    "import itertools\n",
    "import cloudscraper\n",
    "import numpy              as np\n",
    "import pandas             as pd\n",
    "import seaborn            as sns\n",
    "import matplotlib.pyplot  as plt\n",
    "\n",
    "from itertools                       import count\n",
    "from bs4                             import BeautifulSoup\n",
    "from selenium                        import webdriver\n",
    "from selenium.webdriver.common.by    import By\n",
    "from selenium.webdriver.common.keys  import Keys\n",
    "from fake_useragent                  import UserAgent\n",
    "from IPython.display                 import set_matplotlib_formats\n",
    "from selenium.webdriver.support.ui   import WebDriverWait\n",
    "from selenium.webdriver.support      import expected_conditions as EC"
   ]
  },
  {
   "cell_type": "code",
   "execution_count": 2,
   "id": "837b8e77-3b20-4c92-8619-434de6cedf05",
   "metadata": {},
   "outputs": [
    {
     "name": "stderr",
     "output_type": "stream",
     "text": [
      "C:\\Users\\FreeComp\\AppData\\Local\\Temp\\ipykernel_17264\\725494067.py:9: DeprecationWarning: `set_matplotlib_formats` is deprecated since IPython 7.23, directly use `matplotlib_inline.backend_inline.set_matplotlib_formats()`\n",
      "  set_matplotlib_formats('pdf', 'svg')\n"
     ]
    }
   ],
   "source": [
    "warnings.filterwarnings('ignore')\n",
    "set_matplotlib_formats('pdf', 'svg')\n",
    "\n",
    "MAX_PAGES        :int   = 300\n",
    "COLORS           :list  = ['#51fcc6', '#48e0dc', '#5cd3f7', '#4895e0', '#517afc']\n",
    "NUMERICS         :list  = ['int16', 'int32', 'int64', 'float16', 'float32', 'float64',\n",
    "                           'uint16', 'uint32', 'uint64']\n",
    "\n",
    "data_jobs_titles :list  = ['Data entry', 'Data Engineering',\n",
    "                           'Data scientist', 'Data Analyst',\n",
    "                           'Machine Learning']"
   ]
  },
  {
   "cell_type": "markdown",
   "id": "69d3e9fc-3746-4f76-be83-00f2b453be34",
   "metadata": {},
   "source": [
    "## <center><strong>Setting up the<span style= 'color: #5CD3F7'> Web scrapers"
   ]
  },
  {
   "cell_type": "code",
   "execution_count": 43,
   "id": "bfd35b8e-8c12-4e99-8819-4c6e338c3951",
   "metadata": {},
   "outputs": [],
   "source": [
    "def scrape_page(url: str) -> BeautifulSoup:\n",
    "\n",
    "    scraper = cloudscraper.create_scraper(delay= 10,browser= {\n",
    "        'browser': 'chrome',\n",
    "        'platform': 'windows',\n",
    "        'desktop': True,\n",
    "        'mobile': False}) \n",
    "    \n",
    "    content = scraper.get(url).text\n",
    "    soup    = BeautifulSoup(content)\n",
    "    \n",
    "    return soup"
   ]
  },
  {
   "cell_type": "code",
   "execution_count": 55,
   "id": "3908558f-1fe9-4c88-af63-731658ee2217",
   "metadata": {},
   "outputs": [],
   "source": [
    "# Upwork scraper\n",
    "def upwork_scraper(job_title : str,\n",
    "                   page      : int) -> list:\n",
    "\n",
    "    url         : str  = f'https://www.upwork.com/search/profiles/?page={page}&q={job_title}'\n",
    "    soup        : str  = scrape_page(url)\n",
    "    loaded_jobs : list = soup.find_all('div', class_= 'up-card-section up-card-hover')\n",
    "\n",
    "    return  loaded_jobs\n",
    "\n",
    "\n",
    "# Guru scraper\n",
    "def guru_scraper(job_title : str,\n",
    "                 page      : int) -> list:\n",
    "\n",
    "    url         : str = f'https://www.guru.com/d/freelancers/skill/{job_title}/pg/{page}/'\n",
    "    soup        : str  = scrape_page(url)\n",
    "    loaded_jobs : list = soup.find_all('div', class_= 'record record--avatarCheck findGuruRecord')\n",
    "\n",
    "    return loaded_jobs"
   ]
  },
  {
   "cell_type": "markdown",
   "id": "c788705f-2f61-4a5c-ad84-ea24f56bccdb",
   "metadata": {},
   "source": [
    "Now we will try to calculate how much did each scraper take to collect the data"
   ]
  },
  {
   "cell_type": "code",
   "execution_count": 67,
   "id": "0669639d-0404-4d98-aecf-1a626addee34",
   "metadata": {},
   "outputs": [
    {
     "name": "stdout",
     "output_type": "stream",
     "text": [
      "1.8 s ± 243 ms per loop (mean ± std. dev. of 7 runs, 1 loop each)\n",
      "1.03 s ± 153 ms per loop (mean ± std. dev. of 7 runs, 1 loop each)\n"
     ]
    }
   ],
   "source": [
    "%timeit upwork_scraper('Data analytics', 1)\n",
    "%timeit guru_scraper('Data analytics', 1)"
   ]
  },
  {
   "cell_type": "markdown",
   "id": "994cfd62-4513-4cd0-bea7-40c4638debc0",
   "metadata": {},
   "source": [
    "## <center><strong>Collecting the Websites <span style = 'color: #4895e0'> HTML</span>"
   ]
  },
  {
   "cell_type": "code",
   "execution_count": 25,
   "id": "b219d160-162a-4860-9116-60302878d539",
   "metadata": {},
   "outputs": [],
   "source": [
    "for job_title in data_jobs_titles:\n",
    "    \n",
    "    upwork_soups  : str = ''\n",
    "    guru_soups    : str = ''\n",
    "    \n",
    "    for i in "
   ]
  },
  {
   "cell_type": "code",
   "execution_count": null,
   "id": "ba1caa82-9049-40af-9248-5a6dcf4d404f",
   "metadata": {},
   "outputs": [],
   "source": [
    "def get_upwork_links(job_type_: str) -> list:  \n",
    "\n",
    "    card_tag = 'a'\n",
    "    link_template = 'https://www.upwork.com###'\n",
    "    link_attr = 'href'\n",
    "\n",
    "    if job_type_ == 'profiles':\n",
    "\n",
    "        card_tag = 'div'\n",
    "        card_tag_class = 'up-card-section up-card-hover'\n",
    "        link_template = 'https://www.upwork.com/search/profiles/?q=profiles&profile=###'\n",
    "        link_attr = 'data-test-key'\n",
    "    \n",
    "    elif job_type_ == 'jobs':\n",
    "        card_tag_class = 'up-n-link'\n",
    "\n",
    "\n",
    "    elif job_type_ == 'services':\n",
    "        card_tag_class = 'up-n-link project-tile up-card m-0 p-0 up-card-section up-card-hover project-tile_flexible'\n",
    "\n",
    "    else:\n",
    "        raise Exception('Please input correct work type_ from ['profiles', 'jobs', 'services'].')\n",
    "\n",
    "\n",
    "    soup = soups[soups['soup_name'] == 'upwork_soup']['soup'][0]\n",
    "\n",
    "    cards = soup.find_all(card_tag, class_= card_tag_class)\n",
    "    cards_ids = []\n",
    "\n",
    "    for card in cards:\n",
    "        \n",
    "        card_id = link_template.replace('###', card[link_attr])\n",
    "        \n",
    "        if len(card_id) > len(link_template):\n",
    "            cards_ids.append(card_id)\n",
    "\n",
    "    return  cards_ids\n",
    "\n",
    "\n",
    "def get_fivver_links() -> list:\n",
    "\n",
    "    card_tag = 'div'\n",
    "    card_tag_class = 'basic-gig-card'\n",
    "    link_template = 'https://www.fiverr.com###'\n",
    "    link_attr = 'href'\n",
    "\n",
    "    cards = soup.find_all(card_tag, class_= card_tag_class)\n",
    "    cards_ids = []\n",
    "    \n",
    "    for card in cards:\n",
    "        \n",
    "        card_id = link_template.replace('###', card[link_attr])\n",
    "        \n",
    "        if len(card_id) > len(link_template):\n",
    "            cards_ids.append(card_id)\n",
    "\n",
    "    return  cards_ids"
   ]
  },
  {
   "cell_type": "code",
   "execution_count": null,
   "id": "7a8189c7-4417-4b58-82f6-e1b634d4aa3f",
   "metadata": {},
   "outputs": [],
   "source": [
    "def get_guru_links(job_type_: str) -> list:  \n",
    "\n",
    "    soup = soups[soups['soup_name'] == 'guru_soup']['soup'][2]\n",
    "    link_template = 'https://www.guru.com###'\n",
    "\n",
    "    if job_type_ == 'freelancers':\n",
    "        cards_parents = soup.find_all(\n",
    "            'h2', class_= 'serviceListing__title serviceListing__title--dark')\n",
    "\n",
    "        cards = []\n",
    "\n",
    "        for parent in cards_parents:\n",
    "            card = parent.find('a')\n",
    "            cards.append(card)\n",
    "\n",
    "    elif job_type_ == 'jobs':\n",
    "        cards_parents = soup.find_all(\n",
    "            'h2', class_ = 'jobRecord__title jobRecord__title--changeVisited')\n",
    "\n",
    "        cards = []\n",
    "\n",
    "        for parent in cards_parents:\n",
    "            card = parent.find('a')\n",
    "            cards.append(card)\n",
    "\n",
    "    cards_ids = []\n",
    "\n",
    "    for card in cards:\n",
    "        card_id = link_template.replace('###', card['href'])\n",
    "        cards_ids.append(card_id)\n",
    "\n",
    "    return  cards_ids"
   ]
  },
  {
   "cell_type": "markdown",
   "id": "00632aa1-9b7a-4e33-ab44-962f17b39b0b",
   "metadata": {},
   "source": [
    "## <center><strong> Collecting <span style= 'color: #517afc'>Cards</span> Data"
   ]
  },
  {
   "cell_type": "code",
   "execution_count": null,
   "id": "9f86c767-78f2-46d0-8ddb-3b80bfcecacf",
   "metadata": {},
   "outputs": [],
   "source": []
  }
 ],
 "metadata": {
  "kernelspec": {
   "display_name": "Python 3 (ipykernel)",
   "language": "python",
   "name": "python3"
  },
  "language_info": {
   "codemirror_mode": {
    "name": "ipython",
    "version": 3
   },
   "file_extension": ".py",
   "mimetype": "text/x-python",
   "name": "python",
   "nbconvert_exporter": "python",
   "pygments_lexer": "ipython3",
   "version": "3.9.16"
  }
 },
 "nbformat": 4,
 "nbformat_minor": 5
}
