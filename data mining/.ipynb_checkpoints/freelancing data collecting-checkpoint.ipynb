{
 "cells": [
  {
   "cell_type": "markdown",
   "id": "2d87eb4b-c943-4562-866b-7c2dd151f3c6",
   "metadata": {
    "jp-MarkdownHeadingCollapsed": true
   },
   "source": [
    "## <center><strong>Notebook<span style= 'color: #51FCC6'> Describtion"
   ]
  },
  {
   "cell_type": "markdown",
   "id": "5753d54c-1fd0-441c-b663-98ca78298128",
   "metadata": {},
   "source": []
  },
  {
   "cell_type": "markdown",
   "id": "e59118b7-50cf-4738-8e35-cd9de6b6e46c",
   "metadata": {},
   "source": []
  },
  {
   "cell_type": "markdown",
   "id": "b08419ad-46bc-42a6-a678-356c38c435fe",
   "metadata": {},
   "source": [
    "## <center><strong>Importing<span style= 'color: #48E0DC'> Packeges"
   ]
  },
  {
   "cell_type": "code",
   "execution_count": 5,
   "id": "dfca499a-0b6e-42a6-9901-a25b403a1dbe",
   "metadata": {},
   "outputs": [],
   "source": [
    "import time\n",
    "import sqlite3\n",
    "import warnings\n",
    "import requests\n",
    "import itertools\n",
    "import cloudscraper\n",
    "import numpy              as np\n",
    "import pandas             as pd\n",
    "import seaborn            as sns\n",
    "import matplotlib.pyplot  as plt\n",
    "\n",
    "from itertools                       import count\n",
    "from bs4                             import BeautifulSoup\n",
    "from selenium                        import webdriver\n",
    "from selenium.webdriver.common.by    import By\n",
    "from selenium.webdriver.common.keys  import Keys\n",
    "from fake_useragent                  import UserAgent\n",
    "from IPython.display                 import set_matplotlib_formats\n",
    "from selenium.webdriver.support.ui   import WebDriverWait\n",
    "from selenium.webdriver.support      import expected_conditions as EC"
   ]
  },
  {
   "cell_type": "code",
   "execution_count": 2,
   "id": "837b8e77-3b20-4c92-8619-434de6cedf05",
   "metadata": {},
   "outputs": [
    {
     "name": "stderr",
     "output_type": "stream",
     "text": [
      "C:\\Users\\FreeComp\\AppData\\Local\\Temp\\ipykernel_17264\\725494067.py:9: DeprecationWarning: `set_matplotlib_formats` is deprecated since IPython 7.23, directly use `matplotlib_inline.backend_inline.set_matplotlib_formats()`\n",
      "  set_matplotlib_formats('pdf', 'svg')\n"
     ]
    }
   ],
   "source": [
    "COLORS = ['#51fcc6', '#48e0dc', '#5cd3f7', '#4895e0', '#517afc']\n",
    "\n",
    "%matplotlib inline\n",
    "\n",
    "NUMERICS = ['int16', 'int32', 'int64', 'float16', 'float32', 'float64',\n",
    "            'uint16', 'uint32', 'uint64']\n",
    "MAX_PAGES = 300\n",
    "\n",
    "set_matplotlib_formats('pdf', 'svg')\n",
    "warnings.filterwarnings('ignore')\n",
    "\n",
    "data_jobs_titles = ['Data entry', 'Data Engineering',\n",
    "                    'Data scientist', 'Data Analyst',\n",
    "                    'Machine Learning']"
   ]
  },
  {
   "cell_type": "markdown",
   "id": "69d3e9fc-3746-4f76-be83-00f2b453be34",
   "metadata": {},
   "source": [
    "## <center><strong>Setting up the<span style= 'color: #5CD3F7'> Web scrapers"
   ]
  },
  {
   "cell_type": "code",
   "execution_count": 43,
   "id": "bfd35b8e-8c12-4e99-8819-4c6e338c3951",
   "metadata": {},
   "outputs": [],
   "source": [
    "def scrape_page(url: str) -> BeautifulSoup:\n",
    "\n",
    "    scraper = cloudscraper.create_scraper(delay= 10,browser= {\n",
    "        'browser': 'chrome',\n",
    "        'platform': 'windows',\n",
    "        'desktop': True,\n",
    "        'mobile': False}) \n",
    "    \n",
    "    content = scraper.get(url).text\n",
    "    soup    = BeautifulSoup(content)\n",
    "    \n",
    "    return soup"
   ]
  },
  {
   "cell_type": "code",
   "execution_count": 55,
   "id": "3908558f-1fe9-4c88-af63-731658ee2217",
   "metadata": {},
   "outputs": [],
   "source": [
    "def upwork_scraper(job_title : str,\n",
    "                   page      : int) -> list:\n",
    "\n",
    "    url         : str  = f'https://www.upwork.com/search/profiles/?page={page}&q={job_title}'\n",
    "    soup        : str  = scrape_page(url)\n",
    "    loaded_jobs : list = soup.find_all('div', class_= 'up-card-section up-card-hover')\n",
    "\n",
    "    return  loaded_jobs"
   ]
  },
  {
   "cell_type": "code",
   "execution_count": 65,
   "id": "16ff1bdf-99da-46f6-ab1e-b41c542daaf2",
   "metadata": {},
   "outputs": [],
   "source": [
    "def guru_scraper(job_title : str,\n",
    "                 page      : int) -> list:\n",
    "\n",
    "    url         : str = f'https://www.guru.com/d/freelancers/skill/{job_title}/pg/{page}/'\n",
    "    soup        : str  = scrape_page(url)\n",
    "    loaded_jobs : list = soup.find_all('div', class_= 'record record--avatarCheck findGuruRecord')\n",
    "\n",
    "    return loaded_jobs"
   ]
  },
  {
   "cell_type": "markdown",
   "id": "c788705f-2f61-4a5c-ad84-ea24f56bccdb",
   "metadata": {},
   "source": [
    "Now we will try to calculate how much did each scraper take to collect the data"
   ]
  },
  {
   "cell_type": "code",
   "execution_count": 67,
   "id": "0669639d-0404-4d98-aecf-1a626addee34",
   "metadata": {},
   "outputs": [
    {
     "name": "stdout",
     "output_type": "stream",
     "text": [
      "1.8 s ± 243 ms per loop (mean ± std. dev. of 7 runs, 1 loop each)\n",
      "1.03 s ± 153 ms per loop (mean ± std. dev. of 7 runs, 1 loop each)\n"
     ]
    }
   ],
   "source": [
    "%timeit upwork_scraper('Data analytics', 1)\n",
    "%timeit guru_scraper('Data analytics', 1)"
   ]
  },
  {
   "cell_type": "markdown",
   "id": "994cfd62-4513-4cd0-bea7-40c4638debc0",
   "metadata": {},
   "source": [
    "## <center><strong>Collecting the Websites <span style = 'color: #4895e0'> HTML</span>"
   ]
  },
  {
   "cell_type": "code",
   "execution_count": 25,
   "id": "b219d160-162a-4860-9116-60302878d539",
   "metadata": {},
   "outputs": [],
   "source": [
    "soups = {'platform': [],\n",
    "         'soup_job_type_': [],\n",
    "         'soup_job_title': [],\n",
    "         'soup_page':  [],\n",
    "         'soup': []}"
   ]
  },
  {
   "cell_type": "code",
   "execution_count": 26,
   "id": "5d79a77b-f579-4750-984a-599fa9df13d6",
   "metadata": {},
   "outputs": [
    {
     "ename": "NameError",
     "evalue": "name 'data_job_titles' is not defined",
     "output_type": "error",
     "traceback": [
      "\u001b[1;31m---------------------------------------------------------------------------\u001b[0m",
      "\u001b[1;31mNameError\u001b[0m                                 Traceback (most recent call last)",
      "Cell \u001b[1;32mIn[26], line 63\u001b[0m\n\u001b[0;32m     59\u001b[0m                     \u001b[38;5;28;01mdel\u001b[39;00m lines[line_idx]\n\u001b[0;32m     61\u001b[0m flag \u001b[38;5;241m=\u001b[39m \u001b[38;5;28;01mFalse\u001b[39;00m\n\u001b[1;32m---> 63\u001b[0m \u001b[38;5;28;01mfor\u001b[39;00m data_job_title \u001b[38;5;129;01min\u001b[39;00m \u001b[43mdata_job_titles\u001b[49m:\n\u001b[0;32m     65\u001b[0m     \u001b[38;5;28;01mif\u001b[39;00m flag:\n\u001b[0;32m     66\u001b[0m         \u001b[38;5;28;01mbreak\u001b[39;00m\n",
      "\u001b[1;31mNameError\u001b[0m: name 'data_job_titles' is not defined"
     ]
    }
   ],
   "source": [
    "# If the job type_ is services in upwork the pages paremeter will refer to how many pages \n",
    "# will render at once while the other scrapers will render the spesfic spesfied page only.\n",
    "\n",
    "def get_all_pages_soups(pph_type_, upwork_type_, guru_type_, max_page: int= 999) -> dict:\n",
    "\n",
    "    print('Strating ...')\n",
    "    flag = False\n",
    "    \n",
    "    for i in count(0):\n",
    "        \n",
    "        page = i + 1\n",
    "\n",
    "        fivver_type_ = 'services'\n",
    "        freelancer_type_ = 'jobs'\n",
    "\n",
    "        if flag:\n",
    "            break\n",
    "\n",
    "        print(f'Loading page {page} of each website ...')\n",
    "\n",
    "        for data_job_title in data_jobs_titles:\n",
    "\n",
    "            lines = [f'freelancer_html = freelancer_scraper({page}, '{data_job_title}')',\n",
    "                     f'pph_html = pph_scraper({page}, '{data_job_title}', '{pph_type_}')',\n",
    "                     f'fivver_html = fivver_scraper({page}, '{data_job_title}')']\n",
    "            # f'guru_html = fivver_scraper({page}, '{data_job_title}')',\n",
    "            # upwork_html = upwork_scraper({page}, '{data_job_title}')\n",
    "\n",
    "            if len(lines) < 1 or page > max_page:\n",
    "\n",
    "                print('Finished ...')\n",
    "                flag = True\n",
    "\n",
    "            if flag:\n",
    "                break\n",
    "            \n",
    "\n",
    "            for line_idx, line in enumerate(lines):\n",
    "\n",
    "                equall_sign_idx = line.find('=') - 1\n",
    "                first_underscore_idx = line.find('_')\n",
    "\n",
    "                # if page > max_page:\n",
    "                #     del lines[line_idx]\n",
    "                try:\n",
    "                    exec(line)\n",
    "                    print(line)\n",
    "                    \n",
    "                    soups['soup_job_title'].append(data_job_title)\n",
    "                    soups['platform'].append(line[:equall_sign_idx])\n",
    "                    soups['soup_page'].append(page)\n",
    "                    soups['soup'].append(eval(str(line[:equall_sign_idx])))\n",
    "                    soups['soup_job_type'].append(eval(f'{line[:first_underscore_idx]}_type'))\n",
    "\n",
    "\n",
    "                except KeyError as e:\n",
    "\n",
    "                    print(e)\n",
    "                    del lines[line_idx]\n",
    "\n",
    "flag = False\n",
    "\n",
    "for data_job_title in data_job_titles:\n",
    "\n",
    "    if flag:\n",
    "        break\n",
    "\n",
    "    try:\n",
    "        soups['soup_job_title'].append(data_job_title)\n",
    "        soups['soup_name'].append('upwork_html')\n",
    "        soups['soup_page'].append(MAX_PAGE)\n",
    "        soups['soup'].append(upwork_scraper(MAX_PAGE, data_job_title, 'services'))\n",
    "        soups['soup_job_type_'].append('services')\n",
    "\n",
    "    except KeyError as e:\n",
    "        flag = True\n",
    "        print(e)"
   ]
  },
  {
   "cell_type": "code",
   "execution_count": 108,
   "id": "a3c985db-6dab-4034-998f-aa6645e2a9a4",
   "metadata": {},
   "outputs": [
    {
     "name": "stdout",
     "output_type": "stream",
     "text": [
      "Strating ...\n",
      "Loading page 1 of each website ...\n",
      "freelancer_html = freelancer_scraper(1, \"data-entry\")\n",
      "pph_html = pph_scraper(1, \"data-entry\", \"freelance-jobs\")\n",
      "fivver_html = fivver_scraper(1, \"data-entry\")\n",
      "freelancer_html = freelancer_scraper(1, \"data-processing\")\n",
      "pph_html = pph_scraper(1, \"data-processing\", \"freelance-jobs\")\n",
      "fivver_html = fivver_scraper(1, \"data-processing\")\n",
      "Loading page 2 of each website ...\n",
      "freelancer_html = freelancer_scraper(2, \"data-entry\")\n",
      "pph_html = pph_scraper(2, \"data-entry\", \"freelance-jobs\")\n",
      "fivver_html = fivver_scraper(2, \"data-entry\")\n",
      "freelancer_html = freelancer_scraper(2, \"data-processing\")\n",
      "pph_html = pph_scraper(2, \"data-processing\", \"freelance-jobs\")\n",
      "fivver_html = fivver_scraper(2, \"data-processing\")\n",
      "Loading page 3 of each website ...\n",
      "Finished ...\n"
     ]
    }
   ],
   "source": [
    "get_all_pages_soups(pph_type_= 'freelance-jobs', upwork_type_= 'jobs',\n",
    "                    guru_type_= 'jobs', max_page= MAX_PAGE)"
   ]
  },
  {
   "cell_type": "code",
   "execution_count": 109,
   "id": "85626097-1809-40b9-a17c-ff3538cb1f7c",
   "metadata": {},
   "outputs": [],
   "source": [
    "max_length = max(len(lst) for lst in soups.values())\n",
    "soups = {key: lst + [float('nan')] * (max_length - len(lst)) for key, lst in soups.items()}\n",
    "\n",
    "soups = pd.DataFrame(soups)\n",
    "\n",
    "soups.dropna(inplace= True)"
   ]
  },
  {
   "cell_type": "code",
   "execution_count": 110,
   "id": "0d7ce831-bd81-4a23-b771-30457a6a1388",
   "metadata": {},
   "outputs": [
    {
     "name": "stdout",
     "output_type": "stream",
     "text": [
      "Printing the title of each page to check if it's loaded correctly.\n",
      "\n",
      "-   Top Jobs - Freelancer.com\n",
      "-   Freelance Jobs, Work & Projects in Jul 2023 | PeoplePerHour\n",
      "-   Data Entry Services Online | Fiverr\n",
      "-   Top Jobs - Freelancer.com\n",
      "-   Freelance Jobs, Work & Projects in Jul 2023 | PeoplePerHour\n",
      "-   Data Processing Services Online | Fiverr\n",
      "-   Top Jobs - Freelancer.com\n",
      "-   Freelance Jobs, Work & Projects in Jul 2023 | PeoplePerHour\n",
      "-   Your Access To This Website Has Been Blocked\n",
      "-   Top Jobs - Freelancer.com\n",
      "-   Freelance Jobs, Work & Projects in Jul 2023 | PeoplePerHour\n",
      "-   Data Processing Services Online | Fiverr\n"
     ]
    }
   ],
   "source": [
    "print('Printing the title of each page to check if it's loaded correctly.\\n')\n",
    "\n",
    "for soup in soups['soup']:\n",
    "    print('-  ', soup.title.text.replace('\\n', '').replace('\\t', ''))\n",
    "\n",
    "soups = pd.DataFrame(soups)"
   ]
  },
  {
   "cell_type": "markdown",
   "id": "db860af4-9005-4f07-8bfa-cab4cdb3aa87",
   "metadata": {},
   "source": [
    "Looks like everything is working as expected now let's start reel work by extracting the HTML tags data from the scraped<br>\n",
    "pages.<br> <br>"
   ]
  },
  {
   "cell_type": "markdown",
   "id": "36ac5af7-1f3f-44a7-b93b-778e70096067",
   "metadata": {},
   "source": [
    "But we will need to collect the data from each one of those pages with unique way further more we need to optimize the<br>\n",
    "data extractor to collect the data from other pages from the same site like 'jobs' site and 'profiles' sites on upwork.<br>"
   ]
  },
  {
   "cell_type": "code",
   "execution_count": 111,
   "id": "3dfb3b7e-ed6c-49db-a27b-05e963d689ea",
   "metadata": {},
   "outputs": [],
   "source": [
    "def get_cards_links(soup_name, tag, link_template,\n",
    "                    link_attr, tag_class, attr= 'class') -> list:\n",
    "\n",
    "    soup = soups[soups['soup_name'] == soup_name]['soup'].values[0]\n",
    "\n",
    "    cards = soup.find_all(tag, attrs= {attr: tag_class})\n",
    "    cards_ids = []\n",
    "\n",
    "    if link_attr != '':\n",
    "\n",
    "        for card in cards:\n",
    "\n",
    "            card_id = link_template.replace('###', card[link_attr])\n",
    "\n",
    "            if len(card_id) > len(link_template):\n",
    "                cards_ids.append(card_id)\n",
    "\n",
    "        return  cards_ids\n",
    "\n",
    "    else:\n",
    "        return  cards"
   ]
  },
  {
   "cell_type": "code",
   "execution_count": 131,
   "id": "1d68d21b-d335-4918-891a-97e2f8e68cb3",
   "metadata": {},
   "outputs": [],
   "source": [
    "soups = soups.drop(['soup_page'], axis= 1).groupby(\n",
    "    ['soup_name', 'soup_job_type_', 'soup_job_title'])['soup'].apply(\n",
    "        lambda x: BeautifulSoup(''.join(str(x)))).reset_index()\n",
    "\n"
   ]
  },
  {
   "cell_type": "code",
   "execution_count": 135,
   "id": "8bd120bd-e8d9-4a46-922c-af7f5d5d8170",
   "metadata": {},
   "outputs": [
    {
     "data": {
      "text/html": [
       "<div>\n",
       "<style scoped>\n",
       "    .dataframe tbody tr th:only-of-type {\n",
       "        vertical-align: middle;\n",
       "    }\n",
       "\n",
       "    .dataframe tbody tr th {\n",
       "        vertical-align: top;\n",
       "    }\n",
       "\n",
       "    .dataframe thead th {\n",
       "        text-align: right;\n",
       "    }\n",
       "</style>\n",
       "<table border=\"1\" class=\"dataframe\">\n",
       "  <thead>\n",
       "    <tr style=\"text-align: right;\">\n",
       "      <th></th>\n",
       "      <th>soup_name</th>\n",
       "      <th>soup_job_type</th>\n",
       "      <th>soup_job_title</th>\n",
       "      <th>soup</th>\n",
       "    </tr>\n",
       "  </thead>\n",
       "  <tbody>\n",
       "    <tr>\n",
       "      <th>0</th>\n",
       "      <td>fivver_html</td>\n",
       "      <td>services</td>\n",
       "      <td>data-entry</td>\n",
       "      <td>[[[&lt;p&gt;2    [[[&lt;link href=\"https://fiverr-res.c...</td>\n",
       "    </tr>\n",
       "    <tr>\n",
       "      <th>1</th>\n",
       "      <td>fivver_html</td>\n",
       "      <td>services</td>\n",
       "      <td>data-processing</td>\n",
       "      <td>[[[&lt;p&gt;5     [[[&lt;link data-processing=\"\" dtype:...</td>\n",
       "    </tr>\n",
       "    <tr>\n",
       "      <th>2</th>\n",
       "      <td>freelancer_html</td>\n",
       "      <td>jobs</td>\n",
       "      <td>data-entry</td>\n",
       "      <td>[[[&lt;p&gt;0    [[[&lt;style&gt;.pac-container{background...</td>\n",
       "    </tr>\n",
       "    <tr>\n",
       "      <th>3</th>\n",
       "      <td>freelancer_html</td>\n",
       "      <td>jobs</td>\n",
       "      <td>data-processing</td>\n",
       "      <td>[[[&lt;p&gt;3    [[[&lt;style&gt;.pac-container{background...</td>\n",
       "    </tr>\n",
       "    <tr>\n",
       "      <th>4</th>\n",
       "      <td>pph_html</td>\n",
       "      <td>freelance-jobs</td>\n",
       "      <td>data-entry</td>\n",
       "      <td>[[[&lt;p&gt;1    [[[&lt;meta content=\"utf-8\" data-react...</td>\n",
       "    </tr>\n",
       "    <tr>\n",
       "      <th>5</th>\n",
       "      <td>pph_html</td>\n",
       "      <td>freelance-jobs</td>\n",
       "      <td>data-processing</td>\n",
       "      <td>[[[&lt;p&gt;4     [[[&lt;meta content=\"utf-8\" data-reac...</td>\n",
       "    </tr>\n",
       "  </tbody>\n",
       "</table>\n",
       "</div>"
      ],
      "text/plain": [
       "         soup_name   soup_job_type   soup_job_title  \\\n",
       "0      fivver_html        services       data-entry   \n",
       "1      fivver_html        services  data-processing   \n",
       "2  freelancer_html            jobs       data-entry   \n",
       "3  freelancer_html            jobs  data-processing   \n",
       "4         pph_html  freelance-jobs       data-entry   \n",
       "5         pph_html  freelance-jobs  data-processing   \n",
       "\n",
       "                                                soup  \n",
       "0  [[[<p>2    [[[<link href=\"https://fiverr-res.c...  \n",
       "1  [[[<p>5     [[[<link data-processing=\"\" dtype:...  \n",
       "2  [[[<p>0    [[[<style>.pac-container{background...  \n",
       "3  [[[<p>3    [[[<style>.pac-container{background...  \n",
       "4  [[[<p>1    [[[<meta content=\"utf-8\" data-react...  \n",
       "5  [[[<p>4     [[[<meta content=\"utf-8\" data-reac...  "
      ]
     },
     "execution_count": 135,
     "metadata": {},
     "output_type": "execute_result"
    }
   ],
   "source": [
    "soups.head(6)"
   ]
  },
  {
   "cell_type": "code",
   "execution_count": 113,
   "id": "710987e9-6eb6-47cd-a8ec-8d1777445501",
   "metadata": {},
   "outputs": [],
   "source": [
    "# We can't collect guru data this wat becuase it has slightly deffrint case in terms\n",
    "# of collecting the jobs URLs\n",
    "\n",
    "## --------------------------Upwork--------------------------\n",
    "upwork_gigs_links = get_cards_links('upwork_html', 'a', 'https://upwork.com###', 'href',\n",
    "                                        'up-n-link project-tile up-card m-0 p-0 up-card-section up-card-hover project-tile_flexible')\n",
    "\n",
    "upwork_profiles_links = get_cards_links('upwork_html', 'div', 'https://www.upwork.com/search/profiles/?profile=###', 'data-test-key',\n",
    "                                         'up-card-section up-card-hover')\n",
    "\n",
    "upwork_jobs_parents = get_cards_links('upwork_html', 'h3', 'https://www.upwork.com###', '', 'my-0 p-sm-right job-tile-title')\n",
    "upwork_jobs_links = []\n",
    "\n",
    "for parent in upwork_jobs_parents:\n",
    "    upwork_jobs_links.append('https://www.upwork.com' + parent.find('a', class_= 'up-n-link')['href'])\n",
    "## ----------------------------------------------------------\n",
    "\n",
    "\n",
    "## --------------------------Fivver--------------------------\n",
    "fivver_gigs_links = get_cards_links('fivver_html', 'a', 'https://www.fiverr.com###', 'href', 'tbody-5 p-t-4 YLycza2 u9KHmsf')\n",
    "## ----------------------------------------------------------\n",
    "\n",
    "\n",
    "## ---------------------People per hour----------------------\n",
    "pph_services_links = get_cards_links('pph_html', 'a', 'https://www.peopleperhour.com###', 'href', \n",
    "                                     'card__title-wrapper⤍FreelancerCard⤚2-NWk')\n",
    "\n",
    "pph_freelancers_links = get_cards_links('pph_html', 'a', 'https://www.peopleperhour.com###', 'href',\n",
    "                                        'card__title-wrapper⤍FreelancerCard⤚2-NWk')\n",
    "\n",
    "pph_jobs_links = get_cards_links('pph_html', 'a', 'https://www.peopleperhour.com###', 'href',\n",
    "                                 'item__url⤍ListItem⤚20ULx')\n",
    "## ----------------------------------------------------------\n",
    "\n",
    "\n",
    "## ------------------------Guru------------------------------\n",
    "guru_cards_parents_profiles = get_cards_links('guru_html', 'h2', 'https://guru.com###', '',\n",
    "                                              'jobRecord__title jobRecord__title--changeVisited')\n",
    "\n",
    "guru_cards_parents_jobs = get_cards_links('guru_html', 'h2', 'https://guru.com###', '',\n",
    "                                          'jobRecord__title jobRecord__title--changeVisited')\n",
    "## ----------------------------------------------------------\n",
    "\n",
    "\n",
    "## ----------------------Freelancer---------------------------\n",
    "freelancer_links = get_cards_links('freelancer_html', 'a', 'https://www.freelancer.com###', 'href',\n",
    "                                        'LinkElement ng-star-inserted')\n",
    "\n",
    "# freelancer_freelancers_links = get_cards_links('freelancer_soup', 'a', 'https://www.freelancer.com###', 'href',\n",
    "#                                               'LinkElement ng-star-inserted')"
   ]
  },
  {
   "cell_type": "code",
   "execution_count": 116,
   "id": "6434e43c-fe8c-4518-9be0-e2108e970ed0",
   "metadata": {
    "collapsed": true,
    "jupyter": {
     "outputs_hidden": true
    },
    "tags": []
   },
   "outputs": [
    {
     "data": {
      "text/plain": [
       "['https://www.fiverr.com/private_finder/do-private-open-source-investigation?context_referrer=subcategory_listing&source=pagination&ref_ctx_id=9e83d865572d42844d83e6a871099c2a&pckg_id=1&pos=1&context_type=rating&funnel=9e83d865572d42844d83e6a871099c2a&imp_id=27d3f213-ff2e-4da8-9cd5-e1732a7f2279',\n",
       " 'https://www.fiverr.com/excel_buff/do-excel-data-entry-mining-scraping-find-email-address-shopify-product-lists?context_referrer=subcategory_listing&source=pagination&ref_ctx_id=9e83d865572d42844d83e6a871099c2a&pckg_id=1&pos=2&context_type=rating&funnel=9e83d865572d42844d83e6a871099c2a&imp_id=c00a939c-c2f4-4148-aec2-6cd2ef4256a0',\n",
       " 'https://www.fiverr.com/humairramzan08/do-data-entry-email-collection-data-collection-web-scraper-data-scraper?context_referrer=subcategory_listing&source=pagination&ref_ctx_id=9e83d865572d42844d83e6a871099c2a&pckg_id=1&pos=3&context_type=rating&funnel=9e83d865572d42844d83e6a871099c2a&imp_id=30c43de8-615b-463b-be6b-9e3a4424df2a',\n",
       " 'https://www.fiverr.com/leadscrapering/be-the-best-of-b2b-lead-generation-email-finder-zoominfo-and-lead-scraper?context_referrer=subcategory_listing&source=pagination&ref_ctx_id=9e83d865572d42844d83e6a871099c2a&pckg_id=1&pos=4&context_type=rating&funnel=9e83d865572d42844d83e6a871099c2a&seller_online=true&imp_id=cf33e010-d2bc-498e-b018-5afefbb93e8f',\n",
       " 'https://www.fiverr.com/masum245/do-prefect-data-entry-web-research-and-data-mining-for-you?context_referrer=subcategory_listing&source=pagination&ref_ctx_id=9e83d865572d42844d83e6a871099c2a&pckg_id=1&pos=5&context_type=rating&funnel=9e83d865572d42844d83e6a871099c2a&seller_online=true&imp_id=b0725584-78f6-4209-9c19-d963acc854b5',\n",
       " 'https://www.fiverr.com/umer2822/do-data-entry-web-research-copy-paste-and-scraping-works?context_referrer=subcategory_listing&source=pagination&ref_ctx_id=9e83d865572d42844d83e6a871099c2a&pckg_id=1&pos=6&context_type=rating&funnel=9e83d865572d42844d83e6a871099c2a&imp_id=d83d5fe0-70ff-4cc4-9c1f-5c7f940b7eac',\n",
       " 'https://www.fiverr.com/jamshed120/find-business-leads-email-address-from-zoominfo-and-linkedin?context_referrer=subcategory_listing&source=pagination&ref_ctx_id=9e83d865572d42844d83e6a871099c2a&pckg_id=1&pos=7&context_type=rating&funnel=9e83d865572d42844d83e6a871099c2a&seller_online=true&imp_id=ca2105ce-16f6-497c-90aa-7f2181899eeb',\n",
       " 'https://www.fiverr.com/saiful4re/do-active-your-sales-navigator-account?context_referrer=subcategory_listing&source=pagination&ref_ctx_id=9e83d865572d42844d83e6a871099c2a&pckg_id=1&pos=8&context_type=rating&funnel=9e83d865572d42844d83e6a871099c2a&imp_id=c84440f0-4383-4d89-bc75-b843d0f6cea1',\n",
       " 'https://www.fiverr.com/datainsightful/do-web-scraping-using-python-beautiful-soup-and-selenium?context_referrer=subcategory_listing&source=pagination&ref_ctx_id=9e83d865572d42844d83e6a871099c2a&pckg_id=1&pos=9&context_type=rating&funnel=9e83d865572d42844d83e6a871099c2a&seller_online=true&imp_id=c004698a-d201-48f2-83ad-423820b4e9cf',\n",
       " 'https://www.fiverr.com/dr_zahra23/do-proofreading-editing-writing-of-paper-report-essay-business-research?context_referrer=subcategory_listing&source=pagination&ref_ctx_id=9e83d865572d42844d83e6a871099c2a&pckg_id=1&pos=10&context_type=rating&funnel=9e83d865572d42844d83e6a871099c2a&imp_id=31dd2044-093b-4fe4-b0c3-2c56f46ef6b1',\n",
       " 'https://www.fiverr.com/shathi10/do-real-estate-property-title-searches-chain-of-title-with-all-report?context_referrer=subcategory_listing&source=pagination&ref_ctx_id=9e83d865572d42844d83e6a871099c2a&pckg_id=1&pos=11&context_type=rating&funnel=9e83d865572d42844d83e6a871099c2a&imp_id=8e752a61-4b16-4a91-8256-a32c0ea5c09f',\n",
       " 'https://www.fiverr.com/sagorhasda/provide-royalty-free-stock-images-photos-and-videos-without-copyright?context_referrer=subcategory_listing&source=pagination&ref_ctx_id=9e83d865572d42844d83e6a871099c2a&pckg_id=1&pos=12&context_type=rating&funnel=9e83d865572d42844d83e6a871099c2a&seller_online=true&imp_id=9d929594-c9ae-4dc8-894a-f05463374bcf',\n",
       " 'https://www.fiverr.com/salma5767/covert-images-jpeg-scan-file-to-word-excel-file-using-ocr-in-1-hour?context_referrer=subcategory_listing&source=pagination&ref_ctx_id=9e83d865572d42844d83e6a871099c2a&pckg_id=1&pos=13&context_type=rating&funnel=9e83d865572d42844d83e6a871099c2a&seller_online=true&imp_id=951b83b4-689d-4f91-89c0-8f808c322cb6',\n",
       " 'https://www.fiverr.com/rajibah/find-mailing-address-from-google?context_referrer=subcategory_listing&source=pagination&ref_ctx_id=9e83d865572d42844d83e6a871099c2a&pckg_id=1&pos=14&context_type=rating&funnel=9e83d865572d42844d83e6a871099c2a&imp_id=def30934-3c13-4b66-8629-fdd287e2c843',\n",
       " 'https://www.fiverr.com/mhnayeem/do-any-kind-of-data-entry-in-12-hrs?context_referrer=subcategory_listing&source=pagination&ref_ctx_id=9e83d865572d42844d83e6a871099c2a&pckg_id=1&pos=15&context_type=rating&funnel=9e83d865572d42844d83e6a871099c2a&imp_id=c501dcde-0da9-43a7-ac1c-ab797bd2d170',\n",
       " 'https://www.fiverr.com/adnan4545/do-data-entry-excel-data-entry-web-research-copy-paste?context_referrer=subcategory_listing&source=pagination&ref_ctx_id=9e83d865572d42844d83e6a871099c2a&pckg_id=1&pos=16&context_type=rating&funnel=9e83d865572d42844d83e6a871099c2a&imp_id=4c5c08ad-0eed-426b-bb16-66b36fd3d332',\n",
       " 'https://www.fiverr.com/soniarehman934/do-data-entry-web-research-web-scraping-and-excel-data-entry?context_referrer=subcategory_listing&source=pagination&ref_ctx_id=9e83d865572d42844d83e6a871099c2a&pckg_id=1&pos=17&context_type=rating&funnel=9e83d865572d42844d83e6a871099c2a&imp_id=e2fcf0e8-263d-4a11-883e-6983f99f929d',\n",
       " 'https://www.fiverr.com/ahmed28050/create-gantt-chart-wbs-project-plan-project-management-ms-excel-ms-project?context_referrer=subcategory_listing&source=pagination&ref_ctx_id=9e83d865572d42844d83e6a871099c2a&pckg_id=1&pos=18&context_type=rating&funnel=9e83d865572d42844d83e6a871099c2a&imp_id=a586dab5-8f3f-4ee9-b4cb-d93bb485c5ce',\n",
       " 'https://www.fiverr.com/muneebaasghar/be-your-virtual-assistant-for-data-entry-typing-and-web-research?context_referrer=subcategory_listing&source=pagination&ref_ctx_id=9e83d865572d42844d83e6a871099c2a&pckg_id=1&pos=19&context_type=rating&funnel=9e83d865572d42844d83e6a871099c2a&seller_online=true&imp_id=87705d7d-c732-4a34-95ff-303b286a208e',\n",
       " 'https://www.fiverr.com/youtuber446/provide-youtube-channels-list?context_referrer=subcategory_listing&source=pagination&ref_ctx_id=9e83d865572d42844d83e6a871099c2a&pckg_id=1&pos=20&context_type=rating&funnel=9e83d865572d42844d83e6a871099c2a&imp_id=a6f47347-e939-43ee-81b4-860645305317',\n",
       " 'https://www.fiverr.com/max_finder/find-and-research-speaking-events-and-conferences-for-any-topic?context_referrer=subcategory_listing&source=pagination&ref_ctx_id=9e83d865572d42844d83e6a871099c2a&pckg_id=1&pos=21&context_type=rating&funnel=9e83d865572d42844d83e6a871099c2a&imp_id=239fb182-4dde-4500-9ba4-811c92b0050f',\n",
       " 'https://www.fiverr.com/wasimkhizar/do-excel-data-entry-work-accurately?context_referrer=subcategory_listing&source=pagination&ref_ctx_id=9e83d865572d42844d83e6a871099c2a&pckg_id=1&pos=22&context_type=rating&funnel=9e83d865572d42844d83e6a871099c2a&seller_online=true&imp_id=711f9c9f-70d1-4c0f-b7c9-011136bd7733',\n",
       " 'https://www.fiverr.com/arshuman111/do-online-and-offline-data-entry-within-12-hours?context_referrer=subcategory_listing&source=pagination&ref_ctx_id=9e83d865572d42844d83e6a871099c2a&pckg_id=1&pos=23&context_type=rating&funnel=9e83d865572d42844d83e6a871099c2a&imp_id=67ee1531-3558-4242-80ca-3c2cac016a6a',\n",
       " 'https://www.fiverr.com/moinuddin1214/do-data-entry-web-research-find-business-email-and-contacts-details?context_referrer=subcategory_listing&source=pagination&ref_ctx_id=9e83d865572d42844d83e6a871099c2a&pckg_id=1&pos=24&context_type=rating&funnel=9e83d865572d42844d83e6a871099c2a&imp_id=397e8229-0b9a-4feb-839b-e207098a90f2',\n",
       " 'https://www.fiverr.com/piyas3515/create-facebook-account-for-you?context_referrer=subcategory_listing&source=pagination&ref_ctx_id=9e83d865572d42844d83e6a871099c2a&pckg_id=1&pos=25&context_type=rating&funnel=9e83d865572d42844d83e6a871099c2a&imp_id=501f6adb-c54e-4631-b74f-69c0cdfdd658',\n",
       " 'https://www.fiverr.com/tulesh/do-excel-data-entry?context_referrer=subcategory_listing&source=pagination&ref_ctx_id=9e83d865572d42844d83e6a871099c2a&pckg_id=1&pos=26&context_type=rating&funnel=9e83d865572d42844d83e6a871099c2a&imp_id=d1d9e826-aed3-4211-9261-2451998a7d14',\n",
       " 'https://www.fiverr.com/albadi1993/provide-carfax-or-autocheck-report-best-price?context_referrer=subcategory_listing&source=pagination&ref_ctx_id=9e83d865572d42844d83e6a871099c2a&pckg_id=1&pos=27&context_type=rating&funnel=9e83d865572d42844d83e6a871099c2a&imp_id=7c891cd9-0410-4a74-82b0-7ee6f5f843aa',\n",
       " 'https://www.fiverr.com/protitlesear_us/do-real-estate-property-title-searches-the-chain-of-title-report-with-all-deeds?context_referrer=subcategory_listing&source=pagination&ref_ctx_id=9e83d865572d42844d83e6a871099c2a&pckg_id=1&pos=28&context_type=rating&funnel=9e83d865572d42844d83e6a871099c2a&imp_id=5cfe09b4-e547-4f83-a96b-172f99147bb0',\n",
       " 'https://www.fiverr.com/misterhmza/provide-excel-data-entry-merge-cleanup-formatting-vlookup-macro-and-formulas?context_referrer=subcategory_listing&source=pagination&ref_ctx_id=9e83d865572d42844d83e6a871099c2a&pckg_id=1&pos=29&context_type=rating&funnel=9e83d865572d42844d83e6a871099c2a&seller_online=true&imp_id=87910db5-a772-49fb-962b-1c4488a6ee09',\n",
       " 'https://www.fiverr.com/jahidmbf/collect-school-contact-information-for-you?context_referrer=subcategory_listing&source=pagination&ref_ctx_id=9e83d865572d42844d83e6a871099c2a&pckg_id=1&pos=30&context_type=rating&funnel=9e83d865572d42844d83e6a871099c2a&imp_id=3bde63d3-3a0b-422a-8db8-6e0f0a40fb3c',\n",
       " 'https://www.fiverr.com/alejandrar14/edit-and-format-your-microsoft-word-document?context_referrer=subcategory_listing&source=pagination&ref_ctx_id=9e83d865572d42844d83e6a871099c2a&pckg_id=1&pos=31&context_type=rating&funnel=9e83d865572d42844d83e6a871099c2a&imp_id=0220d77f-3157-41ce-bce8-cb58ac90e545',\n",
       " 'https://www.fiverr.com/tanvir_farhan/excel-data-entry-copy-paste-typing-data-entry?context_referrer=subcategory_listing&source=pagination&ref_ctx_id=9e83d865572d42844d83e6a871099c2a&pckg_id=1&pos=32&context_type=rating&funnel=9e83d865572d42844d83e6a871099c2a&imp_id=0d4f640d-e555-4fb2-93e3-b8660ef97df7',\n",
       " 'https://www.fiverr.com/numanunique/do-data-entry-i-know-very-well-about-computer-applications?context_referrer=subcategory_listing&source=pagination&ref_ctx_id=9e83d865572d42844d83e6a871099c2a&pckg_id=1&pos=33&context_type=rating&funnel=9e83d865572d42844d83e6a871099c2a&imp_id=285b8726-17ac-4341-94d1-ee639d0e15e7',\n",
       " 'https://www.fiverr.com/antor_hossain07/virtual-assistant-for-data-entry-copy-paste-web-research-and-typing-job?context_referrer=subcategory_listing&source=pagination&ref_ctx_id=9e83d865572d42844d83e6a871099c2a&pckg_id=1&pos=34&context_type=rating&funnel=9e83d865572d42844d83e6a871099c2a&imp_id=24c3cc0e-9823-4020-ac01-6706b9101fb6',\n",
       " 'https://www.fiverr.com/kyeshamcqueen/data-entry-for-speaking-engagements-blogs-and-podcasts-400-or-more-entries?context_referrer=subcategory_listing&source=pagination&ref_ctx_id=9e83d865572d42844d83e6a871099c2a&pckg_id=1&pos=35&context_type=rating&funnel=9e83d865572d42844d83e6a871099c2a&imp_id=f8937a96-803a-4fe9-b036-303a4c36b110',\n",
       " 'https://www.fiverr.com/shoaibahmed02/search-any-market-company-email-website-address-phone-number?context_referrer=subcategory_listing&source=pagination&ref_ctx_id=9e83d865572d42844d83e6a871099c2a&pckg_id=1&pos=36&context_type=rating&funnel=9e83d865572d42844d83e6a871099c2a&seller_online=true&imp_id=fb624002-b233-4944-b302-62282c73058a',\n",
       " 'https://www.fiverr.com/walpalage/do-bulk-images-download-and-data-entry?context_referrer=subcategory_listing&source=pagination&ref_ctx_id=9e83d865572d42844d83e6a871099c2a&pckg_id=1&pos=37&context_type=rating&funnel=9e83d865572d42844d83e6a871099c2a&imp_id=c4271798-e67f-4039-b707-a2d5c38cc06c',\n",
       " 'https://www.fiverr.com/sajibislam779/do-data-entry-and-copy-paste-job-for-you?context_referrer=subcategory_listing&source=pagination&ref_ctx_id=9e83d865572d42844d83e6a871099c2a&pckg_id=1&pos=38&context_type=rating&funnel=9e83d865572d42844d83e6a871099c2a&seller_online=true&imp_id=417dd4fb-04ee-47fb-8cd6-8d0718cd0198',\n",
       " 'https://www.fiverr.com/siegercreations/do-any-type-of-data-entry-work?context_referrer=subcategory_listing&source=pagination&ref_ctx_id=9e83d865572d42844d83e6a871099c2a&pckg_id=1&pos=39&context_type=rating&funnel=9e83d865572d42844d83e6a871099c2a&imp_id=9af27b78-edbc-42e1-8dab-9678ae220b00',\n",
       " 'https://www.fiverr.com/imazo_ps/do-data-entry-excel-copy-paste-scraping-and-pdf-to-excel?context_referrer=subcategory_listing&source=pagination&ref_ctx_id=9e83d865572d42844d83e6a871099c2a&pckg_id=1&pos=40&context_type=rating&funnel=9e83d865572d42844d83e6a871099c2a&imp_id=99676f8d-c2ef-4237-9c6a-8326b3d650e6',\n",
       " 'https://www.fiverr.com/shegzdatabase/be-your-unique-data-entry-assistant?context_referrer=subcategory_listing&source=pagination&ref_ctx_id=9e83d865572d42844d83e6a871099c2a&pckg_id=1&pos=41&context_type=rating&funnel=9e83d865572d42844d83e6a871099c2a&imp_id=d9b7ff14-5952-4e5c-b1f2-efb4f24f04d4',\n",
       " 'https://www.fiverr.com/asadsoomro815/scrap-real-estate-data-from-zillow-within-24-hours?context_referrer=subcategory_listing&source=pagination&ref_ctx_id=9e83d865572d42844d83e6a871099c2a&pckg_id=1&pos=42&context_type=rating&funnel=9e83d865572d42844d83e6a871099c2a&imp_id=91503a6b-92f2-4891-9a3d-7df91f8e55a0',\n",
       " 'https://www.fiverr.com/bdcalling/do-data-entry-data-mining-typing-copy-paste-and-web-research?context_referrer=subcategory_listing&source=pagination&ref_ctx_id=9e83d865572d42844d83e6a871099c2a&pckg_id=1&pos=43&context_type=rating&funnel=9e83d865572d42844d83e6a871099c2a&seller_online=true&imp_id=be450785-5292-4ef8-9104-7eac370b8ea3',\n",
       " 'https://www.fiverr.com/rupa16/do-web-research-internet-research-and-web-research?context_referrer=subcategory_listing&source=pagination&ref_ctx_id=9e83d865572d42844d83e6a871099c2a&pckg_id=1&pos=44&context_type=rating&funnel=9e83d865572d42844d83e6a871099c2a&imp_id=58839f15-30d1-4d61-a81e-5d794afc3210',\n",
       " 'https://www.fiverr.com/naz_nahid/be-your-virtual-assistant-for-data-entry-typing-copy-paste-and-web-research?context_referrer=subcategory_listing&source=pagination&ref_ctx_id=9e83d865572d42844d83e6a871099c2a&pckg_id=1&pos=45&context_type=rating&funnel=9e83d865572d42844d83e6a871099c2a&imp_id=34092b74-d678-4930-937d-11c824956113',\n",
       " 'https://www.fiverr.com/junaidkiani12/do-sam-cengage-ms-office-microsoft-word-excel-and-access-projects-urgently?context_referrer=subcategory_listing&source=pagination&ref_ctx_id=9e83d865572d42844d83e6a871099c2a&pckg_id=1&pos=46&context_type=rating&funnel=9e83d865572d42844d83e6a871099c2a&imp_id=0f9437cf-a3f3-4ba1-9f4e-54cc338f7608',\n",
       " 'https://www.fiverr.com/rababmouaine/do-data-entry-copy-paste-web-research-excel-data-entry?context_referrer=subcategory_listing&source=pagination&ref_ctx_id=9e83d865572d42844d83e6a871099c2a&pckg_id=1&pos=47&context_type=rating&funnel=9e83d865572d42844d83e6a871099c2a&imp_id=ffe4bd5d-e2f8-4b25-a00e-b764cece5a63',\n",
       " 'https://www.fiverr.com/juel_hafiz/do-any-work-related-to-wordpress?context_referrer=subcategory_listing&source=pagination&ref_ctx_id=9e83d865572d42844d83e6a871099c2a&pckg_id=1&pos=48&context_type=rating&funnel=9e83d865572d42844d83e6a871099c2a&imp_id=c3f3754d-aab2-40ac-a093-1615df81b649']"
      ]
     },
     "execution_count": 116,
     "metadata": {},
     "output_type": "execute_result"
    }
   ],
   "source": [
    "fivver_gigs_links"
   ]
  },
  {
   "cell_type": "code",
   "execution_count": null,
   "id": "ba1caa82-9049-40af-9248-5a6dcf4d404f",
   "metadata": {},
   "outputs": [],
   "source": [
    "def get_upwork_links(job_type_: str) -> list:  \n",
    "\n",
    "    card_tag = 'a'\n",
    "    link_template = 'https://www.upwork.com###'\n",
    "    link_attr = 'href'\n",
    "\n",
    "    if job_type_ == 'profiles':\n",
    "\n",
    "        card_tag = 'div'\n",
    "        card_tag_class = 'up-card-section up-card-hover'\n",
    "        link_template = 'https://www.upwork.com/search/profiles/?q=profiles&profile=###'\n",
    "        link_attr = 'data-test-key'\n",
    "    \n",
    "    elif job_type_ == 'jobs':\n",
    "        card_tag_class = 'up-n-link'\n",
    "\n",
    "\n",
    "    elif job_type_ == 'services':\n",
    "        card_tag_class = 'up-n-link project-tile up-card m-0 p-0 up-card-section up-card-hover project-tile_flexible'\n",
    "\n",
    "    else:\n",
    "        raise Exception('Please input correct work type_ from ['profiles', 'jobs', 'services'].')\n",
    "\n",
    "\n",
    "    soup = soups[soups['soup_name'] == 'upwork_soup']['soup'][0]\n",
    "\n",
    "    cards = soup.find_all(card_tag, class_= card_tag_class)\n",
    "    cards_ids = []\n",
    "\n",
    "    for card in cards:\n",
    "        \n",
    "        card_id = link_template.replace('###', card[link_attr])\n",
    "        \n",
    "        if len(card_id) > len(link_template):\n",
    "            cards_ids.append(card_id)\n",
    "\n",
    "    return  cards_ids\n",
    "\n",
    "\n",
    "def get_fivver_links() -> list:\n",
    "\n",
    "    card_tag = 'div'\n",
    "    card_tag_class = 'basic-gig-card'\n",
    "    link_template = 'https://www.fiverr.com###'\n",
    "    link_attr = 'href'\n",
    "\n",
    "    cards = soup.find_all(card_tag, class_= card_tag_class)\n",
    "    cards_ids = []\n",
    "    \n",
    "    for card in cards:\n",
    "        \n",
    "        card_id = link_template.replace('###', card[link_attr])\n",
    "        \n",
    "        if len(card_id) > len(link_template):\n",
    "            cards_ids.append(card_id)\n",
    "\n",
    "    return  cards_ids"
   ]
  },
  {
   "cell_type": "code",
   "execution_count": null,
   "id": "7a8189c7-4417-4b58-82f6-e1b634d4aa3f",
   "metadata": {},
   "outputs": [],
   "source": [
    "def get_guru_links(job_type_: str) -> list:  \n",
    "\n",
    "    soup = soups[soups['soup_name'] == 'guru_soup']['soup'][2]\n",
    "    link_template = 'https://www.guru.com###'\n",
    "\n",
    "    if job_type_ == 'freelancers':\n",
    "        cards_parents = soup.find_all(\n",
    "            'h2', class_= 'serviceListing__title serviceListing__title--dark')\n",
    "\n",
    "        cards = []\n",
    "\n",
    "        for parent in cards_parents:\n",
    "            card = parent.find('a')\n",
    "            cards.append(card)\n",
    "\n",
    "    elif job_type_ == 'jobs':\n",
    "        cards_parents = soup.find_all(\n",
    "            'h2', class_ = 'jobRecord__title jobRecord__title--changeVisited')\n",
    "\n",
    "        cards = []\n",
    "\n",
    "        for parent in cards_parents:\n",
    "            card = parent.find('a')\n",
    "            cards.append(card)\n",
    "\n",
    "    cards_ids = []\n",
    "\n",
    "    for card in cards:\n",
    "        card_id = link_template.replace('###', card['href'])\n",
    "        cards_ids.append(card_id)\n",
    "\n",
    "    return  cards_ids"
   ]
  },
  {
   "cell_type": "markdown",
   "id": "00632aa1-9b7a-4e33-ab44-962f17b39b0b",
   "metadata": {},
   "source": [
    "## <center><strong> Collecting <span style= 'color: #517afc'>Cards</span> Data"
   ]
  },
  {
   "cell_type": "code",
   "execution_count": null,
   "id": "9f86c767-78f2-46d0-8ddb-3b80bfcecacf",
   "metadata": {},
   "outputs": [],
   "source": []
  }
 ],
 "metadata": {
  "kernelspec": {
   "display_name": "Python 3 (ipykernel)",
   "language": "python",
   "name": "python3"
  },
  "language_info": {
   "codemirror_mode": {
    "name": "ipython",
    "version": 3
   },
   "file_extension": ".py",
   "mimetype": "text/x-python",
   "name": "python",
   "nbconvert_exporter": "python",
   "pygments_lexer": "ipython3",
   "version": "3.9.16"
  }
 },
 "nbformat": 4,
 "nbformat_minor": 5
}
