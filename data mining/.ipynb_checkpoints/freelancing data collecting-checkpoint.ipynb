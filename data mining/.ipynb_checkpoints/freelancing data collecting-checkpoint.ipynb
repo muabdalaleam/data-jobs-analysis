{
 "cells": [
  {
   "cell_type": "markdown",
   "id": "2d87eb4b-c943-4562-866b-7c2dd151f3c6",
   "metadata": {},
   "source": [
    "## <center><strong>Notebook<span style= \"color: #51FCC6\"> Describtion"
   ]
  },
  {
   "cell_type": "markdown",
   "id": "5753d54c-1fd0-441c-b663-98ca78298128",
   "metadata": {},
   "source": []
  },
  {
   "cell_type": "markdown",
   "id": "e59118b7-50cf-4738-8e35-cd9de6b6e46c",
   "metadata": {},
   "source": []
  },
  {
   "cell_type": "markdown",
   "id": "b08419ad-46bc-42a6-a678-356c38c435fe",
   "metadata": {},
   "source": [
    "## <center><strong>Importing<span style= \"color: #48E0DC\"> Packeges"
   ]
  },
  {
   "cell_type": "code",
   "execution_count": 1,
   "id": "dfca499a-0b6e-42a6-9901-a25b403a1dbe",
   "metadata": {},
   "outputs": [],
   "source": [
    "import time\n",
    "import sqlite3\n",
    "import warnings\n",
    "import requests\n",
    "import numpy as np\n",
    "import pandas as pd\n",
    "import seaborn as sns\n",
    "from itertools import count\n",
    "from bs4 import BeautifulSoup\n",
    "from selenium import webdriver\n",
    "import matplotlib.pyplot as plt\n",
    "from selenium.webdriver.common.by import By\n",
    "from IPython.display import set_matplotlib_formats\n",
    "from selenium.webdriver.support.ui import WebDriverWait\n",
    "from selenium.webdriver.support import expected_conditions as EC"
   ]
  },
  {
   "cell_type": "code",
   "execution_count": 2,
   "id": "837b8e77-3b20-4c92-8619-434de6cedf05",
   "metadata": {},
   "outputs": [
    {
     "name": "stderr",
     "output_type": "stream",
     "text": [
      "C:\\Users\\FreeComp\\AppData\\Local\\Temp\\ipykernel_16316\\2138414856.py:8: DeprecationWarning: `set_matplotlib_formats` is deprecated since IPython 7.23, directly use `matplotlib_inline.backend_inline.set_matplotlib_formats()`\n",
      "  set_matplotlib_formats('pdf', 'svg')\n"
     ]
    }
   ],
   "source": [
    "COLORS = [\"#51fcc6\", \"#48e0dc\", \"#5cd3f7\", \"#4895e0\", \"#517afc\"]\n",
    "\n",
    "%matplotlib inline\n",
    "\n",
    "NUMERICS = ['int16', 'int32', 'int64', 'float16', 'float32', 'float64',\n",
    "            'uint16', 'uint32', 'uint64']\n",
    "\n",
    "set_matplotlib_formats('pdf', 'svg')\n",
    "warnings.filterwarnings(\"ignore\")"
   ]
  },
  {
   "cell_type": "markdown",
   "id": "69d3e9fc-3746-4f76-be83-00f2b453be34",
   "metadata": {},
   "source": [
    "## <center><strong>Setting up the<span style= \"color: #5CD3F7\"> Web scrapers"
   ]
  },
  {
   "cell_type": "code",
   "execution_count": 3,
   "id": "bfd35b8e-8c12-4e99-8819-4c6e338c3951",
   "metadata": {},
   "outputs": [],
   "source": [
    "fivver_data_jobs_titles = [\"data-entry\", \"data-processing\", \"data-engineering\",\n",
    "                           \"data-science\", \"data-analytics\", \"data-visualization\"]\n",
    "\n",
    "guru_data_jobs_titles = [\"data-analytics\", \"machine-learning\", \"data-visualization\"]\n",
    "\n",
    "\n",
    "upwork_service_types = [\"profiles\", \"jobs\", \"services\"]\n",
    "freelancer_types = [\"users\", \"projects\"]\n",
    "peaple_per_hour_types = [\"hire-freelancers\", \"freelance-jobs\", \"services\"]\n",
    "guru_service_types = [\"freelancers\", \"jobs\"]\n",
    "\n",
    "\n",
    "def scrape_page(url: str) -> BeautifulSoup:\n",
    "    driver = webdriver.Chrome()\n",
    "    driver.get(url)\n",
    "    \n",
    "    wait = WebDriverWait(driver, 10)\n",
    "    \n",
    "    # Wait until the page is fully loaded\n",
    "    wait.until(EC.presence_of_element_located((By.TAG_NAME, 'body')))\n",
    "    \n",
    "    html = driver.page_source\n",
    "    driver.quit()\n",
    "    \n",
    "    return BeautifulSoup(html)"
   ]
  },
  {
   "cell_type": "code",
   "execution_count": 4,
   "id": "16ff1bdf-99da-46f6-ab1e-b41c542daaf2",
   "metadata": {},
   "outputs": [],
   "source": [
    "# The `type` param indicates what is the nature of the job is it hiring freelancers \n",
    "# or paying services or othr thing based on the platform.\n",
    "\n",
    "def upwork_scraper(page, job_title, type):\n",
    "\n",
    "    global upwork_url\n",
    "\n",
    "    if  type == 'services':\n",
    "\n",
    "        upwork_url =  f\"https://www.upwork.com/services/search?nbs=1&q={job_title}\"\n",
    "\n",
    "        driver = webdriver.Chrome()\n",
    "        driver.get(upwork_url)\n",
    "\n",
    "        if page > 1:\n",
    "            for i in ragne(page):\n",
    "                \n",
    "                wait = WebDriverWait(driver, 10)\n",
    "                element = wait.until(EC.element_to_be_clickable((By.CSS_SELECTOR, 'button.up-btn.up-btn-default.mx-0.load-more-btn.nuxt-link-active')))\n",
    "                element.click()\n",
    "                \n",
    "                time.sleep(1)\n",
    "\n",
    "        html = driver.page_source\n",
    "        driver.quit()\n",
    "        \n",
    "        return  html\n",
    "\n",
    "    elif type == \"profiles\" or type == \"jobs\":\n",
    "        \n",
    "        upwork_url = f\"https://www.upwork.com/search/{type}/?page={page}&q={job_title}&user_pref=1\"\n",
    "        \n",
    "        return scrape_page(upwork_url)\n",
    "\n",
    "\n",
    "def guru_scraper(page, job_title, type):\n",
    "\n",
    "    global guru_url\n",
    "    guru_url = f\"https://www.guru.com/d/{type}/c/programming-development/sc/math-algorithms-analytics/ssc/{job_title}/pg/{page}/\"\n",
    "\n",
    "    return scrape_page(guru_url)\n",
    "\n",
    "\n",
    "def fivver_scraper(page, job_title):\n",
    "\n",
    "    global fivver_url\n",
    "    fivver_url = f\"https://www.fiverr.com/categories/data/{job_title}?source=pagination&page={page}\"\n",
    "\n",
    "    return scrape_page(fivver_url)\n",
    "\n",
    "\n",
    "def peopleperhour_scraper(page, job_title, type):\n",
    "\n",
    "    global peopleperhour_url\n",
    "\n",
    "    if type == \"hire-freelancers\":\n",
    "        peopleperhour_url = f\"https://www.peopleperhour.com/hire-freelancers/{job_title.replace('-', '+')}?page={page}&ref=search\"\n",
    "\n",
    "    else:\n",
    "        peopleperhour_url = f\"https://www.peopleperhour.com/{type}-{job_title.replace('-', '+')}\"\n",
    "\n",
    "    return  scrape_page(peopleperhour_url)\n",
    "\n",
    "# We will not analyze requested jobs data in freelancer.com becuase it's search feature \n",
    "# isn't accurate with the it.\n",
    "\n",
    "def freelancer_scraper(page, job_title, type):\n",
    "\n",
    "    global freelancer_url\n",
    "    freelancer_url = f\"https://www.freelancer.com/search/{type}?q={job_title.replace('-', '%20')}&page={page}\"\n",
    "    \n",
    "    return scrape_page(freelancer_url)"
   ]
  },
  {
   "cell_type": "markdown",
   "id": "c788705f-2f61-4a5c-ad84-ea24f56bccdb",
   "metadata": {},
   "source": [
    "Now we will try to calculate how much did each scraper take to collect the data"
   ]
  },
  {
   "cell_type": "code",
   "execution_count": 5,
   "id": "a0141299-f023-4a63-8e8b-52320c0b3639",
   "metadata": {},
   "outputs": [],
   "source": [
    "get_variable_name = lambda var: [name for name in globals() if globals()[name] is var][0]\n",
    "\n",
    "def get_runtime(func, *args, **kwargs):\n",
    "\n",
    "    t1 = time.perf_counter()\n",
    "    output = func(*args, **kwargs)\n",
    "    t2 = time.perf_counter()\n",
    "\n",
    "    run_time = t2 - t1\n",
    "\n",
    "    print(\"{} took about {:.2f}s to run.\\n\".format(\n",
    "        get_variable_name(func).replace(\"_\", \" \").title(), run_time))\n",
    "\n",
    "    return  output"
   ]
  },
  {
   "cell_type": "markdown",
   "id": "1619ad86-0c3f-4288-a5cb-8b3591513b88",
   "metadata": {},
   "source": [
    "Now we will just try to scrape **only one page** from each scraper *(temporary action)* to just test the data extractors with<br>\n",
    "more efficient way."
   ]
  },
  {
   "cell_type": "code",
   "execution_count": 6,
   "id": "b59e2921-a232-4174-92a8-3291df42fcbd",
   "metadata": {},
   "outputs": [
    {
     "name": "stdout",
     "output_type": "stream",
     "text": [
      "Peopleperhour Scraper took about 20.55s to run.\n",
      "\n",
      "Peopleperhour Scraper took about 21.15s to run.\n",
      "\n"
     ]
    }
   ],
   "source": [
    "html_1 = get_runtime(peopleperhour_scraper, 1, fivver_data_jobs_titles[4], \"hire-freelancers\").body\n",
    "html_2 = get_runtime(peopleperhour_scraper, 2, fivver_data_jobs_titles[4], \"hire-freelancers\").body"
   ]
  },
  {
   "cell_type": "code",
   "execution_count": 7,
   "id": "c0c4277a-226a-4ff4-b83f-23f962e98dcc",
   "metadata": {},
   "outputs": [
    {
     "data": {
      "text/plain": [
       "[<a class=\"card__title-wrapper⤍FreelancerCard⤚2-NWk\" href=\"https://www.peopleperhour.com/freelancer/technology-programming/kareem-hamdeen-software-engineer-mxwaqnm\" rel=\"noopener noreferrer\" target=\"_blank\" title=\"Kareem H.\"><h2 class=\"title-nano clearfix card__title⤍FreelancerCard⤚1nnjn\">Kareem H.</h2></a>,\n",
       " <a class=\"card__title-wrapper⤍FreelancerCard⤚2-NWk\" href=\"https://www.peopleperhour.com/freelancer/business/ahmed-kamel-statistical-analysis-r-programming-zxznvnw\" rel=\"noopener noreferrer\" target=\"_blank\" title=\"Ahmed K.\"><h2 class=\"title-nano clearfix card__title⤍FreelancerCard⤚1nnjn\">Ahmed K.</h2></a>,\n",
       " <a class=\"card__title-wrapper⤍FreelancerCard⤚2-NWk\" href=\"https://www.peopleperhour.com/freelancer/business/biman-chakraborty-statistical-consultant-data-zaajjqw\" rel=\"noopener noreferrer\" target=\"_blank\" title=\"Biman C.\"><h2 class=\"title-nano clearfix card__title⤍FreelancerCard⤚1nnjn\">Biman C.</h2></a>,\n",
       " <a class=\"card__title-wrapper⤍FreelancerCard⤚2-NWk\" href=\"https://www.peopleperhour.com/freelancer/technology-programming/alvin_mark-navio-statistician-business-intelligence-ymzvyy\" rel=\"noopener noreferrer\" target=\"_blank\" title=\"Alvin Mark N.\"><h2 class=\"title-nano clearfix card__title⤍FreelancerCard⤚1nnjn\">Alvin Mark N.</h2></a>,\n",
       " <a class=\"card__title-wrapper⤍FreelancerCard⤚2-NWk\" href=\"https://www.peopleperhour.com/freelancer/technology-programming/nushrath-najimuddin-data-analyst-ibm-spss-r-rstudio-yyzanna\" rel=\"noopener noreferrer\" target=\"_blank\" title=\"Nushrath N.\"><h2 class=\"title-nano clearfix card__title⤍FreelancerCard⤚1nnjn\">Nushrath N.</h2></a>,\n",
       " <a class=\"card__title-wrapper⤍FreelancerCard⤚2-NWk\" href=\"https://www.peopleperhour.com/freelancer/business/de_staic_research-expert-academic-researcher-nwjwan\" rel=\"noopener noreferrer\" target=\"_blank\" title=\"De Staic Research ..\"><h2 class=\"title-nano clearfix card__title⤍FreelancerCard⤚1nnjn\">De Staic Research ..</h2></a>,\n",
       " <a class=\"card__title-wrapper⤍FreelancerCard⤚2-NWk\" href=\"https://www.peopleperhour.com/freelancer/marketing-seo/ernest-hupuczi-statistical-analysis-ibm-spss-r-wvavmw\" rel=\"noopener noreferrer\" target=\"_blank\" title=\"Ernest H.\"><h2 class=\"title-nano clearfix card__title⤍FreelancerCard⤚1nnjn\">Ernest H.</h2></a>,\n",
       " <a class=\"card__title-wrapper⤍FreelancerCard⤚2-NWk\" href=\"https://www.peopleperhour.com/freelancer/technology-programming/shariq-anis-ms-excel-spss-amos-r-stata-power-zzzvzym\" rel=\"noopener noreferrer\" target=\"_blank\" title=\"Shariq A.\"><h2 class=\"title-nano clearfix card__title⤍FreelancerCard⤚1nnjn\">Shariq A.</h2></a>,\n",
       " <a class=\"card__title-wrapper⤍FreelancerCard⤚2-NWk\" href=\"https://www.peopleperhour.com/freelancer/writing-translation/gadi-bizinyan-excel-developer-vba-programmer-xwqyjq\" rel=\"noopener noreferrer\" target=\"_blank\" title=\"Gadi B.\"><h2 class=\"title-nano clearfix card__title⤍FreelancerCard⤚1nnjn\">Gadi B.</h2></a>,\n",
       " <a class=\"card__title-wrapper⤍FreelancerCard⤚2-NWk\" href=\"https://www.peopleperhour.com/freelancer/technology-programming/seun-statistician-data-analyst-spss-yvaaqza\" rel=\"noopener noreferrer\" target=\"_blank\" title=\"Seun A.\"><h2 class=\"title-nano clearfix card__title⤍FreelancerCard⤚1nnjn\">Seun A.</h2></a>,\n",
       " <a class=\"card__title-wrapper⤍FreelancerCard⤚2-NWk\" href=\"https://www.peopleperhour.com/freelancer/business/taras-lukashiv-doctor-of-mathematics-and-zmqxxmv\" rel=\"noopener noreferrer\" target=\"_blank\" title=\"Taras L.\"><h2 class=\"title-nano clearfix card__title⤍FreelancerCard⤚1nnjn\">Taras L.</h2></a>,\n",
       " <a class=\"card__title-wrapper⤍FreelancerCard⤚2-NWk\" href=\"https://www.peopleperhour.com/freelancer/business/aysha-researcher-business-plan-data-zmxzva\" rel=\"noopener noreferrer\" target=\"_blank\" title=\"Aysha S.\"><h2 class=\"title-nano clearfix card__title⤍FreelancerCard⤚1nnjn\">Aysha S.</h2></a>,\n",
       " <a class=\"card__title-wrapper⤍FreelancerCard⤚2-NWk\" href=\"https://www.peopleperhour.com/freelancer/business/igor-malyk-mathematic-statistic-programming-zxaanjz\" rel=\"noopener noreferrer\" target=\"_blank\" title=\"Igor M.\"><h2 class=\"title-nano clearfix card__title⤍FreelancerCard⤚1nnjn\">Igor M.</h2></a>,\n",
       " <a class=\"card__title-wrapper⤍FreelancerCard⤚2-NWk\" href=\"https://www.peopleperhour.com/freelancer/business/dicle-data-analysis-research-statistics-vzxwayq\" rel=\"noopener noreferrer\" target=\"_blank\" title=\"Dicle A.\"><h2 class=\"title-nano clearfix card__title⤍FreelancerCard⤚1nnjn\">Dicle A.</h2></a>,\n",
       " <a class=\"card__title-wrapper⤍FreelancerCard⤚2-NWk\" href=\"https://www.peopleperhour.com/freelancer/technology-programming/tobiloba-adaramati-data-analytics-consultant-zjxjmym\" rel=\"noopener noreferrer\" target=\"_blank\" title=\"Tobiloba A.\"><h2 class=\"title-nano clearfix card__title⤍FreelancerCard⤚1nnjn\">Tobiloba A.</h2></a>,\n",
       " <a class=\"card__title-wrapper⤍FreelancerCard⤚2-NWk\" href=\"https://www.peopleperhour.com/freelancer/technology-programming/tatyana-knignitska-mathematician-statistician-data-znzwqaw\" rel=\"noopener noreferrer\" target=\"_blank\" title=\"Tatyana K.\"><h2 class=\"title-nano clearfix card__title⤍FreelancerCard⤚1nnjn\">Tatyana K.</h2></a>,\n",
       " <a class=\"card__title-wrapper⤍FreelancerCard⤚2-NWk\" href=\"https://www.peopleperhour.com/freelancer/marketing-seo/marijana-jankovic-spss-professional-zmqyqvv\" rel=\"noopener noreferrer\" target=\"_blank\" title=\"Marijana J.\"><h2 class=\"title-nano clearfix card__title⤍FreelancerCard⤚1nnjn\">Marijana J.</h2></a>,\n",
       " <a class=\"card__title-wrapper⤍FreelancerCard⤚2-NWk\" href=\"https://www.peopleperhour.com/freelancer/business/amany-marey-data-analyst-medical-researcher-r-vxvnzqx\" rel=\"noopener noreferrer\" target=\"_blank\" title=\"Amany M.\"><h2 class=\"title-nano clearfix card__title⤍FreelancerCard⤚1nnjn\">Amany M.</h2></a>,\n",
       " <a class=\"card__title-wrapper⤍FreelancerCard⤚2-NWk\" href=\"https://www.peopleperhour.com/freelancer/business/shaun-grady-top-cert-virtual-assistant-data-jqywvn\" rel=\"noopener noreferrer\" target=\"_blank\" title=\"Shaun G.\"><h2 class=\"title-nano clearfix card__title⤍FreelancerCard⤚1nnjn\">Shaun G.</h2></a>,\n",
       " <a class=\"card__title-wrapper⤍FreelancerCard⤚2-NWk\" href=\"https://www.peopleperhour.com/freelancer/technology-programming/md_ismail-hossain-data-scientist-qymwxa\" rel=\"noopener noreferrer\" target=\"_blank\" title=\"Md Ismail H.\"><h2 class=\"title-nano clearfix card__title⤍FreelancerCard⤚1nnjn\">Md Ismail H.</h2></a>,\n",
       " <a class=\"card__title-wrapper⤍FreelancerCard⤚2-NWk\" href=\"https://www.peopleperhour.com/freelancer/writing-translation/gary-statistician-zvjwwjn\" rel=\"noopener noreferrer\" target=\"_blank\" title=\"Gary N.\"><h2 class=\"title-nano clearfix card__title⤍FreelancerCard⤚1nnjn\">Gary N.</h2></a>,\n",
       " <a class=\"card__title-wrapper⤍FreelancerCard⤚2-NWk\" href=\"https://www.peopleperhour.com/freelancer/business/basile-marquier-statistician-data-scientist-znymmyw\" rel=\"noopener noreferrer\" target=\"_blank\" title=\"Basile M.\"><h2 class=\"title-nano clearfix card__title⤍FreelancerCard⤚1nnjn\">Basile M.</h2></a>,\n",
       " <a class=\"card__title-wrapper⤍FreelancerCard⤚2-NWk\" href=\"https://www.peopleperhour.com/freelancer/technology-programming/magdalena-murawska-biostatistician-mmxmxx\" rel=\"noopener noreferrer\" target=\"_blank\" title=\"Magdalena M.\"><h2 class=\"title-nano clearfix card__title⤍FreelancerCard⤚1nnjn\">Magdalena M.</h2></a>,\n",
       " <a class=\"card__title-wrapper⤍FreelancerCard⤚2-NWk\" href=\"https://www.peopleperhour.com/freelancer/business/yolande-tra-experienced-and-skilled-xzvzqa\" rel=\"noopener noreferrer\" target=\"_blank\" title=\"Yolande T.\"><h2 class=\"title-nano clearfix card__title⤍FreelancerCard⤚1nnjn\">Yolande T.</h2></a>,\n",
       " <a class=\"card__title-wrapper⤍FreelancerCard⤚2-NWk\" href=\"https://www.peopleperhour.com/freelancer/technology-programming/augusto-pellegrinetti-data-scientist-xanzzaw\" rel=\"noopener noreferrer\" target=\"_blank\" title=\"Augusto P.\"><h2 class=\"title-nano clearfix card__title⤍FreelancerCard⤚1nnjn\">Augusto P.</h2></a>,\n",
       " <a class=\"card__title-wrapper⤍FreelancerCard⤚2-NWk\" href=\"https://www.peopleperhour.com/freelancer/business/kris-tabaka-excel-expert-data-analyst-vmwvnq\" rel=\"noopener noreferrer\" target=\"_blank\" title=\"Kris T.\"><h2 class=\"title-nano clearfix card__title⤍FreelancerCard⤚1nnjn\">Kris T.</h2></a>,\n",
       " <a class=\"card__title-wrapper⤍FreelancerCard⤚2-NWk\" href=\"https://www.peopleperhour.com/freelancer/technology-programming/karolina-urbanska-data-analyst-researcher-qyyzmyv\" rel=\"noopener noreferrer\" target=\"_blank\" title=\"Karolina U.\"><h2 class=\"title-nano clearfix card__title⤍FreelancerCard⤚1nnjn\">Karolina U.</h2></a>,\n",
       " <a class=\"card__title-wrapper⤍FreelancerCard⤚2-NWk\" href=\"https://www.peopleperhour.com/freelancer/business/saheed-amusat-data-analyst-and-research-zvznjzz\" rel=\"noopener noreferrer\" target=\"_blank\" title=\"Saheed A.\"><h2 class=\"title-nano clearfix card__title⤍FreelancerCard⤚1nnjn\">Saheed A.</h2></a>,\n",
       " <a class=\"card__title-wrapper⤍FreelancerCard⤚2-NWk\" href=\"https://www.peopleperhour.com/freelancer/marketing-seo/liza-vysotskaya-researcher-analyst-zjwymwq\" rel=\"noopener noreferrer\" target=\"_blank\" title=\"Liza V.\"><h2 class=\"title-nano clearfix card__title⤍FreelancerCard⤚1nnjn\">Liza V.</h2></a>,\n",
       " <a class=\"card__title-wrapper⤍FreelancerCard⤚2-NWk\" href=\"https://www.peopleperhour.com/freelancer/technology-programming/stuart-jamieson-data-science-and-finance-yzvmvyv\" rel=\"noopener noreferrer\" target=\"_blank\" title=\"Stuart J.\"><h2 class=\"title-nano clearfix card__title⤍FreelancerCard⤚1nnjn\">Stuart J.</h2></a>,\n",
       " <a class=\"card__title-wrapper⤍FreelancerCard⤚2-NWk\" href=\"https://www.peopleperhour.com/freelancer/business/ideepeners_private_limited-data-science-web-development-and-zwzzaqw\" rel=\"noopener noreferrer\" target=\"_blank\" title=\"IDeepeners Private Limited ..\"><h2 class=\"title-nano clearfix card__title⤍FreelancerCard⤚1nnjn\">IDeepeners Private Limited ..</h2></a>,\n",
       " <a class=\"card__title-wrapper⤍FreelancerCard⤚2-NWk\" href=\"https://www.peopleperhour.com/freelancer/technology-programming/kingsley-ukwuoma-data-analytics-specialist-zmmajyq\" rel=\"noopener noreferrer\" target=\"_blank\" title=\"Kingsley U.\"><h2 class=\"title-nano clearfix card__title⤍FreelancerCard⤚1nnjn\">Kingsley U.</h2></a>,\n",
       " <a class=\"card__title-wrapper⤍FreelancerCard⤚2-NWk\" href=\"https://www.peopleperhour.com/freelancer/writing-translation/imran-mahmood-data-analysis-spss-amos-sas-factor-ywnjamn\" rel=\"noopener noreferrer\" target=\"_blank\" title=\"Imran M.\"><h2 class=\"title-nano clearfix card__title⤍FreelancerCard⤚1nnjn\">Imran M.</h2></a>,\n",
       " <a class=\"card__title-wrapper⤍FreelancerCard⤚2-NWk\" href=\"https://www.peopleperhour.com/freelancer/writing-translation/tahira-siddiqa-ibm-spss-statistical-analyst-data-yyzqwym\" rel=\"noopener noreferrer\" target=\"_blank\" title=\"Tahira S.\"><h2 class=\"title-nano clearfix card__title⤍FreelancerCard⤚1nnjn\">Tahira S.</h2></a>,\n",
       " <a class=\"card__title-wrapper⤍FreelancerCard⤚2-NWk\" href=\"https://www.peopleperhour.com/freelancer/technology-programming/kartikeya-kirar-data-scientist-r-programmer-zznxjvv\" rel=\"noopener noreferrer\" target=\"_blank\" title=\"Kartikeya K.\"><h2 class=\"title-nano clearfix card__title⤍FreelancerCard⤚1nnjn\">Kartikeya K.</h2></a>,\n",
       " <a class=\"card__title-wrapper⤍FreelancerCard⤚2-NWk\" href=\"https://www.peopleperhour.com/freelancer/business/bogdan-anastasiei-data-analyst-zyzxxa\" rel=\"noopener noreferrer\" target=\"_blank\" title=\"Bogdan A.\"><h2 class=\"title-nano clearfix card__title⤍FreelancerCard⤚1nnjn\">Bogdan A.</h2></a>,\n",
       " <a class=\"card__title-wrapper⤍FreelancerCard⤚2-NWk\" href=\"https://www.peopleperhour.com/freelancer/technology-programming/isabelle-hull-statistician-researcher-xvzynqy\" rel=\"noopener noreferrer\" target=\"_blank\" title=\"Isabelle H.\"><h2 class=\"title-nano clearfix card__title⤍FreelancerCard⤚1nnjn\">Isabelle H.</h2></a>,\n",
       " <a class=\"card__title-wrapper⤍FreelancerCard⤚2-NWk\" href=\"https://www.peopleperhour.com/freelancer/technology-programming/martin-w-statistician-programmer-mnmxv\" rel=\"noopener noreferrer\" target=\"_blank\" title=\"Martin W.\"><h2 class=\"title-nano clearfix card__title⤍FreelancerCard⤚1nnjn\">Martin W.</h2></a>,\n",
       " <a class=\"card__title-wrapper⤍FreelancerCard⤚2-NWk\" href=\"https://www.peopleperhour.com/freelancer/writing-translation/edison-kadison-data-analyst-economist-yvvvyyz\" rel=\"noopener noreferrer\" target=\"_blank\" title=\"Edison K.\"><h2 class=\"title-nano clearfix card__title⤍FreelancerCard⤚1nnjn\">Edison K.</h2></a>,\n",
       " <a class=\"card__title-wrapper⤍FreelancerCard⤚2-NWk\" href=\"https://www.peopleperhour.com/freelancer/business/harsha-v-statistician-designer-visualizer-zvvajx\" rel=\"noopener noreferrer\" target=\"_blank\" title=\"Harsha V.\"><h2 class=\"title-nano clearfix card__title⤍FreelancerCard⤚1nnjn\">Harsha V.</h2></a>,\n",
       " <a class=\"card__title-wrapper⤍FreelancerCard⤚2-NWk\" href=\"https://www.peopleperhour.com/freelancer/business/robert-allen_turl-ms-office-specialist-yamyja\" rel=\"noopener noreferrer\" target=\"_blank\" title=\"Robert A.\"><h2 class=\"title-nano clearfix card__title⤍FreelancerCard⤚1nnjn\">Robert A.</h2></a>,\n",
       " <a class=\"card__title-wrapper⤍FreelancerCard⤚2-NWk\" href=\"https://www.peopleperhour.com/freelancer/writing-translation/teddy-kariuki-research-writing-statistics-yjjqjma\" rel=\"noopener noreferrer\" target=\"_blank\" title=\"TEDDY K.\"><h2 class=\"title-nano clearfix card__title⤍FreelancerCard⤚1nnjn\">TEDDY K.</h2></a>,\n",
       " <a class=\"card__title-wrapper⤍FreelancerCard⤚2-NWk\" href=\"https://www.peopleperhour.com/freelancer/business/www_milestoneanalytics_com-du-vba-developer-data-analyst-jqajnj\" rel=\"noopener noreferrer\" target=\"_blank\" title=\"www.MilestoneAnalytics.com\"><h2 class=\"title-nano clearfix card__title⤍FreelancerCard⤚1nnjn\">www.MilestoneAnalytics.com</h2></a>,\n",
       " <a class=\"card__title-wrapper⤍FreelancerCard⤚2-NWk\" href=\"https://www.peopleperhour.com/freelancer/business/peter-axtell-excel-and-google-sheets-developer-zxnvazq\" rel=\"noopener noreferrer\" target=\"_blank\" title=\"Peter A.\"><h2 class=\"title-nano clearfix card__title⤍FreelancerCard⤚1nnjn\">Peter A.</h2></a>,\n",
       " <a class=\"card__title-wrapper⤍FreelancerCard⤚2-NWk\" href=\"https://www.peopleperhour.com/freelancer/business/matthew-jackson-excel-expert-data-analyst-ynmyaay\" rel=\"noopener noreferrer\" target=\"_blank\" title=\"Matthew J.\"><h2 class=\"title-nano clearfix card__title⤍FreelancerCard⤚1nnjn\">Matthew J.</h2></a>,\n",
       " <a class=\"card__title-wrapper⤍FreelancerCard⤚2-NWk\" href=\"https://www.peopleperhour.com/freelancer/technology-programming/vibhanshu-lalit_prakash-pph-top-10-analytics-consultant-yvjwvyx\" rel=\"noopener noreferrer\" target=\"_blank\" title=\"Vibhanshu L.\"><h2 class=\"title-nano clearfix card__title⤍FreelancerCard⤚1nnjn\">Vibhanshu L.</h2></a>,\n",
       " <a class=\"card__title-wrapper⤍FreelancerCard⤚2-NWk\" href=\"https://www.peopleperhour.com/freelancer/technology-programming/partha_sarathi-top-pro-excel-word-powerpoint-vba-zywvvwx\" rel=\"noopener noreferrer\" target=\"_blank\" title=\"Partha Sarathi B.\"><h2 class=\"title-nano clearfix card__title⤍FreelancerCard⤚1nnjn\">Partha Sarathi B.</h2></a>,\n",
       " <a class=\"card__title-wrapper⤍FreelancerCard⤚2-NWk\" href=\"https://www.peopleperhour.com/freelancer/writing-translation/olivia-business-analyst-zmzxxm\" rel=\"noopener noreferrer\" target=\"_blank\" title=\"Olivia W.\"><h2 class=\"title-nano clearfix card__title⤍FreelancerCard⤚1nnjn\">Olivia W.</h2></a>]"
      ]
     },
     "execution_count": 7,
     "metadata": {},
     "output_type": "execute_result"
    }
   ],
   "source": [
    "html_cat = BeautifulSoup(str(html_1) + \"\\n<b>SEPARATOR\\n</b>\" + str(html_2))\n",
    "\n",
    "html_cat.find_all(\"a\", class_= \"card__title-wrapper⤍FreelancerCard⤚2-NWk\")"
   ]
  },
  {
   "cell_type": "code",
   "execution_count": 52,
   "id": "ca74f198-7afa-423e-977f-6302a526b46f",
   "metadata": {},
   "outputs": [
    {
     "name": "stdout",
     "output_type": "stream",
     "text": [
      "invalid syntax (<string>, line 1)\n",
      "invalid syntax (<string>, line 1)\n"
     ]
    }
   ],
   "source": [
    "# If the job type is services in upwork the pages paremeter will refer to how many pages \n",
    "# will render at once while the other scrapers will render the spesfic spesfied page only.\n",
    "\n",
    "for i in count(0):\n",
    "\n",
    "    page = i + 1\n",
    "    lines = [f'peopleperhour_html: str = peopleperhour_scraper({page}, fivver_data_jobs_titles[4], \"hire-freelancers\")',\n",
    "             f'freelancer_html: str = freelancer_scraper({page}, fivver_data_jobs_titles[4], \"users\")']\n",
    "\n",
    "    if page > 3:\n",
    "        break\n",
    "\n",
    "    for line_idx, line in enumerate(lines):\n",
    "        \n",
    "        try:\n",
    "            if i == 0:\n",
    "                exec(line)\n",
    "\n",
    "            else:\n",
    "               exec(f\"{line[:line.find('=')]} = str({line}.body) + str({line[line.find('='):]}.body)\")\n",
    "\n",
    "        except Exception as e:\n",
    "            \n",
    "            print(e)\n",
    "            del lines[line_idx]\n",
    "    \n",
    "            if len(lines) - 1 < 0:\n",
    "    \n",
    "                print(\"Finished ...\")\n",
    "                break\n",
    "    \n",
    "            continue"
   ]
  },
  {
   "cell_type": "code",
   "execution_count": 51,
   "id": "8a059167-7975-4654-8aca-bf61283a6d93",
   "metadata": {},
   "outputs": [
    {
     "data": {
      "text/plain": [
       "[<a class=\"card__title-wrapper⤍FreelancerCard⤚2-NWk\" href=\"https://www.peopleperhour.com/freelancer/business/adrian-imanuel-excel-expert-data-analysis-zzjvqny\" rel=\"noopener noreferrer\" target=\"_blank\" title=\"Adrian I.\"><h2 class=\"title-nano clearfix card__title⤍FreelancerCard⤚1nnjn\">Adrian I.</h2></a>,\n",
       " <a class=\"card__title-wrapper⤍FreelancerCard⤚2-NWk\" href=\"https://www.peopleperhour.com/freelancer/business/islam-abbas-excel-access-vba-google-sheets-zvvnvjx\" rel=\"noopener noreferrer\" target=\"_blank\" title=\"Islam A.\"><h2 class=\"title-nano clearfix card__title⤍FreelancerCard⤚1nnjn\">Islam A.</h2></a>,\n",
       " <a class=\"card__title-wrapper⤍FreelancerCard⤚2-NWk\" href=\"https://www.peopleperhour.com/freelancer/business/andrew-dove-excel-developer-and-vba-programmer-yqvqyvq\" rel=\"noopener noreferrer\" target=\"_blank\" title=\"Andrew D.\"><h2 class=\"title-nano clearfix card__title⤍FreelancerCard⤚1nnjn\">Andrew D.</h2></a>,\n",
       " <a class=\"card__title-wrapper⤍FreelancerCard⤚2-NWk\" href=\"https://www.peopleperhour.com/freelancer/business/sam-wenham-senior-economist-xvmzzy\" rel=\"noopener noreferrer\" target=\"_blank\" title=\"Sam W.\"><h2 class=\"title-nano clearfix card__title⤍FreelancerCard⤚1nnjn\">Sam W.</h2></a>,\n",
       " <a class=\"card__title-wrapper⤍FreelancerCard⤚2-NWk\" href=\"https://www.peopleperhour.com/freelancer/design/nasser-sabah-scientific-researcher-data-analyst-xayzvnx\" rel=\"noopener noreferrer\" target=\"_blank\" title=\"Nasser S.\"><h2 class=\"title-nano clearfix card__title⤍FreelancerCard⤚1nnjn\">Nasser S.</h2></a>,\n",
       " <a class=\"card__title-wrapper⤍FreelancerCard⤚2-NWk\" href=\"https://www.peopleperhour.com/freelancer/business/obidence-ncube-quantitative-analyst-vyjmyna\" rel=\"noopener noreferrer\" target=\"_blank\" title=\"Obidence N.\"><h2 class=\"title-nano clearfix card__title⤍FreelancerCard⤚1nnjn\">Obidence N.</h2></a>,\n",
       " <a class=\"card__title-wrapper⤍FreelancerCard⤚2-NWk\" href=\"https://www.peopleperhour.com/freelancer/technology-programming/md_rana-mahmud-machine-learning-engineer-data-zwyaqzx\" rel=\"noopener noreferrer\" target=\"_blank\" title=\"Md. Rana M.\"><h2 class=\"title-nano clearfix card__title⤍FreelancerCard⤚1nnjn\">Md. Rana M.</h2></a>,\n",
       " <a class=\"card__title-wrapper⤍FreelancerCard⤚2-NWk\" href=\"https://www.peopleperhour.com/freelancer/technology-programming/mulisana-data-analyst-qqzzzzw\" rel=\"noopener noreferrer\" target=\"_blank\" title=\"Mulisana G.\"><h2 class=\"title-nano clearfix card__title⤍FreelancerCard⤚1nnjn\">Mulisana G.</h2></a>,\n",
       " <a class=\"card__title-wrapper⤍FreelancerCard⤚2-NWk\" href=\"https://www.peopleperhour.com/freelancer/business/jill-mambetova-data-scientist-and-business-zqyzyn\" rel=\"noopener noreferrer\" target=\"_blank\" title=\"Jill M.\"><h2 class=\"title-nano clearfix card__title⤍FreelancerCard⤚1nnjn\">Jill M.</h2></a>,\n",
       " <a class=\"card__title-wrapper⤍FreelancerCard⤚2-NWk\" href=\"https://www.peopleperhour.com/freelancer/writing-translation/dr_kate-spiegelhalter-data-analytics-and-interpretation-zqxwqjx\" rel=\"noopener noreferrer\" target=\"_blank\" title=\"Dr Kate S.\"><h2 class=\"title-nano clearfix card__title⤍FreelancerCard⤚1nnjn\">Dr Kate S.</h2></a>,\n",
       " <a class=\"card__title-wrapper⤍FreelancerCard⤚2-NWk\" href=\"https://www.peopleperhour.com/freelancer/business/belake_research_ltd-long-managing-director-belake-research-znwvaj\" rel=\"noopener noreferrer\" target=\"_blank\" title=\"Belake Research Ltd\"><h2 class=\"title-nano clearfix card__title⤍FreelancerCard⤚1nnjn\">Belake Research Ltd</h2></a>,\n",
       " <a class=\"card__title-wrapper⤍FreelancerCard⤚2-NWk\" href=\"https://www.peopleperhour.com/freelancer/business/md_ariful-islam-data-modeling-in-excel-power-bi-znvwjzv\" rel=\"noopener noreferrer\" target=\"_blank\" title=\"Md. Ariful I.\"><h2 class=\"title-nano clearfix card__title⤍FreelancerCard⤚1nnjn\">Md. Ariful I.</h2></a>,\n",
       " <a class=\"card__title-wrapper⤍FreelancerCard⤚2-NWk\" href=\"https://www.peopleperhour.com/freelancer/business/lynda-research-analysis-and-writing-zxxaym\" rel=\"noopener noreferrer\" target=\"_blank\" title=\"Lynda J.\"><h2 class=\"title-nano clearfix card__title⤍FreelancerCard⤚1nnjn\">Lynda J.</h2></a>,\n",
       " <a class=\"card__title-wrapper⤍FreelancerCard⤚2-NWk\" href=\"https://www.peopleperhour.com/freelancer/technology-programming/scientia-silva-data-scientist-and-economist-yqmnzja\" rel=\"noopener noreferrer\" target=\"_blank\" title=\"Scientia\"><h2 class=\"title-nano clearfix card__title⤍FreelancerCard⤚1nnjn\">Scientia</h2></a>,\n",
       " <a class=\"card__title-wrapper⤍FreelancerCard⤚2-NWk\" href=\"https://www.peopleperhour.com/freelancer/technology-programming/ioannis-zikos-data-scientist-xwnvzmv\" rel=\"noopener noreferrer\" target=\"_blank\" title=\"Ioannis Z.\"><h2 class=\"title-nano clearfix card__title⤍FreelancerCard⤚1nnjn\">Ioannis Z.</h2></a>,\n",
       " <a class=\"card__title-wrapper⤍FreelancerCard⤚2-NWk\" href=\"https://www.peopleperhour.com/freelancer/design/gulnaz-zafar-business-plan-writer-researcher-xznvvvq\" rel=\"noopener noreferrer\" target=\"_blank\" title=\"Gulnaz Z.\"><h2 class=\"title-nano clearfix card__title⤍FreelancerCard⤚1nnjn\">Gulnaz Z.</h2></a>,\n",
       " <a class=\"card__title-wrapper⤍FreelancerCard⤚2-NWk\" href=\"https://www.peopleperhour.com/freelancer/technology-programming/vijay-agravat-data-analysis-data-visualization-xjmyzyj\" rel=\"noopener noreferrer\" target=\"_blank\" title=\"Vijay A.\"><h2 class=\"title-nano clearfix card__title⤍FreelancerCard⤚1nnjn\">Vijay A.</h2></a>,\n",
       " <a class=\"card__title-wrapper⤍FreelancerCard⤚2-NWk\" href=\"https://www.peopleperhour.com/freelancer/technology-programming/bhuwanesh-tripathi-python-data-science-machine-xzmzjvj\" rel=\"noopener noreferrer\" target=\"_blank\" title=\"Bhuwanesh T.\"><h2 class=\"title-nano clearfix card__title⤍FreelancerCard⤚1nnjn\">Bhuwanesh T.</h2></a>,\n",
       " <a class=\"card__title-wrapper⤍FreelancerCard⤚2-NWk\" href=\"https://www.peopleperhour.com/freelancer/technology-programming/vsio_applied_analytics_ltd-robinson-machine-learning-computer-science-qqzvqjy\" rel=\"noopener noreferrer\" target=\"_blank\" title=\" Vsio applied analytics Ltd\"><h2 class=\"title-nano clearfix card__title⤍FreelancerCard⤚1nnjn\"> Vsio applied analytics Ltd</h2></a>,\n",
       " <a class=\"card__title-wrapper⤍FreelancerCard⤚2-NWk\" href=\"https://www.peopleperhour.com/freelancer/technology-programming/jean_victor-kwizera-research-and-data-analyst-qmjxnxv\" rel=\"noopener noreferrer\" target=\"_blank\" title=\"Jean Victor K.\"><h2 class=\"title-nano clearfix card__title⤍FreelancerCard⤚1nnjn\">Jean Victor K.</h2></a>,\n",
       " <a class=\"card__title-wrapper⤍FreelancerCard⤚2-NWk\" href=\"https://www.peopleperhour.com/freelancer/technology-programming/mike-shemko-data-scientist-data-wrangler-wqqwywa\" rel=\"noopener noreferrer\" target=\"_blank\" title=\"Mike S.\"><h2 class=\"title-nano clearfix card__title⤍FreelancerCard⤚1nnjn\">Mike S.</h2></a>,\n",
       " <a class=\"card__title-wrapper⤍FreelancerCard⤚2-NWk\" href=\"https://www.peopleperhour.com/freelancer/technology-programming/hannah-bell-excel-vba-project-management-data-qanmymv\" rel=\"noopener noreferrer\" target=\"_blank\" title=\"Hannah B.\"><h2 class=\"title-nano clearfix card__title⤍FreelancerCard⤚1nnjn\">Hannah B.</h2></a>,\n",
       " <a class=\"card__title-wrapper⤍FreelancerCard⤚2-NWk\" href=\"https://www.peopleperhour.com/freelancer/business/karin-bosveld-social-researcher-economist-zxnaazw\" rel=\"noopener noreferrer\" target=\"_blank\" title=\"Karin B.\"><h2 class=\"title-nano clearfix card__title⤍FreelancerCard⤚1nnjn\">Karin B.</h2></a>,\n",
       " <a class=\"card__title-wrapper⤍FreelancerCard⤚2-NWk\" href=\"https://www.peopleperhour.com/freelancer/marketing-seo/craig-syms-statistician-data-analyst-and-yzqjajy\" rel=\"noopener noreferrer\" target=\"_blank\" title=\"Craig S.\"><h2 class=\"title-nano clearfix card__title⤍FreelancerCard⤚1nnjn\">Craig S.</h2></a>]"
      ]
     },
     "execution_count": 51,
     "metadata": {},
     "output_type": "execute_result"
    }
   ],
   "source": [
    "peopleperhour_html.find_all(\"a\", class_= \"card__title-wrapper⤍FreelancerCard⤚2-NWk\")"
   ]
  },
  {
   "cell_type": "markdown",
   "id": "994cfd62-4513-4cd0-bea7-40c4638debc0",
   "metadata": {},
   "source": [
    "## <center><strong>Extracting jobs <span style = \"color: #4895e0\"> Links</span>"
   ]
  },
  {
   "cell_type": "code",
   "execution_count": 7,
   "id": "69053b64-427f-4286-b1f4-dd5d1db4ce57",
   "metadata": {},
   "outputs": [],
   "source": [
    "test_pages = [upwork_html,\n",
    "             fivver_html,\n",
    "             guru_html,\n",
    "             peopleperhour_html,\n",
    "             freelancer_html]\n",
    "\n",
    "soups = {\"soup_name\": [],\n",
    "         \"soup_url\": [],\n",
    "         \"soup\": []}\n",
    "\n",
    "for page in test_pages:\n",
    "\n",
    "    soup = BeautifulSoup(page)\n",
    "\n",
    "    soups[\"soup\"].append(soup)\n",
    "    soups[\"soup_name\"].append(get_variable_name(page).replace(\"html\",\n",
    "                                                              \"soup\"))\n",
    "    \n",
    "    soups[\"soup_url\"].append(eval(get_variable_name(page)[:-5] + \"_url\"))"
   ]
  },
  {
   "cell_type": "code",
   "execution_count": 8,
   "id": "0d7ce831-bd81-4a23-b771-30457a6a1388",
   "metadata": {
    "scrolled": true
   },
   "outputs": [
    {
     "name": "stdout",
     "output_type": "stream",
     "text": [
      "Printing the title of each page to check if it's loaded correctly.\n",
      "\n",
      "-\t Freelance Data-analytics Jobs - Upwork\n",
      "-\t Data Analytics Services Online | Fiverr\n",
      "-\t Machine Learning Freelance Jobs Online - Guru\n",
      "-\t Get Data Analytics Offers & Services | PeoplePerHour\n",
      "-\t Users Jobs, Employment | Freelancer\n"
     ]
    }
   ],
   "source": [
    "print(\"Printing the title of each page to check if it's loaded correctly.\\n\")\n",
    "\n",
    "for soup in soups[\"soup\"]:\n",
    "    print(\"-\\t\", soup.title.text.replace(\"\\n\", \"\").replace(\"\\t\", \"\"))\n",
    "\n",
    "soups = pd.DataFrame(soups)"
   ]
  },
  {
   "cell_type": "markdown",
   "id": "db860af4-9005-4f07-8bfa-cab4cdb3aa87",
   "metadata": {},
   "source": [
    "Looks like everything is working as expected now let's start reel work by extracting the HTML tags data from the scraped<br>\n",
    "pages.<br> <br>"
   ]
  },
  {
   "cell_type": "markdown",
   "id": "36ac5af7-1f3f-44a7-b93b-778e70096067",
   "metadata": {},
   "source": [
    "But we will need to collect the data from each one of those pages with unique way further more we need to optimize the<br>\n",
    "data extractor to collect the data from other pages from the same site like \"jobs\" site and \"profiles\" sites on upwork.<br>"
   ]
  },
  {
   "cell_type": "code",
   "execution_count": 53,
   "id": "1daedfc1-75bc-45e0-9045-43107fac0999",
   "metadata": {},
   "outputs": [
    {
     "data": {
      "text/plain": [
       "[]"
      ]
     },
     "execution_count": 53,
     "metadata": {},
     "output_type": "execute_result"
    }
   ],
   "source": [
    "soups[soups[\"soup_name\"] == 'peopleperhour_soup'][\"soup\"].values[0].find_all(\"a\", attrs= {\"class\": \"card__title-wrapper⤍FreelancerCard⤚2-NWk\"})"
   ]
  },
  {
   "cell_type": "code",
   "execution_count": 67,
   "id": "3dfb3b7e-ed6c-49db-a27b-05e963d689ea",
   "metadata": {},
   "outputs": [],
   "source": [
    "def get_cards_links(soup_name, tag, link_template,\n",
    "                    link_attr, tag_class, attr= \"class\") -> list:\n",
    "\n",
    "    soup = soups[soups[\"soup_name\"] == soup_name][\"soup\"].values[0]\n",
    "                        \n",
    "    cards = soup.find_all(tag, attrs= {attr: tag_class})\n",
    "    cards_ids = []\n",
    "\n",
    "    if link_attr != \"\":\n",
    "\n",
    "        for card in cards:\n",
    "\n",
    "            card_id = link_template.replace(\"###\", card[link_attr])\n",
    "\n",
    "            if len(card_id) > len(link_template):\n",
    "                cards_ids.append(card_id)\n",
    "\n",
    "        return  cards_ids\n",
    "        \n",
    "    else:\n",
    "        return  cards"
   ]
  },
  {
   "cell_type": "code",
   "execution_count": 85,
   "id": "710987e9-6eb6-47cd-a8ec-8d1777445501",
   "metadata": {},
   "outputs": [],
   "source": [
    "# We can't collect guru data this wat becuase it has slightly deffrint case in terms\n",
    "# of collecting the jobs URLs\n",
    "\n",
    "## --------------------------Upwork--------------------------\n",
    "upwork_gigs_links = get_cards_links('upwork_soup', 'a', 'https://upwork.com###', 'href',\n",
    "                                        'up-n-link project-tile up-card m-0 p-0 up-card-section up-card-hover project-tile_flexible')\n",
    "\n",
    "upwork_profiles_links = get_cards_links('upwork_soup', 'div', 'https://www.upwork.com/search/profiles/?profile=###', 'data-test-key',\n",
    "                                         'up-card-section up-card-hover')\n",
    "\n",
    "upwork_jobs_parents = get_cards_links('upwork_soup', 'h3', 'https://www.upwork.com###', '', 'my-0 p-sm-right job-tile-title')\n",
    "upwork_jobs_links = []\n",
    "\n",
    "for parent in upwork_jobs_parents:\n",
    "    upwork_jobs_links.append(\"https://www.upwork.com\" + parent.find('a', class_= \"up-n-link\")['href'])\n",
    "## ----------------------------------------------------------\n",
    "\n",
    "\n",
    "## --------------------------Fivver--------------------------\n",
    "fivver_gigs_links = get_cards_links('fivver_soup', 'a', 'https://www.fiverr.com###', 'href', 'tbody-5 p-t-4 YLycza2 u9KHmsf')\n",
    "## ----------------------------------------------------------\n",
    "\n",
    "\n",
    "## ---------------------People per hour----------------------\n",
    "pph_services_links = get_cards_links(\"peopleperhour_soup\", \"a\", \"https://www.peopleperhour.com###\", \"href\", \n",
    "                                     \"card__title-wrapper⤍FreelancerCard⤚2-NWk\")\n",
    "\n",
    "pph_freelancers_links = get_cards_links(\"peopleperhour_soup\", \"a\", \"https://www.peopleperhour.com###\", \"href\",\n",
    "                                        \"card__title-wrapper⤍FreelancerCard⤚2-NWk\")\n",
    "\n",
    "pph_jobs_links = get_cards_links(\"peopleperhour_soup\", \"a\", \"https://www.peopleperhour.com###\", \"href\",\n",
    "                                 \"item__url⤍ListItem⤚20ULx\")\n",
    "## ----------------------------------------------------------\n",
    "\n",
    "\n",
    "## ------------------------Guru------------------------------\n",
    "guru_cards_parents_profiles = get_cards_links(\"guru_soup\", \"h2\", \"https://guru.com###\", \"\",\n",
    "                                              \"jobRecord__title jobRecord__title--changeVisited\")\n",
    "\n",
    "guru_cards_parents_jobs = get_cards_links(\"guru_soup\", \"h2\", \"https://guru.com###\", \"\",\n",
    "                                          \"jobRecord__title jobRecord__title--changeVisited\")\n",
    "## ----------------------------------------------------------\n",
    "\n",
    "\n",
    "## ----------------------Freelancer---------------------------\n",
    "freelancer_jobs_links = get_cards_links(\"freelancer_soup\", \"a\", \"https://www.freelancer.com###\", \"href\",\n",
    "                                        \"LinkElement ng-star-inserted\")\n",
    "\n",
    "freelancer_freelancers_links = get_cards_links(\"freelancer_soup\", \"a\", \"https://www.freelancer.com###\", \"href\",\n",
    "                                              \"LinkElement ng-star-inserted\")"
   ]
  },
  {
   "cell_type": "code",
   "execution_count": 91,
   "id": "04a0cdb0-c6ac-426d-a893-ce8897ccbc27",
   "metadata": {},
   "outputs": [
    {
     "data": {
      "text/plain": [
       "[]"
      ]
     },
     "execution_count": 91,
     "metadata": {},
     "output_type": "execute_result"
    }
   ],
   "source": [
    "freelancer_freelancers_links"
   ]
  },
  {
   "cell_type": "code",
   "execution_count": null,
   "id": "ba1caa82-9049-40af-9248-5a6dcf4d404f",
   "metadata": {},
   "outputs": [],
   "source": [
    "def get_upwork_links(job_type: str) -> list:  \n",
    "\n",
    "    card_tag = \"a\"\n",
    "    link_template = \"https://www.upwork.com###\"\n",
    "    link_attr = \"href\"\n",
    "\n",
    "    if job_type == \"profiles\":\n",
    "\n",
    "        card_tag = \"div\"\n",
    "        card_tag_class = \"up-card-section up-card-hover\"\n",
    "        link_template = \"https://www.upwork.com/search/profiles/?q=profiles&profile=###\"\n",
    "        link_attr = \"data-test-key\"\n",
    "    \n",
    "    elif job_type == \"jobs\":\n",
    "        card_tag_class = \"up-n-link\"\n",
    "\n",
    "\n",
    "    elif job_type == \"services\":\n",
    "        card_tag_class = \"up-n-link project-tile up-card m-0 p-0 up-card-section up-card-hover project-tile_flexible\"\n",
    "\n",
    "    else:\n",
    "        raise Exception(\"Please input correct work type from ['profiles', 'jobs', 'services'].\")\n",
    "\n",
    "\n",
    "    soup = soups[soups[\"soup_name\"] == \"upwork_soup\"][\"soup\"][0]\n",
    "\n",
    "    cards = soup.find_all(card_tag, class_= card_tag_class)\n",
    "    cards_ids = []\n",
    "\n",
    "    for card in cards:\n",
    "        \n",
    "        card_id = link_template.replace(\"###\", card[link_attr])\n",
    "        \n",
    "        if len(card_id) > len(link_template):\n",
    "            cards_ids.append(card_id)\n",
    "\n",
    "    return  cards_ids\n",
    "\n",
    "\n",
    "def get_fivver_links() -> list:\n",
    "\n",
    "    card_tag = \"div\"\n",
    "    card_tag_class = \"basic-gig-card\"\n",
    "    link_template = \"https://www.fiverr.com###\"\n",
    "    link_attr = \"href\"\n",
    "\n",
    "    cards = soup.find_all(card_tag, class_= card_tag_class)\n",
    "    cards_ids = []\n",
    "    \n",
    "    for card in cards:\n",
    "        \n",
    "        card_id = link_template.replace(\"###\", card[link_attr])\n",
    "        \n",
    "        if len(card_id) > len(link_template):\n",
    "            cards_ids.append(card_id)\n",
    "\n",
    "    return  cards_ids"
   ]
  },
  {
   "cell_type": "code",
   "execution_count": null,
   "id": "6cd43e36-f897-4eed-80e9-5f34a33b2283",
   "metadata": {},
   "outputs": [],
   "source": []
  },
  {
   "cell_type": "code",
   "execution_count": null,
   "id": "7a8189c7-4417-4b58-82f6-e1b634d4aa3f",
   "metadata": {},
   "outputs": [],
   "source": [
    "def get_guru_links(job_type: str) -> list:  \n",
    "\n",
    "    soup = soups[soups[\"soup_name\"] == \"guru_soup\"][\"soup\"][2]\n",
    "    link_template = \"https://www.guru.com###\"\n",
    "\n",
    "    if job_type == \"freelancers\":\n",
    "        cards_parents = soup.find_all(\n",
    "            'h2', class_= 'serviceListing__title serviceListing__title--dark')\n",
    "\n",
    "        cards = []\n",
    "\n",
    "        for parent in cards_parents:\n",
    "            card = parent.find('a')\n",
    "            cards.append(card)\n",
    "\n",
    "    elif job_type == \"jobs\":\n",
    "        cards_parents = soup.find_all(\n",
    "            'h2', class_ = 'jobRecord__title jobRecord__title--changeVisited')\n",
    "\n",
    "        cards = []\n",
    "\n",
    "        for parent in cards_parents:\n",
    "            card = parent.find('a')\n",
    "            cards.append(card)\n",
    "\n",
    "    cards_ids = []\n",
    "\n",
    "    for card in cards:\n",
    "        card_id = link_template.replace(\"###\", card['href'])\n",
    "        cards_ids.append(card_id)\n",
    "\n",
    "    return  cards_ids"
   ]
  },
  {
   "cell_type": "code",
   "execution_count": null,
   "id": "d8e58f11-9b8e-4ee0-bf80-8405af334fdf",
   "metadata": {},
   "outputs": [],
   "source": [
    "get_guru_links('jobs')"
   ]
  },
  {
   "cell_type": "code",
   "execution_count": null,
   "id": "dbbd419a-7ce6-4b9f-a30b-43b66e59de47",
   "metadata": {},
   "outputs": [],
   "source": []
  }
 ],
 "metadata": {
  "kernelspec": {
   "display_name": "Python 3 (ipykernel)",
   "language": "python",
   "name": "python3"
  },
  "language_info": {
   "codemirror_mode": {
    "name": "ipython",
    "version": 3
   },
   "file_extension": ".py",
   "mimetype": "text/x-python",
   "name": "python",
   "nbconvert_exporter": "python",
   "pygments_lexer": "ipython3",
   "version": "3.9.16"
  }
 },
 "nbformat": 4,
 "nbformat_minor": 5
}
