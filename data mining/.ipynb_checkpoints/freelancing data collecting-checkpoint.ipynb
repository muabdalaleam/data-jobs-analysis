{
 "cells": [
  {
   "cell_type": "markdown",
   "id": "2d87eb4b-c943-4562-866b-7c2dd151f3c6",
   "metadata": {
    "jp-MarkdownHeadingCollapsed": true
   },
   "source": [
    "## <center><strong>Notebook<span style= \"color: #51FCC6\"> Describtion"
   ]
  },
  {
   "cell_type": "markdown",
   "id": "5753d54c-1fd0-441c-b663-98ca78298128",
   "metadata": {},
   "source": []
  },
  {
   "cell_type": "markdown",
   "id": "e59118b7-50cf-4738-8e35-cd9de6b6e46c",
   "metadata": {},
   "source": []
  },
  {
   "cell_type": "markdown",
   "id": "b08419ad-46bc-42a6-a678-356c38c435fe",
   "metadata": {},
   "source": [
    "## <center><strong>Importing<span style= \"color: #48E0DC\"> Packeges"
   ]
  },
  {
   "cell_type": "code",
   "execution_count": 1,
   "id": "dfca499a-0b6e-42a6-9901-a25b403a1dbe",
   "metadata": {},
   "outputs": [],
   "source": [
    "import time\n",
    "import sqlite3\n",
    "import requests\n",
    "import numpy as np\n",
    "import pandas as pd\n",
    "import seaborn as sns\n",
    "from bs4 import BeautifulSoup\n",
    "from selenium import webdriver\n",
    "import matplotlib.pyplot as plt\n",
    "from IPython.display import set_matplotlib_formats"
   ]
  },
  {
   "cell_type": "code",
   "execution_count": 2,
   "id": "837b8e77-3b20-4c92-8619-434de6cedf05",
   "metadata": {},
   "outputs": [
    {
     "name": "stderr",
     "output_type": "stream",
     "text": [
      "C:\\Users\\FreeComp\\AppData\\Local\\Temp\\ipykernel_2512\\3456799740.py:8: DeprecationWarning: `set_matplotlib_formats` is deprecated since IPython 7.23, directly use `matplotlib_inline.backend_inline.set_matplotlib_formats()`\n",
      "  set_matplotlib_formats('pdf', 'svg')\n"
     ]
    }
   ],
   "source": [
    "COLORS = [\"#51fcc6\", \"#48e0dc\", \"#5cd3f7\", \"#4895e0\", \"#517afc\"]\n",
    "\n",
    "%matplotlib inline\n",
    "\n",
    "NUMERICS = ['int16', 'int32', 'int64', 'float16', 'float32', 'float64',\n",
    "            'uint16', 'uint32', 'uint64']\n",
    "\n",
    "set_matplotlib_formats('pdf', 'svg')\n",
    "# pyo.init_notebook_mode(connected= True)"
   ]
  },
  {
   "cell_type": "markdown",
   "id": "69d3e9fc-3746-4f76-be83-00f2b453be34",
   "metadata": {},
   "source": [
    "## <center><strong>Setting up the<span style= \"color: #5CD3F7\"> Web scrapers"
   ]
  },
  {
   "cell_type": "code",
   "execution_count": 3,
   "id": "bfd35b8e-8c12-4e99-8819-4c6e338c3951",
   "metadata": {},
   "outputs": [],
   "source": [
    "fivver_data_jobs_titles = [\"data-entry\", \"data-processing\", \"data-engineering\",\n",
    "                           \"data-science\", \"data-analytics\", \"data-visualization\"]\n",
    "\n",
    "guru_data_jobs_titles = [\"data-analytics\", \"machine-learning\", \"data-visualization\"]\n",
    "\n",
    "\n",
    "upwork_service_types = [\"profiles\", \"jobs\", \"services\"]\n",
    "guru_service_types = [\"freelancers\", \"jobs\"]\n",
    "\n",
    "\n",
    "def scrape_page(url: str) -> str:\n",
    "\n",
    "    driver = webdriver.Chrome()\n",
    "    driver.get(url)\n",
    "    html = driver.page_source\n",
    "\n",
    "    return  html"
   ]
  },
  {
   "cell_type": "code",
   "execution_count": 4,
   "id": "16ff1bdf-99da-46f6-ab1e-b41c542daaf2",
   "metadata": {},
   "outputs": [],
   "source": [
    "# The `type` param indicates what is the nature of the job is it hiring freelancers \n",
    "# or paying services or othr thing based on the platform.\n",
    "\n",
    "upwork_scraper = lambda page, job_title, type: scrape_page(\n",
    "    f\"https://www.upwork.com/search/{type}/?page={page}&q={job_title}&user_pref=1\")\n",
    "\n",
    "guru_scraper = lambda page, job_title, type : scrape_page(\n",
    "    f\"https://www.guru.com/d/{type}/c/programming-development/sc/math-algorithms-analytics/ssc/{job_title}/pg/{page}/\")\n",
    "\n",
    "fivver_scraper = lambda page, job_title : scrape_page(\n",
    "    f\"https://www.fiverr.com/categories/data/{job_title}?source=pagination&page={page}\")\n",
    "\n",
    "peopleperhour_scraper = lambda page, job_title : scrape_page(\n",
    "    f\"https://www.peopleperhour.com/services/{job_title.replace('-', '+')}?page={page}&ref=search\")\n",
    "\n",
    "# We will not analyze requested jobs data in freelancer.com becuase it's search feature \n",
    "# isn't accurate with the it.\n",
    "\n",
    "freelancer_scraper = lambda page, job_title : scrape_page(\n",
    "    f\"https://www.freelancer.com/search/users?q={job_title.replace('-', '%20')}&page={page}\")"
   ]
  },
  {
   "cell_type": "markdown",
   "id": "c788705f-2f61-4a5c-ad84-ea24f56bccdb",
   "metadata": {},
   "source": [
    "Now we will try to calclate how much did each scraper take to collect the data"
   ]
  },
  {
   "cell_type": "code",
   "execution_count": 5,
   "id": "a0141299-f023-4a63-8e8b-52320c0b3639",
   "metadata": {},
   "outputs": [],
   "source": [
    "get_variable_name = lambda var: [name for name in globals() if globals()[name] is var][0]\n",
    "\n",
    "def get_runtime(func, *args, **kwargs):\n",
    "\n",
    "    t1 = time.perf_counter()\n",
    "    output = func(*args, **kwargs)\n",
    "    t2 = time.perf_counter()\n",
    "\n",
    "    run_time = t2 - t1\n",
    "\n",
    "    print(\"{} took about {:.2f}s to run.\\n\".format(\n",
    "        get_variable_name(func).replace(\"_\", \" \").title(), run_time))\n",
    "\n",
    "    return  output"
   ]
  },
  {
   "cell_type": "markdown",
   "id": "1619ad86-0c3f-4288-a5cb-8b3591513b88",
   "metadata": {},
   "source": [
    "Now we will just try to scrape **only one page** from each scraper *(temporary action)* to just test the data extractors with<br>\n",
    "more efficient way."
   ]
  },
  {
   "cell_type": "code",
   "execution_count": 6,
   "id": "ca74f198-7afa-423e-977f-6302a526b46f",
   "metadata": {},
   "outputs": [
    {
     "name": "stdout",
     "output_type": "stream",
     "text": [
      "Upwork Scraper took about 24.30s to run.\n",
      "\n",
      "Guru Scraper took about 8.23s to run.\n",
      "\n",
      "Fivver Scraper took about 14.43s to run.\n",
      "\n",
      "Peopleperhour Scraper took about 8.53s to run.\n",
      "\n",
      "Freelancer Scraper took about 10.45s to run.\n",
      "\n"
     ]
    }
   ],
   "source": [
    "upwork_html: str = get_runtime(upwork_scraper,1 , fivver_data_jobs_titles[4], \"jobs\")\n",
    "guru_html: str = get_runtime(guru_scraper, 1, guru_data_jobs_titles[2], \"freelancers\")\n",
    "\n",
    "fivver_html: str = get_runtime(fivver_scraper, 1, fivver_data_jobs_titles[4])\n",
    "peopleperhour_html: str = get_runtime(peopleperhour_scraper, 1, fivver_data_jobs_titles[4])\n",
    "freelancer_html: str = get_runtime(freelancer_scraper, 1, fivver_data_jobs_titles[4])"
   ]
  },
  {
   "cell_type": "markdown",
   "id": "994cfd62-4513-4cd0-bea7-40c4638debc0",
   "metadata": {},
   "source": [
    "## <center><strong>Extracting the <span style = \"color: #4895e0\"> Scrapers </span> data"
   ]
  },
  {
   "cell_type": "markdown",
   "id": "6e1abf08-1282-4640-9896-71d007267572",
   "metadata": {},
   "source": [
    "Now we will use `beatiful soup` to collect the data from the tags becuase it's better in terms of speed than `selenuim`"
   ]
  },
  {
   "cell_type": "code",
   "execution_count": 9,
   "id": "69053b64-427f-4286-b1f4-dd5d1db4ce57",
   "metadata": {},
   "outputs": [],
   "source": [
    "test_pages = [upwork_html,\n",
    "             fivver_html,\n",
    "             guru_html,\n",
    "             peopleperhour_html,\n",
    "             freelancer_html]\n",
    "\n",
    "soups = {\"soup_name\": [],\n",
    "         \"soup\": []}\n",
    "\n",
    "for page in test_pages:\n",
    "\n",
    "    soup = BeautifulSoup(page)\n",
    "    \n",
    "    soups[\"soup\"].append(soup)\n",
    "    soups[\"soup_name\"].append(get_variable_name(page).replace(\"html\",\n",
    "                                                              \"soup\"))"
   ]
  },
  {
   "cell_type": "code",
   "execution_count": 10,
   "id": "0d7ce831-bd81-4a23-b771-30457a6a1388",
   "metadata": {
    "scrolled": true
   },
   "outputs": [
    {
     "name": "stdout",
     "output_type": "stream",
     "text": [
      "Printing the title of each page to check if it's loaded correctly.\n",
      "\n",
      "-\t Freelance Data-analytics Jobs - Upwork\n",
      "-\t Data Analytics Services Online | Fiverr\n",
      "-\t Find and Hire Freelancers for Data Visualization - Guru \n",
      "-\t Get Data Analytics Offers & Services | PeoplePerHour\n",
      "-\t Users Jobs, Employment | Freelancer\n"
     ]
    }
   ],
   "source": [
    "print(\"Printing the title of each page to check if it's loaded correctly.\\n\")\n",
    "\n",
    "for soup in soups[\"soup\"]:\n",
    "    print(\"-\\t\", soup.title.text.replace(\"\\n\", \"\").replace(\"\\t\", \"\"))"
   ]
  },
  {
   "cell_type": "markdown",
   "id": "db860af4-9005-4f07-8bfa-cab4cdb3aa87",
   "metadata": {},
   "source": [
    "Looks like everything is working as expected now let's start reel work by extracting the HTML tags data from the scraped<br>\n",
    "pages.<br> <br>"
   ]
  },
  {
   "cell_type": "markdown",
   "id": "36ac5af7-1f3f-44a7-b93b-778e70096067",
   "metadata": {},
   "source": [
    "But we will need to collect the data from each one of those pages with unique way further more we need to optimize the<br>\n",
    "data extractor to collect the data from other pages from the same site like \"jobs\" site and \"profiles\" sites on upwork.<br>"
   ]
  },
  {
   "cell_type": "code",
   "execution_count": 39,
   "id": "8be83e51-fc28-41db-a0ff-9f49ad1be525",
   "metadata": {},
   "outputs": [],
   "source": [
    "soups = pd.DataFrame(soups)"
   ]
  },
  {
   "cell_type": "code",
   "execution_count": 40,
   "id": "40fb3281-d228-4dcf-8f28-c89609edc8ed",
   "metadata": {},
   "outputs": [
    {
     "data": {
      "text/plain": [
       "bs4.BeautifulSoup"
      ]
     },
     "execution_count": 40,
     "metadata": {},
     "output_type": "execute_result"
    }
   ],
   "source": [
    "type(soups[soups[\"soup_name\"] == \"upwork_soup\"][\"soup\"][0])"
   ]
  },
  {
   "cell_type": "code",
   "execution_count": 41,
   "id": "6de33b52-5b24-4bef-815e-164a6fb23e23",
   "metadata": {},
   "outputs": [
    {
     "data": {
      "text/plain": [
       "0           upwork_soup\n",
       "1           fivver_soup\n",
       "2             guru_soup\n",
       "3    peopleperhour_soup\n",
       "4       freelancer_soup\n",
       "Name: soup_name, dtype: object"
      ]
     },
     "execution_count": 41,
     "metadata": {},
     "output_type": "execute_result"
    }
   ],
   "source": [
    "soups[\"soup_name\"]"
   ]
  },
  {
   "cell_type": "code",
   "execution_count": 42,
   "id": "ba1caa82-9049-40af-9248-5a6dcf4d404f",
   "metadata": {},
   "outputs": [],
   "source": [
    "def get_upwork_links(soup_name, job_type: str) -> list:  \n",
    "\n",
    "    soup = soups[soups[\"soup_name\"] == soup_name][\"soup\"][0]\n",
    "    \n",
    "    cards = soup.find_all(\"div\", attrs = {\"class\": \"up-card-section up-card-hover\"})\n",
    "    cards_links = []\n",
    "\n",
    "    for card in cards:\n",
    "        cards_links.append(card)\n",
    "\n",
    "    return  cards_links"
   ]
  },
  {
   "cell_type": "code",
   "execution_count": 43,
   "id": "75a398b5-8c27-446c-8b27-5c23174e5221",
   "metadata": {},
   "outputs": [
    {
     "data": {
      "text/plain": [
       "[]"
      ]
     },
     "execution_count": 43,
     "metadata": {},
     "output_type": "execute_result"
    }
   ],
   "source": [
    "get_upwork_links(\"upwork_soup\", \"profiles\")"
   ]
  },
  {
   "cell_type": "code",
   "execution_count": 39,
   "id": "29c98f71-7d47-4119-9a58-d30a774673a2",
   "metadata": {},
   "outputs": [
    {
     "data": {
      "text/plain": [
       "dict_keys(['soup_name', 'soup'])"
      ]
     },
     "execution_count": 39,
     "metadata": {},
     "output_type": "execute_result"
    }
   ],
   "source": [
    "soups.keys()"
   ]
  },
  {
   "cell_type": "code",
   "execution_count": 45,
   "id": "c86726e1-e01c-44e2-bc88-30f567df2f86",
   "metadata": {},
   "outputs": [
    {
     "data": {
      "text/html": [
       "<div>\n",
       "<style scoped>\n",
       "    .dataframe tbody tr th:only-of-type {\n",
       "        vertical-align: middle;\n",
       "    }\n",
       "\n",
       "    .dataframe tbody tr th {\n",
       "        vertical-align: top;\n",
       "    }\n",
       "\n",
       "    .dataframe thead th {\n",
       "        text-align: right;\n",
       "    }\n",
       "</style>\n",
       "<table border=\"1\" class=\"dataframe\">\n",
       "  <thead>\n",
       "    <tr style=\"text-align: right;\">\n",
       "      <th></th>\n",
       "      <th>soup_name</th>\n",
       "      <th>soup</th>\n",
       "    </tr>\n",
       "  </thead>\n",
       "  <tbody>\n",
       "    <tr>\n",
       "      <th>0</th>\n",
       "      <td>upwork_soup</td>\n",
       "      <td>[[[&lt;script async=\"\" src=\"//static.ads-twitter....</td>\n",
       "    </tr>\n",
       "  </tbody>\n",
       "</table>\n",
       "</div>"
      ],
      "text/plain": [
       "     soup_name                                               soup\n",
       "0  upwork_soup  [[[<script async=\"\" src=\"//static.ads-twitter...."
      ]
     },
     "execution_count": 45,
     "metadata": {},
     "output_type": "execute_result"
    }
   ],
   "source": [
    "soups[soups[\"soup_name\"] == \"upwork_soup\"]"
   ]
  },
  {
   "cell_type": "code",
   "execution_count": null,
   "id": "191881e9-6591-4848-9817-c091f93db8b1",
   "metadata": {},
   "outputs": [],
   "source": []
  }
 ],
 "metadata": {
  "kernelspec": {
   "display_name": "Python 3 (ipykernel)",
   "language": "python",
   "name": "python3"
  },
  "language_info": {
   "codemirror_mode": {
    "name": "ipython",
    "version": 3
   },
   "file_extension": ".py",
   "mimetype": "text/x-python",
   "name": "python",
   "nbconvert_exporter": "python",
   "pygments_lexer": "ipython3",
   "version": "3.9.16"
  }
 },
 "nbformat": 4,
 "nbformat_minor": 5
}
