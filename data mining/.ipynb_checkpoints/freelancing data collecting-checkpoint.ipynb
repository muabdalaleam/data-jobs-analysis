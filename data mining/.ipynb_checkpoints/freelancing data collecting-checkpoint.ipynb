{
 "cells": [
  {
   "cell_type": "markdown",
   "id": "2d87eb4b-c943-4562-866b-7c2dd151f3c6",
   "metadata": {
    "jp-MarkdownHeadingCollapsed": true
   },
   "source": [
    "## <center><strong>Notebook<span style= \"color: #51FCC6\"> Describtion"
   ]
  },
  {
   "cell_type": "markdown",
   "id": "5753d54c-1fd0-441c-b663-98ca78298128",
   "metadata": {},
   "source": []
  },
  {
   "cell_type": "markdown",
   "id": "e59118b7-50cf-4738-8e35-cd9de6b6e46c",
   "metadata": {},
   "source": []
  },
  {
   "cell_type": "markdown",
   "id": "b08419ad-46bc-42a6-a678-356c38c435fe",
   "metadata": {},
   "source": [
    "## <center><strong>Importing<span style= \"color: #48E0DC\"> Packeges"
   ]
  },
  {
   "cell_type": "code",
   "execution_count": 1,
   "id": "dfca499a-0b6e-42a6-9901-a25b403a1dbe",
   "metadata": {},
   "outputs": [],
   "source": [
    "import time\n",
    "import sqlite3\n",
    "import warnings\n",
    "import requests\n",
    "import itertools\n",
    "import numpy as np\n",
    "import pandas as pd\n",
    "import seaborn as sns\n",
    "from itertools import count\n",
    "from bs4 import BeautifulSoup\n",
    "from selenium import webdriver\n",
    "import matplotlib.pyplot as plt\n",
    "from selenium.webdriver.common.by import By\n",
    "from IPython.display import set_matplotlib_formats\n",
    "from selenium.webdriver.support.ui import WebDriverWait\n",
    "from selenium.webdriver.support import expected_conditions as EC"
   ]
  },
  {
   "cell_type": "code",
   "execution_count": 2,
   "id": "837b8e77-3b20-4c92-8619-434de6cedf05",
   "metadata": {},
   "outputs": [
    {
     "name": "stderr",
     "output_type": "stream",
     "text": [
      "C:\\Users\\FreeComp\\AppData\\Local\\Temp\\ipykernel_9212\\2138414856.py:8: DeprecationWarning: `set_matplotlib_formats` is deprecated since IPython 7.23, directly use `matplotlib_inline.backend_inline.set_matplotlib_formats()`\n",
      "  set_matplotlib_formats('pdf', 'svg')\n"
     ]
    }
   ],
   "source": [
    "COLORS = [\"#51fcc6\", \"#48e0dc\", \"#5cd3f7\", \"#4895e0\", \"#517afc\"]\n",
    "\n",
    "%matplotlib inline\n",
    "\n",
    "NUMERICS = ['int16', 'int32', 'int64', 'float16', 'float32', 'float64',\n",
    "            'uint16', 'uint32', 'uint64']\n",
    "\n",
    "set_matplotlib_formats('pdf', 'svg')\n",
    "warnings.filterwarnings(\"ignore\")"
   ]
  },
  {
   "cell_type": "markdown",
   "id": "69d3e9fc-3746-4f76-be83-00f2b453be34",
   "metadata": {},
   "source": [
    "## <center><strong>Setting up the<span style= \"color: #5CD3F7\"> Web scrapers"
   ]
  },
  {
   "cell_type": "code",
   "execution_count": 3,
   "id": "bfd35b8e-8c12-4e99-8819-4c6e338c3951",
   "metadata": {},
   "outputs": [],
   "source": [
    "data_jobs_titles = [\"data-entry\", \"data-processing\", \"data-engineering\"]\n",
    "                    # \"data-science\", \"data-analytics\", \"data-visualization\"]\n",
    "\n",
    "upwork_types = [\"profiles\", \"jobs\", \"services\"]\n",
    "pph_types = [\"hire-freelancers\", \"freelance-jobs\", \"services\"]\n",
    "guru_service_types = [\"freelancers\", \"jobs\"]\n",
    "\n",
    "\n",
    "def scrape_page(url: str, retrieve_new_url= False) -> BeautifulSoup:\n",
    "    driver = webdriver.Chrome()\n",
    "    driver.get(url)\n",
    "    \n",
    "    wait = WebDriverWait(driver, 10)\n",
    "    \n",
    "    # Wait until the page is fully loaded\n",
    "    wait.until(EC.presence_of_element_located((By.TAG_NAME, 'body')))\n",
    "    \n",
    "    html = driver.page_source\n",
    "\n",
    "    if retrieve_new_url:\n",
    "        \n",
    "        new_url = driver\n",
    "        driver.quit()\n",
    "        \n",
    "        return BeautifulSoup(html), new_url\n",
    "        \n",
    "    driver.quit()\n",
    "\n",
    "    return BeautifulSoup(html)"
   ]
  },
  {
   "cell_type": "code",
   "execution_count": 14,
   "id": "3fa6b825-f67d-4cbb-aa66-8968c38f7338",
   "metadata": {},
   "outputs": [],
   "source": [
    "html = upwork_scraper(99999, \"data-analytics\", \"jobs\")"
   ]
  },
  {
   "cell_type": "code",
   "execution_count": 17,
   "id": "4d7cbd28-644a-4e11-a568-42c36ea9b359",
   "metadata": {},
   "outputs": [
    {
     "name": "stdout",
     "output_type": "stream",
     "text": [
      "None\n"
     ]
    }
   ],
   "source": [
    "print(html.find(\"button\", class_= \"up-pagination-item active\"))"
   ]
  },
  {
   "cell_type": "code",
   "execution_count": 12,
   "id": "3908558f-1fe9-4c88-af63-731658ee2217",
   "metadata": {},
   "outputs": [],
   "source": [
    "# The `type` param indicates what is the nature of the job is it hiring freelancers \n",
    "# or paying services or othr thing based on the platform.\n",
    "\n",
    "\n",
    "def upwork_scraper(page, job_title, type):\n",
    "\n",
    "    global upwork_url\n",
    "\n",
    "    if  type == 'services':\n",
    "\n",
    "        upwork_url =  f\"https://www.upwork.com/services/search?nbs=1&q={job_title}\"\n",
    "\n",
    "        driver = webdriver.Chrome()\n",
    "        driver.get(upwork_url)\n",
    "\n",
    "        if page > 1:\n",
    "            for i in range(page):\n",
    "\n",
    "                try:\n",
    "                    wait = WebDriverWait(driver, 10)\n",
    "                    element = wait.until(EC.element_to_be_clickable((By.CSS_SELECTOR, 'button.up-btn.up-btn-default.mx-0.load-more-btn.nuxt-link-active')))\n",
    "                    element.click()\n",
    "                    wait.until(EC.presence_of_element_located((By.TAG_NAME, 'body')))\n",
    "\n",
    "                except:\n",
    "                    raise  KeyError\n",
    "\n",
    "        html = driver.page_source\n",
    "        driver.quit()\n",
    "        \n",
    "        return  html\n",
    "\n",
    "    elif type == \"profiles\" or type == \"jobs\":\n",
    "        \n",
    "        upwork_url = f\"https://www.upwork.com/search/{type}/?page={page}&q={job_title}&user_pref=1\"\n",
    "        html, loaded_url = scrape_page(upwork_url, retrieve_new_url= True)\n",
    "\n",
    "        # The code below checks if there's any element that appeared in the page that indicates\n",
    "        # that the scraper exceed the maxx page.\n",
    "\n",
    "        if html.find(\"h2\", class_=\"mt-30 mb-20 text-muted\"):\n",
    "\n",
    "            # We are going to use the keyerror to indicate that the page param is more than the\n",
    "            # max possible page whitch we will use to control the other scrapers.\n",
    "            \n",
    "            raise  KeyError\n",
    "\n",
    "        elif loaded_page := html.find(\"button\", class_= \"up-pagination-item active\"):\n",
    "\n",
    "            print(loaded_page)\n",
    "            if int(loaded_page.find('span').text) < page:\n",
    "                raise  KeyError\n",
    "\n",
    "            else:\n",
    "                pass\n",
    "        \n",
    "        return html"
   ]
  },
  {
   "cell_type": "code",
   "execution_count": 27,
   "id": "4455f669-8563-4732-9974-6fa319d01e35",
   "metadata": {},
   "outputs": [
    {
     "ename": "ValueError",
     "evalue": "invalid literal for int() with base 10: ''",
     "output_type": "error",
     "traceback": [
      "\u001b[1;31m---------------------------------------------------------------------------\u001b[0m",
      "\u001b[1;31mValueError\u001b[0m                                Traceback (most recent call last)",
      "Cell \u001b[1;32mIn[27], line 3\u001b[0m\n\u001b[0;32m      1\u001b[0m html \u001b[38;5;241m=\u001b[39m scrape_page(\u001b[38;5;124m'\u001b[39m\u001b[38;5;124mhttps://www.peopleperhour.com/freelance-jobs/data+analytics?page=9999\u001b[39m\u001b[38;5;124m'\u001b[39m)\n\u001b[1;32m----> 3\u001b[0m [\u001b[38;5;28mint\u001b[39m(element\u001b[38;5;241m.\u001b[39mtext) \u001b[38;5;28;01mfor\u001b[39;00m element \u001b[38;5;129;01min\u001b[39;00m html\u001b[38;5;241m.\u001b[39mfind_all(\u001b[38;5;124m'\u001b[39m\u001b[38;5;124ma\u001b[39m\u001b[38;5;124m'\u001b[39m, class_\u001b[38;5;241m=\u001b[39m \u001b[38;5;124m'\u001b[39m\u001b[38;5;124mpagination__link⤍SimplePagination⤚1MYH2\u001b[39m\u001b[38;5;124m'\u001b[39m)]\n",
      "Cell \u001b[1;32mIn[27], line 3\u001b[0m, in \u001b[0;36m<listcomp>\u001b[1;34m(.0)\u001b[0m\n\u001b[0;32m      1\u001b[0m html \u001b[38;5;241m=\u001b[39m scrape_page(\u001b[38;5;124m'\u001b[39m\u001b[38;5;124mhttps://www.peopleperhour.com/freelance-jobs/data+analytics?page=9999\u001b[39m\u001b[38;5;124m'\u001b[39m)\n\u001b[1;32m----> 3\u001b[0m [\u001b[38;5;28;43mint\u001b[39;49m\u001b[43m(\u001b[49m\u001b[43melement\u001b[49m\u001b[38;5;241;43m.\u001b[39;49m\u001b[43mtext\u001b[49m\u001b[43m)\u001b[49m \u001b[38;5;28;01mfor\u001b[39;00m element \u001b[38;5;129;01min\u001b[39;00m html\u001b[38;5;241m.\u001b[39mfind_all(\u001b[38;5;124m'\u001b[39m\u001b[38;5;124ma\u001b[39m\u001b[38;5;124m'\u001b[39m, class_\u001b[38;5;241m=\u001b[39m \u001b[38;5;124m'\u001b[39m\u001b[38;5;124mpagination__link⤍SimplePagination⤚1MYH2\u001b[39m\u001b[38;5;124m'\u001b[39m)]\n",
      "\u001b[1;31mValueError\u001b[0m: invalid literal for int() with base 10: ''"
     ]
    }
   ],
   "source": [
    "html = scrape_page('https://www.peopleperhour.com/freelance-jobs/data+analytics?page=9999')\n",
    "\n",
    "[int(element.text) for element in html.find_all('a', class_= 'pagination__link⤍SimplePagination⤚1MYH2')]"
   ]
  },
  {
   "cell_type": "code",
   "execution_count": 21,
   "id": "16ff1bdf-99da-46f6-ab1e-b41c542daaf2",
   "metadata": {},
   "outputs": [],
   "source": [
    "def guru_scraper(page, job_title, type):\n",
    "\n",
    "    global guru_url\n",
    "    guru_url = f\"https://www.guru.com/d/{type}/skill/{job_title}/pg/{page}/\"\n",
    "    html = scrape_page(guru_url)\n",
    "\n",
    "    if len(html.find_all(\"div\", class_= \"record jobRecord\")) == 0:\n",
    "        raise  KeyError\n",
    "\n",
    "    return html\n",
    "\n",
    "\n",
    "def fivver_scraper(page, job_title):\n",
    "\n",
    "    global fivver_url\n",
    "    fivver_url = f\"https://www.fiverr.com/categories/data/{job_title}?source=pagination&page={page}\"\n",
    "    html = scrape_page(fivver_url)\n",
    "\n",
    "    if html.find(\"h3\", class_= \"title\"):\n",
    "        if \"Well, this isn't what you were looking for\" in html.find(\"h3\", class_= \"title\"):\n",
    "            raise  KeyError\n",
    "\n",
    "    return html\n",
    "\n",
    "\n",
    "def pph_scraper(page, job_title, type):\n",
    "\n",
    "    global peopleperhour_url\n",
    "\n",
    "    pph_url = f\"https://www.peopleperhour.com/{type}/{job_title.replace('-', '+')}?page={page}\"\n",
    "    html = scrape_page(pph_url)\n",
    "    \n",
    "    loaded_page = max([int(element.text) for element in html.find_all('a', class_= 'pagination__link⤍SimplePagination⤚1MYH2')])\n",
    "\n",
    "    if page != loaded_page:\n",
    "        raise  KeyError\n",
    "\n",
    "    return  html\n",
    "\n",
    "# For sorry we won't analyze freelancer.com freelancers profiles data becuase\n",
    "# freelancer.com search is awful so we will only search the jobs data.\n",
    "\n",
    "def freelancer_scraper(page, job_title):\n",
    "\n",
    "    global freelancer_url\n",
    "    freelancer_url = f\"https://www.freelancer.com/jobs/{page}/?search_keyword={job_title.replace('-', '+')}&results=100\"\n",
    "    html = scrape_page(freelancer_url)\n",
    "\n",
    "    if html.find(\"span\", attrs= {'id': 'total-results'}) == '0':\n",
    "        raise KeyError\n",
    "    \n",
    "    return html"
   ]
  },
  {
   "cell_type": "markdown",
   "id": "c788705f-2f61-4a5c-ad84-ea24f56bccdb",
   "metadata": {},
   "source": [
    "Now we will try to calculate how much did each scraper take to collect the data"
   ]
  },
  {
   "cell_type": "code",
   "execution_count": null,
   "id": "a0141299-f023-4a63-8e8b-52320c0b3639",
   "metadata": {},
   "outputs": [],
   "source": [
    "get_variable_name = lambda var: [name for name in globals() if globals()[name] is var][0]\n",
    "\n",
    "def get_runtime(func, *args, **kwargs):\n",
    "\n",
    "    t1 = time.perf_counter()\n",
    "    output = func(*args, **kwargs)\n",
    "    t2 = time.perf_counter()\n",
    "\n",
    "    run_time = t2 - t1\n",
    "\n",
    "    print(\"{} took about {:.2f}s to run.\\n\".format(\n",
    "        get_variable_name(func).replace(\"_\", \" \").title(), run_time))\n",
    "\n",
    "    return  output"
   ]
  },
  {
   "cell_type": "markdown",
   "id": "1619ad86-0c3f-4288-a5cb-8b3591513b88",
   "metadata": {},
   "source": [
    "Now we will just try to scrape **only one page** from each scraper to just **test** the data extractors."
   ]
  },
  {
   "cell_type": "code",
   "execution_count": 12,
   "id": "0669639d-0404-4d98-aecf-1a626addee34",
   "metadata": {},
   "outputs": [
    {
     "name": "stdout",
     "output_type": "stream",
     "text": [
      "\"5f6a8c4e810c7114eb3487c65e59c7ca\")>\n"
     ]
    },
    {
     "ename": "ValueError",
     "evalue": "invalid literal for int() with base 10: '\"5f6a8c4e810c7114eb3487c65e59c7ca\")>'",
     "output_type": "error",
     "traceback": [
      "\u001b[1;31m---------------------------------------------------------------------------\u001b[0m",
      "\u001b[1;31mValueError\u001b[0m                                Traceback (most recent call last)",
      "Cell \u001b[1;32mIn[12], line 1\u001b[0m\n\u001b[1;32m----> 1\u001b[0m \u001b[43mget_runtime\u001b[49m\u001b[43m(\u001b[49m\u001b[43mpph_scraper\u001b[49m\u001b[43m,\u001b[49m\u001b[43m \u001b[49m\u001b[38;5;241;43m10\u001b[39;49m\u001b[43m,\u001b[49m\u001b[43m \u001b[49m\u001b[38;5;124;43m\"\u001b[39;49m\u001b[38;5;124;43mdata-analytics\u001b[39;49m\u001b[38;5;124;43m\"\u001b[39;49m\u001b[43m,\u001b[49m\u001b[43m \u001b[49m\u001b[38;5;124;43m\"\u001b[39;49m\u001b[38;5;124;43mservices\u001b[39;49m\u001b[38;5;124;43m\"\u001b[39;49m\u001b[43m)\u001b[49m\n\u001b[0;32m      2\u001b[0m get_runtime(upwork_scraper, \u001b[38;5;241m1\u001b[39m, \u001b[38;5;124m\"\u001b[39m\u001b[38;5;124mdata-analytics\u001b[39m\u001b[38;5;124m\"\u001b[39m, \u001b[38;5;124m\"\u001b[39m\u001b[38;5;124mservices\u001b[39m\u001b[38;5;124m\"\u001b[39m)\n\u001b[0;32m      3\u001b[0m get_runtime(fivver_scraper, \u001b[38;5;241m10\u001b[39m, \u001b[38;5;124m\"\u001b[39m\u001b[38;5;124mdata-analytics\u001b[39m\u001b[38;5;124m\"\u001b[39m)\n",
      "Cell \u001b[1;32mIn[11], line 6\u001b[0m, in \u001b[0;36mget_runtime\u001b[1;34m(func, *args, **kwargs)\u001b[0m\n\u001b[0;32m      3\u001b[0m \u001b[38;5;28;01mdef\u001b[39;00m \u001b[38;5;21mget_runtime\u001b[39m(func, \u001b[38;5;241m*\u001b[39margs, \u001b[38;5;241m*\u001b[39m\u001b[38;5;241m*\u001b[39mkwargs):\n\u001b[0;32m      5\u001b[0m     t1 \u001b[38;5;241m=\u001b[39m time\u001b[38;5;241m.\u001b[39mperf_counter()\n\u001b[1;32m----> 6\u001b[0m     output \u001b[38;5;241m=\u001b[39m func(\u001b[38;5;241m*\u001b[39margs, \u001b[38;5;241m*\u001b[39m\u001b[38;5;241m*\u001b[39mkwargs)\n\u001b[0;32m      7\u001b[0m     t2 \u001b[38;5;241m=\u001b[39m time\u001b[38;5;241m.\u001b[39mperf_counter()\n\u001b[0;32m      9\u001b[0m     run_time \u001b[38;5;241m=\u001b[39m t2 \u001b[38;5;241m-\u001b[39m t1\n",
      "Cell \u001b[1;32mIn[10], line 41\u001b[0m, in \u001b[0;36mpph_scraper\u001b[1;34m(page, job_title, type)\u001b[0m\n\u001b[0;32m     39\u001b[0m     new_url \u001b[38;5;241m=\u001b[39m \u001b[38;5;28mstr\u001b[39m(new_url)\n\u001b[0;32m     40\u001b[0m     \u001b[38;5;28mprint\u001b[39m(\u001b[38;5;28mstr\u001b[39m(new_url\u001b[38;5;241m.\u001b[39mrsplit(\u001b[38;5;124m\"\u001b[39m\u001b[38;5;124m=\u001b[39m\u001b[38;5;124m\"\u001b[39m, \u001b[38;5;241m1\u001b[39m)[\u001b[38;5;241m-\u001b[39m\u001b[38;5;241m1\u001b[39m]))        \n\u001b[1;32m---> 41\u001b[0m     loaded_page \u001b[38;5;241m=\u001b[39m \u001b[38;5;28;43mint\u001b[39;49m\u001b[43m(\u001b[49m\u001b[38;5;28;43mstr\u001b[39;49m\u001b[43m(\u001b[49m\u001b[43mnew_url\u001b[49m\u001b[38;5;241;43m.\u001b[39;49m\u001b[43mrsplit\u001b[49m\u001b[43m(\u001b[49m\u001b[38;5;124;43m\"\u001b[39;49m\u001b[38;5;124;43m=\u001b[39;49m\u001b[38;5;124;43m\"\u001b[39;49m\u001b[43m,\u001b[49m\u001b[43m \u001b[49m\u001b[38;5;241;43m1\u001b[39;49m\u001b[43m)\u001b[49m\u001b[43m[\u001b[49m\u001b[38;5;241;43m-\u001b[39;49m\u001b[38;5;241;43m1\u001b[39;49m\u001b[43m]\u001b[49m\u001b[43m)\u001b[49m\u001b[43m)\u001b[49m\n\u001b[0;32m     43\u001b[0m \u001b[38;5;28;01mif\u001b[39;00m page \u001b[38;5;241m!=\u001b[39m loaded_page:\n\u001b[0;32m     44\u001b[0m     \u001b[38;5;28;01mraise\u001b[39;00m  \u001b[38;5;167;01mKeyError\u001b[39;00m\n",
      "\u001b[1;31mValueError\u001b[0m: invalid literal for int() with base 10: '\"5f6a8c4e810c7114eb3487c65e59c7ca\")>'"
     ]
    }
   ],
   "source": [
    "get_runtime(pph_scraper, 10, \"data-analytics\", \"services\")\n",
    "get_runtime(upwork_scraper, 1, \"data-analytics\", \"services\")\n",
    "get_runtime(fivver_scraper, 10, \"data-analytics\")\n",
    "get_runtime(guru_scraper, 1, \"data-analytics\", \"freelancers\")\n",
    "get_runtime(freelancer, 10, \"data-analytics\")"
   ]
  },
  {
   "cell_type": "markdown",
   "id": "a2d4b5fa-8b96-432b-8720-231bb695b308",
   "metadata": {},
   "source": [
    "Upwork took the longest time becuase it has special case whitch is that it's loading all pages from the first<br> one until the one specified."
   ]
  },
  {
   "cell_type": "markdown",
   "id": "994cfd62-4513-4cd0-bea7-40c4638debc0",
   "metadata": {},
   "source": [
    "## <center><strong>Collecting the Websites <span style = \"color: #4895e0\"> HTML</span>"
   ]
  },
  {
   "cell_type": "code",
   "execution_count": 6,
   "id": "b219d160-162a-4860-9116-60302878d539",
   "metadata": {},
   "outputs": [],
   "source": [
    "soups = {\"soup_name\": [],\n",
    "         \"soup_job_type\": [],\n",
    "         \"soup_job_title\": [],\n",
    "         \"soup_page\":  [],\n",
    "         \"soup\": []}"
   ]
  },
  {
   "cell_type": "code",
   "execution_count": 14,
   "id": "ffd0dd29-0acc-41d6-a681-1a6e30edcfc6",
   "metadata": {},
   "outputs": [],
   "source": [
    "pph_html = pph_scraper(1_00000, \"data-entry\", \"freelance-jobs\")"
   ]
  },
  {
   "cell_type": "code",
   "execution_count": 8,
   "id": "5d79a77b-f579-4750-984a-599fa9df13d6",
   "metadata": {},
   "outputs": [],
   "source": [
    "# If the job type is services in upwork the pages paremeter will refer to how many pages \n",
    "# will render at once while the other scrapers will render the spesfic spesfied page only.\n",
    "\n",
    "def get_all_pages_soups(pph_type, upwork_type, guru_type, max_page: int= 999) -> dict:\n",
    "\n",
    "    print(\"Strating ...\")\n",
    "    flag = False\n",
    "    \n",
    "    for i in count(0):\n",
    "\n",
    "        freelancer_type = \"jobs\"\n",
    "        fivver_type = \"services\"\n",
    "        \n",
    "        page = i + 1\n",
    "\n",
    "        if flag:\n",
    "            break\n",
    "\n",
    "        print(f\"Loading page {page} of each website ...\")\n",
    "\n",
    "\n",
    "        for data_job_title in data_jobs_titles:\n",
    "\n",
    "            lines = [f'freelancer_html = freelancer_scraper({page}, \"{data_job_title}\")',\n",
    "                     f'pph_html = pph_scraper({page}, \"{data_job_title}\", \"{pph_type}\")']\n",
    "            \n",
    "            # f'fivver_html = fivver_scraper({page}, \"{data_job_title}\")',\n",
    "            # f'upwork_html = fivver_scraper({page}, \"{data_job_title}\")',\n",
    "            # f'guru_html = fivver_scraper({page}, \"{data_job_title}\")',\n",
    "\n",
    "            if len(lines) < 1 or page > max_page:\n",
    "\n",
    "                print(\"Finished ...\")\n",
    "                flag = True\n",
    "\n",
    "            if flag:\n",
    "                break\n",
    "            \n",
    "\n",
    "            for line_idx, line in enumerate(lines):\n",
    "\n",
    "                equall_sign_idx = line.find('=') - 1\n",
    "                first_underscore_idx = line.find('_')\n",
    "\n",
    "                try:\n",
    "                    exec(line)\n",
    "                    print(line)\n",
    "                    \n",
    "                    soups[\"soup_job_title\"].append(data_job_title)\n",
    "                    soups[\"soup_name\"].append(line[:equall_sign_idx])\n",
    "                    soups[\"soup_page\"].append(page)\n",
    "                    soups[\"soup\"].append(eval(str(line[:equall_sign_idx])))\n",
    "                    soups[\"soup_job_type\"].append(eval(f'{line[:first_underscore_idx]}_type'))\n",
    "\n",
    "\n",
    "                except Exception as e:\n",
    "\n",
    "                    # print(e)\n",
    "                    del lines[line_idx]\n",
    "                    # if len(lines) < 1 or page >max_page:\n",
    "\n",
    "                    #     print(e)\n",
    "                    #     print(\"Finished ...\")\n",
    "                    #     break\n",
    "\n",
    "                    continue"
   ]
  },
  {
   "cell_type": "code",
   "execution_count": 9,
   "id": "a3c985db-6dab-4034-998f-aa6645e2a9a4",
   "metadata": {
    "collapsed": true,
    "jupyter": {
     "outputs_hidden": true
    }
   },
   "outputs": [
    {
     "name": "stdout",
     "output_type": "stream",
     "text": [
      "Strating ...\n",
      "Loading page 1 of each website ...\n",
      "freelancer_html = freelancer_scraper(1, \"data-entry\")\n",
      "pph_html = pph_scraper(1, \"data-entry\", \"freelance-jobs\")\n",
      "freelancer_html = freelancer_scraper(1, \"data-processing\")\n",
      "pph_html = pph_scraper(1, \"data-processing\", \"freelance-jobs\")\n",
      "freelancer_html = freelancer_scraper(1, \"data-engineering\")\n",
      "pph_html = pph_scraper(1, \"data-engineering\", \"freelance-jobs\")\n",
      "Loading page 2 of each website ...\n",
      "freelancer_html = freelancer_scraper(2, \"data-entry\")\n",
      "pph_html = pph_scraper(2, \"data-entry\", \"freelance-jobs\")\n"
     ]
    },
    {
     "ename": "KeyboardInterrupt",
     "evalue": "",
     "output_type": "error",
     "traceback": [
      "\u001b[1;31m---------------------------------------------------------------------------\u001b[0m",
      "\u001b[1;31mKeyboardInterrupt\u001b[0m                         Traceback (most recent call last)",
      "Cell \u001b[1;32mIn[9], line 1\u001b[0m\n\u001b[1;32m----> 1\u001b[0m \u001b[43mget_all_pages_soups\u001b[49m\u001b[43m(\u001b[49m\u001b[38;5;124;43m\"\u001b[39;49m\u001b[38;5;124;43mfreelance-jobs\u001b[39;49m\u001b[38;5;124;43m\"\u001b[39;49m\u001b[43m,\u001b[49m\u001b[43m \u001b[49m\u001b[38;5;124;43m\"\u001b[39;49m\u001b[38;5;124;43mjobs\u001b[39;49m\u001b[38;5;124;43m\"\u001b[39;49m\u001b[43m,\u001b[49m\u001b[43m \u001b[49m\u001b[38;5;124;43m\"\u001b[39;49m\u001b[38;5;124;43mjobs\u001b[39;49m\u001b[38;5;124;43m\"\u001b[39;49m\u001b[43m,\u001b[49m\u001b[43m \u001b[49m\u001b[43mmax_page\u001b[49m\u001b[38;5;241;43m=\u001b[39;49m\u001b[43m \u001b[49m\u001b[38;5;241;43m2\u001b[39;49m\u001b[43m)\u001b[49m\n",
      "Cell \u001b[1;32mIn[8], line 46\u001b[0m, in \u001b[0;36mget_all_pages_soups\u001b[1;34m(pph_type, upwork_type, guru_type, max_page)\u001b[0m\n\u001b[0;32m     43\u001b[0m first_underscore_idx \u001b[38;5;241m=\u001b[39m line\u001b[38;5;241m.\u001b[39mfind(\u001b[38;5;124m'\u001b[39m\u001b[38;5;124m_\u001b[39m\u001b[38;5;124m'\u001b[39m)\n\u001b[0;32m     45\u001b[0m \u001b[38;5;28;01mtry\u001b[39;00m:\n\u001b[1;32m---> 46\u001b[0m     \u001b[43mexec\u001b[49m\u001b[43m(\u001b[49m\u001b[43mline\u001b[49m\u001b[43m)\u001b[49m\n\u001b[0;32m     47\u001b[0m     \u001b[38;5;28mprint\u001b[39m(line)\n\u001b[0;32m     49\u001b[0m     soups[\u001b[38;5;124m\"\u001b[39m\u001b[38;5;124msoup_job_title\u001b[39m\u001b[38;5;124m\"\u001b[39m]\u001b[38;5;241m.\u001b[39mappend(data_job_title)\n",
      "File \u001b[1;32m<string>:1\u001b[0m\n",
      "Cell \u001b[1;32mIn[4], line 72\u001b[0m, in \u001b[0;36mfreelancer_scraper\u001b[1;34m(page, job_title)\u001b[0m\n\u001b[0;32m     69\u001b[0m \u001b[38;5;28;01mglobal\u001b[39;00m freelancer_url\n\u001b[0;32m     70\u001b[0m freelancer_url \u001b[38;5;241m=\u001b[39m \u001b[38;5;124mf\u001b[39m\u001b[38;5;124m\"\u001b[39m\u001b[38;5;124mhttps://www.freelancer.com/jobs?search_keyword=\u001b[39m\u001b[38;5;132;01m{\u001b[39;00mjob_title\u001b[38;5;241m.\u001b[39mreplace(\u001b[38;5;124m'\u001b[39m\u001b[38;5;124m-\u001b[39m\u001b[38;5;124m'\u001b[39m,\u001b[38;5;250m \u001b[39m\u001b[38;5;124m'\u001b[39m\u001b[38;5;124m+\u001b[39m\u001b[38;5;124m'\u001b[39m)\u001b[38;5;132;01m}\u001b[39;00m\u001b[38;5;124m&page=\u001b[39m\u001b[38;5;132;01m{\u001b[39;00mpage\u001b[38;5;132;01m}\u001b[39;00m\u001b[38;5;124m\"\u001b[39m\n\u001b[1;32m---> 72\u001b[0m \u001b[38;5;28;01mreturn\u001b[39;00m \u001b[43mscrape_page\u001b[49m\u001b[43m(\u001b[49m\u001b[43mfreelancer_url\u001b[49m\u001b[43m)\u001b[49m\n",
      "Cell \u001b[1;32mIn[3], line 11\u001b[0m, in \u001b[0;36mscrape_page\u001b[1;34m(url)\u001b[0m\n\u001b[0;32m      9\u001b[0m \u001b[38;5;28;01mdef\u001b[39;00m \u001b[38;5;21mscrape_page\u001b[39m(url: \u001b[38;5;28mstr\u001b[39m) \u001b[38;5;241m-\u001b[39m\u001b[38;5;241m>\u001b[39m BeautifulSoup:\n\u001b[0;32m     10\u001b[0m     driver \u001b[38;5;241m=\u001b[39m webdriver\u001b[38;5;241m.\u001b[39mChrome()\n\u001b[1;32m---> 11\u001b[0m     \u001b[43mdriver\u001b[49m\u001b[38;5;241;43m.\u001b[39;49m\u001b[43mget\u001b[49m\u001b[43m(\u001b[49m\u001b[43murl\u001b[49m\u001b[43m)\u001b[49m\n\u001b[0;32m     13\u001b[0m     wait \u001b[38;5;241m=\u001b[39m WebDriverWait(driver, \u001b[38;5;241m10\u001b[39m)\n\u001b[0;32m     15\u001b[0m     \u001b[38;5;66;03m# Wait until the page is fully loaded\u001b[39;00m\n",
      "File \u001b[1;32m~\\.conda\\envs\\data_jobs_analysis\\lib\\site-packages\\selenium\\webdriver\\remote\\webdriver.py:355\u001b[0m, in \u001b[0;36mWebDriver.get\u001b[1;34m(self, url)\u001b[0m\n\u001b[0;32m    353\u001b[0m \u001b[38;5;28;01mdef\u001b[39;00m \u001b[38;5;21mget\u001b[39m(\u001b[38;5;28mself\u001b[39m, url: \u001b[38;5;28mstr\u001b[39m) \u001b[38;5;241m-\u001b[39m\u001b[38;5;241m>\u001b[39m \u001b[38;5;28;01mNone\u001b[39;00m:\n\u001b[0;32m    354\u001b[0m \u001b[38;5;250m    \u001b[39m\u001b[38;5;124;03m\"\"\"Loads a web page in the current browser session.\"\"\"\u001b[39;00m\n\u001b[1;32m--> 355\u001b[0m     \u001b[38;5;28;43mself\u001b[39;49m\u001b[38;5;241;43m.\u001b[39;49m\u001b[43mexecute\u001b[49m\u001b[43m(\u001b[49m\u001b[43mCommand\u001b[49m\u001b[38;5;241;43m.\u001b[39;49m\u001b[43mGET\u001b[49m\u001b[43m,\u001b[49m\u001b[43m \u001b[49m\u001b[43m{\u001b[49m\u001b[38;5;124;43m\"\u001b[39;49m\u001b[38;5;124;43murl\u001b[39;49m\u001b[38;5;124;43m\"\u001b[39;49m\u001b[43m:\u001b[49m\u001b[43m \u001b[49m\u001b[43murl\u001b[49m\u001b[43m}\u001b[49m\u001b[43m)\u001b[49m\n",
      "File \u001b[1;32m~\\.conda\\envs\\data_jobs_analysis\\lib\\site-packages\\selenium\\webdriver\\remote\\webdriver.py:344\u001b[0m, in \u001b[0;36mWebDriver.execute\u001b[1;34m(self, driver_command, params)\u001b[0m\n\u001b[0;32m    341\u001b[0m     \u001b[38;5;28;01melif\u001b[39;00m \u001b[38;5;124m\"\u001b[39m\u001b[38;5;124msessionId\u001b[39m\u001b[38;5;124m\"\u001b[39m \u001b[38;5;129;01mnot\u001b[39;00m \u001b[38;5;129;01min\u001b[39;00m params:\n\u001b[0;32m    342\u001b[0m         params[\u001b[38;5;124m\"\u001b[39m\u001b[38;5;124msessionId\u001b[39m\u001b[38;5;124m\"\u001b[39m] \u001b[38;5;241m=\u001b[39m \u001b[38;5;28mself\u001b[39m\u001b[38;5;241m.\u001b[39msession_id\n\u001b[1;32m--> 344\u001b[0m response \u001b[38;5;241m=\u001b[39m \u001b[38;5;28;43mself\u001b[39;49m\u001b[38;5;241;43m.\u001b[39;49m\u001b[43mcommand_executor\u001b[49m\u001b[38;5;241;43m.\u001b[39;49m\u001b[43mexecute\u001b[49m\u001b[43m(\u001b[49m\u001b[43mdriver_command\u001b[49m\u001b[43m,\u001b[49m\u001b[43m \u001b[49m\u001b[43mparams\u001b[49m\u001b[43m)\u001b[49m\n\u001b[0;32m    345\u001b[0m \u001b[38;5;28;01mif\u001b[39;00m response:\n\u001b[0;32m    346\u001b[0m     \u001b[38;5;28mself\u001b[39m\u001b[38;5;241m.\u001b[39merror_handler\u001b[38;5;241m.\u001b[39mcheck_response(response)\n",
      "File \u001b[1;32m~\\.conda\\envs\\data_jobs_analysis\\lib\\site-packages\\selenium\\webdriver\\remote\\remote_connection.py:290\u001b[0m, in \u001b[0;36mRemoteConnection.execute\u001b[1;34m(self, command, params)\u001b[0m\n\u001b[0;32m    288\u001b[0m data \u001b[38;5;241m=\u001b[39m utils\u001b[38;5;241m.\u001b[39mdump_json(params)\n\u001b[0;32m    289\u001b[0m url \u001b[38;5;241m=\u001b[39m \u001b[38;5;124mf\u001b[39m\u001b[38;5;124m\"\u001b[39m\u001b[38;5;132;01m{\u001b[39;00m\u001b[38;5;28mself\u001b[39m\u001b[38;5;241m.\u001b[39m_url\u001b[38;5;132;01m}\u001b[39;00m\u001b[38;5;132;01m{\u001b[39;00mpath\u001b[38;5;132;01m}\u001b[39;00m\u001b[38;5;124m\"\u001b[39m\n\u001b[1;32m--> 290\u001b[0m \u001b[38;5;28;01mreturn\u001b[39;00m \u001b[38;5;28;43mself\u001b[39;49m\u001b[38;5;241;43m.\u001b[39;49m\u001b[43m_request\u001b[49m\u001b[43m(\u001b[49m\u001b[43mcommand_info\u001b[49m\u001b[43m[\u001b[49m\u001b[38;5;241;43m0\u001b[39;49m\u001b[43m]\u001b[49m\u001b[43m,\u001b[49m\u001b[43m \u001b[49m\u001b[43murl\u001b[49m\u001b[43m,\u001b[49m\u001b[43m \u001b[49m\u001b[43mbody\u001b[49m\u001b[38;5;241;43m=\u001b[39;49m\u001b[43mdata\u001b[49m\u001b[43m)\u001b[49m\n",
      "File \u001b[1;32m~\\.conda\\envs\\data_jobs_analysis\\lib\\site-packages\\selenium\\webdriver\\remote\\remote_connection.py:311\u001b[0m, in \u001b[0;36mRemoteConnection._request\u001b[1;34m(self, method, url, body)\u001b[0m\n\u001b[0;32m    308\u001b[0m     body \u001b[38;5;241m=\u001b[39m \u001b[38;5;28;01mNone\u001b[39;00m\n\u001b[0;32m    310\u001b[0m \u001b[38;5;28;01mif\u001b[39;00m \u001b[38;5;28mself\u001b[39m\u001b[38;5;241m.\u001b[39mkeep_alive:\n\u001b[1;32m--> 311\u001b[0m     response \u001b[38;5;241m=\u001b[39m \u001b[38;5;28;43mself\u001b[39;49m\u001b[38;5;241;43m.\u001b[39;49m\u001b[43m_conn\u001b[49m\u001b[38;5;241;43m.\u001b[39;49m\u001b[43mrequest\u001b[49m\u001b[43m(\u001b[49m\u001b[43mmethod\u001b[49m\u001b[43m,\u001b[49m\u001b[43m \u001b[49m\u001b[43murl\u001b[49m\u001b[43m,\u001b[49m\u001b[43m \u001b[49m\u001b[43mbody\u001b[49m\u001b[38;5;241;43m=\u001b[39;49m\u001b[43mbody\u001b[49m\u001b[43m,\u001b[49m\u001b[43m \u001b[49m\u001b[43mheaders\u001b[49m\u001b[38;5;241;43m=\u001b[39;49m\u001b[43mheaders\u001b[49m\u001b[43m)\u001b[49m\n\u001b[0;32m    312\u001b[0m     statuscode \u001b[38;5;241m=\u001b[39m response\u001b[38;5;241m.\u001b[39mstatus\n\u001b[0;32m    313\u001b[0m \u001b[38;5;28;01melse\u001b[39;00m:\n",
      "File \u001b[1;32m~\\.conda\\envs\\data_jobs_analysis\\lib\\site-packages\\urllib3\\request.py:78\u001b[0m, in \u001b[0;36mRequestMethods.request\u001b[1;34m(self, method, url, fields, headers, **urlopen_kw)\u001b[0m\n\u001b[0;32m     74\u001b[0m     \u001b[38;5;28;01mreturn\u001b[39;00m \u001b[38;5;28mself\u001b[39m\u001b[38;5;241m.\u001b[39mrequest_encode_url(\n\u001b[0;32m     75\u001b[0m         method, url, fields\u001b[38;5;241m=\u001b[39mfields, headers\u001b[38;5;241m=\u001b[39mheaders, \u001b[38;5;241m*\u001b[39m\u001b[38;5;241m*\u001b[39murlopen_kw\n\u001b[0;32m     76\u001b[0m     )\n\u001b[0;32m     77\u001b[0m \u001b[38;5;28;01melse\u001b[39;00m:\n\u001b[1;32m---> 78\u001b[0m     \u001b[38;5;28;01mreturn\u001b[39;00m \u001b[38;5;28mself\u001b[39m\u001b[38;5;241m.\u001b[39mrequest_encode_body(\n\u001b[0;32m     79\u001b[0m         method, url, fields\u001b[38;5;241m=\u001b[39mfields, headers\u001b[38;5;241m=\u001b[39mheaders, \u001b[38;5;241m*\u001b[39m\u001b[38;5;241m*\u001b[39murlopen_kw\n\u001b[0;32m     80\u001b[0m     )\n",
      "File \u001b[1;32m~\\.conda\\envs\\data_jobs_analysis\\lib\\site-packages\\urllib3\\request.py:170\u001b[0m, in \u001b[0;36mRequestMethods.request_encode_body\u001b[1;34m(self, method, url, fields, headers, encode_multipart, multipart_boundary, **urlopen_kw)\u001b[0m\n\u001b[0;32m    167\u001b[0m extra_kw[\u001b[38;5;124m\"\u001b[39m\u001b[38;5;124mheaders\u001b[39m\u001b[38;5;124m\"\u001b[39m]\u001b[38;5;241m.\u001b[39mupdate(headers)\n\u001b[0;32m    168\u001b[0m extra_kw\u001b[38;5;241m.\u001b[39mupdate(urlopen_kw)\n\u001b[1;32m--> 170\u001b[0m \u001b[38;5;28;01mreturn\u001b[39;00m \u001b[38;5;28mself\u001b[39m\u001b[38;5;241m.\u001b[39murlopen(method, url, \u001b[38;5;241m*\u001b[39m\u001b[38;5;241m*\u001b[39mextra_kw)\n",
      "File \u001b[1;32m~\\.conda\\envs\\data_jobs_analysis\\lib\\site-packages\\urllib3\\poolmanager.py:376\u001b[0m, in \u001b[0;36mPoolManager.urlopen\u001b[1;34m(self, method, url, redirect, **kw)\u001b[0m\n\u001b[0;32m    374\u001b[0m     response \u001b[38;5;241m=\u001b[39m conn\u001b[38;5;241m.\u001b[39murlopen(method, url, \u001b[38;5;241m*\u001b[39m\u001b[38;5;241m*\u001b[39mkw)\n\u001b[0;32m    375\u001b[0m \u001b[38;5;28;01melse\u001b[39;00m:\n\u001b[1;32m--> 376\u001b[0m     response \u001b[38;5;241m=\u001b[39m conn\u001b[38;5;241m.\u001b[39murlopen(method, u\u001b[38;5;241m.\u001b[39mrequest_uri, \u001b[38;5;241m*\u001b[39m\u001b[38;5;241m*\u001b[39mkw)\n\u001b[0;32m    378\u001b[0m redirect_location \u001b[38;5;241m=\u001b[39m redirect \u001b[38;5;129;01mand\u001b[39;00m response\u001b[38;5;241m.\u001b[39mget_redirect_location()\n\u001b[0;32m    379\u001b[0m \u001b[38;5;28;01mif\u001b[39;00m \u001b[38;5;129;01mnot\u001b[39;00m redirect_location:\n",
      "File \u001b[1;32m~\\.conda\\envs\\data_jobs_analysis\\lib\\site-packages\\urllib3\\connectionpool.py:703\u001b[0m, in \u001b[0;36mHTTPConnectionPool.urlopen\u001b[1;34m(self, method, url, body, headers, retries, redirect, assert_same_host, timeout, pool_timeout, release_conn, chunked, body_pos, **response_kw)\u001b[0m\n\u001b[0;32m    700\u001b[0m     \u001b[38;5;28mself\u001b[39m\u001b[38;5;241m.\u001b[39m_prepare_proxy(conn)\n\u001b[0;32m    702\u001b[0m \u001b[38;5;66;03m# Make the request on the httplib connection object.\u001b[39;00m\n\u001b[1;32m--> 703\u001b[0m httplib_response \u001b[38;5;241m=\u001b[39m \u001b[38;5;28;43mself\u001b[39;49m\u001b[38;5;241;43m.\u001b[39;49m\u001b[43m_make_request\u001b[49m\u001b[43m(\u001b[49m\n\u001b[0;32m    704\u001b[0m \u001b[43m    \u001b[49m\u001b[43mconn\u001b[49m\u001b[43m,\u001b[49m\n\u001b[0;32m    705\u001b[0m \u001b[43m    \u001b[49m\u001b[43mmethod\u001b[49m\u001b[43m,\u001b[49m\n\u001b[0;32m    706\u001b[0m \u001b[43m    \u001b[49m\u001b[43murl\u001b[49m\u001b[43m,\u001b[49m\n\u001b[0;32m    707\u001b[0m \u001b[43m    \u001b[49m\u001b[43mtimeout\u001b[49m\u001b[38;5;241;43m=\u001b[39;49m\u001b[43mtimeout_obj\u001b[49m\u001b[43m,\u001b[49m\n\u001b[0;32m    708\u001b[0m \u001b[43m    \u001b[49m\u001b[43mbody\u001b[49m\u001b[38;5;241;43m=\u001b[39;49m\u001b[43mbody\u001b[49m\u001b[43m,\u001b[49m\n\u001b[0;32m    709\u001b[0m \u001b[43m    \u001b[49m\u001b[43mheaders\u001b[49m\u001b[38;5;241;43m=\u001b[39;49m\u001b[43mheaders\u001b[49m\u001b[43m,\u001b[49m\n\u001b[0;32m    710\u001b[0m \u001b[43m    \u001b[49m\u001b[43mchunked\u001b[49m\u001b[38;5;241;43m=\u001b[39;49m\u001b[43mchunked\u001b[49m\u001b[43m,\u001b[49m\n\u001b[0;32m    711\u001b[0m \u001b[43m\u001b[49m\u001b[43m)\u001b[49m\n\u001b[0;32m    713\u001b[0m \u001b[38;5;66;03m# If we're going to release the connection in ``finally:``, then\u001b[39;00m\n\u001b[0;32m    714\u001b[0m \u001b[38;5;66;03m# the response doesn't need to know about the connection. Otherwise\u001b[39;00m\n\u001b[0;32m    715\u001b[0m \u001b[38;5;66;03m# it will also try to release it and we'll have a double-release\u001b[39;00m\n\u001b[0;32m    716\u001b[0m \u001b[38;5;66;03m# mess.\u001b[39;00m\n\u001b[0;32m    717\u001b[0m response_conn \u001b[38;5;241m=\u001b[39m conn \u001b[38;5;28;01mif\u001b[39;00m \u001b[38;5;129;01mnot\u001b[39;00m release_conn \u001b[38;5;28;01melse\u001b[39;00m \u001b[38;5;28;01mNone\u001b[39;00m\n",
      "File \u001b[1;32m~\\.conda\\envs\\data_jobs_analysis\\lib\\site-packages\\urllib3\\connectionpool.py:449\u001b[0m, in \u001b[0;36mHTTPConnectionPool._make_request\u001b[1;34m(self, conn, method, url, timeout, chunked, **httplib_request_kw)\u001b[0m\n\u001b[0;32m    444\u001b[0m             httplib_response \u001b[38;5;241m=\u001b[39m conn\u001b[38;5;241m.\u001b[39mgetresponse()\n\u001b[0;32m    445\u001b[0m         \u001b[38;5;28;01mexcept\u001b[39;00m \u001b[38;5;167;01mBaseException\u001b[39;00m \u001b[38;5;28;01mas\u001b[39;00m e:\n\u001b[0;32m    446\u001b[0m             \u001b[38;5;66;03m# Remove the TypeError from the exception chain in\u001b[39;00m\n\u001b[0;32m    447\u001b[0m             \u001b[38;5;66;03m# Python 3 (including for exceptions like SystemExit).\u001b[39;00m\n\u001b[0;32m    448\u001b[0m             \u001b[38;5;66;03m# Otherwise it looks like a bug in the code.\u001b[39;00m\n\u001b[1;32m--> 449\u001b[0m             \u001b[43msix\u001b[49m\u001b[38;5;241;43m.\u001b[39;49m\u001b[43mraise_from\u001b[49m\u001b[43m(\u001b[49m\u001b[43me\u001b[49m\u001b[43m,\u001b[49m\u001b[43m \u001b[49m\u001b[38;5;28;43;01mNone\u001b[39;49;00m\u001b[43m)\u001b[49m\n\u001b[0;32m    450\u001b[0m \u001b[38;5;28;01mexcept\u001b[39;00m (SocketTimeout, BaseSSLError, SocketError) \u001b[38;5;28;01mas\u001b[39;00m e:\n\u001b[0;32m    451\u001b[0m     \u001b[38;5;28mself\u001b[39m\u001b[38;5;241m.\u001b[39m_raise_timeout(err\u001b[38;5;241m=\u001b[39me, url\u001b[38;5;241m=\u001b[39murl, timeout_value\u001b[38;5;241m=\u001b[39mread_timeout)\n",
      "File \u001b[1;32m<string>:3\u001b[0m, in \u001b[0;36mraise_from\u001b[1;34m(value, from_value)\u001b[0m\n",
      "File \u001b[1;32m~\\.conda\\envs\\data_jobs_analysis\\lib\\site-packages\\urllib3\\connectionpool.py:444\u001b[0m, in \u001b[0;36mHTTPConnectionPool._make_request\u001b[1;34m(self, conn, method, url, timeout, chunked, **httplib_request_kw)\u001b[0m\n\u001b[0;32m    441\u001b[0m \u001b[38;5;28;01mexcept\u001b[39;00m \u001b[38;5;167;01mTypeError\u001b[39;00m:\n\u001b[0;32m    442\u001b[0m     \u001b[38;5;66;03m# Python 3\u001b[39;00m\n\u001b[0;32m    443\u001b[0m     \u001b[38;5;28;01mtry\u001b[39;00m:\n\u001b[1;32m--> 444\u001b[0m         httplib_response \u001b[38;5;241m=\u001b[39m \u001b[43mconn\u001b[49m\u001b[38;5;241;43m.\u001b[39;49m\u001b[43mgetresponse\u001b[49m\u001b[43m(\u001b[49m\u001b[43m)\u001b[49m\n\u001b[0;32m    445\u001b[0m     \u001b[38;5;28;01mexcept\u001b[39;00m \u001b[38;5;167;01mBaseException\u001b[39;00m \u001b[38;5;28;01mas\u001b[39;00m e:\n\u001b[0;32m    446\u001b[0m         \u001b[38;5;66;03m# Remove the TypeError from the exception chain in\u001b[39;00m\n\u001b[0;32m    447\u001b[0m         \u001b[38;5;66;03m# Python 3 (including for exceptions like SystemExit).\u001b[39;00m\n\u001b[0;32m    448\u001b[0m         \u001b[38;5;66;03m# Otherwise it looks like a bug in the code.\u001b[39;00m\n\u001b[0;32m    449\u001b[0m         six\u001b[38;5;241m.\u001b[39mraise_from(e, \u001b[38;5;28;01mNone\u001b[39;00m)\n",
      "File \u001b[1;32m~\\.conda\\envs\\data_jobs_analysis\\lib\\http\\client.py:1377\u001b[0m, in \u001b[0;36mHTTPConnection.getresponse\u001b[1;34m(self)\u001b[0m\n\u001b[0;32m   1375\u001b[0m \u001b[38;5;28;01mtry\u001b[39;00m:\n\u001b[0;32m   1376\u001b[0m     \u001b[38;5;28;01mtry\u001b[39;00m:\n\u001b[1;32m-> 1377\u001b[0m         \u001b[43mresponse\u001b[49m\u001b[38;5;241;43m.\u001b[39;49m\u001b[43mbegin\u001b[49m\u001b[43m(\u001b[49m\u001b[43m)\u001b[49m\n\u001b[0;32m   1378\u001b[0m     \u001b[38;5;28;01mexcept\u001b[39;00m \u001b[38;5;167;01mConnectionError\u001b[39;00m:\n\u001b[0;32m   1379\u001b[0m         \u001b[38;5;28mself\u001b[39m\u001b[38;5;241m.\u001b[39mclose()\n",
      "File \u001b[1;32m~\\.conda\\envs\\data_jobs_analysis\\lib\\http\\client.py:320\u001b[0m, in \u001b[0;36mHTTPResponse.begin\u001b[1;34m(self)\u001b[0m\n\u001b[0;32m    318\u001b[0m \u001b[38;5;66;03m# read until we get a non-100 response\u001b[39;00m\n\u001b[0;32m    319\u001b[0m \u001b[38;5;28;01mwhile\u001b[39;00m \u001b[38;5;28;01mTrue\u001b[39;00m:\n\u001b[1;32m--> 320\u001b[0m     version, status, reason \u001b[38;5;241m=\u001b[39m \u001b[38;5;28;43mself\u001b[39;49m\u001b[38;5;241;43m.\u001b[39;49m\u001b[43m_read_status\u001b[49m\u001b[43m(\u001b[49m\u001b[43m)\u001b[49m\n\u001b[0;32m    321\u001b[0m     \u001b[38;5;28;01mif\u001b[39;00m status \u001b[38;5;241m!=\u001b[39m CONTINUE:\n\u001b[0;32m    322\u001b[0m         \u001b[38;5;28;01mbreak\u001b[39;00m\n",
      "File \u001b[1;32m~\\.conda\\envs\\data_jobs_analysis\\lib\\http\\client.py:281\u001b[0m, in \u001b[0;36mHTTPResponse._read_status\u001b[1;34m(self)\u001b[0m\n\u001b[0;32m    280\u001b[0m \u001b[38;5;28;01mdef\u001b[39;00m \u001b[38;5;21m_read_status\u001b[39m(\u001b[38;5;28mself\u001b[39m):\n\u001b[1;32m--> 281\u001b[0m     line \u001b[38;5;241m=\u001b[39m \u001b[38;5;28mstr\u001b[39m(\u001b[38;5;28;43mself\u001b[39;49m\u001b[38;5;241;43m.\u001b[39;49m\u001b[43mfp\u001b[49m\u001b[38;5;241;43m.\u001b[39;49m\u001b[43mreadline\u001b[49m\u001b[43m(\u001b[49m\u001b[43m_MAXLINE\u001b[49m\u001b[43m \u001b[49m\u001b[38;5;241;43m+\u001b[39;49m\u001b[43m \u001b[49m\u001b[38;5;241;43m1\u001b[39;49m\u001b[43m)\u001b[49m, \u001b[38;5;124m\"\u001b[39m\u001b[38;5;124miso-8859-1\u001b[39m\u001b[38;5;124m\"\u001b[39m)\n\u001b[0;32m    282\u001b[0m     \u001b[38;5;28;01mif\u001b[39;00m \u001b[38;5;28mlen\u001b[39m(line) \u001b[38;5;241m>\u001b[39m _MAXLINE:\n\u001b[0;32m    283\u001b[0m         \u001b[38;5;28;01mraise\u001b[39;00m LineTooLong(\u001b[38;5;124m\"\u001b[39m\u001b[38;5;124mstatus line\u001b[39m\u001b[38;5;124m\"\u001b[39m)\n",
      "File \u001b[1;32m~\\.conda\\envs\\data_jobs_analysis\\lib\\socket.py:704\u001b[0m, in \u001b[0;36mSocketIO.readinto\u001b[1;34m(self, b)\u001b[0m\n\u001b[0;32m    702\u001b[0m \u001b[38;5;28;01mwhile\u001b[39;00m \u001b[38;5;28;01mTrue\u001b[39;00m:\n\u001b[0;32m    703\u001b[0m     \u001b[38;5;28;01mtry\u001b[39;00m:\n\u001b[1;32m--> 704\u001b[0m         \u001b[38;5;28;01mreturn\u001b[39;00m \u001b[38;5;28;43mself\u001b[39;49m\u001b[38;5;241;43m.\u001b[39;49m\u001b[43m_sock\u001b[49m\u001b[38;5;241;43m.\u001b[39;49m\u001b[43mrecv_into\u001b[49m\u001b[43m(\u001b[49m\u001b[43mb\u001b[49m\u001b[43m)\u001b[49m\n\u001b[0;32m    705\u001b[0m     \u001b[38;5;28;01mexcept\u001b[39;00m timeout:\n\u001b[0;32m    706\u001b[0m         \u001b[38;5;28mself\u001b[39m\u001b[38;5;241m.\u001b[39m_timeout_occurred \u001b[38;5;241m=\u001b[39m \u001b[38;5;28;01mTrue\u001b[39;00m\n",
      "\u001b[1;31mKeyboardInterrupt\u001b[0m: "
     ]
    }
   ],
   "source": [
    "get_all_pages_soups(\"freelance-jobs\", \"jobs\", \"jobs\", max_page= 2)"
   ]
  },
  {
   "cell_type": "code",
   "execution_count": 9,
   "id": "85626097-1809-40b9-a17c-ff3538cb1f7c",
   "metadata": {},
   "outputs": [
    {
     "data": {
      "text/plain": [
       "{'col1': [1, 2, 3, 5, 5], 'col2': [1, 2, 3, 9, nan]}"
      ]
     },
     "execution_count": 9,
     "metadata": {},
     "output_type": "execute_result"
    }
   ],
   "source": [
    "max_length = max(len(lst) for lst in soups.values())\n",
    "soups = {key: lst + [float('nan')] * (max_length - len(lst)) for key, lst in soups.items()}\n",
    "\n",
    "df = pd.DataFrame(soups)"
   ]
  },
  {
   "cell_type": "code",
   "execution_count": 8,
   "id": "0d7ce831-bd81-4a23-b771-30457a6a1388",
   "metadata": {},
   "outputs": [
    {
     "name": "stdout",
     "output_type": "stream",
     "text": [
      "Printing the title of each page to check if it's loaded correctly.\n",
      "\n",
      "-\t Freelance Data-analytics Jobs - Upwork\n",
      "-\t Data Analytics Services Online | Fiverr\n",
      "-\t Machine Learning Freelance Jobs Online - Guru\n",
      "-\t Get Data Analytics Offers & Services | PeoplePerHour\n",
      "-\t Users Jobs, Employment | Freelancer\n"
     ]
    }
   ],
   "source": [
    "print(\"Printing the title of each page to check if it's loaded correctly.\\n\")\n",
    "\n",
    "for soup in soups[\"soup\"]:\n",
    "    print(\"-\\t\", soup.title.text.replace(\"\\n\", \"\").replace(\"\\t\", \"\"))\n",
    "\n",
    "soups = pd.DataFrame(soups)"
   ]
  },
  {
   "cell_type": "markdown",
   "id": "db860af4-9005-4f07-8bfa-cab4cdb3aa87",
   "metadata": {},
   "source": [
    "Looks like everything is working as expected now let's start reel work by extracting the HTML tags data from the scraped<br>\n",
    "pages.<br> <br>"
   ]
  },
  {
   "cell_type": "markdown",
   "id": "36ac5af7-1f3f-44a7-b93b-778e70096067",
   "metadata": {},
   "source": [
    "But we will need to collect the data from each one of those pages with unique way further more we need to optimize the<br>\n",
    "data extractor to collect the data from other pages from the same site like \"jobs\" site and \"profiles\" sites on upwork.<br>"
   ]
  },
  {
   "cell_type": "code",
   "execution_count": 67,
   "id": "3dfb3b7e-ed6c-49db-a27b-05e963d689ea",
   "metadata": {},
   "outputs": [],
   "source": [
    "def get_cards_links(soup_name, tag, link_template,\n",
    "                    link_attr, tag_class, attr= \"class\") -> list:\n",
    "\n",
    "    soup = soups[soups[\"soup_name\"] == soup_name][\"soup\"].values[0]\n",
    "\n",
    "    cards = soup.find_all(tag, attrs= {attr: tag_class})\n",
    "    cards_ids = []\n",
    "\n",
    "    if link_attr != \"\":\n",
    "\n",
    "        for card in cards:\n",
    "\n",
    "            card_id = link_template.replace(\"###\", card[link_attr])\n",
    "\n",
    "            if len(card_id) > len(link_template):\n",
    "                cards_ids.append(card_id)\n",
    "\n",
    "        return  cards_ids\n",
    "\n",
    "    else:\n",
    "        return  cards"
   ]
  },
  {
   "cell_type": "code",
   "execution_count": 85,
   "id": "710987e9-6eb6-47cd-a8ec-8d1777445501",
   "metadata": {},
   "outputs": [],
   "source": [
    "# We can't collect guru data this wat becuase it has slightly deffrint case in terms\n",
    "# of collecting the jobs URLs\n",
    "\n",
    "## --------------------------Upwork--------------------------\n",
    "upwork_gigs_links = get_cards_links('upwork_soup', 'a', 'https://upwork.com###', 'href',\n",
    "                                        'up-n-link project-tile up-card m-0 p-0 up-card-section up-card-hover project-tile_flexible')\n",
    "\n",
    "upwork_profiles_links = get_cards_links('upwork_soup', 'div', 'https://www.upwork.com/search/profiles/?profile=###', 'data-test-key',\n",
    "                                         'up-card-section up-card-hover')\n",
    "\n",
    "upwork_jobs_parents = get_cards_links('upwork_soup', 'h3', 'https://www.upwork.com###', '', 'my-0 p-sm-right job-tile-title')\n",
    "upwork_jobs_links = []\n",
    "\n",
    "for parent in upwork_jobs_parents:\n",
    "    upwork_jobs_links.append(\"https://www.upwork.com\" + parent.find('a', class_= \"up-n-link\")['href'])\n",
    "## ----------------------------------------------------------\n",
    "\n",
    "\n",
    "## --------------------------Fivver--------------------------\n",
    "fivver_gigs_links = get_cards_links('fivver_soup', 'a', 'https://www.fiverr.com###', 'href', 'tbody-5 p-t-4 YLycza2 u9KHmsf')\n",
    "## ----------------------------------------------------------\n",
    "\n",
    "\n",
    "## ---------------------People per hour----------------------\n",
    "pph_services_links = get_cards_links(\"peopleperhour_soup\", \"a\", \"https://www.peopleperhour.com###\", \"href\", \n",
    "                                     \"card__title-wrapper⤍FreelancerCard⤚2-NWk\")\n",
    "\n",
    "pph_freelancers_links = get_cards_links(\"peopleperhour_soup\", \"a\", \"https://www.peopleperhour.com###\", \"href\",\n",
    "                                        \"card__title-wrapper⤍FreelancerCard⤚2-NWk\")\n",
    "\n",
    "pph_jobs_links = get_cards_links(\"peopleperhour_soup\", \"a\", \"https://www.peopleperhour.com###\", \"href\",\n",
    "                                 \"item__url⤍ListItem⤚20ULx\")\n",
    "## ----------------------------------------------------------\n",
    "\n",
    "\n",
    "## ------------------------Guru------------------------------\n",
    "guru_cards_parents_profiles = get_cards_links(\"guru_soup\", \"h2\", \"https://guru.com###\", \"\",\n",
    "                                              \"jobRecord__title jobRecord__title--changeVisited\")\n",
    "\n",
    "guru_cards_parents_jobs = get_cards_links(\"guru_soup\", \"h2\", \"https://guru.com###\", \"\",\n",
    "                                          \"jobRecord__title jobRecord__title--changeVisited\")\n",
    "## ----------------------------------------------------------\n",
    "\n",
    "\n",
    "## ----------------------Freelancer---------------------------\n",
    "freelancer_jobs_links = get_cards_links(\"freelancer_soup\", \"a\", \"https://www.freelancer.com###\", \"href\",\n",
    "                                        \"LinkElement ng-star-inserted\")\n",
    "\n",
    "freelancer_freelancers_links = get_cards_links(\"freelancer_soup\", \"a\", \"https://www.freelancer.com###\", \"href\",\n",
    "                                              \"LinkElement ng-star-inserted\")"
   ]
  },
  {
   "cell_type": "code",
   "execution_count": null,
   "id": "ba1caa82-9049-40af-9248-5a6dcf4d404f",
   "metadata": {},
   "outputs": [],
   "source": [
    "def get_upwork_links(job_type: str) -> list:  \n",
    "\n",
    "    card_tag = \"a\"\n",
    "    link_template = \"https://www.upwork.com###\"\n",
    "    link_attr = \"href\"\n",
    "\n",
    "    if job_type == \"profiles\":\n",
    "\n",
    "        card_tag = \"div\"\n",
    "        card_tag_class = \"up-card-section up-card-hover\"\n",
    "        link_template = \"https://www.upwork.com/search/profiles/?q=profiles&profile=###\"\n",
    "        link_attr = \"data-test-key\"\n",
    "    \n",
    "    elif job_type == \"jobs\":\n",
    "        card_tag_class = \"up-n-link\"\n",
    "\n",
    "\n",
    "    elif job_type == \"services\":\n",
    "        card_tag_class = \"up-n-link project-tile up-card m-0 p-0 up-card-section up-card-hover project-tile_flexible\"\n",
    "\n",
    "    else:\n",
    "        raise Exception(\"Please input correct work type from ['profiles', 'jobs', 'services'].\")\n",
    "\n",
    "\n",
    "    soup = soups[soups[\"soup_name\"] == \"upwork_soup\"][\"soup\"][0]\n",
    "\n",
    "    cards = soup.find_all(card_tag, class_= card_tag_class)\n",
    "    cards_ids = []\n",
    "\n",
    "    for card in cards:\n",
    "        \n",
    "        card_id = link_template.replace(\"###\", card[link_attr])\n",
    "        \n",
    "        if len(card_id) > len(link_template):\n",
    "            cards_ids.append(card_id)\n",
    "\n",
    "    return  cards_ids\n",
    "\n",
    "\n",
    "def get_fivver_links() -> list:\n",
    "\n",
    "    card_tag = \"div\"\n",
    "    card_tag_class = \"basic-gig-card\"\n",
    "    link_template = \"https://www.fiverr.com###\"\n",
    "    link_attr = \"href\"\n",
    "\n",
    "    cards = soup.find_all(card_tag, class_= card_tag_class)\n",
    "    cards_ids = []\n",
    "    \n",
    "    for card in cards:\n",
    "        \n",
    "        card_id = link_template.replace(\"###\", card[link_attr])\n",
    "        \n",
    "        if len(card_id) > len(link_template):\n",
    "            cards_ids.append(card_id)\n",
    "\n",
    "    return  cards_ids"
   ]
  },
  {
   "cell_type": "code",
   "execution_count": null,
   "id": "7a8189c7-4417-4b58-82f6-e1b634d4aa3f",
   "metadata": {},
   "outputs": [],
   "source": [
    "def get_guru_links(job_type: str) -> list:  \n",
    "\n",
    "    soup = soups[soups[\"soup_name\"] == \"guru_soup\"][\"soup\"][2]\n",
    "    link_template = \"https://www.guru.com###\"\n",
    "\n",
    "    if job_type == \"freelancers\":\n",
    "        cards_parents = soup.find_all(\n",
    "            'h2', class_= 'serviceListing__title serviceListing__title--dark')\n",
    "\n",
    "        cards = []\n",
    "\n",
    "        for parent in cards_parents:\n",
    "            card = parent.find('a')\n",
    "            cards.append(card)\n",
    "\n",
    "    elif job_type == \"jobs\":\n",
    "        cards_parents = soup.find_all(\n",
    "            'h2', class_ = 'jobRecord__title jobRecord__title--changeVisited')\n",
    "\n",
    "        cards = []\n",
    "\n",
    "        for parent in cards_parents:\n",
    "            card = parent.find('a')\n",
    "            cards.append(card)\n",
    "\n",
    "    cards_ids = []\n",
    "\n",
    "    for card in cards:\n",
    "        card_id = link_template.replace(\"###\", card['href'])\n",
    "        cards_ids.append(card_id)\n",
    "\n",
    "    return  cards_ids"
   ]
  },
  {
   "cell_type": "code",
   "execution_count": null,
   "id": "d8e58f11-9b8e-4ee0-bf80-8405af334fdf",
   "metadata": {},
   "outputs": [],
   "source": [
    "get_guru_links('jobs')"
   ]
  },
  {
   "cell_type": "code",
   "execution_count": null,
   "id": "dbbd419a-7ce6-4b9f-a30b-43b66e59de47",
   "metadata": {},
   "outputs": [],
   "source": []
  }
 ],
 "metadata": {
  "kernelspec": {
   "display_name": "Python 3 (ipykernel)",
   "language": "python",
   "name": "python3"
  },
  "language_info": {
   "codemirror_mode": {
    "name": "ipython",
    "version": 3
   },
   "file_extension": ".py",
   "mimetype": "text/x-python",
   "name": "python",
   "nbconvert_exporter": "python",
   "pygments_lexer": "ipython3",
   "version": "3.9.16"
  }
 },
 "nbformat": 4,
 "nbformat_minor": 5
}
