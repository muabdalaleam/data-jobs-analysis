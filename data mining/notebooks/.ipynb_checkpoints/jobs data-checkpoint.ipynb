{
 "cells": [
  {
   "cell_type": "markdown",
   "id": "b77d6d00-1121-4b75-ba3a-9b19daaf6496",
   "metadata": {
    "jp-MarkdownHeadingCollapsed": true
   },
   "source": [
    "## <center><strong><span style= 'color: #51fcc6'>Notebook </span>Describtion"
   ]
  },
  {
   "cell_type": "markdown",
   "id": "19067967-13d6-4976-8547-06ec1e6fb0ba",
   "metadata": {},
   "source": [
    "Hello There In this notebokk we are going to scrape the Full time and part time jobs data for the data related jobs like:<br>\n",
    "Data analyst, ML dev, Data scientist, Data engineer etc ..<br><br>\n",
    "\n",
    "**Important note:**\n",
    "We will analyze some countries only for indeed becuase indeed needs to specify which country to look at."
   ]
  },
  {
   "cell_type": "markdown",
   "id": "c735b5f0-0b9e-4e51-96c7-b0c92ae000d0",
   "metadata": {},
   "source": [
    "## <center><strong>Importing <span style= 'color: #48e0dc'>Packeges"
   ]
  },
  {
   "cell_type": "code",
   "execution_count": 20,
   "id": "ea612333-8338-4676-a332-959faf73ef55",
   "metadata": {},
   "outputs": [],
   "source": [
    "import re\n",
    "import time\n",
    "import random\n",
    "import scrapy\n",
    "import pickle\n",
    "import sqlite3\n",
    "import warnings\n",
    "import requests\n",
    "import itertools\n",
    "import numpy as np\n",
    "import pandas as pd\n",
    "import seaborn as sns\n",
    "from itertools import count\n",
    "from bs4 import BeautifulSoup\n",
    "from selenium import webdriver\n",
    "import matplotlib.pyplot as plt\n",
    "from urllib.parse import urljoin\n",
    "from scrapy.http import HtmlResponse\n",
    "from scrapy.crawler import CrawlerProcess\n",
    "from selenium.webdriver.common.by import By\n",
    "from selenium.webdriver.common.keys import Keys\n",
    "from IPython.display import set_matplotlib_formats\n",
    "from selenium.webdriver.chrome.service import Service\n",
    "from selenium.webdriver.chrome.options import Options\n",
    "from selenium.webdriver.support.ui import WebDriverWait\n",
    "from webdriver_manager.chrome import ChromeDriverManager\n",
    "from webdriver_manager.firefox import GeckoDriverManager\n",
    "from selenium.webdriver.support import expected_conditions as EC"
   ]
  },
  {
   "cell_type": "code",
   "execution_count": 21,
   "id": "beca8e68-9929-4d27-863f-f715f5610838",
   "metadata": {},
   "outputs": [],
   "source": [
    "%matplotlib inline\n",
    "COLORS = ['#51fcc6', '#48e0dc', '#5cd3f7', '#4895e0', '#517afc']\n",
    "\n",
    "NUMERICS = ['int16', 'int32', 'int64', 'float16', 'float32', 'float64',\n",
    "            'uint16', 'uint32', 'uint64']\n",
    "MAX_PAGES = 300\n",
    "\n",
    "set_matplotlib_formats('pdf', 'svg')\n",
    "warnings.filterwarnings('ignore')\n",
    "\n",
    "ip_port_list = [('75.84.199.80', '80'),\n",
    "                ('172.173.241.207', '80'),\n",
    "                ('209.145.60.213', '80'),\n",
    "                ('86.109.3.28', '80'),\n",
    "                ('65.111.241.211', '80'),\n",
    "                ('144.34.162.125', '80')]"
   ]
  },
  {
   "cell_type": "markdown",
   "id": "8556ce34-26e3-4fa6-b26c-330970e723bb",
   "metadata": {},
   "source": [
    "## <center><strong>Setting up the<span style= 'color: #5cd3f7'> web scrapers"
   ]
  },
  {
   "cell_type": "code",
   "execution_count": 22,
   "id": "95942737-c384-4a2a-980d-02c24e559224",
   "metadata": {},
   "outputs": [],
   "source": [
    "data_jobs_titles = ['Data entry', 'Data engineer',\n",
    "                    'Data scientist', 'Data analyst',\n",
    "                    'ML developer']\n",
    "\n",
    "indeed_countries = ['de', 'uk']#, 'www'] USA don't have to be spesfied in the URL so we will use 'www' instead\n",
    "linkedin_countries = ['European Union', 'United States']\n",
    "ip_port = random.choice(ip_port_list)"
   ]
  },
  {
   "cell_type": "code",
   "execution_count": 28,
   "id": "720f110a-3276-4b47-9da0-f65599e632df",
   "metadata": {},
   "outputs": [],
   "source": [
    "import cloudscraper \n",
    "\n",
    "def get_soup(url):\n",
    "  \n",
    "    scraper = cloudscraper.create_scraper(delay=10, browser=\"chrome\") \n",
    "    content = scraper.get(\"https://opensea.io/rankings/trending\").text \n",
    "    \n",
    "    return content\n",
    "\n",
    "\n",
    "\n",
    "# def scrape_page(url: str, retrieve_new_url= False) -> BeautifulSoup:\n",
    "    \n",
    "#     driver = webdriver.Chrome()\n",
    "#     driver.get(url)\n",
    "    \n",
    "#     wait = WebDriverWait(driver, 10)\n",
    "    \n",
    "#     # Wait until the page is fully loaded\n",
    "#     wait.until(EC.presence_of_element_located((By.TAG_NAME, 'body')))\n",
    "    \n",
    "#     html = driver.page_source\n",
    "\n",
    "#     if retrieve_new_url:\n",
    "        \n",
    "#         new_url = driver.current_url\n",
    "#         driver.quit()\n",
    "        \n",
    "#         return BeautifulSoup(html), new_url\n",
    "        \n",
    "#     driver.quit()\n",
    "\n",
    "#     return BeautifulSoup(html)"
   ]
  },
  {
   "cell_type": "code",
   "execution_count": 29,
   "id": "7f5996a1-f5db-4d70-b908-354d1b0a84b5",
   "metadata": {
    "tags": []
   },
   "outputs": [
    {
     "name": "stderr",
     "output_type": "stream",
     "text": [
      "2023-07-17 08:42:06 [urllib3.connectionpool] DEBUG: Starting new HTTPS connection (1): google.com:443\n",
      "2023-07-17 08:42:06 [urllib3.connectionpool] DEBUG: https://google.com:443 \"GET / HTTP/1.1\" 301 220\n",
      "2023-07-17 08:42:06 [urllib3.connectionpool] DEBUG: Starting new HTTPS connection (1): www.google.com:443\n",
      "2023-07-17 08:42:07 [urllib3.connectionpool] DEBUG: https://www.google.com:443 \"GET / HTTP/1.1\" 200 None\n"
     ]
    },
    {
     "data": {
      "text/plain": [
       "<!DOCTYPE html>\n",
       "<html dir=\"rtl\" itemscope=\"\" itemtype=\"http://schema.org/WebPage\" lang=\"ar\"><head><meta content=\"text/html; charset=utf-8\" http-equiv=\"Content-Type\"/><meta content=\"/logos/doodles/2023/celebrating-asma-hamza-6753651837109902.2-l.png\" itemprop=\"image\"/><meta content='الاحتفال بذكرى \"أسماء حمزة\"' property=\"twitter:title\"/><meta content='نحتفل اليوم بذكرى \"أسماء حمزة\". #GoogleDoodle' property=\"twitter:description\"/><meta content='نحتفل اليوم بذكرى \"أسماء حمزة\". #GoogleDoodle' property=\"og:description\"/><meta content=\"summary_large_image\" property=\"twitter:card\"/><meta content=\"@GoogleDoodles\" property=\"twitter:site\"/><meta content=\"https://www.google.com/logos/doodles/2023/celebrating-asma-hamza-6753651837109902-2x.png\" property=\"twitter:image\"/><meta content=\"https://www.google.com/logos/doodles/2023/celebrating-asma-hamza-6753651837109902-2x.png\" property=\"og:image\"/><meta content=\"1000\" property=\"og:image:width\"/><meta content=\"400\" property=\"og:image:height\"/><title>Google</title><script nonce=\"aWrqPtFka357W7BLU13v8w\">(function(){var _g={kEI:'sNS0ZIfRAoeqkdUPmvmb4A8',kEXPI:'0,1359409,6058,207,4804,2316,383,246,5,1129120,1748,13,1195992,895,379842,16115,28684,22430,1362,284,12031,17584,4998,13744,3331,38444,889,1983,2891,11754,606,30668,30022,16105,230,20583,4,1528,2304,42126,13659,4437,9357,13229,6651,7596,1,42154,2,38003,1758,5679,1020,14866,16257,4568,6255,17114,6307,1252,5835,19300,7484,445,2,2,1,26632,8155,7381,1401,79,14490,873,19633,7,1922,32672,19566,20198,20137,14,82,20206,8377,24363,3030,6111,9705,1804,10472,2884,7161,2320,10260,1896,5526,3536,3027,1632,5801,2,2148,5892,1146,8275,1016,4,2418,1991,1060,4863,4951,3893,3895,3,3,9,4129,1271,556,1485,372,5204376,5557,386,1235,2,26,8797917,3311,141,795,19735,1,1,346,6635,307,1,8,38,5,29,4,5,8,11,65,22,4,10,12,28,178,4,53,1,3,36,51,4,7,12,45,1,23942898,578,4057826,2374,28961,72,3917,2977,1142,1402871,23759270,2581,1020,1574,2,1144,1633,1,474,783,2565,1022,3590,1179,1,3638,1918,99,175,688,1297,99,198,151,2729,614,1768,74,1,575,828,591,630,955,1053,14,242,1490,476,10,712,1433,319,477,168,45,1207,178,1733,703,208,8,4,814,26,186,1497,970,2059,5,1008,79,197,128,3,369,1384,7,225,405,3,1207,155,36,209,144,6,3,462,191,45,688,6,1133,3,771,733,753,175,2191,137,13,2,345,270,3,421,73,1353,169,420,2,1401,1046,57,14,741,35,43,554,202,263,4,431,372,2,592,308',kBL:'qb-a',kOPI:89978449};(function(){var a;(null==(a=window.google)?0:a.stvsc)?google.kEI=_g.kEI:window.google=_g;}).call(this);})();(function(){google.sn='webhp';google.kHL='ar';})();(function(){\n",
       "var h=this||self;function l(){return void 0!==window.google&&void 0!==window.google.kOPI&&0!==window.google.kOPI?window.google.kOPI:null};var m,n=[];function p(a){for(var b;a&&(!a.getAttribute||!(b=a.getAttribute(\"eid\")));)a=a.parentNode;return b||m}function q(a){for(var b=null;a&&(!a.getAttribute||!(b=a.getAttribute(\"leid\")));)a=a.parentNode;return b}function r(a){/^http:/i.test(a)&&\"https:\"===window.location.protocol&&(google.ml&&google.ml(Error(\"a\"),!1,{src:a,glmm:1}),a=\"\");return a}\n",
       "function t(a,b,c,d,k){var e=\"\";-1===b.search(\"&ei=\")&&(e=\"&ei=\"+p(d),-1===b.search(\"&lei=\")&&(d=q(d))&&(e+=\"&lei=\"+d));d=\"\";var g=-1===b.search(\"&cshid=\")&&\"slh\"!==a,f=[];f.push([\"zx\",Date.now().toString()]);h._cshid&&g&&f.push([\"cshid\",h._cshid]);c=c();null!=c&&f.push([\"opi\",c.toString()]);for(c=0;c<f.length;c++){if(0===c||0<c)d+=\"&\";d+=f[c][0]+\"=\"+f[c][1]}return\"/\"+(k||\"gen_204\")+\"?atyp=i&ct=\"+String(a)+\"&cad=\"+(b+e+d)};m=google.kEI;google.getEI=p;google.getLEI=q;google.ml=function(){return null};google.log=function(a,b,c,d,k,e){e=void 0===e?l:e;c||(c=t(a,b,e,d,k));if(c=r(c)){a=new Image;var g=n.length;n[g]=a;a.onerror=a.onload=a.onabort=function(){delete n[g]};a.src=c}};google.logUrl=function(a,b){b=void 0===b?l:b;return t(\"\",a,b)};}).call(this);(function(){google.y={};google.sy=[];google.x=function(a,b){if(a)var c=a.id;else{do c=Math.random();while(google.y[c])}google.y[c]=[a,b];return!1};google.sx=function(a){google.sy.push(a)};google.lm=[];google.plm=function(a){google.lm.push.apply(google.lm,a)};google.lq=[];google.load=function(a,b,c){google.lq.push([[a],b,c])};google.loadAll=function(a,b){google.lq.push([a,b])};google.bx=!1;google.lx=function(){};}).call(this);google.f={};(function(){\n",
       "document.documentElement.addEventListener(\"submit\",function(b){var a;if(a=b.target){var c=a.getAttribute(\"data-submitfalse\");a=\"1\"===c||\"q\"===c&&!a.elements.q.value?!0:!1}else a=!1;a&&(b.preventDefault(),b.stopPropagation())},!0);document.documentElement.addEventListener(\"click\",function(b){var a;a:{for(a=b.target;a&&a!==document.documentElement;a=a.parentElement)if(\"A\"===a.tagName){a=\"1\"===a.getAttribute(\"data-nohref\");break a}a=!1}a&&b.preventDefault()},!0);}).call(this);</script><style>#gbar,#guser{font-size:13px;padding-top:1px !important;}#gbar{height:22px}#guser{padding-bottom:7px !important;text-align:left}.gbh,.gbd{border-top:1px solid #c9d7f1;font-size:1px}.gbh{height:0;position:absolute;top:24px;width:100%}@media all{.gb1{height:22px;margin-left:.5em;vertical-align:top}#gbar{float:right}}a.gb1,a.gb4{text-decoration:underline !important}a.gb1,a.gb4{color:#00c !important}.gbi .gb4{color:#dd8e27 !important}.gbf .gb4{color:#900 !important}\n",
       "</style><style>body,td,a,p,.h{font-family:arial,sans-serif}body{margin:0;overflow-y:scroll}#gog{padding:3px 8px 0}td{line-height:.8em}.gac_m td{line-height:17px}form{margin-bottom:20px}.h{color:#1967d2}em{font-weight:bold;font-style:normal}.lst{height:25px;width:496px}.gsfi,.lst{font:18px arial,sans-serif}.gsfs{font:17px arial,sans-serif}.ds{display:inline-box;display:inline-block;margin:3px 0 4px;margin-right:4px}input{font-family:inherit}body{background:#fff;color:#000}a{color:#681da8;text-decoration:none}a:hover,a:active{text-decoration:underline}.fl a{color:#1967d2}a:visited{color:#681da8}.sblc{padding-top:5px}.sblc a{display:block;margin:2px 0;margin-right:13px;font-size:11px}.lsbb{background:#f8f9fa;border:solid 1px;border-color:#dadce0 #dadce0 #70757a #70757a;height:30px}.lsbb{display:block}#WqQANb a{display:inline-block;margin:0 12px}.lsb{background:url(/images/nav_logo229.png) 0 -261px repeat-x;color:#000;border:none;cursor:pointer;height:30px;margin:0;outline:0;font:15px arial,sans-serif;vertical-align:top}.lsb:active{background:#dadce0}.lst:focus{outline:none}.Ucigb{width:458px}</style><script nonce=\"aWrqPtFka357W7BLU13v8w\">(function(){window.google.erd={jsr:1,bv:1830,de:true};\n",
       "var l=this||self;var m,n=null!=(m=l.mei)?m:1,p,q=null!=(p=l.sdo)?p:!0,r=0,t,u=google.erd,v=u.jsr;google.ml=function(a,b,d,h,e){e=void 0===e?2:e;b&&(t=a&&a.message);if(google.dl)return google.dl(a,e,d),null;if(0>v){window.console&&console.error(a,d);if(-2===v)throw a;b=!1}else b=!a||!a.message||\"Error loading script\"===a.message||r>=n&&!h?!1:!0;if(!b)return null;r++;d=d||{};b=encodeURIComponent;var c=\"/gen_204?atyp=i&ei=\"+b(google.kEI);google.kEXPI&&(c+=\"&jexpid=\"+b(google.kEXPI));c+=\"&srcpg=\"+b(google.sn)+\"&jsr=\"+b(u.jsr)+\"&bver=\"+b(u.bv);var f=a.lineNumber;void 0!==f&&(c+=\"&line=\"+f);var g=\n",
       "a.fileName;g&&(0<g.indexOf(\"-extension:/\")&&(e=3),c+=\"&script=\"+b(g),f&&g===window.location.href&&(f=document.documentElement.outerHTML.split(\"\\n\")[f],c+=\"&cad=\"+b(f?f.substring(0,300):\"No script found.\")));c+=\"&cad=ple_\"+google.ple;google.ple&&1===google.ple&&(e=2);c+=\"&jsel=\"+e;for(var k in d)c+=\"&\",c+=b(k),c+=\"=\",c+=b(d[k]);c=c+\"&emsg=\"+b(a.name+\": \"+a.message);c=c+\"&jsst=\"+b(a.stack||\"N/A\");12288<=c.length&&(c=c.substr(0,12288));a=c;h||google.log(0,\"\",a);return a};window.onerror=function(a,b,d,h,e){if(t!==a){a=e instanceof Error?e:Error(a);void 0===d||\"lineNumber\"in a||(a.lineNumber=d);void 0===b||\"fileName\"in a||(a.fileName=b);b=void 0;if(a.stack&&(-1!==a.stack.indexOf(\"?xjs=s0\")||-1!==a.stack.indexOf(\"&xjs=s0\"))){b=document.querySelectorAll(\"script[src*=\\\\/xjs\\\\/_\\\\/js\\\\/]\");for(h=d=0;h<b.length;h++)d+=b[h].async?1:0;var c=e=h=-1,f=-1,g=-1;if(performance&&google.xjsu){h=0;e=google.timers.load.t.xjsee?1:0;f=c=0;g=performance.getEntriesByType(\"resource\");for(var k=\n",
       "0;k<g.length;k++)-1!==g[k].name.indexOf(google.xjsu)&&(h=1),-1!==g[k].name.indexOf(\"/xjs/_/js/\")&&(c+=1,f+=\"script\"===g[k].initiatorType?1:0);g=c-f}b={cad:\"pl_\"+h+\".pe_\"+e+\".asc_\"+d+\".tsc_\"+b.length+\".fasc_\"+(b.length-d)+\".lxc_\"+c+\".lsx_\"+f+\".lnsx_\"+g}}google.ml(a,!1,b,!1,\"SyntaxError\"===a.name||\"SyntaxError\"===a.message.substring(0,11)||-1!==a.message.indexOf(\"Script error\")?3:0)}t=null;q&&r>=n&&(window.onerror=null)};})();</script></head><body bgcolor=\"#fff\"><script nonce=\"aWrqPtFka357W7BLU13v8w\">(function(){var src='/images/nav_logo229.png';var iesg=false;document.body.onload = function(){window.n && window.n();if (document.images){new Image().src=src;}\n",
       "if (!iesg){document.f&&document.f.q.focus();document.gbqf&&document.gbqf.q.focus();}\n",
       "}\n",
       "})();</script><div id=\"mngb\"><div id=\"gbar\"><nobr><b class=\"gb1\">بحث</b> <a class=\"gb1\" href=\"https://www.google.com/imghp?hl=ar&amp;tab=wi\">صور</a> <a class=\"gb1\" href=\"https://maps.google.com.eg/maps?hl=ar&amp;tab=wl\">خرائط Google</a> <a class=\"gb1\" href=\"https://play.google.com/?hl=ar&amp;tab=w8\">Play</a> <a class=\"gb1\" href=\"https://www.youtube.com/?tab=w1\">YouTube</a> <a class=\"gb1\" href=\"https://news.google.com/?tab=wn\">الأخبار</a> <a class=\"gb1\" href=\"https://mail.google.com/mail/?tab=wm\">Gmail</a> <a class=\"gb1\" href=\"https://drive.google.com/?tab=wo\">Drive</a> <a class=\"gb1\" href=\"https://www.google.com.eg/intl/ar/about/products?tab=wh\" style=\"text-decoration:none\"><u>المزيد</u> »</a></nobr></div><div id=\"guser\" width=\"100%\"><nobr><span class=\"gbi\" id=\"gbn\"></span><span class=\"gbf\" id=\"gbf\"></span><span id=\"gbe\"></span><a class=\"gb4\" href=\"http://www.google.com.eg/history/optout?hl=ar\">سِجل بحث الويب</a> | <a class=\"gb4\" href=\"/preferences?hl=ar\">الإعدادات</a> | <a class=\"gb4\" href=\"https://accounts.google.com/ServiceLogin?hl=ar&amp;passive=true&amp;continue=https://www.google.com/&amp;ec=GAZAAQ\" id=\"gb_70\" target=\"_top\">تسجيل الدخول</a></nobr></div><div class=\"gbh\" style=\"left:0\"></div><div class=\"gbh\" style=\"right:0\"></div></div><center><br clear=\"all\" id=\"lgpd\"/><div id=\"lga\"><a href=\"/search?ie=UTF-8&amp;q=%D8%A3%D8%B3%D9%85%D8%A7%D8%A1+%D8%AD%D9%85%D8%B2%D8%A9&amp;oi=ddle&amp;ct=253316736&amp;hl=ar&amp;si=ACFMAn9guiESjt3hsdqUPIy1y2qa0157EysY45UH-07krUGxzgPnR4WUSZGGDefpSvBzFsjYjJhPzNjRsYKZbBVqOuZgx0_eECo-o2PaIiVLe1PQ4_9v1r64UzqMuBptGEc_jLBqHYDx5UQdQDTcU-ptDlg4w65FsLfP-jPeOGkRySkIVwfp9cI%3D&amp;sa=X&amp;ved=0ahUKEwiH6eyShJWAAxUHVaQEHZr8BvwQPQgD\"><img alt='الاحتفال بذكرى \"أسماء حمزة\"' border=\"0\" height=\"200\" id=\"hplogo\" src=\"/logos/doodles/2023/celebrating-asma-hamza-6753651837109902.2-l.png\" title='الاحتفال بذكرى \"أسماء حمزة\"' width=\"500\"/><br/></a><br/></div><form action=\"/search\" name=\"f\"><table cellpadding=\"0\" cellspacing=\"0\"><tr valign=\"top\"><td width=\"25%\"> </td><td align=\"center\" nowrap=\"\"><input name=\"ie\" type=\"hidden\" value=\"ISO-8859-1\"/><input name=\"hl\" type=\"hidden\" value=\"ar\"/><input name=\"source\" type=\"hidden\" value=\"hp\"/><input name=\"biw\" type=\"hidden\"/><input name=\"bih\" type=\"hidden\"/><div class=\"ds\" style=\"height:32px;margin:4px 0\"><div style=\"position:relative;zoom:1\"><input autocomplete=\"off\" class=\"lst Ucigb\" maxlength=\"2048\" name=\"q\" size=\"57\" style=\"margin:0;padding:5px 6px 0 8px;vertical-align:top;color:#000;padding-left:38px\" title=\"بحث Google\" value=\"\"/><img alt=\"\" data-script-url=\"/textinputassistant/12/ar_tia.js\" height=\"23\" id=\"tsuid_1\" src=\"/textinputassistant/tia.png\" style=\"position:absolute;cursor:pointer;left:5px;top:4px;z-index:300\" width=\"27\"/><script nonce=\"aWrqPtFka357W7BLU13v8w\">(function(){var id='tsuid_1';document.getElementById(id).onclick = function(){var s = document.createElement('script');s.src = this.getAttribute('data-script-url');(document.getElementById('xjsc')||document.body).appendChild(s);};})();</script></div></div><br style=\"line-height:0\"/><span class=\"ds\"><span class=\"lsbb\"><input class=\"lsb\" name=\"btnG\" type=\"submit\" value=\"بحث Google\"/></span></span><span class=\"ds\"><span class=\"lsbb\"><input class=\"lsb\" id=\"tsuid_2\" name=\"btnI\" type=\"submit\" value=\"ضربة حظ\"/><script nonce=\"aWrqPtFka357W7BLU13v8w\">(function(){var id='tsuid_2';document.getElementById(id).onclick = function(){if (this.form.q.value){this.checked = 1;if (this.form.iflsig)this.form.iflsig.disabled = false;}\n",
       "else top.location='/doodles/';};})();</script><input name=\"iflsig\" type=\"hidden\" value=\"AD69kcEAAAAAZLTiwN8Wa9VqD5vnyotSBRjW5Ko2A_FX\"/></span></span></td><td align=\"right\" class=\"fl sblc\" nowrap=\"\" width=\"25%\"><a href=\"/advanced_search?hl=ar&amp;authuser=0\">بحث متقدم</a></td></tr></table><input id=\"gbv\" name=\"gbv\" type=\"hidden\" value=\"1\"/><script nonce=\"aWrqPtFka357W7BLU13v8w\">(function(){var a,b=\"1\";if(document&&document.getElementById)if(\"undefined\"!=typeof XMLHttpRequest)b=\"2\";else if(\"undefined\"!=typeof ActiveXObject){var c,d,e=[\"MSXML2.XMLHTTP.6.0\",\"MSXML2.XMLHTTP.3.0\",\"MSXML2.XMLHTTP\",\"Microsoft.XMLHTTP\"];for(c=0;d=e[c++];)try{new ActiveXObject(d),b=\"2\"}catch(h){}}a=b;if(\"2\"==a&&-1==location.search.indexOf(\"&gbv=2\")){var f=google.gbvu,g=document.getElementById(\"gbv\");g&&(g.value=a);f&&window.setTimeout(function(){location.href=f},0)};}).call(this);</script></form><div id=\"gac_scont\"></div><div style=\"font-size:83%;min-height:3.5em\"><br/><div id=\"gws-output-pages-elements-homepage_additional_languages__als\"><style>#gws-output-pages-elements-homepage_additional_languages__als{font-size:small;margin-bottom:24px}#SIvCob{color:#3c4043;display:inline-block;line-height:28px;}#SIvCob a{padding:0 3px;}.H6sW5{display:inline-block;margin:0 2px;white-space:nowrap}.z4hgWe{display:inline-block;margin:0 2px}</style><div id=\"SIvCob\">محرّك بحث Google متوفّر باللغة:  <a dir=\"ltr\" href=\"https://www.google.com/setprefs?sig=0_RjmaVuwMKg4TJlqwlu5hOmzETkc%3D&amp;hl=en&amp;source=homepage&amp;sa=X&amp;ved=0ahUKEwiH6eyShJWAAxUHVaQEHZr8BvwQ2ZgBCAU\">English</a> </div></div></div><span id=\"footer\"><div style=\"font-size:10pt\"><div id=\"WqQANb\" style=\"margin:19px auto;text-align:center\"><a href=\"/intl/ar/ads/\">الإعلانات</a><a href=\"http://www.google.com/intl/ar/services/\">حلول الشركات</a><a href=\"/intl/ar/about.html\">كل ما تحب معرفته عن Google هنا</a><a dir=\"ltr\" href=\"https://www.google.com/setprefdomain?prefdom=EG&amp;prev=https://www.google.com.eg/&amp;sig=K_OSu7beJ1e_QO3xkPLoZBPf-6jrQ%3D\">Google.com.eg</a></div></div><p style=\"font-size:8pt;color:#70757a\">© 2023 - <a href=\"/intl/ar/policies/privacy/\">الخصوصية</a> - <a href=\"/intl/ar/policies/terms/\">البنود</a></p></span></center><script nonce=\"aWrqPtFka357W7BLU13v8w\">(function(){window.google.cdo={height:757,width:1440};(function(){var a=window.innerWidth,b=window.innerHeight;if(!a||!b){var c=window.document,d=\"CSS1Compat\"==c.compatMode?c.documentElement:c.body;a=d.clientWidth;b=d.clientHeight}\n",
       "if(a&&b&&(a!=google.cdo.width||b!=google.cdo.height)){var e=google,f=e.log,g=\"/client_204?&atyp=i&biw=\"+a+\"&bih=\"+b+\"&ei=\"+google.kEI,h=\"\",k=[],l=void 0!==window.google&&void 0!==window.google.kOPI&&0!==window.google.kOPI?window.google.kOPI:null;null!=l&&k.push([\"opi\",l.toString()]);for(var m=0;m<k.length;m++){if(0===m||0<m)h+=\"&\";h+=k[m][0]+\"=\"+k[m][1]}f.call(e,\"\",\"\",g+h)};}).call(this);})();</script> <script nonce=\"aWrqPtFka357W7BLU13v8w\">(function(){google.xjs={ck:'xjs.hp.NsJKZ5rvgsc.R.X.O',cs:'ACT90oFzc-jIExvSSJuOv69Y_KcdPW_Ofw',csss:'ACT90oFh1wV85DqLCaaMVvw9qi5OUmfyiA',excm:[],sepcss:false};})();</script> <script nonce=\"aWrqPtFka357W7BLU13v8w\">(function(){var u='/xjs/_/js/k\\x3dxjs.hp.en.0zUMXKhqv6o.O/am\\x3dAAAAAAAAAAAAAIACAAAAAAAAAEAAQCcAQAEACw/d\\x3d1/ed\\x3d1/rs\\x3dACT90oGZ8qr3FX95Vos16Uk92uye5G2Igg/m\\x3dsb_he,d,cEt90b,SNUn3,qddgKe,sTsDMc,dtl0hd,eHDfl';var amd=0;\n",
       "var d=this||self,e=function(b){return b};var f;var h=function(b){this.g=b};h.prototype.toString=function(){return this.g+\"\"};var l={};var n=function(){var b=document;var a=\"SCRIPT\";\"application/xhtml+xml\"===b.contentType&&(a=a.toLowerCase());return b.createElement(a)};\n",
       "function p(){var b=u,a=function(){};google.lx=google.stvsc?a:function(){q(b);google.lx=a};google.bx||google.lx()}\n",
       "function r(b,a){a=null===a?\"null\":void 0===a?\"undefined\":a;if(void 0===f){var c=null;var k=d.trustedTypes;if(k&&k.createPolicy){try{c=k.createPolicy(\"goog#html\",{createHTML:e,createScript:e,createScriptURL:e})}catch(t){d.console&&d.console.error(t.message)}f=c}else f=c}a=(c=f)?c.createScriptURL(a):a;a=new h(a,l);b.src=a instanceof h&&a.constructor===h?a.g:\"type_error:TrustedResourceUrl\";var g,m;(g=(a=null==(m=(g=(b.ownerDocument&&b.ownerDocument.defaultView||window).document).querySelector)?void 0:m.call(g,\"script[nonce]\"))?a.nonce||a.getAttribute(\"nonce\")||\"\":\"\")&&b.setAttribute(\"nonce\",g);document.body.appendChild(b)}function q(b){google.timers&&google.timers.load&&google.tick&&google.tick(\"load\",\"xjsls\");var a=n();a.onerror=function(){google.ple=1};a.onload=function(){google.ple=0};r(a,b);google.psa=!0};google.xjsu=u;d._F_jsUrl=u;setTimeout(function(){0<amd?google.caft(function(){return p()},amd):p()},0);})();window._ = window._ || {};window._DumpException = _._DumpException = function(e){throw e;};window._s = window._s || {};_s._DumpException = _._DumpException;window._qs = window._qs || {};_qs._DumpException = _._DumpException;function _F_installCss(c){}\n",
       "(function(){google.jl={blt:'none',chnk:0,dw:false,dwu:true,emtn:0,end:0,ico:false,ikb:0,ine:false,injs:'none',injt:0,injth:0,injv2:false,lls:'default',pdt:0,rep:0,snet:true,strt:0,ubm:false,uwp:true};})();(function(){var pmc='{\\x22d\\x22:{},\\x22sb_he\\x22:{\\x22agen\\x22:true,\\x22cgen\\x22:true,\\x22client\\x22:\\x22heirloom-hp\\x22,\\x22dh\\x22:true,\\x22ds\\x22:\\x22\\x22,\\x22fl\\x22:true,\\x22host\\x22:\\x22google.com\\x22,\\x22jsonp\\x22:true,\\x22msgs\\x22:{\\x22cibl\\x22:\\x22\\\\u0645\\\\u062d\\\\u0648 \\\\u0627\\\\u0644\\\\u0628\\\\u062d\\\\u062b\\x22,\\x22dym\\x22:\\x22\\\\u0647\\\\u0644 \\\\u062a\\\\u0642\\\\u0635\\\\u062f :\\x22,\\x22lcky\\x22:\\x22\\\\u0636\\\\u0631\\\\u0628\\\\u0629 \\\\u062d\\\\u0638\\x22,\\x22lml\\x22:\\x22\\\\u0645\\\\u0632\\\\u064a\\\\u062f \\\\u0645\\\\u0646 \\\\u0627\\\\u0644\\\\u0645\\\\u0639\\\\u0644\\\\u0648\\\\u0645\\\\u0627\\\\u062a\\x22,\\x22psrc\\x22:\\x22\\\\u062a\\\\u0645\\\\u062a \\\\u0625\\\\u0632\\\\u0627\\\\u0644\\\\u0629 \\\\u0647\\\\u0630\\\\u0627 \\\\u0627\\\\u0644\\\\u0628\\\\u062d\\\\u062b \\\\u0645\\\\u0646 \\\\u003Ca href\\x3d\\\\\\x22/history\\\\\\x22\\\\u003E\\\\u0633\\\\u0650\\\\u062c\\\\u0644 \\\\u0627\\\\u0644\\\\u0628\\\\u062d\\\\u062b\\\\u003C/a\\\\u003E.\\x22,\\x22psrl\\x22:\\x22\\\\u0625\\\\u0632\\\\u0627\\\\u0644\\\\u0629\\x22,\\x22sbit\\x22:\\x22\\\\u0627\\\\u0644\\\\u0628\\\\u062d\\\\u062b \\\\u0628\\\\u062d\\\\u0633\\\\u0628 \\\\u0627\\\\u0644\\\\u0635\\\\u0648\\\\u0631\\x22,\\x22srch\\x22:\\x22\\\\u0628\\\\u062d\\\\u062b Google\\\\u200f\\x22},\\x22ovr\\x22:{},\\x22pq\\x22:\\x22\\x22,\\x22rfs\\x22:[],\\x22sbas\\x22:\\x220 3px 8px 0 rgba(0,0,0,0.2),0 0 0 1px rgba(0,0,0,0.08)\\x22,\\x22stok\\x22:\\x224Ex1dcyu6tA-Gsmw4IhQtG9PmyE\\x22}}';google.pmc=JSON.parse(pmc);})();(function(){\n",
       "var b=function(a){var c=0;return function(){return c<a.length?{done:!1,value:a[c++]}:{done:!0}}},e=this||self;var g,h;a:{for(var k=[\"CLOSURE_FLAGS\"],l=e,n=0;n<k.length;n++)if(l=l[k[n]],null==l){h=null;break a}h=l}var p=h&&h[610401301];g=null!=p?p:!1;var q,r=e.navigator;q=r?r.userAgentData||null:null;function t(a){return g?q?q.brands.some(function(c){return(c=c.brand)&&-1!=c.indexOf(a)}):!1:!1}function u(a){var c;a:{if(c=e.navigator)if(c=c.userAgent)break a;c=\"\"}return-1!=c.indexOf(a)};function v(){return g?!!q&&0<q.brands.length:!1}function w(){return u(\"Safari\")&&!(x()||(v()?0:u(\"Coast\"))||(v()?0:u(\"Opera\"))||(v()?0:u(\"Edge\"))||(v()?t(\"Microsoft Edge\"):u(\"Edg/\"))||(v()?t(\"Opera\"):u(\"OPR\"))||u(\"Firefox\")||u(\"FxiOS\")||u(\"Silk\")||u(\"Android\"))}function x(){return v()?t(\"Chromium\"):(u(\"Chrome\")||u(\"CriOS\"))&&!(v()?0:u(\"Edge\"))||u(\"Silk\")}function y(){return u(\"Android\")&&!(x()||u(\"Firefox\")||u(\"FxiOS\")||(v()?0:u(\"Opera\"))||u(\"Silk\"))};var z=v()?!1:u(\"Trident\")||u(\"MSIE\");y();x();w();var A=!z&&!w(),D=function(a){if(/-[a-z]/.test(\"ved\"))return null;if(A&&a.dataset){if(y()&&!(\"ved\"in a.dataset))return null;a=a.dataset.ved;return void 0===a?null:a}return a.getAttribute(\"data-\"+\"ved\".replace(/([A-Z])/g,\"-$1\").toLowerCase())};var E=[],F=null;function G(a){a=a.target;var c=performance.now(),f=[],H=f.concat,d=E;if(!(d instanceof Array)){var m=\"undefined\"!=typeof Symbol&&Symbol.iterator&&d[Symbol.iterator];if(m)d=m.call(d);else if(\"number\"==typeof d.length)d={next:b(d)};else throw Error(\"a`\"+String(d));for(var B=[];!(m=d.next()).done;)B.push(m.value);d=B}E=H.call(f,d,[c]);if(a&&a instanceof HTMLElement)if(a===F){if(c=4<=E.length)c=5>(E[E.length-1]-E[E.length-4])/1E3;if(c){c=google.getEI(a);a.hasAttribute(\"data-ved\")?f=a?D(a)||\"\":\"\":f=(f=\n",
       "a.closest(\"[data-ved]\"))?D(f)||\"\":\"\";f=f||\"\";if(a.hasAttribute(\"jsname\"))a=a.getAttribute(\"jsname\");else{var C;a=null==(C=a.closest(\"[jsname]\"))?void 0:C.getAttribute(\"jsname\")}google.log(\"rcm\",\"&ei=\"+c+\"&ved=\"+f+\"&jsname=\"+(a||\"\"))}}else F=a,E=[c]}window.document.addEventListener(\"DOMContentLoaded\",function(){document.body.addEventListener(\"click\",G)});}).call(this);</script></body></html>"
      ]
     },
     "execution_count": 29,
     "metadata": {},
     "output_type": "execute_result"
    }
   ],
   "source": [
    "get_soup('https://google.com')"
   ]
  },
  {
   "cell_type": "code",
   "execution_count": 5,
   "id": "3dcad281-40d3-44a8-9832-6b8362d1084f",
   "metadata": {},
   "outputs": [],
   "source": [
    "# def indeed_scraper(page: int,\n",
    "#                    country: str,\n",
    "#                    job_title: str) -> BeautifulSoup:\n",
    "\n",
    "#     modefid_page = (page - 1) * 10\n",
    "\n",
    "#     data_job_title = job_title.replace(' ', '+')\n",
    "\n",
    "#     # Pages in indeed.com are zero based indexed\n",
    "#     url: str = f'https://{country}.indeed.com/jobs?q={data_job_title}&sc=0kf%3Aattr%28DSQF7%29%3B&start={modefid_page}' + \\\n",
    "#     '&pp=gQClAAAAAAAAAAAAAAACCXklWwCSAQIBK7YBBwDUbujiRGBahYW5TppjdUz7DjXn3aPZSbT47IoJ5LLbuzpYcXwZdzJ6rKHf' + \\\n",
    "#     '6gPWFkXVGxKKGxW-JAKb8BFo_hZAkBd7trBBTY32J2CrOuA3V9dGD_bre-lArmi9DRYlcah6hvoRfsYUNYSoQwIa8VOMZMxvH-s2Dlh' + \\\n",
    "#     'UPvUP-_Dz9ls4i-OLqVGpGh4AAA&vjk=b997bb0dddadea'\n",
    "\n",
    "#     soup = scrape_page(url)\n",
    "#     loaded_page = int(soup.find('button', 'css-ns2mzi e8ju0x51').text)\n",
    "\n",
    "#     # available_pages = []\n",
    "\n",
    "#     # for button in soup.find_all('button', 'css-1qt7hdn e8ju0x50'):\n",
    "#     #     available_pages.append(int(button.text))\n",
    "\n",
    "#     if (int(page) != loaded_page):\n",
    "#         # We will use KeyError as standard to represent getting out of the max pages.\n",
    "#         raise KeyError\n",
    "        \n",
    "#     print(f'Page {page} Loaded successfully.')\n",
    "\n",
    "#     return  soup"
   ]
  },
  {
   "cell_type": "code",
   "execution_count": 6,
   "id": "88a6040f-fd32-488e-9886-534281049e1e",
   "metadata": {},
   "outputs": [],
   "source": [
    "def linkedin_scraper(country: str, # This scraper scrapes all pages at once\n",
    "                     job_title: str,\n",
    "                     page: int) -> BeautifulSoup:\n",
    "\n",
    "    page: int = (page - 1) * 25\n",
    "    url: str = f'https://www.linkedin.com/jobs-guest/jobs/api/seeMoreJobPostings/search?keywords={job_title}&' + \\\n",
    "    f'location={country}&geoId=90000084&trk=public_jobs_j%20obs-search-bar_search-submit&position=1&pageNum=0&start={page}'\n",
    "\n",
    "    response = requests.get(url)\n",
    "    soup = BeautifulSoup(response.content,'html.parser')\n",
    "\n",
    "    return  soup"
   ]
  },
  {
   "cell_type": "markdown",
   "id": "4951bed7-9819-4466-8604-9660043e7744",
   "metadata": {},
   "source": [
    "## <center><strong>Collecting<span style= 'color: #5cd3f7'> jobs </span> data"
   ]
  },
  {
   "cell_type": "markdown",
   "id": "3452ce6e-7b8b-4a82-b3e5-e6911937dea4",
   "metadata": {},
   "source": [
    "**Now we will need for three steps to collect the data we need:**\n",
    "\n",
    "1. Collect all pages we need from each scraper and stack them together as HTML code.\n",
    "2. Scrape for jobs cards links from linkedin and indeed.\n",
    "3. Scrape for the data in those links and store the data in a DataFrame then in SQLite\n",
    "4. We may also consider collecting total results per each platform, country etc .."
   ]
  },
  {
   "cell_type": "markdown",
   "id": "358aa3d2-25cd-4321-b091-d2a7914786f4",
   "metadata": {},
   "source": [
    "#### **Stack pages together as HTML code**"
   ]
  },
  {
   "cell_type": "code",
   "execution_count": 7,
   "id": "11bf4c2b-d50b-494d-b2e1-5f41012401a5",
   "metadata": {
    "tags": []
   },
   "outputs": [],
   "source": [
    "def convert_to_integer(number_string):\n",
    "\n",
    "    cleaned_string = ''.join(filter(str.isdigit, number_string))\n",
    "    cleaned_string = cleaned_string.rstrip('+')\n",
    "    integer_value = int(cleaned_string)\n",
    "\n",
    "    return integer_value"
   ]
  },
  {
   "cell_type": "code",
   "execution_count": 8,
   "id": "791acf9d-694a-417f-9015-31fceed0babc",
   "metadata": {
    "tags": []
   },
   "outputs": [
    {
     "name": "stdout",
     "output_type": "stream",
     "text": [
      "Starting LinkedIn scraper.\n",
      "Loading the European Union data.\n",
      "Finished loading Data entry jobs from the European Union.\n",
      "Finished loading Data engineer jobs from the European Union.\n",
      "Finished loading Data scientist jobs from the European Union.\n",
      "Finished loading Data analyst jobs from the European Union.\n",
      "Finished loading ML developer jobs from the European Union.\n",
      "\n",
      "\n",
      "Loading the United States data.\n",
      "Finished loading Data entry jobs from the United States.\n",
      "Finished loading Data engineer jobs from the United States.\n",
      "Finished loading Data scientist jobs from the United States.\n",
      "Finished loading Data analyst jobs from the United States.\n",
      "Finished loading ML developer jobs from the United States.\n",
      "\n",
      "\n"
     ]
    }
   ],
   "source": [
    "soups = {'soup': [],\n",
    "         'job_title': [],\n",
    "         'country': [],\n",
    "         'platform': [],\n",
    "         'total_jobs': []}\n",
    "\n",
    "flag: bool = False\n",
    "max_page: int = 4 # TOREMVE\n",
    "\n",
    "# Linked In\n",
    "print('Starting LinkedIn scraper.')\n",
    "for country in linkedin_countries:\n",
    "\n",
    "    print(f'Loading the {country} data.')\n",
    "    for job_title in data_jobs_titles:\n",
    "        \n",
    "        full_soup: str = ''\n",
    "        total_jobs = convert_to_integer(scrape_page(f'https://www.linkedin.com/jobs/search?keywords={job_title}&location={country}&' + \n",
    "                                                    f'\\geoId=&trk=public_jobs_jobs-search-bar_search-submit&position=1&pageNum=0').find(\n",
    "                                                        'span', 'results-context-header__job-count').text)\n",
    "        \n",
    "        for i in count(0):\n",
    "            page = i + 1\n",
    "            page_soup: BeautifulSoup = linkedin_scraper(country= country,\n",
    "                                                        job_title= job_title,\n",
    "                                                        page= i + page)\n",
    "            full_soup += str(page_soup)\n",
    "            full_soup += ' <br> '\n",
    "\n",
    "            if (page_soup.find_all('li') is None) or (page == max_page):\n",
    "                break\n",
    "\n",
    "        soups['platform'].append('LinkedIn')\n",
    "        soups['total_jobs'].append(total_jobs) \n",
    "        soups['soup'].append(full_soup)\n",
    "        soups['job_title'].append(job_title)\n",
    "        soups['country'].append(country)\n",
    "\n",
    "        print(f'Finished loading {job_title} jobs from the {country}.')\n",
    "    print('\\n')"
   ]
  },
  {
   "cell_type": "code",
   "execution_count": 9,
   "id": "99ed47b4-02cd-49ea-9eb2-96e4e377b417",
   "metadata": {
    "tags": []
   },
   "outputs": [],
   "source": [
    "# Indeed scraping TODO\n",
    "# for country in indeed_countries:\n",
    "#     for job_title in data_jobs_titles:\n",
    "#         stacked_pages_soup: str = ''\n",
    "\n",
    "#         for i in count(0):\n",
    "\n",
    "#             try:\n",
    "#                 page = i + 1\n",
    "#                 soup: BeautifulSoup = indeed_scraper(country= country,\n",
    "#                                                      job_title= job_title,\n",
    "#                                                      page= page)\n",
    "\n",
    "#                 stacked_pages_soup += '\\n<br> ' + str(soup)\n",
    "#                 if page > max_page:\n",
    "#                     print('Finished loading current country or job title.\\n')\n",
    "#                     break\n",
    "\n",
    "#             except KeyError as e:\n",
    "#                 print('Finished loading current country or job title.\\n')\n",
    "#                 break\n",
    "\n",
    "#         soups['platform'].append('Indeed')\n",
    "#         soups['soup'].append(stacked_pages_soup)\n",
    "#         soups['job_title'].append(job_title)\n",
    "#         soups['country'].append(country)"
   ]
  },
  {
   "cell_type": "markdown",
   "id": "89bf5dc7-509a-490c-bd59-b341487cb5b4",
   "metadata": {},
   "source": [
    "#### **Collecting jobs links**"
   ]
  },
  {
   "cell_type": "code",
   "execution_count": 10,
   "id": "f5e4128b-06d4-4612-ba0a-3b27b6f134c9",
   "metadata": {
    "tags": []
   },
   "outputs": [],
   "source": [
    "def remove_escape_sequences(strings):\n",
    "\n",
    "    new_strings = []\n",
    "    escapes = ''.join([chr(char) for char in range(1, 32)])\n",
    "    translator = str.maketrans('', '', escapes)\n",
    "\n",
    "    for string in strings:\n",
    "        new_string = string.translate(translator)\n",
    "        new_strings.append(new_string)\n",
    "        \n",
    "    return tuple(new_strings)"
   ]
  },
  {
   "cell_type": "code",
   "execution_count": 11,
   "id": "6983a18a-d68e-47f3-b27f-a48420b30d35",
   "metadata": {},
   "outputs": [],
   "source": [
    "soups = pd.DataFrame(soups)\n",
    "\n",
    "soups['jobs_locations'] = np.nan\n",
    "soups['listing_dates'] = np.nan\n",
    "soups['jobs_titles'] = np.nan\n",
    "soups['companies_names'] = np.nan\n",
    "\n",
    "soups['companies_links'] = np.nan\n",
    "soups['jobs_links'] = np.nan\n",
    "\n",
    "\n",
    "# Collecting indeed jobs links TOFIX\n",
    "# for i, soup in enumerate(soups[soups['platform'] == 'Indeed']['soup']):\n",
    "    \n",
    "#     indeed_jobs_links: list = []\n",
    "#     indeed_companies_links: list = []\n",
    "\n",
    "#     for job in BeautifulSoup(soup).find_all('a', 'jcs-JobTitle css-jspxzf eu4oa1w0'):\n",
    "#         job_link = 'https://www.indeed.com/jobs?q=d&l=&from=searchOnHP&vjk=###'.replace('###', job['data-jk'])\n",
    "#         indeed_jobs_links.append(job_link)\n",
    "\n",
    "#     for job_link in indeed_jobs_links[:5]: # WE WILL REMOVE THIS LIMIT\n",
    "#         company_link = BeautifulSoup(scrape_page(job_link)).find('a', 'css-775knl emf9s7v0')\n",
    "#         indeed_companies_links.append(company_link)\n",
    "#         print(company_link)\n",
    "        \n",
    "#     soups['total_jobs'][i] = len(indeed_jobs_links)\n",
    "#     soups['jobs_links'][i] = indeed_jobs_links\n",
    "#     soups['companies_links'][i] = indeed_companies_links\n",
    "\n",
    "\n",
    "# Collecting linkedIn jobs links\n",
    "for i, soup in enumerate(soups[soups['platform'] == 'LinkedIn']['soup']):\n",
    "\n",
    "    soup = BeautifulSoup(soup)\n",
    "\n",
    "    linkedin_jobs_locations = tuple(\n",
    "        [element.text for element in soup.find_all('span', 'job-search-card__location')])\n",
    "\n",
    "    linkedin_jobs_listing_dates = tuple(\n",
    "        [element['datetime'] for element in soup.find_all('time', 'job-search-card__listdate')])\n",
    "\n",
    "    linkedin_jobs_titles = tuple(\n",
    "        [element.text for element in soup.find_all('h3', 'base-search-card__title')])\n",
    "\n",
    "    linkedin_jobs_companies_names = tuple(\n",
    "        [element.text for element in soup.find_all('a', 'hidden-nested-link')])\n",
    "\n",
    "    \n",
    "    linkedin_jobs_links = tuple(\n",
    "        [element['href'] for element in soup.find_all('a', 'base-card__full-link absolute top-0 right-0 bottom-0 left-0 p-0 z-[2]')])\n",
    "    \n",
    "    linkedin_companies_links = tuple(\n",
    "        [element['href'] for element in soup.find_all('a', 'hidden-nested-link')])\n",
    "\n",
    "    # I will use sets and tuples instead of lists because they are faster.\n",
    "    soups['jobs_locations'][i] = remove_escape_sequences(linkedin_jobs_locations)\n",
    "    soups['listing_dates'][i] = linkedin_jobs_listing_dates\n",
    "    soups['jobs_titles'][i] = remove_escape_sequences(linkedin_jobs_titles)\n",
    "    soups['companies_names'][i] = remove_escape_sequences(linkedin_jobs_companies_names)\n",
    "    \n",
    "    soups['jobs_links'][i] = linkedin_jobs_links\n",
    "    soups['companies_links'][i] = linkedin_companies_links"
   ]
  },
  {
   "cell_type": "code",
   "execution_count": 15,
   "id": "725320a7-f587-4a29-9b46-a72ff695120e",
   "metadata": {},
   "outputs": [
    {
     "data": {
      "text/plain": [
       "['https://www.linkedin.com/jobs/view/entry-level-data-entry-typist-remote-wfh-at-get-it-recruit-administrative-3660385872?refId=67DkwSQN0ala%2FjREDaC37w%3D%3D&trackingId=h1qYyKZz3gL5KozTTIK1EQ%3D%3D&position=1&pageNum=0&trk=public_jobs_jserp-result_search-card',\n",
       " 'https://www.linkedin.com/jobs/view/data-entry-clerk-typist-remote-wfh-at-get-it-recruit-administrative-3661000297?refId=67DkwSQN0ala%2FjREDaC37w%3D%3D&trackingId=JLDPgw4bJJHaqtUBVccctw%3D%3D&position=2&pageNum=0&trk=public_jobs_jserp-result_search-card',\n",
       " 'https://www.linkedin.com/jobs/view/data-entry-specialist-typist-remote-wfh-at-get-it-recruit-administrative-3660376422?refId=67DkwSQN0ala%2FjREDaC37w%3D%3D&trackingId=9JyZ0z2x1mNXT6GJyd1UGQ%3D%3D&position=3&pageNum=0&trk=public_jobs_jserp-result_search-card',\n",
       " 'https://www.linkedin.com/jobs/view/data-entry-coordinator-part-time-at-morphe-3638612147?refId=67DkwSQN0ala%2FjREDaC37w%3D%3D&trackingId=WffDRU4HENW2CCFps43Lvg%3D%3D&position=4&pageNum=0&trk=public_jobs_jserp-result_search-card',\n",
       " 'https://www.linkedin.com/jobs/view/data-entry-specialist-typist-remote-wfh-at-get-it-recruit-administrative-3660372219?refId=67DkwSQN0ala%2FjREDaC37w%3D%3D&trackingId=u2QLIOO84Kwx1OIZHsW1zA%3D%3D&position=5&pageNum=0&trk=public_jobs_jserp-result_search-card',\n",
       " 'https://www.linkedin.com/jobs/view/data-entry-admin-typist-remote-wfh-at-get-it-recruit-administrative-3660399632?refId=67DkwSQN0ala%2FjREDaC37w%3D%3D&trackingId=itG7RuQVP4neaZVnghjK7Q%3D%3D&position=6&pageNum=0&trk=public_jobs_jserp-result_search-card',\n",
       " 'https://www.linkedin.com/jobs/view/entry-level-data-entry-specialist-typist-remote-wfh-at-get-it-recruit-administrative-3660374612?refId=67DkwSQN0ala%2FjREDaC37w%3D%3D&trackingId=pJDG7HKBOgbWdKXvwyps7Q%3D%3D&position=7&pageNum=0&trk=public_jobs_jserp-result_search-card',\n",
       " 'https://www.linkedin.com/jobs/view/data-entry-focus-group-panelist-typist-remote-wfh-at-get-it-recruit-administrative-3660370459?refId=67DkwSQN0ala%2FjREDaC37w%3D%3D&trackingId=bIEor3DDaaG5qtX5MlNQqA%3D%3D&position=8&pageNum=0&trk=public_jobs_jserp-result_search-card',\n",
       " 'https://www.linkedin.com/jobs/view/data-entry-specialist-typist-remote-wfh-at-get-it-recruit-administrative-3660399141?refId=67DkwSQN0ala%2FjREDaC37w%3D%3D&trackingId=PoNi%2BfBkfJIe0h5FTqw2HQ%3D%3D&position=9&pageNum=0&trk=public_jobs_jserp-result_search-card',\n",
       " 'https://www.linkedin.com/jobs/view/office-asssitant-at-slingshot-connections-3667011503?refId=67DkwSQN0ala%2FjREDaC37w%3D%3D&trackingId=YB%2BUqUdYoE2oQl3FxaPTSg%3D%3D&position=10&pageNum=0&trk=public_jobs_jserp-result_search-card',\n",
       " 'https://www.linkedin.com/jobs/view/data-entry-specialist-typist-remote-wfh-at-get-it-recruit-administrative-3660365885?refId=67DkwSQN0ala%2FjREDaC37w%3D%3D&trackingId=xkrBPPMd8uByOCyaTADelw%3D%3D&position=11&pageNum=0&trk=public_jobs_jserp-result_search-card',\n",
       " 'https://www.linkedin.com/jobs/view/data-entry-coordinator-junior-remote-at-smart-tech-solutions-3666619834?refId=67DkwSQN0ala%2FjREDaC37w%3D%3D&trackingId=jn2pj6QTL2mFMTzqJl7bnA%3D%3D&position=12&pageNum=0&trk=public_jobs_jserp-result_search-card',\n",
       " 'https://www.linkedin.com/jobs/view/entry-level-data-entry-specialist-typist-remote-wfh-at-get-it-recruit-administrative-3660371775?refId=67DkwSQN0ala%2FjREDaC37w%3D%3D&trackingId=YQzieD0j7l3b5W0UyGwqEA%3D%3D&position=13&pageNum=0&trk=public_jobs_jserp-result_search-card',\n",
       " 'https://www.linkedin.com/jobs/view/data-entry-support-specialist-work-from-home-remote-wfh-at-get-it-recruit-administrative-3660381987?refId=67DkwSQN0ala%2FjREDaC37w%3D%3D&trackingId=9fm23thdN%2FxghSNG%2Bm7IsQ%3D%3D&position=14&pageNum=0&trk=public_jobs_jserp-result_search-card',\n",
       " 'https://www.linkedin.com/jobs/view/administrative-assistant-valencia-gardens-at-the-john-stewart-company-3666843629?refId=67DkwSQN0ala%2FjREDaC37w%3D%3D&trackingId=%2FsRmnFzbsy2d6U4XgyKFPg%3D%3D&position=15&pageNum=0&trk=public_jobs_jserp-result_search-card',\n",
       " 'https://www.linkedin.com/jobs/view/front-office-coordinator-at-well-respected-vc-firm-at-bloom-talent-3645767327?refId=67DkwSQN0ala%2FjREDaC37w%3D%3D&trackingId=U7BCQF3%2BB7WBynHL%2B8%2F71g%3D%3D&position=16&pageNum=0&trk=public_jobs_jserp-result_search-card',\n",
       " 'https://www.linkedin.com/jobs/view/data-entry-specialist-at-wmt-logistics-3643906198?refId=67DkwSQN0ala%2FjREDaC37w%3D%3D&trackingId=EOHJ0plhzU%2BLNpqtufIZTg%3D%3D&position=17&pageNum=0&trk=public_jobs_jserp-result_search-card',\n",
       " 'https://www.linkedin.com/jobs/view/office-administrator-full-time-at-curated-3659656193?refId=67DkwSQN0ala%2FjREDaC37w%3D%3D&trackingId=r%2F5P8RGTH1KiJmzONj4Q1w%3D%3D&position=18&pageNum=0&trk=public_jobs_jserp-result_search-card',\n",
       " 'https://www.linkedin.com/jobs/view/file-clerk-at-the-nieves-law-firm-oakland-criminal-defense-attorneys-3635507568?refId=67DkwSQN0ala%2FjREDaC37w%3D%3D&trackingId=XpA%2F5%2BWhFTTuEHO07VELiw%3D%3D&position=19&pageNum=0&trk=public_jobs_jserp-result_search-card',\n",
       " 'https://www.linkedin.com/jobs/view/file-clerk-at-the-matian-firm-apc-3641775629?refId=67DkwSQN0ala%2FjREDaC37w%3D%3D&trackingId=tC9xUGVouOAZtcGZMAV7Cw%3D%3D&position=20&pageNum=0&trk=public_jobs_jserp-result_search-card',\n",
       " 'https://www.linkedin.com/jobs/view/data-entry-clerk-work-from-home-part-time-survey-participants-at-workathome-jobboard-3615211298?refId=67DkwSQN0ala%2FjREDaC37w%3D%3D&trackingId=2muOHACMpUfQlUQU6KsOfA%3D%3D&position=21&pageNum=0&trk=public_jobs_jserp-result_search-card',\n",
       " 'https://www.linkedin.com/jobs/view/data-entry-clerk-at-sciplay-3660392207?refId=67DkwSQN0ala%2FjREDaC37w%3D%3D&trackingId=f7ZoDjrZ6M6HVZyTmqnBNg%3D%3D&position=22&pageNum=0&trk=public_jobs_jserp-result_search-card',\n",
       " 'https://www.linkedin.com/jobs/view/appointment-clerk-starting-at-%2417-00-hr-at-r%2Bl-carriers-3656869190?refId=67DkwSQN0ala%2FjREDaC37w%3D%3D&trackingId=uwAOTKgB0NMCxibnrhJ%2Fuw%3D%3D&position=23&pageNum=0&trk=public_jobs_jserp-result_search-card',\n",
       " 'https://www.linkedin.com/jobs/view/data-entry-at-hiregenics-3644632392?refId=67DkwSQN0ala%2FjREDaC37w%3D%3D&trackingId=q9VjX42pNtM6cdphffI%2BGA%3D%3D&position=24&pageNum=0&trk=public_jobs_jserp-result_search-card',\n",
       " 'https://www.linkedin.com/jobs/view/project-administrative-assistant-at-mge-underground-inc-3659766797?refId=67DkwSQN0ala%2FjREDaC37w%3D%3D&trackingId=WI268wBSXklBTiKgoTp2Lw%3D%3D&position=25&pageNum=0&trk=public_jobs_jserp-result_search-card',\n",
       " 'https://www.linkedin.com/jobs/view/data-entry-clerk-at-planet-forward-3569897031?refId=%2FVFuLz3yc4oLUaERgJuriQ%3D%3D&trackingId=B70jm6IdnvCoohHLEJ02Ug%3D%3D&position=1&pageNum=2&trk=public_jobs_jserp-result_search-card',\n",
       " 'https://www.linkedin.com/jobs/view/caregiver-at-spread-your-wings-llc-3659774270?refId=%2FVFuLz3yc4oLUaERgJuriQ%3D%3D&trackingId=y0pEWYD%2FmwYU%2BKj1XfgHTg%3D%3D&position=2&pageNum=2&trk=public_jobs_jserp-result_search-card',\n",
       " 'https://www.linkedin.com/jobs/view/customer-support-representative-at-hound-labs-inc-3664103318?refId=%2FVFuLz3yc4oLUaERgJuriQ%3D%3D&trackingId=%2FzXdRkIwAro%2FVs%2BxNB0s0w%3D%3D&position=3&pageNum=2&trk=public_jobs_jserp-result_search-card',\n",
       " 'https://www.linkedin.com/jobs/view/data-entry-coordinator-part-time-at-forma-brands-3637127353?refId=%2FVFuLz3yc4oLUaERgJuriQ%3D%3D&trackingId=f0CurBMMf84zi9LjIzJp%2Fg%3D%3D&position=4&pageNum=2&trk=public_jobs_jserp-result_search-card',\n",
       " 'https://www.linkedin.com/jobs/view/administrative-associate-at-ecocareers-3644229515?refId=%2FVFuLz3yc4oLUaERgJuriQ%3D%3D&trackingId=qLmE24leCuXBOfSJqMFPFA%3D%3D&position=5&pageNum=2&trk=public_jobs_jserp-result_search-card',\n",
       " 'https://www.linkedin.com/jobs/view/admin-accounts-payable-support-ft-at-chugh-llp-3626726095?refId=%2FVFuLz3yc4oLUaERgJuriQ%3D%3D&trackingId=ybB%2BoBEL89mO5TiGgAGOeQ%3D%3D&position=6&pageNum=2&trk=public_jobs_jserp-result_search-card',\n",
       " 'https://www.linkedin.com/jobs/view/administrative-assistant-at-dks-associates-3664423077?refId=%2FVFuLz3yc4oLUaERgJuriQ%3D%3D&trackingId=3kMHQKuYs5m%2B42025q%2B5fg%3D%3D&position=7&pageNum=2&trk=public_jobs_jserp-result_search-card',\n",
       " 'https://www.linkedin.com/jobs/view/office-administrator-at-obayashi-corporation-north-american-regional-headquarters-3666032008?refId=%2FVFuLz3yc4oLUaERgJuriQ%3D%3D&trackingId=g2icSFYszTQ%2FA7buBBIQfw%3D%3D&position=8&pageNum=2&trk=public_jobs_jserp-result_search-card',\n",
       " 'https://www.linkedin.com/jobs/view/retail-sales-associate-at-velvet-cannabis-3659782367?refId=%2FVFuLz3yc4oLUaERgJuriQ%3D%3D&trackingId=4Y1K%2BRmEcTK6DDTa1JHCcQ%3D%3D&position=9&pageNum=2&trk=public_jobs_jserp-result_search-card',\n",
       " 'https://www.linkedin.com/jobs/view/data-entry-operator-at-kelly-3601805715?refId=%2FVFuLz3yc4oLUaERgJuriQ%3D%3D&trackingId=o9kZaFn%2BAv8ZXHR4GR0Mrw%3D%3D&position=10&pageNum=2&trk=public_jobs_jserp-result_search-card',\n",
       " 'https://www.linkedin.com/jobs/view/operations-associate-at-sf-new-deal-3630378164?refId=%2FVFuLz3yc4oLUaERgJuriQ%3D%3D&trackingId=7asF2DN3fZ3hrfj4N5%2BC7Q%3D%3D&position=11&pageNum=2&trk=public_jobs_jserp-result_search-card',\n",
       " 'https://www.linkedin.com/jobs/view/payroll-clerk-at-human-bees-3666898602?refId=%2FVFuLz3yc4oLUaERgJuriQ%3D%3D&trackingId=n0B5kWHmJP4RkWhJkIqDJQ%3D%3D&position=12&pageNum=2&trk=public_jobs_jserp-result_search-card',\n",
       " 'https://www.linkedin.com/jobs/view/need-experienced-caregiver-in-antioch-at-comforcare-3660800237?refId=%2FVFuLz3yc4oLUaERgJuriQ%3D%3D&trackingId=8sl1TYTvAm1ZxS2ab917vA%3D%3D&position=13&pageNum=2&trk=public_jobs_jserp-result_search-card',\n",
       " 'https://www.linkedin.com/jobs/view/need-experienced-caregiver-in-antioch-at-comforcare-3660598464?refId=%2FVFuLz3yc4oLUaERgJuriQ%3D%3D&trackingId=bL04dZT5CMJyOAuiNLR5GQ%3D%3D&position=14&pageNum=2&trk=public_jobs_jserp-result_search-card',\n",
       " 'https://www.linkedin.com/jobs/view/maintenance-worker-entry-at-city-of-san-leandro-3664307106?refId=%2FVFuLz3yc4oLUaERgJuriQ%3D%3D&trackingId=7RnITFJ0zky3VRxLicqN6Q%3D%3D&position=15&pageNum=2&trk=public_jobs_jserp-result_search-card',\n",
       " 'https://www.linkedin.com/jobs/view/data-entry-specialist-work-from-home-at-certified-mobile-notary-service-3663480476?refId=%2FVFuLz3yc4oLUaERgJuriQ%3D%3D&trackingId=AR4UOdKtwjo%2Bd7lJjIDhMA%3D%3D&position=16&pageNum=2&trk=public_jobs_jserp-result_search-card',\n",
       " 'https://www.linkedin.com/jobs/view/junior-staff-accountant-at-gunderson-dettmer-3659778149?refId=%2FVFuLz3yc4oLUaERgJuriQ%3D%3D&trackingId=TnH2S1UBGGSXSRI%2BVzY1Sw%3D%3D&position=17&pageNum=2&trk=public_jobs_jserp-result_search-card',\n",
       " 'https://www.linkedin.com/jobs/view/administrative-specialist-at-insight-global-3642146300?refId=%2FVFuLz3yc4oLUaERgJuriQ%3D%3D&trackingId=dCXEOyiDkvIQh2pZgo6DNg%3D%3D&position=18&pageNum=2&trk=public_jobs_jserp-result_search-card',\n",
       " 'https://www.linkedin.com/jobs/view/multi-purpose-clerk-grocery-lucky-150-bicentennial-way-santa-rosa-ca-95403-usa-at-the-save-mart-companies-3655611931?refId=%2FVFuLz3yc4oLUaERgJuriQ%3D%3D&trackingId=uBx%2BzfmHG1A9KA5RCbbZHA%3D%3D&position=19&pageNum=2&trk=public_jobs_jserp-result_search-card',\n",
       " 'https://www.linkedin.com/jobs/view/revenue-analyst-at-broadstreet-properties-3660213584?refId=%2FVFuLz3yc4oLUaERgJuriQ%3D%3D&trackingId=wmGo9930TmZjClpiWzECcA%3D%3D&position=20&pageNum=2&trk=public_jobs_jserp-result_search-card',\n",
       " 'https://www.linkedin.com/jobs/view/staff-accountant-at-ltd-global-llc-3659769255?refId=%2FVFuLz3yc4oLUaERgJuriQ%3D%3D&trackingId=14cNcBG50DuFwNCFE%2BYTEg%3D%3D&position=21&pageNum=2&trk=public_jobs_jserp-result_search-card',\n",
       " 'https://www.linkedin.com/jobs/view/cash-office-at-h-m-3610851665?refId=%2FVFuLz3yc4oLUaERgJuriQ%3D%3D&trackingId=w6FCEN3LT1ENynwWzMiUBQ%3D%3D&position=22&pageNum=2&trk=public_jobs_jserp-result_search-card',\n",
       " 'https://www.linkedin.com/jobs/view/data-entry-specialist-work-from-home-at-certified-mobile-notary-service-3663479731?refId=%2FVFuLz3yc4oLUaERgJuriQ%3D%3D&trackingId=74hxE3sL1lufbwkbbMVP4g%3D%3D&position=23&pageNum=2&trk=public_jobs_jserp-result_search-card',\n",
       " 'https://www.linkedin.com/jobs/view/sample-coordinator-at-24-seven-talent-3657026699?refId=%2FVFuLz3yc4oLUaERgJuriQ%3D%3D&trackingId=VM8eiL9vXeEaEKa%2BXX%2Bn%2Fw%3D%3D&position=24&pageNum=2&trk=public_jobs_jserp-result_search-card',\n",
       " 'https://www.linkedin.com/jobs/view/caregiver-solano-county-at-a-bright-future-inc-3659779652?refId=%2FVFuLz3yc4oLUaERgJuriQ%3D%3D&trackingId=1MlfmB8qx5S4RbSWT9JtYQ%3D%3D&position=25&pageNum=2&trk=public_jobs_jserp-result_search-card',\n",
       " 'https://www.linkedin.com/jobs/view/courtesy-clerk-grocery-bagger-1-at-kroger-3619299009?refId=lHdKOUPIckz9GcQGHWZ3cA%3D%3D&trackingId=kPu1FKCfvv7DT4kJDsbSVw%3D%3D&position=1&pageNum=4&trk=public_jobs_jserp-result_search-card',\n",
       " 'https://www.linkedin.com/jobs/view/hr-records-clerk-i-at-winmax-3633024968?refId=lHdKOUPIckz9GcQGHWZ3cA%3D%3D&trackingId=jIKG8G7zx60DBit0h%2F7h3A%3D%3D&position=2&pageNum=4&trk=public_jobs_jserp-result_search-card',\n",
       " 'https://www.linkedin.com/jobs/view/office-assistant-%2322-hamilton-school-at-stockton-unified-school-district-3663892444?refId=lHdKOUPIckz9GcQGHWZ3cA%3D%3D&trackingId=KkEPoxtdMBfeBLIm5OUcxg%3D%3D&position=3&pageNum=4&trk=public_jobs_jserp-result_search-card',\n",
       " 'https://www.linkedin.com/jobs/view/caregiver-for-group-home-at-sevita-3659762114?refId=lHdKOUPIckz9GcQGHWZ3cA%3D%3D&trackingId=kesb89mlVsSXZoZa8pbPHw%3D%3D&position=4&pageNum=4&trk=public_jobs_jserp-result_search-card',\n",
       " 'https://www.linkedin.com/jobs/view/attendance-technician-%23-19-stockton-high-school-at-stockton-unified-school-district-3662423922?refId=lHdKOUPIckz9GcQGHWZ3cA%3D%3D&trackingId=0gyAJAQY4nt0RXtMS4fHTw%3D%3D&position=5&pageNum=4&trk=public_jobs_jserp-result_search-card',\n",
       " 'https://www.linkedin.com/jobs/view/laboratory-records-clerk-at-california-skin-institute-3641399393?refId=lHdKOUPIckz9GcQGHWZ3cA%3D%3D&trackingId=TZS%2BIm8ZJE3%2BX1KXI1abWw%3D%3D&position=6&pageNum=4&trk=public_jobs_jserp-result_search-card',\n",
       " 'https://www.linkedin.com/jobs/view/program-records-coordinator-monday-to-friday-9am-2pm-15-hr-at-sevita-3659760403?refId=lHdKOUPIckz9GcQGHWZ3cA%3D%3D&trackingId=C29nwxv%2FdB5VH145XwEI1Q%3D%3D&position=7&pageNum=4&trk=public_jobs_jserp-result_search-card',\n",
       " 'https://www.linkedin.com/jobs/view/1-1-aide-at-catapult-learning-3664747796?refId=lHdKOUPIckz9GcQGHWZ3cA%3D%3D&trackingId=lhiZdc6ux%2BuELK6DfyoLAQ%3D%3D&position=8&pageNum=4&trk=public_jobs_jserp-result_search-card',\n",
       " 'https://www.linkedin.com/jobs/view/documentation-engineer-at-norsat-international-3659784785?refId=lHdKOUPIckz9GcQGHWZ3cA%3D%3D&trackingId=fr9y1oHDbRIP0W6C2uZNKA%3D%3D&position=9&pageNum=4&trk=public_jobs_jserp-result_search-card',\n",
       " 'https://www.linkedin.com/jobs/view/direct-support-professional-caregiver-hiring-asap-at-sevita-3659763166?refId=lHdKOUPIckz9GcQGHWZ3cA%3D%3D&trackingId=d17WVrPvft2OprZr5sLhoQ%3D%3D&position=10&pageNum=4&trk=public_jobs_jserp-result_search-card',\n",
       " 'https://www.linkedin.com/jobs/view/warehouse-administrative-assistant-at-citadel-roofing-solar-3663283463?refId=lHdKOUPIckz9GcQGHWZ3cA%3D%3D&trackingId=gYL0lt%2Bi2pEtNfvCZRmqFA%3D%3D&position=11&pageNum=4&trk=public_jobs_jserp-result_search-card',\n",
       " 'https://www.linkedin.com/jobs/view/administrative-assistant-at-bragg-companies-3661715491?refId=lHdKOUPIckz9GcQGHWZ3cA%3D%3D&trackingId=APt2bVRxCvLhQeqRMZGSRw%3D%3D&position=12&pageNum=4&trk=public_jobs_jserp-result_search-card',\n",
       " 'https://www.linkedin.com/jobs/view/administrative-associate-2-75%25-fte-at-stanford-university-3659884181?refId=lHdKOUPIckz9GcQGHWZ3cA%3D%3D&trackingId=zRf3SJksGnAxCNQIAIl%2FjA%3D%3D&position=13&pageNum=4&trk=public_jobs_jserp-result_search-card',\n",
       " 'https://www.linkedin.com/jobs/view/receptionist-billing-clerk-at-hedy-holmes-staffing-services-3667004184?refId=lHdKOUPIckz9GcQGHWZ3cA%3D%3D&trackingId=wLXllof%2BVcN08hjy4eVwvg%3D%3D&position=14&pageNum=4&trk=public_jobs_jserp-result_search-card',\n",
       " 'https://www.linkedin.com/jobs/view/dispatcher-%2427-07-hour%21-at-menzies-aviation-3655660043?refId=lHdKOUPIckz9GcQGHWZ3cA%3D%3D&trackingId=3aam1YPLZriPHxNdDoZSiQ%3D%3D&position=15&pageNum=4&trk=public_jobs_jserp-result_search-card',\n",
       " 'https://www.linkedin.com/jobs/view/office-administrator-part-time-at-atrium-3648005868?refId=lHdKOUPIckz9GcQGHWZ3cA%3D%3D&trackingId=FMsNbqO5pQVm7eEfGMqNvw%3D%3D&position=16&pageNum=4&trk=public_jobs_jserp-result_search-card',\n",
       " 'https://www.linkedin.com/jobs/view/undergraduate-admissions-evaluator-3-positions-at-san-jose-state-university-3592314256?refId=lHdKOUPIckz9GcQGHWZ3cA%3D%3D&trackingId=ph7%2FFlvhbauFqBE2aUXNWQ%3D%3D&position=17&pageNum=4&trk=public_jobs_jserp-result_search-card',\n",
       " 'https://www.linkedin.com/jobs/view/scheduling-jedi-at-retro-biosciences-3632815514?refId=lHdKOUPIckz9GcQGHWZ3cA%3D%3D&trackingId=sNf%2BKvMxEgzs2dVi5zcDJw%3D%3D&position=18&pageNum=4&trk=public_jobs_jserp-result_search-card',\n",
       " 'https://www.linkedin.com/jobs/view/documentation-clerk-clerical-support-at-super-soccer-stars-3598041310?refId=lHdKOUPIckz9GcQGHWZ3cA%3D%3D&trackingId=grbg9hUwyE4HwcmPtdHiYg%3D%3D&position=19&pageNum=4&trk=public_jobs_jserp-result_search-card',\n",
       " 'https://www.linkedin.com/jobs/view/human-resources-administrator-remote-wfh-at-get-it-recruit-administrative-3661001444?refId=lHdKOUPIckz9GcQGHWZ3cA%3D%3D&trackingId=FlPTx1NOc%2BAZJsC5j%2F5%2FGg%3D%3D&position=20&pageNum=4&trk=public_jobs_jserp-result_search-card',\n",
       " 'https://www.linkedin.com/jobs/view/document-media-destruction-specialist-at-lockheed-martin-3666666540?refId=lHdKOUPIckz9GcQGHWZ3cA%3D%3D&trackingId=dpNuHiJ5dLia6n62D%2B9cAg%3D%3D&position=21&pageNum=4&trk=public_jobs_jserp-result_search-card',\n",
       " 'https://www.linkedin.com/jobs/view/city-operations-coordinator-signing-bonus-at-rinse-3659759609?refId=lHdKOUPIckz9GcQGHWZ3cA%3D%3D&trackingId=n%2BBAB7TMROKD6jfp2oNvbQ%3D%3D&position=22&pageNum=4&trk=public_jobs_jserp-result_search-card',\n",
       " 'https://www.linkedin.com/jobs/view/administrative-assistant-medical-on-site-at-ltd-global-llc-3659764980?refId=lHdKOUPIckz9GcQGHWZ3cA%3D%3D&trackingId=v%2B4eL681l645cBcj7dj92g%3D%3D&position=23&pageNum=4&trk=public_jobs_jserp-result_search-card',\n",
       " 'https://www.linkedin.com/jobs/view/office-legal-assistant-remote-wfh-at-get-it-recruit-professional-services-3660375090?refId=lHdKOUPIckz9GcQGHWZ3cA%3D%3D&trackingId=g86VlXvSmyHZ704eY5cBwg%3D%3D&position=24&pageNum=4&trk=public_jobs_jserp-result_search-card',\n",
       " 'https://www.linkedin.com/jobs/view/undergraduate-admissions-evaluator-3-positions-526557-at-san-jose-state-university-3592099811?refId=lHdKOUPIckz9GcQGHWZ3cA%3D%3D&trackingId=KHRnneCFZ%2B6R2XpF24c62w%3D%3D&position=25&pageNum=4&trk=public_jobs_jserp-result_search-card',\n",
       " 'https://www.linkedin.com/jobs/view/administrative-assistant-livermore-ca-at-ltd-global-llc-3659765913?refId=%2BD52XpSyEL8PgczLkywciA%3D%3D&trackingId=5fA9Sudp1OB2kykflG2S8A%3D%3D&position=1&pageNum=6&trk=public_jobs_jserp-result_search-card',\n",
       " 'https://www.linkedin.com/jobs/view/customer-service-representative-remote-work-at-morphius-corp-3659776942?refId=%2BD52XpSyEL8PgczLkywciA%3D%3D&trackingId=YZqJ7qfvMp8ZudltC8ohtA%3D%3D&position=2&pageNum=6&trk=public_jobs_jserp-result_search-card',\n",
       " 'https://www.linkedin.com/jobs/view/customer-service-representative-remote-work-at-morphius-corp-3661361595?refId=%2BD52XpSyEL8PgczLkywciA%3D%3D&trackingId=og61Fm0JgMRClR55Yf6gqg%3D%3D&position=3&pageNum=6&trk=public_jobs_jserp-result_search-card',\n",
       " 'https://www.linkedin.com/jobs/view/sales-support-specialist-at-evercharge-3650850209?refId=%2BD52XpSyEL8PgczLkywciA%3D%3D&trackingId=C4kYqLMHXG1tH72mBI1XGQ%3D%3D&position=4&pageNum=6&trk=public_jobs_jserp-result_search-card',\n",
       " 'https://www.linkedin.com/jobs/view/problem-solving-specialist-temp-to-hire-at-dolores-street-community-services-3660331715?refId=%2BD52XpSyEL8PgczLkywciA%3D%3D&trackingId=hnxR8EtPjJhhdHZ9OoYB1w%3D%3D&position=5&pageNum=6&trk=public_jobs_jserp-result_search-card',\n",
       " 'https://www.linkedin.com/jobs/view/administrative-assistant-at-boys-girls-clubs-of-san-francisco-3659940995?refId=%2BD52XpSyEL8PgczLkywciA%3D%3D&trackingId=wrkxuIYU4c7hgF7eeaEPpg%3D%3D&position=6&pageNum=6&trk=public_jobs_jserp-result_search-card',\n",
       " 'https://www.linkedin.com/jobs/view/patient-care-coordinator-at-amtec-inc-3587402140?refId=%2BD52XpSyEL8PgczLkywciA%3D%3D&trackingId=OD%2BLTCYf5Ba7QHEoFAyFHA%3D%3D&position=7&pageNum=6&trk=public_jobs_jserp-result_search-card',\n",
       " 'https://www.linkedin.com/jobs/view/customer-service-representative-remote-work-at-morphius-corp-3659786879?refId=%2BD52XpSyEL8PgczLkywciA%3D%3D&trackingId=swV0sbrnOFlX%2FlmTt3QPYg%3D%3D&position=8&pageNum=6&trk=public_jobs_jserp-result_search-card',\n",
       " 'https://www.linkedin.com/jobs/view/customer-service-representative-remote-work-at-morphius-corp-3659782237?refId=%2BD52XpSyEL8PgczLkywciA%3D%3D&trackingId=xbNh5s7AaxUg6rqy5DinOQ%3D%3D&position=9&pageNum=6&trk=public_jobs_jserp-result_search-card',\n",
       " 'https://www.linkedin.com/jobs/view/staff-accountant-at-attivo-partners-3641792803?refId=%2BD52XpSyEL8PgczLkywciA%3D%3D&trackingId=wSv%2BY3dTZmo2pgaJJTkFLQ%3D%3D&position=10&pageNum=6&trk=public_jobs_jserp-result_search-card',\n",
       " 'https://www.linkedin.com/jobs/view/customer-service-representative-remote-work-at-morphius-corp-3659780349?refId=%2BD52XpSyEL8PgczLkywciA%3D%3D&trackingId=sD%2BvmBsCqwDLJXiEsZEvBw%3D%3D&position=11&pageNum=6&trk=public_jobs_jserp-result_search-card',\n",
       " 'https://www.linkedin.com/jobs/view/customer-service-representative-remote-work-at-morphius-corp-3659777709?refId=%2BD52XpSyEL8PgczLkywciA%3D%3D&trackingId=BdxYQnqeai31ujN9XoBEsg%3D%3D&position=12&pageNum=6&trk=public_jobs_jserp-result_search-card',\n",
       " 'https://www.linkedin.com/jobs/view/attendance-specialist-ersea-at-wu-yee-children-s-services-3656493352?refId=%2BD52XpSyEL8PgczLkywciA%3D%3D&trackingId=%2FZT4R3wyiyuYYz2%2FZTOrUA%3D%3D&position=13&pageNum=6&trk=public_jobs_jserp-result_search-card',\n",
       " 'https://www.linkedin.com/jobs/view/office-assistant-at-robert-half-3647089328?refId=%2BD52XpSyEL8PgczLkywciA%3D%3D&trackingId=Zot97vz%2F3VDLBfTmgB1czA%3D%3D&position=14&pageNum=6&trk=public_jobs_jserp-result_search-card',\n",
       " 'https://www.linkedin.com/jobs/view/customer-service-representative-remote-work-at-morphius-corp-3659781168?refId=%2BD52XpSyEL8PgczLkywciA%3D%3D&trackingId=wKxfrsvoipI4QkZRXN6%2Biw%3D%3D&position=15&pageNum=6&trk=public_jobs_jserp-result_search-card',\n",
       " 'https://www.linkedin.com/jobs/view/entry-level-medical-records-clerk-at-aston-carter-3656943265?refId=%2BD52XpSyEL8PgczLkywciA%3D%3D&trackingId=icKJXrJmbcTE9p1pHpCmmw%3D%3D&position=16&pageNum=6&trk=public_jobs_jserp-result_search-card',\n",
       " 'https://www.linkedin.com/jobs/view/future-openings-pharmacy-technician-data-entry-at-valor-compounding-pharmacy-3590342682?refId=%2BD52XpSyEL8PgczLkywciA%3D%3D&trackingId=rlYipGb%2B6z54HAj%2FO1zupw%3D%3D&position=17&pageNum=6&trk=public_jobs_jserp-result_search-card',\n",
       " 'https://www.linkedin.com/jobs/view/medical-records-at-robert-half-3657197579?refId=%2BD52XpSyEL8PgczLkywciA%3D%3D&trackingId=Q2s4yOv8ukVBkW86kXz%2Bww%3D%3D&position=18&pageNum=6&trk=public_jobs_jserp-result_search-card',\n",
       " 'https://www.linkedin.com/jobs/view/dispatcher-customer-service-at-headquarters-3649964166?refId=%2BD52XpSyEL8PgczLkywciA%3D%3D&trackingId=QLz%2FpQ6NnAldFT1noBysIw%3D%3D&position=19&pageNum=6&trk=public_jobs_jserp-result_search-card',\n",
       " 'https://www.linkedin.com/jobs/view/marketing-and-business-administration-assistant-at-maplewood-marketing-3662945507?refId=%2BD52XpSyEL8PgczLkywciA%3D%3D&trackingId=qFf5BQwV2Dx51D8jZAzWeQ%3D%3D&position=20&pageNum=6&trk=public_jobs_jserp-result_search-card',\n",
       " 'https://www.linkedin.com/jobs/view/office-clerk-at-ultimate-staffing-3653693158?refId=%2BD52XpSyEL8PgczLkywciA%3D%3D&trackingId=rE8KDhKKndRdM73zkrxPUg%3D%3D&position=21&pageNum=6&trk=public_jobs_jserp-result_search-card',\n",
       " 'https://www.linkedin.com/jobs/view/file-clerk-at-penske-automotive-group-3651251170?refId=%2BD52XpSyEL8PgczLkywciA%3D%3D&trackingId=9UW1MIHqxk%2FVtyTWge24xQ%3D%3D&position=22&pageNum=6&trk=public_jobs_jserp-result_search-card',\n",
       " 'https://www.linkedin.com/jobs/view/customer-service-representative-remote-work-at-morphius-corp-3661363160?refId=%2BD52XpSyEL8PgczLkywciA%3D%3D&trackingId=LVX2lEb2jXJdg3SX1xeahQ%3D%3D&position=23&pageNum=6&trk=public_jobs_jserp-result_search-card',\n",
       " 'https://www.linkedin.com/jobs/view/administrative-assistant-pullman-point-at-the-john-stewart-company-3611003867?refId=%2BD52XpSyEL8PgczLkywciA%3D%3D&trackingId=KO43XQRZsznmc5HTEUwXMw%3D%3D&position=24&pageNum=6&trk=public_jobs_jserp-result_search-card',\n",
       " 'https://www.linkedin.com/jobs/view/office-legal-assistant-remote-wfh-at-get-it-recruit-professional-services-3660375090?refId=%2BD52XpSyEL8PgczLkywciA%3D%3D&trackingId=9PwS9RZmUEcfG0eLZroJ9g%3D%3D&position=25&pageNum=6&trk=public_jobs_jserp-result_search-card']"
      ]
     },
     "execution_count": 15,
     "metadata": {},
     "output_type": "execute_result"
    }
   ],
   "source": [
    "soups['jobs_links'][0]"
   ]
  },
  {
   "cell_type": "code",
   "execution_count": 84,
   "id": "03ab6c24-5397-4775-ba32-764be61b26c6",
   "metadata": {},
   "outputs": [
    {
     "data": {
      "text/plain": [
       "{'https://www.indeed.com/jobs?q=d&l=&from=searchOnHP&vjk=0f4e49c98c0536f1',\n",
       " 'https://www.indeed.com/jobs?q=d&l=&from=searchOnHP&vjk=19f3a3be9f35218f',\n",
       " 'https://www.indeed.com/jobs?q=d&l=&from=searchOnHP&vjk=1df95ac216434def',\n",
       " 'https://www.indeed.com/jobs?q=d&l=&from=searchOnHP&vjk=297a5f03a72d28ba',\n",
       " 'https://www.indeed.com/jobs?q=d&l=&from=searchOnHP&vjk=40e35f9a902792ed',\n",
       " 'https://www.indeed.com/jobs?q=d&l=&from=searchOnHP&vjk=446ba27dfffdbe36',\n",
       " 'https://www.indeed.com/jobs?q=d&l=&from=searchOnHP&vjk=48746eece7f6d42f',\n",
       " 'https://www.indeed.com/jobs?q=d&l=&from=searchOnHP&vjk=4be75a2883ca49b4',\n",
       " 'https://www.indeed.com/jobs?q=d&l=&from=searchOnHP&vjk=5010e97afafcfbf9',\n",
       " 'https://www.indeed.com/jobs?q=d&l=&from=searchOnHP&vjk=605f5275b7921be9',\n",
       " 'https://www.indeed.com/jobs?q=d&l=&from=searchOnHP&vjk=973410652b64f9a8',\n",
       " 'https://www.indeed.com/jobs?q=d&l=&from=searchOnHP&vjk=a34fc6b420419272',\n",
       " 'https://www.indeed.com/jobs?q=d&l=&from=searchOnHP&vjk=bbae1d266770b45a',\n",
       " 'https://www.indeed.com/jobs?q=d&l=&from=searchOnHP&vjk=dd8c3832576dcd38',\n",
       " 'https://www.indeed.com/jobs?q=d&l=&from=searchOnHP&vjk=dfb22eace90ab68a',\n",
       " 'https://www.indeed.com/jobs?q=d&l=&from=searchOnHP&vjk=e01edbb8769d2dbe',\n",
       " 'https://www.indeed.com/jobs?q=d&l=&from=searchOnHP&vjk=e48dcb9bb5363f91',\n",
       " 'https://www.indeed.com/jobs?q=d&l=&from=searchOnHP&vjk=ec52d6d183156757',\n",
       " 'https://www.indeed.com/jobs?q=d&l=&from=searchOnHP&vjk=ec8d17677e9a27db',\n",
       " 'https://www.indeed.com/jobs?q=d&l=&from=searchOnHP&vjk=fb95c004ed0f0de3'}"
      ]
     },
     "execution_count": 84,
     "metadata": {},
     "output_type": "execute_result"
    }
   ],
   "source": [
    "for i, soup in enumerate(soups[soups['platform'] == 'Indeed']['soup']):\n",
    "\n",
    "    indeed_jobs_links: set = set()\n",
    "    indeed_companies_links: set = set()\n",
    "\n",
    "    for job in soup.find_all('a', 'jcs-JobTitle css-jspxzf eu4oa1w0'):\n",
    "        job_link = 'https://www.indeed.com/jobs?q=d&l=&from=searchOnHP&vjk=###'.replace('###', BeautifulSoup((job)['data-jk'])\n",
    "        indeed_jobs_links.add(job_link)\n",
    "\n",
    "    for job_link in indeed_jobs_links[:5]: # WE WILL REMOVE THIS LIMIT\n",
    "        company_link = scrape_page(job_link).find('a', 'css-775knl emf9s7v0')['href']\n",
    "        indeed_companies_links.add(company_link)\n",
    "\n",
    "    soups['total_jobs'][i] = len(indeed_jobs_links)\n",
    "    soups['jobs_links'][i] = indeed_jobs_links\n",
    "    soups['companies_links'][i] = indeed_companies_links"
   ]
  },
  {
   "cell_type": "code",
   "execution_count": 117,
   "id": "4f31a8d8-f416-4be3-80f3-626fe9485f2b",
   "metadata": {},
   "outputs": [
    {
     "name": "stdout",
     "output_type": "stream",
     "text": [
      "27\n",
      "120\n",
      "120\n",
      "120\n"
     ]
    }
   ],
   "source": [
    "for soup in soups[soups['platform'] == 'Indeed']['soup'][:2]:\n",
    "    job_links = []\n",
    "\n",
    "    for job in BeautifulSoup(soup).find_all('a', 'jcs-JobTitle css-jspxzf eu4oa1w0'):\n",
    "        job_link = 'https://www.indeed.com/jobs?q=d&l=&from=searchOnHP&vjk=###'.replace('###', job['data-jk'])\n",
    "        job_links.append(job_link)\n",
    "\n",
    "     for job_link in job_links[:5]:\n",
    "         print(scrape_page(job_link).find('a', 'css-775knl emf9s7v0')['href'])\n",
    "\n",
    "    print('\\n')"
   ]
  },
  {
   "cell_type": "code",
   "execution_count": 115,
   "id": "c8439570-b1d7-4985-bf5a-100db8b92168",
   "metadata": {},
   "outputs": [
    {
     "data": {
      "text/plain": [
       "387"
      ]
     },
     "execution_count": 115,
     "metadata": {},
     "output_type": "execute_result"
    }
   ],
   "source": [
    "len(set(job_links))"
   ]
  },
  {
   "cell_type": "code",
   "execution_count": 114,
   "id": "0c96c3fb-a2ed-4151-967b-568a14c588a2",
   "metadata": {},
   "outputs": [
    {
     "data": {
      "text/plain": [
       "387"
      ]
     },
     "execution_count": 114,
     "metadata": {},
     "output_type": "execute_result"
    }
   ],
   "source": [
    "len(job_links) "
   ]
  },
  {
   "cell_type": "code",
   "execution_count": null,
   "id": "0f939445-7283-4aa5-a576-d31be2b2598d",
   "metadata": {},
   "outputs": [],
   "source": [
    "test_html = scrape_page('https://www.indeed.com/jobs?q=d&l=&from=searchOnHP&vjk=26c4d3754f443acb')\n"
   ]
  },
  {
   "cell_type": "code",
   "execution_count": null,
   "id": "f6fbcc62-bafc-4fdd-96b5-18d420130a54",
   "metadata": {},
   "outputs": [],
   "source": [
    "test_html.find_all('div','jobsearch-JobMetadataFooter')"
   ]
  }
 ],
 "metadata": {
  "kernelspec": {
   "display_name": "Python 3 (ipykernel)",
   "language": "python",
   "name": "python3"
  },
  "language_info": {
   "codemirror_mode": {
    "name": "ipython",
    "version": 3
   },
   "file_extension": ".py",
   "mimetype": "text/x-python",
   "name": "python",
   "nbconvert_exporter": "python",
   "pygments_lexer": "ipython3",
   "version": "3.9.16"
  }
 },
 "nbformat": 4,
 "nbformat_minor": 5
}
