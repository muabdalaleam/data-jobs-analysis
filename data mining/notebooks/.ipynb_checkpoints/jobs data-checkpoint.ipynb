{
 "cells": [
  {
   "cell_type": "markdown",
   "id": "b77d6d00-1121-4b75-ba3a-9b19daaf6496",
   "metadata": {},
   "source": [
    "## <center><strong><span style= \"color: #51fcc6\">Notebook </span>Describtion"
   ]
  },
  {
   "cell_type": "markdown",
   "id": "19067967-13d6-4976-8547-06ec1e6fb0ba",
   "metadata": {},
   "source": [
    "Hello There In this notebokk we are going to scrape the Full time and part time jobs data for the data related jobs like:<br>\n",
    "Data analyst, ML dev, Data scientist, Data engineer etc ..<br><br>\n",
    "\n",
    "**Important note:**\n",
    "We will analyze some countries only for indeed becuase indeed needs to specify which country to look at."
   ]
  },
  {
   "cell_type": "markdown",
   "id": "c735b5f0-0b9e-4e51-96c7-b0c92ae000d0",
   "metadata": {},
   "source": [
    "## <center><strong>Importing <span style= \"color: #48e0dc\">Packeges"
   ]
  },
  {
   "cell_type": "code",
   "execution_count": 1,
   "id": "ea612333-8338-4676-a332-959faf73ef55",
   "metadata": {},
   "outputs": [],
   "source": [
    "import time\n",
    "import sqlite3\n",
    "import warnings\n",
    "import requests\n",
    "import itertools\n",
    "import numpy as np\n",
    "import pandas as pd\n",
    "import seaborn as sns\n",
    "from itertools import count\n",
    "from bs4 import BeautifulSoup\n",
    "from selenium import webdriver\n",
    "import matplotlib.pyplot as plt\n",
    "from selenium.webdriver.common.by import By\n",
    "from selenium.webdriver.common.keys import Keys\n",
    "from IPython.display import set_matplotlib_formats\n",
    "from selenium.webdriver.support.ui import WebDriverWait\n",
    "from selenium.webdriver.support import expected_conditions as EC"
   ]
  },
  {
   "cell_type": "code",
   "execution_count": 18,
   "id": "beca8e68-9929-4d27-863f-f715f5610838",
   "metadata": {},
   "outputs": [],
   "source": [
    "COLORS = [\"#51fcc6\", \"#48e0dc\", \"#5cd3f7\", \"#4895e0\", \"#517afc\"]\n",
    "\n",
    "%matplotlib inline\n",
    "\n",
    "NUMERICS = ['int16', 'int32', 'int64', 'float16', 'float32', 'float64',\n",
    "            'uint16', 'uint32', 'uint64']\n",
    "MAX_PAGES = 300\n",
    "\n",
    "set_matplotlib_formats('pdf', 'svg')\n",
    "warnings.filterwarnings(\"ignore\")"
   ]
  },
  {
   "cell_type": "markdown",
   "id": "8556ce34-26e3-4fa6-b26c-330970e723bb",
   "metadata": {},
   "source": [
    "## <center><strong>Setting up the<span style= \"color: #5cd3f7\"> web scrapers"
   ]
  },
  {
   "cell_type": "code",
   "execution_count": 19,
   "id": "95942737-c384-4a2a-980d-02c24e559224",
   "metadata": {},
   "outputs": [],
   "source": [
    "data_jobs_titles = [\"Data entry\", \"Data engineer\",\n",
    "                    \"Data scientist\", \"Data analyst\",\n",
    "                    \"ML devoloper\"]\n",
    "\n",
    "countries = ['uk', 'uae', 'www'] # USA don't have to be spesfied in the URL so we will use 'www' instead"
   ]
  },
  {
   "cell_type": "code",
   "execution_count": 4,
   "id": "720f110a-3276-4b47-9da0-f65599e632df",
   "metadata": {},
   "outputs": [],
   "source": [
    "def scrape_page(url: str, retrieve_new_url= False) -> BeautifulSoup:\n",
    "    driver = webdriver.Chrome()\n",
    "    driver.get(url)\n",
    "    \n",
    "    wait = WebDriverWait(driver, 10)\n",
    "    \n",
    "    # Wait until the page is fully loaded\n",
    "    wait.until(EC.presence_of_element_located((By.TAG_NAME, 'body')))\n",
    "    \n",
    "    html = driver.page_source\n",
    "\n",
    "    if retrieve_new_url:\n",
    "        \n",
    "        new_url = driver.current_url\n",
    "        driver.quit()\n",
    "        \n",
    "        return BeautifulSoup(html), new_url\n",
    "        \n",
    "    driver.quit()\n",
    "\n",
    "    return BeautifulSoup(html)"
   ]
  },
  {
   "cell_type": "code",
   "execution_count": 36,
   "id": "3dcad281-40d3-44a8-9832-6b8362d1084f",
   "metadata": {},
   "outputs": [],
   "source": [
    "def indeed_scraper(page: int,\n",
    "                   country: str,\n",
    "                   data_job_title: str) -> BeautifulSoup:\n",
    "\n",
    "    page = (page - 1) * 10)\n",
    "\n",
    "    # Pages in indeed.com are zero based indexed\n",
    "    url_template: str = 'https://<COUNTRY>.indeed.com/jobs?q=<JOB_TITLE>&sc=0kf%3Aattr%28DSQF7%29%3B&start=<PAGE_X_10>' + \\\n",
    "    '&pp=gQClAAAAAAAAAAAAAAACCXklWwCSAQIBK7YBBwDUbujiRGBahYW5TppjdUz7DjXn3aPZSbT47IoJ5LLbuzpYcXwZdzJ6rKHf' + \\\n",
    "    '6gPWFkXVGxKKGxW-JAKb8BFo_hZAkBd7trBBTY32J2CrOuA3V9dGD_bre-lArmi9DRYlcah6hvoRfsYUNYSoQwIa8VOMZMxvH-s2Dlh' + \\\n",
    "    'UPvUP-_Dz9ls4i-OLqVGpGh4AAA&vjk=b997bb0dddadea'\n",
    "    \n",
    "    url: str  c= url_template.replace('<COUNTRY>',ountry)\n",
    "    url = url.replace('<JOB_TITLE>', data_job_title.replace(' ', '+'))\n",
    "    url = url.replace('<PAGE_X_10>', str(page))\n",
    "\n",
    "    soup = scrape_page(url)\n",
    "    loaded_page = soup.find('button', 'css-ns2mzi e8ju0x51')\n",
    "    \n",
    "    if soup\n",
    "    \n",
    "    loaded_sites.append(soup)\n",
    "    \n",
    "\n",
    "    print(url)"
   ]
  },
  {
   "cell_type": "code",
   "execution_count": 38,
   "id": "7830bb99-34cb-41b4-846d-67c3de863ecf",
   "metadata": {},
   "outputs": [
    {
     "name": "stdout",
     "output_type": "stream",
     "text": [
      "https://uk.indeed.com/jobs?q=Data+entry&sc=0kf%3Aattr%28DSQF7%29%3B&start=9990&pp=gQClAAAAAAAAAAAAAAACCXklWwCSAQIBK7YBBwDUbujiRGBahYW5TppjdUz7DjXn3aPZSbT47IoJ5LLbuzpYcXwZdzJ6rKHf6gPWFkXVGxKKGxW-JAKb8BFo_hZAkBd7trBBTY32J2CrOuA3V9dGD_bre-lArmi9DRYlcah6hvoRfsYUNYSoQwIa8VOMZMxvH-s2DlhUPvUP-_Dz9ls4i-OLqVGpGh4AAA&vjk=b997bb0dddadea72\n",
      "https://uae.indeed.com/jobs?q=Data+entry&sc=0kf%3Aattr%28DSQF7%29%3B&start=9990&pp=gQClAAAAAAAAAAAAAAACCXklWwCSAQIBK7YBBwDUbujiRGBahYW5TppjdUz7DjXn3aPZSbT47IoJ5LLbuzpYcXwZdzJ6rKHf6gPWFkXVGxKKGxW-JAKb8BFo_hZAkBd7trBBTY32J2CrOuA3V9dGD_bre-lArmi9DRYlcah6hvoRfsYUNYSoQwIa8VOMZMxvH-s2DlhUPvUP-_Dz9ls4i-OLqVGpGh4AAA&vjk=b997bb0dddadea72\n",
      "https://www.indeed.com/jobs?q=Data+entry&sc=0kf%3Aattr%28DSQF7%29%3B&start=9990&pp=gQClAAAAAAAAAAAAAAACCXklWwCSAQIBK7YBBwDUbujiRGBahYW5TppjdUz7DjXn3aPZSbT47IoJ5LLbuzpYcXwZdzJ6rKHf6gPWFkXVGxKKGxW-JAKb8BFo_hZAkBd7trBBTY32J2CrOuA3V9dGD_bre-lArmi9DRYlcah6hvoRfsYUNYSoQwIa8VOMZMxvH-s2DlhUPvUP-_Dz9ls4i-OLqVGpGh4AAA&vjk=b997bb0dddadea72\n",
      "https://uk.indeed.com/jobs?q=Data+engineer&sc=0kf%3Aattr%28DSQF7%29%3B&start=9990&pp=gQClAAAAAAAAAAAAAAACCXklWwCSAQIBK7YBBwDUbujiRGBahYW5TppjdUz7DjXn3aPZSbT47IoJ5LLbuzpYcXwZdzJ6rKHf6gPWFkXVGxKKGxW-JAKb8BFo_hZAkBd7trBBTY32J2CrOuA3V9dGD_bre-lArmi9DRYlcah6hvoRfsYUNYSoQwIa8VOMZMxvH-s2DlhUPvUP-_Dz9ls4i-OLqVGpGh4AAA&vjk=b997bb0dddadea72\n",
      "https://uae.indeed.com/jobs?q=Data+engineer&sc=0kf%3Aattr%28DSQF7%29%3B&start=9990&pp=gQClAAAAAAAAAAAAAAACCXklWwCSAQIBK7YBBwDUbujiRGBahYW5TppjdUz7DjXn3aPZSbT47IoJ5LLbuzpYcXwZdzJ6rKHf6gPWFkXVGxKKGxW-JAKb8BFo_hZAkBd7trBBTY32J2CrOuA3V9dGD_bre-lArmi9DRYlcah6hvoRfsYUNYSoQwIa8VOMZMxvH-s2DlhUPvUP-_Dz9ls4i-OLqVGpGh4AAA&vjk=b997bb0dddadea72\n",
      "https://www.indeed.com/jobs?q=Data+engineer&sc=0kf%3Aattr%28DSQF7%29%3B&start=9990&pp=gQClAAAAAAAAAAAAAAACCXklWwCSAQIBK7YBBwDUbujiRGBahYW5TppjdUz7DjXn3aPZSbT47IoJ5LLbuzpYcXwZdzJ6rKHf6gPWFkXVGxKKGxW-JAKb8BFo_hZAkBd7trBBTY32J2CrOuA3V9dGD_bre-lArmi9DRYlcah6hvoRfsYUNYSoQwIa8VOMZMxvH-s2DlhUPvUP-_Dz9ls4i-OLqVGpGh4AAA&vjk=b997bb0dddadea72\n",
      "https://uk.indeed.com/jobs?q=Data+scientist&sc=0kf%3Aattr%28DSQF7%29%3B&start=9990&pp=gQClAAAAAAAAAAAAAAACCXklWwCSAQIBK7YBBwDUbujiRGBahYW5TppjdUz7DjXn3aPZSbT47IoJ5LLbuzpYcXwZdzJ6rKHf6gPWFkXVGxKKGxW-JAKb8BFo_hZAkBd7trBBTY32J2CrOuA3V9dGD_bre-lArmi9DRYlcah6hvoRfsYUNYSoQwIa8VOMZMxvH-s2DlhUPvUP-_Dz9ls4i-OLqVGpGh4AAA&vjk=b997bb0dddadea72\n",
      "https://uae.indeed.com/jobs?q=Data+scientist&sc=0kf%3Aattr%28DSQF7%29%3B&start=9990&pp=gQClAAAAAAAAAAAAAAACCXklWwCSAQIBK7YBBwDUbujiRGBahYW5TppjdUz7DjXn3aPZSbT47IoJ5LLbuzpYcXwZdzJ6rKHf6gPWFkXVGxKKGxW-JAKb8BFo_hZAkBd7trBBTY32J2CrOuA3V9dGD_bre-lArmi9DRYlcah6hvoRfsYUNYSoQwIa8VOMZMxvH-s2DlhUPvUP-_Dz9ls4i-OLqVGpGh4AAA&vjk=b997bb0dddadea72\n",
      "https://www.indeed.com/jobs?q=Data+scientist&sc=0kf%3Aattr%28DSQF7%29%3B&start=9990&pp=gQClAAAAAAAAAAAAAAACCXklWwCSAQIBK7YBBwDUbujiRGBahYW5TppjdUz7DjXn3aPZSbT47IoJ5LLbuzpYcXwZdzJ6rKHf6gPWFkXVGxKKGxW-JAKb8BFo_hZAkBd7trBBTY32J2CrOuA3V9dGD_bre-lArmi9DRYlcah6hvoRfsYUNYSoQwIa8VOMZMxvH-s2DlhUPvUP-_Dz9ls4i-OLqVGpGh4AAA&vjk=b997bb0dddadea72\n",
      "https://uk.indeed.com/jobs?q=Data+analyst&sc=0kf%3Aattr%28DSQF7%29%3B&start=9990&pp=gQClAAAAAAAAAAAAAAACCXklWwCSAQIBK7YBBwDUbujiRGBahYW5TppjdUz7DjXn3aPZSbT47IoJ5LLbuzpYcXwZdzJ6rKHf6gPWFkXVGxKKGxW-JAKb8BFo_hZAkBd7trBBTY32J2CrOuA3V9dGD_bre-lArmi9DRYlcah6hvoRfsYUNYSoQwIa8VOMZMxvH-s2DlhUPvUP-_Dz9ls4i-OLqVGpGh4AAA&vjk=b997bb0dddadea72\n",
      "https://uae.indeed.com/jobs?q=Data+analyst&sc=0kf%3Aattr%28DSQF7%29%3B&start=9990&pp=gQClAAAAAAAAAAAAAAACCXklWwCSAQIBK7YBBwDUbujiRGBahYW5TppjdUz7DjXn3aPZSbT47IoJ5LLbuzpYcXwZdzJ6rKHf6gPWFkXVGxKKGxW-JAKb8BFo_hZAkBd7trBBTY32J2CrOuA3V9dGD_bre-lArmi9DRYlcah6hvoRfsYUNYSoQwIa8VOMZMxvH-s2DlhUPvUP-_Dz9ls4i-OLqVGpGh4AAA&vjk=b997bb0dddadea72\n",
      "https://www.indeed.com/jobs?q=Data+analyst&sc=0kf%3Aattr%28DSQF7%29%3B&start=9990&pp=gQClAAAAAAAAAAAAAAACCXklWwCSAQIBK7YBBwDUbujiRGBahYW5TppjdUz7DjXn3aPZSbT47IoJ5LLbuzpYcXwZdzJ6rKHf6gPWFkXVGxKKGxW-JAKb8BFo_hZAkBd7trBBTY32J2CrOuA3V9dGD_bre-lArmi9DRYlcah6hvoRfsYUNYSoQwIa8VOMZMxvH-s2DlhUPvUP-_Dz9ls4i-OLqVGpGh4AAA&vjk=b997bb0dddadea72\n",
      "https://uk.indeed.com/jobs?q=ML+devoloper&sc=0kf%3Aattr%28DSQF7%29%3B&start=9990&pp=gQClAAAAAAAAAAAAAAACCXklWwCSAQIBK7YBBwDUbujiRGBahYW5TppjdUz7DjXn3aPZSbT47IoJ5LLbuzpYcXwZdzJ6rKHf6gPWFkXVGxKKGxW-JAKb8BFo_hZAkBd7trBBTY32J2CrOuA3V9dGD_bre-lArmi9DRYlcah6hvoRfsYUNYSoQwIa8VOMZMxvH-s2DlhUPvUP-_Dz9ls4i-OLqVGpGh4AAA&vjk=b997bb0dddadea72\n",
      "https://uae.indeed.com/jobs?q=ML+devoloper&sc=0kf%3Aattr%28DSQF7%29%3B&start=9990&pp=gQClAAAAAAAAAAAAAAACCXklWwCSAQIBK7YBBwDUbujiRGBahYW5TppjdUz7DjXn3aPZSbT47IoJ5LLbuzpYcXwZdzJ6rKHf6gPWFkXVGxKKGxW-JAKb8BFo_hZAkBd7trBBTY32J2CrOuA3V9dGD_bre-lArmi9DRYlcah6hvoRfsYUNYSoQwIa8VOMZMxvH-s2DlhUPvUP-_Dz9ls4i-OLqVGpGh4AAA&vjk=b997bb0dddadea72\n",
      "https://www.indeed.com/jobs?q=ML+devoloper&sc=0kf%3Aattr%28DSQF7%29%3B&start=9990&pp=gQClAAAAAAAAAAAAAAACCXklWwCSAQIBK7YBBwDUbujiRGBahYW5TppjdUz7DjXn3aPZSbT47IoJ5LLbuzpYcXwZdzJ6rKHf6gPWFkXVGxKKGxW-JAKb8BFo_hZAkBd7trBBTY32J2CrOuA3V9dGD_bre-lArmi9DRYlcah6hvoRfsYUNYSoQwIa8VOMZMxvH-s2DlhUPvUP-_Dz9ls4i-OLqVGpGh4AAA&vjk=b997bb0dddadea72\n"
     ]
    }
   ],
   "source": [
    "indeed_scraper(1_000)"
   ]
  },
  {
   "cell_type": "code",
   "execution_count": null,
   "id": "13d629e2-ea07-47f7-98ae-4d2fd1d5405c",
   "metadata": {},
   "outputs": [],
   "source": []
  }
 ],
 "metadata": {
  "kernelspec": {
   "display_name": "Python 3 (ipykernel)",
   "language": "python",
   "name": "python3"
  },
  "language_info": {
   "codemirror_mode": {
    "name": "ipython",
    "version": 3
   },
   "file_extension": ".py",
   "mimetype": "text/x-python",
   "name": "python",
   "nbconvert_exporter": "python",
   "pygments_lexer": "ipython3",
   "version": "3.9.16"
  }
 },
 "nbformat": 4,
 "nbformat_minor": 5
}
