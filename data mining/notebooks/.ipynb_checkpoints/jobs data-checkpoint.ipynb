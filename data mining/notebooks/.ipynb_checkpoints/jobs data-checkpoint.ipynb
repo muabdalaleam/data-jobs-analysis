{
 "cells": [
  {
   "cell_type": "markdown",
   "id": "b77d6d00-1121-4b75-ba3a-9b19daaf6496",
   "metadata": {
    "jp-MarkdownHeadingCollapsed": true
   },
   "source": [
    "## <center><strong><span style= 'color: #51fcc6'>Notebook </span>Describtion"
   ]
  },
  {
   "cell_type": "markdown",
   "id": "19067967-13d6-4976-8547-06ec1e6fb0ba",
   "metadata": {},
   "source": [
    "Hello There In this notebokk we are going to scrape the Full time and part time jobs data for the data related jobs like:<br>\n",
    "Data analyst, ML dev, Data scientist, Data engineer etc ..<br><br>\n",
    "\n",
    "**Important note:**\n",
    "We will analyze some countries only for indeed becuase indeed needs to specify which country to look at."
   ]
  },
  {
   "cell_type": "markdown",
   "id": "c735b5f0-0b9e-4e51-96c7-b0c92ae000d0",
   "metadata": {},
   "source": [
    "## <center><strong>Importing <span style= 'color: #48e0dc'>Packeges"
   ]
  },
  {
   "cell_type": "code",
   "execution_count": 62,
   "id": "ea612333-8338-4676-a332-959faf73ef55",
   "metadata": {},
   "outputs": [],
   "source": [
    "import time\n",
    "import sqlite3\n",
    "import warnings\n",
    "import requests\n",
    "import itertools\n",
    "import numpy as np\n",
    "import pandas as pd\n",
    "import seaborn as sns\n",
    "from itertools import count\n",
    "from bs4 import BeautifulSoup\n",
    "from selenium import webdriver\n",
    "import matplotlib.pyplot as plt\n",
    "from selenium.webdriver.common.by import By\n",
    "from selenium.webdriver.common.keys import Keys\n",
    "from IPython.display import set_matplotlib_formats\n",
    "from selenium.webdriver.chrome.service import Service\n",
    "from selenium.webdriver.chrome.options import Options\n",
    "from selenium.webdriver.support.ui import WebDriverWait\n",
    "from webdriver_manager.chrome import ChromeDriverManager\n",
    "from selenium.webdriver.support import expected_conditions as EC"
   ]
  },
  {
   "cell_type": "code",
   "execution_count": 131,
   "id": "beca8e68-9929-4d27-863f-f715f5610838",
   "metadata": {},
   "outputs": [],
   "source": [
    "COLORS = ['#51fcc6', '#48e0dc', '#5cd3f7', '#4895e0', '#517afc']\n",
    "\n",
    "%matplotlib inline\n",
    "\n",
    "NUMERICS = ['int16', 'int32', 'int64', 'float16', 'float32', 'float64',\n",
    "            'uint16', 'uint32', 'uint64']\n",
    "MAX_PAGES = 300\n",
    "\n",
    "set_matplotlib_formats('pdf', 'svg')\n",
    "warnings.filterwarnings('ignore')"
   ]
  },
  {
   "cell_type": "markdown",
   "id": "8556ce34-26e3-4fa6-b26c-330970e723bb",
   "metadata": {},
   "source": [
    "## <center><strong>Setting up the<span style= 'color: #5cd3f7'> web scrapers"
   ]
  },
  {
   "cell_type": "code",
   "execution_count": 134,
   "id": "95942737-c384-4a2a-980d-02c24e559224",
   "metadata": {},
   "outputs": [],
   "source": [
    "data_jobs_titles = ['Data entry', 'Data engineer']\n",
    "                    # 'Data scientist', 'Data analyst',\n",
    "                    # 'ML devoloper']\n",
    "\n",
    "indeed_countries = ['uk', 'de']#, 'www'] USA don't have to be spesfied in the URL so we will use 'www' instead\n",
    "linkedin_countries = ['European Union', 'United States']"
   ]
  },
  {
   "cell_type": "code",
   "execution_count": 135,
   "id": "720f110a-3276-4b47-9da0-f65599e632df",
   "metadata": {},
   "outputs": [],
   "source": [
    "def scrape_page(url: str,\n",
    "                ip_and_port: tuple[str]= None,\n",
    "                retrieve_new_url= None) -> BeautifulSoup:\n",
    "\n",
    "    chrome_options = Options()\n",
    "\n",
    "    if ip_and_port:\n",
    "        chrome_options.add_argument(f'--proxy-server={ip_and_port[0]}:{ip_and_port[1]}')\n",
    "        webdriver_service = Service(GeckoDriverManager().install())\n",
    "        driver = webdriver.Chrome(service= webdriver_service, options= chrome_options)\n",
    "\n",
    "    else:\n",
    "        driver = webdriver.Chrome()\n",
    "\n",
    "    driver.get(url)\n",
    "    \n",
    "    wait = WebDriverWait(driver, 10)\n",
    "    # Wait until the page is fully loaded\n",
    "    time.sleep(1)\n",
    "    wait.until(EC.presence_of_element_located((By.TAG_NAME, 'body')))\n",
    "\n",
    "    html = driver.page_source\n",
    "\n",
    "    if retrieve_new_url:\n",
    "\n",
    "        new_url = driver.current_url\n",
    "        driver.quit()\n",
    "\n",
    "        return BeautifulSoup(html), new_url\n",
    "\n",
    "    driver.quit()\n",
    "\n",
    "    return BeautifulSoup(html)"
   ]
  },
  {
   "cell_type": "code",
   "execution_count": 136,
   "id": "3dcad281-40d3-44a8-9832-6b8362d1084f",
   "metadata": {},
   "outputs": [],
   "source": [
    "def indeed_scraper(page: int,\n",
    "                   country: str,\n",
    "                   job_title: str) -> BeautifulSoup:\n",
    "\n",
    "    modefid_page = (page - 1) * 10\n",
    "\n",
    "    data_job_title = job_title.replace(' ', '+')\n",
    "\n",
    "    # Pages in indeed.com are zero based indexed\n",
    "    url: str = f'https://{country}.indeed.com/jobs?q={data_job_title}&sc=0kf%3Aattr%28DSQF7%29%3B&start={modefid_page}' + \\\n",
    "    '&pp=gQClAAAAAAAAAAAAAAACCXklWwCSAQIBK7YBBwDUbujiRGBahYW5TppjdUz7DjXn3aPZSbT47IoJ5LLbuzpYcXwZdzJ6rKHf' + \\\n",
    "    '6gPWFkXVGxKKGxW-JAKb8BFo_hZAkBd7trBBTY32J2CrOuA3V9dGD_bre-lArmi9DRYlcah6hvoRfsYUNYSoQwIa8VOMZMxvH-s2Dlh' + \\\n",
    "    'UPvUP-_Dz9ls4i-OLqVGpGh4AAA&vjk=b997bb0dddadea'\n",
    "\n",
    "    soup = scrape_page(url)\n",
    "    loaded_page = int(soup.find('button', 'css-ns2mzi e8ju0x51').text)\n",
    "\n",
    "    # available_pages = []\n",
    "\n",
    "    # for button in soup.find_all('button', 'css-1qt7hdn e8ju0x50'):\n",
    "    #     available_pages.append(int(button.text))\n",
    "\n",
    "    if (int(page) != loaded_page):\n",
    "        # We will use KeyError as standard to represent getting out of the max pages.\n",
    "        raise KeyError\n",
    "        \n",
    "    print(f'Page {page} Loaded successfully.')\n",
    "\n",
    "    return  soup"
   ]
  },
  {
   "cell_type": "code",
   "execution_count": 137,
   "id": "ccd78d2a-263b-4fdd-99f1-f91d541596ad",
   "metadata": {},
   "outputs": [],
   "source": [
    "def check_for_content(driver):\n",
    "    \n",
    "    driver.execute_script('window.scrollTo(0, document.body.scrollHeight);')\n",
    "    try:\n",
    "        driver.find_element(By.CLASS_NAME, 'loader loader--show')\n",
    "        continue_ = True\n",
    "\n",
    "    except:\n",
    "        try:\n",
    "            driver.find_element(By.CLASS_NAME, 'infinite-scroller__show-more-button infinite-scroller__show-more-button--visible')\n",
    "            continue_ = True\n",
    "\n",
    "        except:\n",
    "            continue_ = False\n",
    "\n",
    "    return  continue_"
   ]
  },
  {
   "cell_type": "code",
   "execution_count": 138,
   "id": "88a6040f-fd32-488e-9886-534281049e1e",
   "metadata": {},
   "outputs": [],
   "source": [
    "def linkedin_scraper(country: str, # This scraper scrapes all pages at once\n",
    "                     job_title: str) -> BeautifulSoup:\n",
    "\n",
    "    # I know that code logic is wrong but at least it's running completly fine.\n",
    "\n",
    "    driver = webdriver.Chrome()\n",
    "    url: str = f'https://www.linkedin.com/jobs/search/?keywords={job_title}&' + \\\n",
    "                f'location={country}&refresh=true&start=0&position=1&pageNum=0'\n",
    "\n",
    "    driver.get(url)\n",
    "\n",
    "    while True:\n",
    "        try:\n",
    "            driver.execute_script('window.scrollTo(0, document.body.scrollHeight);')\n",
    "\n",
    "            wait = WebDriverWait(driver, 10)\n",
    "            wait.until(lambda driver: check_for_content(driver))\n",
    "            # print(is_element_present(driver))\n",
    "\n",
    "        except:\n",
    "            break\n",
    "\n",
    "    soup = BeautifulSoup(driver.page_source)\n",
    "    driver.quit()\n",
    "\n",
    "    return  soup"
   ]
  },
  {
   "cell_type": "markdown",
   "id": "c2eaa7ad-0c7f-4b61-9608-7d0e54367505",
   "metadata": {},
   "source": [
    "## <center><strong><span style= 'color: #4895e0'>Collecting</span> jobs data"
   ]
  },
  {
   "cell_type": "markdown",
   "id": "3452ce6e-7b8b-4a82-b3e5-e6911937dea4",
   "metadata": {},
   "source": [
    "**Now we will need for three steps to collect the data we need:**\n",
    "\n",
    "1. Collect all pages we need from each scraper and stack them together as HTML code.\n",
    "2. Scrape for jobs cards links from linkedin and indeed.\n",
    "3. Scrape for the data in those links and store the data in a DataFrame then in SQLite"
   ]
  },
  {
   "cell_type": "code",
   "execution_count": null,
   "id": "791acf9d-694a-417f-9015-31fceed0babc",
   "metadata": {},
   "outputs": [
    {
     "name": "stdout",
     "output_type": "stream",
     "text": [
      "Page 1 Loaded successfully.\n",
      "Page 2 Loaded successfully.\n",
      "Page 3 Loaded successfully.\n",
      "Page 4 Loaded successfully.\n",
      "Page 5 Loaded successfully.\n",
      "Page 6 Loaded successfully.\n",
      "Page 7 Loaded successfully.\n",
      "Page 8 Loaded successfully.\n",
      "Page 9 Loaded successfully.\n",
      "Finished loading current country or job title.\n",
      "\n",
      "Page 1 Loaded successfully.\n",
      "Page 2 Loaded successfully.\n",
      "Page 3 Loaded successfully.\n",
      "Page 4 Loaded successfully.\n",
      "Page 5 Loaded successfully.\n",
      "Page 6 Loaded successfully.\n",
      "Page 7 Loaded successfully.\n",
      "Page 8 Loaded successfully.\n",
      "Page 9 Loaded successfully.\n",
      "Page 10 Loaded successfully.\n",
      "Page 11 Loaded successfully.\n"
     ]
    }
   ],
   "source": [
    "soups = {'soup': [],\n",
    "         'job_title': [],\n",
    "         'country': [],\n",
    "         'platform': []}\n",
    "\n",
    "flag: bool = False\n",
    "\n",
    "for country in indeed_countries:\n",
    "    for job_title in data_jobs_titles:\n",
    "        stacked_pages_soup: str = ''\n",
    "        \n",
    "        for i in count(0):\n",
    "        \n",
    "            try:\n",
    "                page = i + 1\n",
    "                soup: BeautifulSoup = indeed_scraper(country= country,\n",
    "                                                     job_title= job_title,\n",
    "                                                     page= page)\n",
    "                stacked_pages_soup += '\\n<br> ' + str(soup)\n",
    "            \n",
    "            except KeyError as e:\n",
    "                print('Finished loading current country or job title.\\n')\n",
    "                break\n",
    "\n",
    "        soups['platform'].append('Indeed')\n",
    "        soups['soup'].append(stacked_pages_soup)\n",
    "        soups['job_title'].append(job_title)\n",
    "        soups['country'].append(country)\n",
    "\n",
    "for country in linkedin_countries:\n",
    "    for job_title in data_jobs_titles:\n",
    "\n",
    "        soup: BeautifulSoup = linkedin_scraper(country= country,\n",
    "                                job_title= job_title)\n",
    "\n",
    "        soups['platform'].append('LinkedIn')\n",
    "        soups['soup'].append(soup)\n",
    "        soups['job_title'].append(job_title)\n",
    "        soups['country'].append(country)"
   ]
  },
  {
   "cell_type": "code",
   "execution_count": null,
   "id": "89f6777d-a8d5-4011-8d45-db50ecb8dcd0",
   "metadata": {},
   "outputs": [],
   "source": []
  }
 ],
 "metadata": {
  "kernelspec": {
   "display_name": "Python 3 (ipykernel)",
   "language": "python",
   "name": "python3"
  },
  "language_info": {
   "codemirror_mode": {
    "name": "ipython",
    "version": 3
   },
   "file_extension": ".py",
   "mimetype": "text/x-python",
   "name": "python",
   "nbconvert_exporter": "python",
   "pygments_lexer": "ipython3",
   "version": "3.9.16"
  }
 },
 "nbformat": 4,
 "nbformat_minor": 5
}
