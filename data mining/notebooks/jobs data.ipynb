{
 "cells": [
  {
   "cell_type": "markdown",
   "id": "b77d6d00-1121-4b75-ba3a-9b19daaf6496",
   "metadata": {
    "jp-MarkdownHeadingCollapsed": true
   },
   "source": [
    "## <center><strong><span style= 'color: #51fcc6'>Notebook </span>Describtion"
   ]
  },
  {
   "cell_type": "markdown",
   "id": "19067967-13d6-4976-8547-06ec1e6fb0ba",
   "metadata": {},
   "source": [
    "Hello There In this notebokk we are going to scrape the Full time and part time jobs data for the data related jobs like:<br>\n",
    "Data analyst, ML dev, Data scientist, Data engineer etc ..<br><br>\n",
    "\n",
    "**Important note:**\n",
    "We will analyze some countries only for indeed becuase indeed needs to specify which country to look at."
   ]
  },
  {
   "cell_type": "markdown",
   "id": "c735b5f0-0b9e-4e51-96c7-b0c92ae000d0",
   "metadata": {},
   "source": [
    "## <center><strong>Importing <span style= 'color: #48e0dc'>Packeges"
   ]
  },
  {
   "cell_type": "code",
   "execution_count": 22,
   "id": "ea612333-8338-4676-a332-959faf73ef55",
   "metadata": {},
   "outputs": [],
   "source": [
    "import time\n",
    "import random\n",
    "import pickle\n",
    "import sqlite3\n",
    "import warnings\n",
    "import requests\n",
    "import itertools\n",
    "import numpy as np\n",
    "import pandas as pd\n",
    "import seaborn as sns\n",
    "from itertools import count\n",
    "from bs4 import BeautifulSoup\n",
    "from selenium import webdriver\n",
    "import matplotlib.pyplot as plt\n",
    "from urllib.parse import urljoin\n",
    "from selenium.webdriver.common.by import By\n",
    "from selenium.webdriver.common.keys import Keys\n",
    "from IPython.display import set_matplotlib_formats\n",
    "from selenium.webdriver.chrome.service import Service\n",
    "from selenium.webdriver.chrome.options import Options\n",
    "from selenium.webdriver.support.ui import WebDriverWait\n",
    "from webdriver_manager.chrome import ChromeDriverManager\n",
    "from webdriver_manager.firefox import GeckoDriverManager\n",
    "from selenium.webdriver.support import expected_conditions as EC"
   ]
  },
  {
   "cell_type": "code",
   "execution_count": 2,
   "id": "beca8e68-9929-4d27-863f-f715f5610838",
   "metadata": {},
   "outputs": [
    {
     "name": "stderr",
     "output_type": "stream",
     "text": [
      "C:\\Users\\FreeComp\\AppData\\Local\\Temp\\ipykernel_13948\\1230532750.py:8: DeprecationWarning: `set_matplotlib_formats` is deprecated since IPython 7.23, directly use `matplotlib_inline.backend_inline.set_matplotlib_formats()`\n",
      "  set_matplotlib_formats('pdf', 'svg')\n"
     ]
    }
   ],
   "source": [
    "%matplotlib inline\n",
    "COLORS = ['#51fcc6', '#48e0dc', '#5cd3f7', '#4895e0', '#517afc']\n",
    "\n",
    "NUMERICS = ['int16', 'int32', 'int64', 'float16', 'float32', 'float64',\n",
    "            'uint16', 'uint32', 'uint64']\n",
    "MAX_PAGES = 300\n",
    "\n",
    "set_matplotlib_formats('pdf', 'svg')\n",
    "warnings.filterwarnings('ignore')\n",
    "\n",
    "ip_port_list = set(('75.84.199.80', '80'),\n",
    "                   ('172.173.241.207', '80'),\n",
    "                   ('209.145.60.213', '80'),\n",
    "                   ('86.109.3.28', '80'),\n",
    "                   ('65.111.241.211', '80'),\n",
    "                   ('144.34.162.125', '80'))"
   ]
  },
  {
   "cell_type": "markdown",
   "id": "8556ce34-26e3-4fa6-b26c-330970e723bb",
   "metadata": {},
   "source": [
    "## <center><strong>Setting up the<span style= 'color: #5cd3f7'> web scrapers"
   ]
  },
  {
   "cell_type": "code",
   "execution_count": 9,
   "id": "95942737-c384-4a2a-980d-02c24e559224",
   "metadata": {},
   "outputs": [],
   "source": [
    "data_jobs_titles = ['Data entry', 'Data engineer']\n",
    "                    # 'Data scientist', 'Data analyst',\n",
    "                    # 'ML devoloper']\n",
    "\n",
    "indeed_countries = ['de', 'uk']#, 'www'] USA don't have to be spesfied in the URL so we will use 'www' instead\n",
    "linkedin_countries = ['European Union', 'United States']\n",
    "ip_port_list = "
   ]
  },
  {
   "cell_type": "code",
   "execution_count": 28,
   "id": "720f110a-3276-4b47-9da0-f65599e632df",
   "metadata": {},
   "outputs": [],
   "source": [
    "def scrape_page(url: str, ip_and_port: tuple[str] = None, retrieve_new_url=None) -> BeautifulSoup:\n",
    "    chrome_options = Options()\n",
    "    if ip_and_port:\n",
    "        chrome_options.add_argument(f'--proxy-server={ip_and_port[0]}:{ip_and_port[1]}')\n",
    "    driver = webdriver.Chrome(options=chrome_options)\n",
    "    \n",
    "    driver.get(url)\n",
    "    \n",
    "    wait = WebDriverWait(driver, 15)\n",
    "    # Wait until the page is fully loaded\n",
    "    wait.until(EC.presence_of_element_located((By.TAG_NAME, 'body')))\n",
    "    \n",
    "    html = driver.page_source\n",
    "    soup = BeautifulSoup(html, 'html.parser')\n",
    "    \n",
    "    if retrieve_new_url:\n",
    "        new_url = driver.current_url\n",
    "        driver.quit()\n",
    "        return soup, new_url\n",
    "    \n",
    "    driver.quit()\n",
    "    \n",
    "    return soup"
   ]
  },
  {
   "cell_type": "code",
   "execution_count": 37,
   "id": "3dcad281-40d3-44a8-9832-6b8362d1084f",
   "metadata": {},
   "outputs": [],
   "source": [
    "def indeed_scraper(page: int,\n",
    "                   country: str,\n",
    "                   job_title: str) -> BeautifulSoup:\n",
    "\n",
    "    modefid_page = (page - 1) * 10\n",
    "\n",
    "    data_job_title = job_title.replace(' ', '+')\n",
    "\n",
    "    # Pages in indeed.com are zero based indexed\n",
    "    url: str = f'https://{country}.indeed.com/jobs?q={data_job_title}&sc=0kf%3Aattr%28DSQF7%29%3B&start={modefid_page}' + \\\n",
    "    '&pp=gQClAAAAAAAAAAAAAAACCXklWwCSAQIBK7YBBwDUbujiRGBahYW5TppjdUz7DjXn3aPZSbT47IoJ5LLbuzpYcXwZdzJ6rKHf' + \\\n",
    "    '6gPWFkXVGxKKGxW-JAKb8BFo_hZAkBd7trBBTY32J2CrOuA3V9dGD_bre-lArmi9DRYlcah6hvoRfsYUNYSoQwIa8VOMZMxvH-s2Dlh' + \\\n",
    "    'UPvUP-_Dz9ls4i-OLqVGpGh4AAA&vjk=b997bb0dddadea'\n",
    "\n",
    "    soup = scrape_page(url, ip_and_port= ('69.167.171.48', '3095'))\n",
    "    loaded_page = int(soup.find('button', 'css-ns2mzi e8ju0x51').text)\n",
    "\n",
    "    # available_pages = []\n",
    "\n",
    "    # for button in soup.find_all('button', 'css-1qt7hdn e8ju0x50'):\n",
    "    #     available_pages.append(int(button.text))\n",
    "\n",
    "    if (int(page) != loaded_page):\n",
    "        # We will use KeyError as standard to represent getting out of the max pages.\n",
    "        raise KeyError\n",
    "        \n",
    "    print(f'Page {page} Loaded successfully.')\n",
    "\n",
    "    return  soup"
   ]
  },
  {
   "cell_type": "code",
   "execution_count": 38,
   "id": "ccd78d2a-263b-4fdd-99f1-f91d541596ad",
   "metadata": {},
   "outputs": [],
   "source": [
    "def check_for_content(driver):\n",
    "\n",
    "    driver.execute_script('window.scrollTo(0, document.body.scrollHeight);')\n",
    "    try:\n",
    "        driver.find_element(By.CLASS_NAME, 'loader loader--show')\n",
    "        continue_ = True\n",
    "\n",
    "    except:\n",
    "        try:\n",
    "            driver.find_element(By.CLASS_NAME, 'infinite-scroller__show-more-button infinite-scroller__show-more-button--visible')\n",
    "            continue_ = True\n",
    "\n",
    "        except:\n",
    "            continue_ = False\n",
    "\n",
    "    return  continue_"
   ]
  },
  {
   "cell_type": "code",
   "execution_count": 39,
   "id": "88a6040f-fd32-488e-9886-534281049e1e",
   "metadata": {},
   "outputs": [],
   "source": [
    "def linkedin_scraper(country: str, # This scraper scrapes all pages at once\n",
    "                     job_title: str) -> BeautifulSoup:\n",
    "\n",
    "    # I know that code logic is wrong but at least it's running completly fine.\n",
    "\n",
    "    driver = webdriver.Chrome()\n",
    "    url: str = f'https://www.linkedin.com/jobs/search/?keywords={job_title}&' + \\\n",
    "                f'location={country}&refresh=true&start=0&position=1&pageNum=0'\n",
    "\n",
    "    driver.get(url)\n",
    "\n",
    "    while True:\n",
    "        try:\n",
    "            driver.execute_script('window.scrollTo(0, document.body.scrollHeight);')\n",
    "\n",
    "            wait = WebDriverWait(driver, 10)\n",
    "            wait.until(lambda driver: check_for_content(driver))\n",
    "            # print(is_element_present(driver))\n",
    "\n",
    "        except:\n",
    "            break\n",
    "\n",
    "    soup = BeautifulSoup(driver.page_source)\n",
    "    driver.quit()\n",
    "\n",
    "    return  soup"
   ]
  },
  {
   "cell_type": "markdown",
   "id": "c2eaa7ad-0c7f-4b61-9608-7d0e54367505",
   "metadata": {},
   "source": [
    "## <center><strong><span style= 'color: #4895e0'>Collecting</span> jobs data"
   ]
  },
  {
   "cell_type": "markdown",
   "id": "3452ce6e-7b8b-4a82-b3e5-e6911937dea4",
   "metadata": {},
   "source": [
    "**Now we will need for three steps to collect the data we need:**\n",
    "\n",
    "1. Collect all pages we need from each scraper and stack them together as HTML code.\n",
    "2. Scrape for jobs cards links from linkedin and indeed.\n",
    "3. Scrape for the data in those links and store the data in a DataFrame then in SQLite\n",
    "4. We may also consider collecting total results per each platform, country etc .."
   ]
  },
  {
   "cell_type": "markdown",
   "id": "358aa3d2-25cd-4321-b091-d2a7914786f4",
   "metadata": {},
   "source": [
    "#### **Stack pages together as HTML code**"
   ]
  },
  {
   "cell_type": "code",
   "execution_count": 41,
   "id": "791acf9d-694a-417f-9015-31fceed0babc",
   "metadata": {},
   "outputs": [
    {
     "ename": "AttributeError",
     "evalue": "'NoneType' object has no attribute 'text'",
     "output_type": "error",
     "traceback": [
      "\u001b[1;31m---------------------------------------------------------------------------\u001b[0m",
      "\u001b[1;31mAttributeError\u001b[0m                            Traceback (most recent call last)",
      "Cell \u001b[1;32mIn[41], line 17\u001b[0m\n\u001b[0;32m     15\u001b[0m \u001b[38;5;28;01mtry\u001b[39;00m:\n\u001b[0;32m     16\u001b[0m     page \u001b[38;5;241m=\u001b[39m i \u001b[38;5;241m+\u001b[39m \u001b[38;5;241m1\u001b[39m\n\u001b[1;32m---> 17\u001b[0m     soup: BeautifulSoup \u001b[38;5;241m=\u001b[39m \u001b[43mindeed_scraper\u001b[49m\u001b[43m(\u001b[49m\u001b[43mcountry\u001b[49m\u001b[38;5;241;43m=\u001b[39;49m\u001b[43m \u001b[49m\u001b[43mcountry\u001b[49m\u001b[43m,\u001b[49m\n\u001b[0;32m     18\u001b[0m \u001b[43m                                         \u001b[49m\u001b[43mjob_title\u001b[49m\u001b[38;5;241;43m=\u001b[39;49m\u001b[43m \u001b[49m\u001b[43mjob_title\u001b[49m\u001b[43m,\u001b[49m\n\u001b[0;32m     19\u001b[0m \u001b[43m                                         \u001b[49m\u001b[43mpage\u001b[49m\u001b[38;5;241;43m=\u001b[39;49m\u001b[43m \u001b[49m\u001b[43mpage\u001b[49m\u001b[43m)\u001b[49m\n\u001b[0;32m     21\u001b[0m     stacked_pages_soup \u001b[38;5;241m+\u001b[39m\u001b[38;5;241m=\u001b[39m \u001b[38;5;124m'\u001b[39m\u001b[38;5;130;01m\\n\u001b[39;00m\u001b[38;5;124m<br> \u001b[39m\u001b[38;5;124m'\u001b[39m \u001b[38;5;241m+\u001b[39m \u001b[38;5;28mstr\u001b[39m(soup)\n\u001b[0;32m     22\u001b[0m     \u001b[38;5;28;01mif\u001b[39;00m page \u001b[38;5;241m>\u001b[39m max_page:\n",
      "Cell \u001b[1;32mIn[37], line 16\u001b[0m, in \u001b[0;36mindeed_scraper\u001b[1;34m(page, country, job_title)\u001b[0m\n\u001b[0;32m     10\u001b[0m url: \u001b[38;5;28mstr\u001b[39m \u001b[38;5;241m=\u001b[39m \u001b[38;5;124mf\u001b[39m\u001b[38;5;124m'\u001b[39m\u001b[38;5;124mhttps://\u001b[39m\u001b[38;5;132;01m{\u001b[39;00mcountry\u001b[38;5;132;01m}\u001b[39;00m\u001b[38;5;124m.indeed.com/jobs?q=\u001b[39m\u001b[38;5;132;01m{\u001b[39;00mdata_job_title\u001b[38;5;132;01m}\u001b[39;00m\u001b[38;5;124m&sc=0kf%3Aattr%28DSQF7%29%3B&start=\u001b[39m\u001b[38;5;132;01m{\u001b[39;00mmodefid_page\u001b[38;5;132;01m}\u001b[39;00m\u001b[38;5;124m'\u001b[39m \u001b[38;5;241m+\u001b[39m \\\n\u001b[0;32m     11\u001b[0m \u001b[38;5;124m'\u001b[39m\u001b[38;5;124m&pp=gQClAAAAAAAAAAAAAAACCXklWwCSAQIBK7YBBwDUbujiRGBahYW5TppjdUz7DjXn3aPZSbT47IoJ5LLbuzpYcXwZdzJ6rKHf\u001b[39m\u001b[38;5;124m'\u001b[39m \u001b[38;5;241m+\u001b[39m \\\n\u001b[0;32m     12\u001b[0m \u001b[38;5;124m'\u001b[39m\u001b[38;5;124m6gPWFkXVGxKKGxW-JAKb8BFo_hZAkBd7trBBTY32J2CrOuA3V9dGD_bre-lArmi9DRYlcah6hvoRfsYUNYSoQwIa8VOMZMxvH-s2Dlh\u001b[39m\u001b[38;5;124m'\u001b[39m \u001b[38;5;241m+\u001b[39m \\\n\u001b[0;32m     13\u001b[0m \u001b[38;5;124m'\u001b[39m\u001b[38;5;124mUPvUP-_Dz9ls4i-OLqVGpGh4AAA&vjk=b997bb0dddadea\u001b[39m\u001b[38;5;124m'\u001b[39m\n\u001b[0;32m     15\u001b[0m soup \u001b[38;5;241m=\u001b[39m scrape_page(url, ip_and_port\u001b[38;5;241m=\u001b[39m (\u001b[38;5;124m'\u001b[39m\u001b[38;5;124m69.167.171.48\u001b[39m\u001b[38;5;124m'\u001b[39m, \u001b[38;5;124m'\u001b[39m\u001b[38;5;124m3095\u001b[39m\u001b[38;5;124m'\u001b[39m))\n\u001b[1;32m---> 16\u001b[0m loaded_page \u001b[38;5;241m=\u001b[39m \u001b[38;5;28mint\u001b[39m(\u001b[43msoup\u001b[49m\u001b[38;5;241;43m.\u001b[39;49m\u001b[43mfind\u001b[49m\u001b[43m(\u001b[49m\u001b[38;5;124;43m'\u001b[39;49m\u001b[38;5;124;43mbutton\u001b[39;49m\u001b[38;5;124;43m'\u001b[39;49m\u001b[43m,\u001b[49m\u001b[43m \u001b[49m\u001b[38;5;124;43m'\u001b[39;49m\u001b[38;5;124;43mcss-ns2mzi e8ju0x51\u001b[39;49m\u001b[38;5;124;43m'\u001b[39;49m\u001b[43m)\u001b[49m\u001b[38;5;241;43m.\u001b[39;49m\u001b[43mtext\u001b[49m)\n\u001b[0;32m     18\u001b[0m \u001b[38;5;66;03m# available_pages = []\u001b[39;00m\n\u001b[0;32m     19\u001b[0m \n\u001b[0;32m     20\u001b[0m \u001b[38;5;66;03m# for button in soup.find_all('button', 'css-1qt7hdn e8ju0x50'):\u001b[39;00m\n\u001b[0;32m     21\u001b[0m \u001b[38;5;66;03m#     available_pages.append(int(button.text))\u001b[39;00m\n\u001b[0;32m     23\u001b[0m \u001b[38;5;28;01mif\u001b[39;00m (\u001b[38;5;28mint\u001b[39m(page) \u001b[38;5;241m!=\u001b[39m loaded_page):\n\u001b[0;32m     24\u001b[0m     \u001b[38;5;66;03m# We will use KeyError as standard to represent getting out of the max pages.\u001b[39;00m\n",
      "\u001b[1;31mAttributeError\u001b[0m: 'NoneType' object has no attribute 'text'"
     ]
    }
   ],
   "source": [
    "soups = {'soup': [],\n",
    "         'job_title': [],\n",
    "         'country': [],\n",
    "         'platform': []}\n",
    "\n",
    "flag: bool = False\n",
    "max_page: int = 7\n",
    "\n",
    "for country in indeed_countries:\n",
    "    for job_title in data_jobs_titles:\n",
    "        stacked_pages_soup: str = ''\n",
    "\n",
    "        for i in count(0):\n",
    "\n",
    "            try:\n",
    "                page = i + 1\n",
    "                soup: BeautifulSoup = indeed_scraper(country= country,\n",
    "                                                     job_title= job_title,\n",
    "                                                     page= page)\n",
    "                \n",
    "                stacked_pages_soup += '\\n<br> ' + str(soup)\n",
    "                if page > max_page:\n",
    "                    print('Finished loading current country or job title.\\n')\n",
    "                    break\n",
    "\n",
    "            except KeyError as e:\n",
    "                print('Finished loading current country or job title.\\n')\n",
    "                break\n",
    "\n",
    "        soups['platform'].append('Indeed')\n",
    "        soups['soup'].append(stacked_pages_soup)\n",
    "        soups['job_title'].append(job_title)\n",
    "        soups['country'].append(country)\n",
    "\n",
    "for country in linkedin_countries:\n",
    "    for job_title in data_jobs_titles:\n",
    "\n",
    "        soup: BeautifulSoup = linkedin_scraper(country= country,\n",
    "                                job_title= job_title)\n",
    "\n",
    "        soups['platform'].append('LinkedIn')\n",
    "        soups['soup'].append(soup)\n",
    "        soups['job_title'].append(job_title)\n",
    "        soups['country'].append(country)"
   ]
  },
  {
   "cell_type": "code",
   "execution_count": null,
   "id": "89f6777d-a8d5-4011-8d45-db50ecb8dcd0",
   "metadata": {},
   "outputs": [],
   "source": [
    "pd.DataFrame(soups).head(6)"
   ]
  },
  {
   "cell_type": "markdown",
   "id": "89bf5dc7-509a-490c-bd59-b341487cb5b4",
   "metadata": {},
   "source": [
    "#### **Collecting jobs links**"
   ]
  },
  {
   "cell_type": "code",
   "execution_count": null,
   "id": "6983a18a-d68e-47f3-b27f-a48420b30d35",
   "metadata": {},
   "outputs": [],
   "source": [
    "soups = pd.DataFrame(soups) # I will convert the soups dict to a df so we can do masking easly.\n",
    "\n",
    "soups['total_jobs'] = np.nan\n",
    "soups['jobs_links'] = np.nan\n",
    "soups['companies_links'] = np.nan\n",
    "\n",
    "indeed_jobs_links: set = set()\n",
    "indeed_companies_links: set = set()\n",
    "\n",
    "linkedin_jobs_links: set = set()\n",
    "linkedin_companies_links: set = set()\n",
    "\n",
    "# Collecting indeed jobs links\n",
    "for i, soup in enumerate(soups[soups['platform'] == 'Indeed']['soup']):\n",
    "    soup = BeautifulSoup(soup)\n",
    "    total_jobs = len(soup.find_all('a', 'jcs-JobTitle css-jspxzf eu4oa1w0'))\n",
    "    \n",
    "    for job_id in soup.find_all('a', 'jcs-JobTitle css-jspxzf eu4oa1w0')[:20]: # TOREMOVE\n",
    "        job_link = 'https://www.indeed.com/jobs?q=d&l=&from=searchOnHP&vjk=###'.replace('###', job_id['data-jk'])\n",
    "        \n",
    "        indeed_jobs_links.add(job_link)\n",
    "        indeed_companies_links.add(scrape_page(job_link).find('a', 'css-775knl emf9s7v0')['href'])\n",
    "\n",
    "    soups['total_jobs'][i] = total_jobs\n",
    "    soups['jobs_links'][i] = indeed_jobs_links\n",
    "    soups['companies_links'][i] = indeed_companies_links\n",
    "\n",
    "\n",
    "# Collecting linkedIn jobs links\n",
    "for i, soup in enumerate(soups[soups['platform'] == 'LinkedIn']['soup']):\n",
    "    \n",
    "    soup = BeautifulSoup(soup)\n",
    "    job_card_class = 'base-card__full-link absolute top-0 right-0 bottom-0 left-0 p-0 z-[2]'\n",
    "    total_jobs = len(soup.find_all('a', job_card_class))\n",
    "\n",
    "    for job_card in soup.find_all('a', job_card_class)[:20]: # TOREMOVE\n",
    "        job_link = job_card['href']\n",
    "\n",
    "        linkedin_jobs_links.add(job_link)\n",
    "        linkedin_companies_links.add(scrape_page(job_link).find('a', 'css-775knl emf9s7v0')['href'])\n",
    "\n",
    "    soups['total_jobs'][i] = total_jobs\n",
    "    soups['jobs_links'][i] = linkedin_jobs_links\n",
    "    soups['companies_links'][i] = linkedin_companies_links"
   ]
  },
  {
   "cell_type": "code",
   "execution_count": null,
   "id": "4f31a8d8-f416-4be3-80f3-626fe9485f2b",
   "metadata": {},
   "outputs": [],
   "source": [
    "linkedin_jobs_links"
   ]
  },
  {
   "cell_type": "code",
   "execution_count": null,
   "id": "0f939445-7283-4aa5-a576-d31be2b2598d",
   "metadata": {},
   "outputs": [],
   "source": [
    "test_html = scrape_page('https://www.indeed.com/jobs?q=d&l=&from=searchOnHP&vjk=26c4d3754f443acb')\n"
   ]
  },
  {
   "cell_type": "code",
   "execution_count": null,
   "id": "f6fbcc62-bafc-4fdd-96b5-18d420130a54",
   "metadata": {},
   "outputs": [],
   "source": [
    "test_html.find_all('div','jobsearch-JobMetadataFooter')"
   ]
  },
  {
   "cell_type": "code",
   "execution_count": null,
   "id": "f1586f9c-eba7-4552-97f1-47fb3d1c8949",
   "metadata": {},
   "outputs": [],
   "source": [
    "instant_scraper('https://www.indeed.com/jobs?q=d&l=&from=searchOnHP&vjk=00a2d82c2102d54c')"
   ]
  },
  {
   "cell_type": "code",
   "execution_count": null,
   "id": "291d86b0-2283-464c-b4d6-cdf203c7f0e4",
   "metadata": {},
   "outputs": [],
   "source": []
  },
  {
   "cell_type": "code",
   "execution_count": null,
   "id": "fb1eb233-46b5-4ece-b4a5-fdb033e2a00a",
   "metadata": {},
   "outputs": [],
   "source": []
  }
 ],
 "metadata": {
  "kernelspec": {
   "display_name": "Python 3 (ipykernel)",
   "language": "python",
   "name": "python3"
  },
  "language_info": {
   "codemirror_mode": {
    "name": "ipython",
    "version": 3
   },
   "file_extension": ".py",
   "mimetype": "text/x-python",
   "name": "python",
   "nbconvert_exporter": "python",
   "pygments_lexer": "ipython3",
   "version": "3.9.16"
  }
 },
 "nbformat": 4,
 "nbformat_minor": 5
}
