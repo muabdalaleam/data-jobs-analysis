{
 "cells": [
  {
   "cell_type": "markdown",
   "id": "b77d6d00-1121-4b75-ba3a-9b19daaf6496",
   "metadata": {
    "jp-MarkdownHeadingCollapsed": true
   },
   "source": [
    "## <center><strong><span style= 'color: #51fcc6'>Notebook </span>Describtion"
   ]
  },
  {
   "cell_type": "markdown",
   "id": "19067967-13d6-4976-8547-06ec1e6fb0ba",
   "metadata": {},
   "source": [
    "Hello There In this notebokk we are going to scrape the Full time and part time jobs data for the data related jobs like:<br>\n",
    "Data analyst, ML dev, Data scientist, Data engineer etc ..<br><br>\n",
    "\n",
    "**Important note:**\n",
    "We will analyze some countries only for indeed becuase indeed needs to specify which country to look at."
   ]
  },
  {
   "cell_type": "markdown",
   "id": "c735b5f0-0b9e-4e51-96c7-b0c92ae000d0",
   "metadata": {},
   "source": [
    "## <center><strong>Importing <span style= 'color: #48e0dc'>Packeges"
   ]
  },
  {
   "cell_type": "code",
   "execution_count": 60,
   "id": "ea612333-8338-4676-a332-959faf73ef55",
   "metadata": {},
   "outputs": [],
   "source": [
    "import re\n",
    "import time\n",
    "import random\n",
    "import pickle\n",
    "import sqlite3\n",
    "import warnings\n",
    "import requests\n",
    "import itertools\n",
    "import numpy as np\n",
    "import pandas as pd\n",
    "import seaborn as sns\n",
    "from itertools import count\n",
    "from bs4 import BeautifulSoup\n",
    "from selenium import webdriver\n",
    "import matplotlib.pyplot as plt\n",
    "from urllib.parse import urljoin\n",
    "from selenium.webdriver.common.by import By\n",
    "from selenium.webdriver.common.keys import Keys\n",
    "from IPython.display import set_matplotlib_formats\n",
    "from selenium.webdriver.chrome.service import Service\n",
    "from selenium.webdriver.chrome.options import Options\n",
    "from selenium.webdriver.support.ui import WebDriverWait\n",
    "from webdriver_manager.chrome import ChromeDriverManager\n",
    "from webdriver_manager.firefox import GeckoDriverManager\n",
    "from selenium.webdriver.support import expected_conditions as EC"
   ]
  },
  {
   "cell_type": "code",
   "execution_count": 3,
   "id": "beca8e68-9929-4d27-863f-f715f5610838",
   "metadata": {},
   "outputs": [
    {
     "name": "stderr",
     "output_type": "stream",
     "text": [
      "C:\\Users\\FreeComp\\AppData\\Local\\Temp\\ipykernel_19340\\1277823779.py:8: DeprecationWarning: `set_matplotlib_formats` is deprecated since IPython 7.23, directly use `matplotlib_inline.backend_inline.set_matplotlib_formats()`\n",
      "  set_matplotlib_formats('pdf', 'svg')\n"
     ]
    }
   ],
   "source": [
    "%matplotlib inline\n",
    "COLORS = ['#51fcc6', '#48e0dc', '#5cd3f7', '#4895e0', '#517afc']\n",
    "\n",
    "NUMERICS = ['int16', 'int32', 'int64', 'float16', 'float32', 'float64',\n",
    "            'uint16', 'uint32', 'uint64']\n",
    "MAX_PAGES = 300\n",
    "\n",
    "set_matplotlib_formats('pdf', 'svg')\n",
    "warnings.filterwarnings('ignore')\n",
    "\n",
    "ip_port_list = [('75.84.199.80', '80'),\n",
    "                ('172.173.241.207', '80'),\n",
    "                ('209.145.60.213', '80'),\n",
    "                ('86.109.3.28', '80'),\n",
    "                ('65.111.241.211', '80'),\n",
    "                ('144.34.162.125', '80')]"
   ]
  },
  {
   "cell_type": "markdown",
   "id": "8556ce34-26e3-4fa6-b26c-330970e723bb",
   "metadata": {},
   "source": [
    "## <center><strong>Setting up the<span style= 'color: #5cd3f7'> web scrapers"
   ]
  },
  {
   "cell_type": "code",
   "execution_count": 4,
   "id": "95942737-c384-4a2a-980d-02c24e559224",
   "metadata": {},
   "outputs": [],
   "source": [
    "data_jobs_titles = ['Data entry', 'Data engineer',\n",
    "                    'Data scientist', 'Data analyst',\n",
    "                    'ML devoloper']\n",
    "\n",
    "indeed_countries = ['de', 'uk']#, 'www'] USA don't have to be spesfied in the URL so we will use 'www' instead\n",
    "linkedin_countries = ['European Union', 'United States']\n",
    "ip_port = random.choice(ip_port_list)"
   ]
  },
  {
   "cell_type": "code",
   "execution_count": 12,
   "id": "720f110a-3276-4b47-9da0-f65599e632df",
   "metadata": {},
   "outputs": [],
   "source": [
    "def scrape_page(url: str, retrieve_new_url= False) -> BeautifulSoup:\n",
    "    \n",
    "    driver = webdriver.Firefox()\n",
    "    driver.get(url)\n",
    "    \n",
    "    wait = WebDriverWait(driver, 10)\n",
    "    \n",
    "    # Wait until the page is fully loaded\n",
    "    wait.until(EC.presence_of_element_located((By.TAG_NAME, 'body')))\n",
    "    \n",
    "    html = driver.page_source\n",
    "\n",
    "    if retrieve_new_url:\n",
    "        \n",
    "        new_url = driver.current_url\n",
    "        driver.quit()\n",
    "        \n",
    "        return BeautifulSoup(html), new_url\n",
    "        \n",
    "    driver.quit()\n",
    "\n",
    "    return BeautifulSoup(html)"
   ]
  },
  {
   "cell_type": "code",
   "execution_count": 13,
   "id": "3dcad281-40d3-44a8-9832-6b8362d1084f",
   "metadata": {},
   "outputs": [],
   "source": [
    "# def indeed_scraper(page: int,\n",
    "#                    country: str,\n",
    "#                    job_title: str) -> BeautifulSoup:\n",
    "\n",
    "#     modefid_page = (page - 1) * 10\n",
    "\n",
    "#     data_job_title = job_title.replace(' ', '+')\n",
    "\n",
    "#     # Pages in indeed.com are zero based indexed\n",
    "#     url: str = f'https://{country}.indeed.com/jobs?q={data_job_title}&sc=0kf%3Aattr%28DSQF7%29%3B&start={modefid_page}' + \\\n",
    "#     '&pp=gQClAAAAAAAAAAAAAAACCXklWwCSAQIBK7YBBwDUbujiRGBahYW5TppjdUz7DjXn3aPZSbT47IoJ5LLbuzpYcXwZdzJ6rKHf' + \\\n",
    "#     '6gPWFkXVGxKKGxW-JAKb8BFo_hZAkBd7trBBTY32J2CrOuA3V9dGD_bre-lArmi9DRYlcah6hvoRfsYUNYSoQwIa8VOMZMxvH-s2Dlh' + \\\n",
    "#     'UPvUP-_Dz9ls4i-OLqVGpGh4AAA&vjk=b997bb0dddadea'\n",
    "\n",
    "#     soup = scrape_page(url)\n",
    "#     loaded_page = int(soup.find('button', 'css-ns2mzi e8ju0x51').text)\n",
    "\n",
    "#     # available_pages = []\n",
    "\n",
    "#     # for button in soup.find_all('button', 'css-1qt7hdn e8ju0x50'):\n",
    "#     #     available_pages.append(int(button.text))\n",
    "\n",
    "#     if (int(page) != loaded_page):\n",
    "#         # We will use KeyError as standard to represent getting out of the max pages.\n",
    "#         raise KeyError\n",
    "        \n",
    "#     print(f'Page {page} Loaded successfully.')\n",
    "\n",
    "#     return  soup"
   ]
  },
  {
   "cell_type": "code",
   "execution_count": 50,
   "id": "88a6040f-fd32-488e-9886-534281049e1e",
   "metadata": {},
   "outputs": [],
   "source": [
    "def linkedin_scraper(country: str, # This scraper scrapes all pages at once\n",
    "                     job_title: str,\n",
    "                     page: int) -> BeautifulSoup:\n",
    "\n",
    "    page: int = (page - 1) * 25\n",
    "    url: str = f'https://www.linkedin.com/jobs-guest/jobs/api/seeMoreJobPostings/search?keywords={job_title}&' + \\\n",
    "    f'location={country}&geoId=90000084&trk=public_jobs_j%20obs-search-bar_search-submit&position=1&pageNum=0&start={page}'\n",
    "\n",
    "    response = requests.get(url)\n",
    "    soup = BeautifulSoup(response.content,'html.parser')\n",
    "\n",
    "    return  soup"
   ]
  },
  {
   "cell_type": "markdown",
   "id": "4951bed7-9819-4466-8604-9660043e7744",
   "metadata": {},
   "source": [
    "## <center><strong>Collecting<span style= 'color: #5cd3f7'> jobs </span> data"
   ]
  },
  {
   "cell_type": "markdown",
   "id": "3452ce6e-7b8b-4a82-b3e5-e6911937dea4",
   "metadata": {},
   "source": [
    "**Now we will need for three steps to collect the data we need:**\n",
    "\n",
    "1. Collect all pages we need from each scraper and stack them together as HTML code.\n",
    "2. Scrape for jobs cards links from linkedin and indeed.\n",
    "3. Scrape for the data in those links and store the data in a DataFrame then in SQLite\n",
    "4. We may also consider collecting total results per each platform, country etc .."
   ]
  },
  {
   "cell_type": "markdown",
   "id": "358aa3d2-25cd-4321-b091-d2a7914786f4",
   "metadata": {},
   "source": [
    "#### **Stack pages together as HTML code**"
   ]
  },
  {
   "cell_type": "code",
   "execution_count": null,
   "id": "11bf4c2b-d50b-494d-b2e1-5f41012401a5",
   "metadata": {},
   "outputs": [],
   "source": [
    "def convert_to_integer(number_string):\n",
    "\n",
    "    cleaned_string = ''.join(filter(str.isdigit, number_string))\n",
    "    cleaned_string = cleaned_string.rstrip('+')\n",
    "    integer_value = int(cleaned_string)\n",
    "\n",
    "    return integer_value"
   ]
  },
  {
   "cell_type": "code",
   "execution_count": 52,
   "id": "791acf9d-694a-417f-9015-31fceed0babc",
   "metadata": {
    "tags": []
   },
   "outputs": [
    {
     "name": "stdout",
     "output_type": "stream",
     "text": [
      "Starting LinkedIn scraper.\n",
      "Loading the European Union data.\n",
      "Finished loading Data entry jobs from the European Union.\n",
      "Finished loading Data engineer jobs from the European Union.\n",
      "Finished loading Data scientist jobs from the European Union.\n",
      "Finished loading Data analyst jobs from the European Union.\n",
      "Finished loading ML devoloper jobs from the European Union.\n",
      "\n",
      "\n",
      "Loading the United States data.\n",
      "Finished loading Data entry jobs from the United States.\n",
      "Finished loading Data engineer jobs from the United States.\n",
      "Finished loading Data scientist jobs from the United States.\n",
      "Finished loading Data analyst jobs from the United States.\n",
      "Finished loading ML devoloper jobs from the United States.\n",
      "\n",
      "\n"
     ]
    }
   ],
   "source": [
    "soups = {'soup': [],\n",
    "         'job_title': [],\n",
    "         'country': [],\n",
    "         'platform': []}\n",
    "\n",
    "flag: bool = False\n",
    "max_page: int = 7 # TOREMVE\n",
    "\n",
    "# Indeed scraping TODO\n",
    "# for country in indeed_countries:\n",
    "#     for job_title in data_jobs_titles:\n",
    "#         stacked_pages_soup: str = ''\n",
    "\n",
    "#         for i in count(0):\n",
    "\n",
    "#             try:\n",
    "#                 page = i + 1\n",
    "#                 soup: BeautifulSoup = indeed_scraper(country= country,\n",
    "#                                                      job_title= job_title,\n",
    "#                                                      page= page)\n",
    "                \n",
    "#                 stacked_pages_soup += '\\n<br> ' + str(soup)\n",
    "#                 if page > max_page:\n",
    "#                     print('Finished loading current country or job title.\\n')\n",
    "#                     break\n",
    "\n",
    "#             except KeyError as e:\n",
    "#                 print('Finished loading current country or job title.\\n')\n",
    "#                 break\n",
    "\n",
    "#         soups['platform'].append('Indeed')\n",
    "#         soups['soup'].append(stacked_pages_soup)\n",
    "#         soups['job_title'].append(job_title)\n",
    "#         soups['country'].append(country)\n",
    "\n",
    "# Linked In\n",
    "print('Starting LinkedIn scraper.')\n",
    "for country in linkedin_countries:\n",
    "\n",
    "    print(f'Loading the {country} data.')\n",
    "    for job_title in data_jobs_titles:\n",
    "        \n",
    "        full_soup: str = ''\n",
    "        total_jobs = scrape_page(f'https://www.linkedin.com/jobs/search?keywords={job_title}&location={country}&' + \n",
    "                                 f'\\geoId=&trk=public_jobs_jobs-search-bar_search-submit&position=1&pageNum=0')\n",
    "        \n",
    "        for i in count(0):\n",
    "            page = i + 1\n",
    "            page_soup: BeautifulSoup = linkedin_scraper(country= country,\n",
    "                                                        job_title= job_title,\n",
    "                                                        page= i + page)\n",
    "            full_soup += str(page_soup)\n",
    "            full_soup += ' <br> '\n",
    "\n",
    "            if (page_soup.find_all('li') is None) or (page == max_page):\n",
    "                break\n",
    "\n",
    "        soups['platform'].append('LinkedIn')\n",
    "        soups['total_jobs'].append(total_jobs)\n",
    "        soups['soup'].append(full_soup)\n",
    "        soups['job_title'].append(job_title)\n",
    "        soups['country'].append(country)\n",
    "\n",
    "        print(f'Finished loading {job_title} jobs from the {country}.')\n",
    "    print('\\n')"
   ]
  },
  {
   "cell_type": "code",
   "execution_count": 107,
   "id": "89f6777d-a8d5-4011-8d45-db50ecb8dcd0",
   "metadata": {},
   "outputs": [],
   "source": [
    "def remove_escape_sequences(strings):\n",
    "\n",
    "    new_strings = []\n",
    "    escapes = ''.join([chr(char) for char in range(1, 32)])\n",
    "    translator = str.maketrans('', '', escapes)\n",
    "\n",
    "    for string in strings:\n",
    "        new_string = string.translate(translator)\n",
    "        new_strings.append(new_string)\n",
    "        \n",
    "    return tuple(new_strings)"
   ]
  },
  {
   "cell_type": "code",
   "execution_count": 108,
   "id": "b9ceb430-f3cf-4aec-9163-a248162ad19a",
   "metadata": {
    "tags": []
   },
   "outputs": [
    {
     "data": {
      "text/plain": [
       "('Hello  world',)"
      ]
     },
     "execution_count": 108,
     "metadata": {},
     "output_type": "execute_result"
    }
   ],
   "source": [
    "remove_escape_sequences(['Hello \\n world'])"
   ]
  },
  {
   "cell_type": "markdown",
   "id": "89bf5dc7-509a-490c-bd59-b341487cb5b4",
   "metadata": {},
   "source": [
    "#### **Collecting jobs links**"
   ]
  },
  {
   "cell_type": "code",
   "execution_count": 109,
   "id": "6983a18a-d68e-47f3-b27f-a48420b30d35",
   "metadata": {},
   "outputs": [],
   "source": [
    "soups = pd.DataFrame(soups)\n",
    "\n",
    "soups['jobs_locations'] = np.nan\n",
    "soups['listing_dates'] = np.nan\n",
    "soups['jobs_titles'] = np.nan\n",
    "soups['companies_names'] = np.nan\n",
    "\n",
    "soups['companies_links'] = np.nan\n",
    "soups['jobs_links'] = np.nan\n",
    "\n",
    "\n",
    "# Collecting indeed jobs links TOFIX\n",
    "# for i, soup in enumerate(soups[soups['platform'] == 'Indeed']['soup']):\n",
    "    \n",
    "#     indeed_jobs_links: list = []\n",
    "#     indeed_companies_links: list = []\n",
    "\n",
    "#     for job in BeautifulSoup(soup).find_all('a', 'jcs-JobTitle css-jspxzf eu4oa1w0'):\n",
    "#         job_link = 'https://www.indeed.com/jobs?q=d&l=&from=searchOnHP&vjk=###'.replace('###', job['data-jk'])\n",
    "#         indeed_jobs_links.append(job_link)\n",
    "\n",
    "#     for job_link in indeed_jobs_links[:5]: # WE WILL REMOVE THIS LIMIT\n",
    "#         company_link = BeautifulSoup(scrape_page(job_link)).find('a', 'css-775knl emf9s7v0')\n",
    "#         indeed_companies_links.append(company_link)\n",
    "#         print(company_link)\n",
    "        \n",
    "#     soups['total_jobs'][i] = len(indeed_jobs_links)\n",
    "#     soups['jobs_links'][i] = indeed_jobs_links\n",
    "#     soups['companies_links'][i] = indeed_companies_links\n",
    "\n",
    "\n",
    "# Collecting linkedIn jobs links\n",
    "for i, soup in enumerate(soups[soups['platform'] == 'LinkedIn']['soup']):\n",
    "\n",
    "    soup = BeautifulSoup(soup)\n",
    "\n",
    "    linkedin_jobs_locations = tuple(\n",
    "        [element.get_text() for element in soup.find_all('span', 'job-search-card__location')])\n",
    "\n",
    "    linkedin_jobs_listing_dates = tuple(\n",
    "        [element['datetime'] for element in soup.find_all('time', 'job-search-card__listdate')])\n",
    "\n",
    "    linkedin_jobs_titles = tuple(\n",
    "        [element.get_text() for element in soup.find_all('h3', 'base-search-card__title')])\n",
    "\n",
    "    linkedin_jobs_companies_names = tuple(\n",
    "        [element.get_text() for element in soup.find_all('a', 'hidden-nested-link')])\n",
    "\n",
    "    \n",
    "    linkedin_jobs_links: tuple = (\n",
    "        [element['href'] for element in soup.find_all('a', 'base-card__full-link absolute top-0 right-0 bottom-0 left-0 p-0 z-[2]')])\n",
    "    \n",
    "    linkedin_companies_links: tuple = (\n",
    "        [element['href'] for element in soup.find_all('a', 'hidden-nested-link')])\n",
    "\n",
    "    # I will use sets and tuples instead of lists because they are faster.\n",
    "    soups['jobs_locations'][i] = remove_escape_sequences(linkedin_jobs_locations)\n",
    "    soups['listing_dates'][i] = linkedin_jobs_listing_dates\n",
    "    soups['jobs_titles'][i] = remove_escape_sequences(linkedin_jobs_titles)\n",
    "    soups['companies_names'][i] = remove_escape_sequences(linkedin_jobs_companies_names)\n",
    "    \n",
    "    soups['jobs_links'][i] = linkedin_jobs_links\n",
    "    soups['companies_links'][i] = linkedin_companies_links"
   ]
  },
  {
   "cell_type": "code",
   "execution_count": 39,
   "id": "725320a7-f587-4a29-9b46-a72ff695120e",
   "metadata": {},
   "outputs": [
    {
     "data": {
      "text/plain": [
       "148"
      ]
     },
     "execution_count": 39,
     "metadata": {},
     "output_type": "execute_result"
    }
   ],
   "source": [
    "len(soups['soup'][1].find_all('a', 'base-card__full-link absolute top-0 right-0 bottom-0 left-0 p-0 z-[2]'))"
   ]
  },
  {
   "cell_type": "code",
   "execution_count": 137,
   "id": "ecd47cf0-37fb-4c0a-bc2a-3abc5bcfe071",
   "metadata": {},
   "outputs": [
    {
     "data": {
      "text/plain": [
       "('https://www.indeed.com/jobs?q=d&l=&from=searchOnHP&vjk=297a5f03a72d28ba',\n",
       " 'https://www.indeed.com/jobs?q=d&l=&from=searchOnHP&vjk=dfb22eace90ab68a',\n",
       " 'https://www.indeed.com/jobs?q=d&l=&from=searchOnHP&vjk=1df95ac216434def',\n",
       " 'https://www.indeed.com/jobs?q=d&l=&from=searchOnHP&vjk=ec52d6d183156757',\n",
       " 'https://www.indeed.com/jobs?q=d&l=&from=searchOnHP&vjk=4be75a2883ca49b4',\n",
       " 'https://www.indeed.com/jobs?q=d&l=&from=searchOnHP&vjk=ce840e854164d5f5',\n",
       " 'https://www.indeed.com/jobs?q=d&l=&from=searchOnHP&vjk=7a31018777b2a0fb',\n",
       " 'https://www.indeed.com/jobs?q=d&l=&from=searchOnHP&vjk=0ce08416199b1cb1',\n",
       " 'https://www.indeed.com/jobs?q=d&l=&from=searchOnHP&vjk=148d931cb5870ea9',\n",
       " 'https://www.indeed.com/jobs?q=d&l=&from=searchOnHP&vjk=88849361571a22a8',\n",
       " 'https://www.indeed.com/jobs?q=d&l=&from=searchOnHP&vjk=68040c6377ffaaf5',\n",
       " 'https://www.indeed.com/jobs?q=d&l=&from=searchOnHP&vjk=722a2feac0caa4db',\n",
       " 'https://www.indeed.com/jobs?q=d&l=&from=searchOnHP&vjk=db7619ac3e3a8b6f',\n",
       " 'https://www.indeed.com/jobs?q=d&l=&from=searchOnHP&vjk=48066749109741a3',\n",
       " 'https://www.indeed.com/jobs?q=d&l=&from=searchOnHP&vjk=db332094622e43af',\n",
       " 'https://www.indeed.com/jobs?q=d&l=&from=searchOnHP&vjk=cff0cc1a077aa95d',\n",
       " 'https://www.indeed.com/jobs?q=d&l=&from=searchOnHP&vjk=6cff9e542faed768',\n",
       " 'https://www.indeed.com/jobs?q=d&l=&from=searchOnHP&vjk=efd7de9072adbe04',\n",
       " 'https://www.indeed.com/jobs?q=d&l=&from=searchOnHP&vjk=709bc1b193a31e80',\n",
       " 'https://www.indeed.com/jobs?q=d&l=&from=searchOnHP&vjk=4913f43f8b8e860f',\n",
       " 'https://www.indeed.com/jobs?q=d&l=&from=searchOnHP&vjk=e946a4763d3f77c8',\n",
       " 'https://www.indeed.com/jobs?q=d&l=&from=searchOnHP&vjk=1b9d310b126878b9',\n",
       " 'https://www.indeed.com/jobs?q=d&l=&from=searchOnHP&vjk=ac115f18e82d69bd',\n",
       " 'https://www.indeed.com/jobs?q=d&l=&from=searchOnHP&vjk=fc48eb6dd5bdda72',\n",
       " 'https://www.indeed.com/jobs?q=d&l=&from=searchOnHP&vjk=63938c621938c984',\n",
       " 'https://www.indeed.com/jobs?q=d&l=&from=searchOnHP&vjk=d2495a21b0a17b34',\n",
       " 'https://www.indeed.com/jobs?q=d&l=&from=searchOnHP&vjk=777b2dc2205f2616')"
      ]
     },
     "execution_count": 137,
     "metadata": {},
     "output_type": "execute_result"
    }
   ],
   "source": [
    "indeed_jobs_lin"
   ]
  },
  {
   "cell_type": "code",
   "execution_count": 84,
   "id": "03ab6c24-5397-4775-ba32-764be61b26c6",
   "metadata": {},
   "outputs": [
    {
     "data": {
      "text/plain": [
       "{'https://www.indeed.com/jobs?q=d&l=&from=searchOnHP&vjk=0f4e49c98c0536f1',\n",
       " 'https://www.indeed.com/jobs?q=d&l=&from=searchOnHP&vjk=19f3a3be9f35218f',\n",
       " 'https://www.indeed.com/jobs?q=d&l=&from=searchOnHP&vjk=1df95ac216434def',\n",
       " 'https://www.indeed.com/jobs?q=d&l=&from=searchOnHP&vjk=297a5f03a72d28ba',\n",
       " 'https://www.indeed.com/jobs?q=d&l=&from=searchOnHP&vjk=40e35f9a902792ed',\n",
       " 'https://www.indeed.com/jobs?q=d&l=&from=searchOnHP&vjk=446ba27dfffdbe36',\n",
       " 'https://www.indeed.com/jobs?q=d&l=&from=searchOnHP&vjk=48746eece7f6d42f',\n",
       " 'https://www.indeed.com/jobs?q=d&l=&from=searchOnHP&vjk=4be75a2883ca49b4',\n",
       " 'https://www.indeed.com/jobs?q=d&l=&from=searchOnHP&vjk=5010e97afafcfbf9',\n",
       " 'https://www.indeed.com/jobs?q=d&l=&from=searchOnHP&vjk=605f5275b7921be9',\n",
       " 'https://www.indeed.com/jobs?q=d&l=&from=searchOnHP&vjk=973410652b64f9a8',\n",
       " 'https://www.indeed.com/jobs?q=d&l=&from=searchOnHP&vjk=a34fc6b420419272',\n",
       " 'https://www.indeed.com/jobs?q=d&l=&from=searchOnHP&vjk=bbae1d266770b45a',\n",
       " 'https://www.indeed.com/jobs?q=d&l=&from=searchOnHP&vjk=dd8c3832576dcd38',\n",
       " 'https://www.indeed.com/jobs?q=d&l=&from=searchOnHP&vjk=dfb22eace90ab68a',\n",
       " 'https://www.indeed.com/jobs?q=d&l=&from=searchOnHP&vjk=e01edbb8769d2dbe',\n",
       " 'https://www.indeed.com/jobs?q=d&l=&from=searchOnHP&vjk=e48dcb9bb5363f91',\n",
       " 'https://www.indeed.com/jobs?q=d&l=&from=searchOnHP&vjk=ec52d6d183156757',\n",
       " 'https://www.indeed.com/jobs?q=d&l=&from=searchOnHP&vjk=ec8d17677e9a27db',\n",
       " 'https://www.indeed.com/jobs?q=d&l=&from=searchOnHP&vjk=fb95c004ed0f0de3'}"
      ]
     },
     "execution_count": 84,
     "metadata": {},
     "output_type": "execute_result"
    }
   ],
   "source": [
    "for i, soup in enumerate(soups[soups['platform'] == 'Indeed']['soup']):\n",
    "\n",
    "    indeed_jobs_links: set = set()\n",
    "    indeed_companies_links: set = set()\n",
    "\n",
    "    for job in soup.find_all('a', 'jcs-JobTitle css-jspxzf eu4oa1w0'):\n",
    "        job_link = 'https://www.indeed.com/jobs?q=d&l=&from=searchOnHP&vjk=###'.replace('###', BeautifulSoup((job)['data-jk'])\n",
    "        indeed_jobs_links.add(job_link)\n",
    "\n",
    "    for job_link in indeed_jobs_links[:5]: # WE WILL REMOVE THIS LIMIT\n",
    "        company_link = scrape_page(job_link).find('a', 'css-775knl emf9s7v0')['href']\n",
    "        indeed_companies_links.add(company_link)\n",
    "\n",
    "    soups['total_jobs'][i] = len(indeed_jobs_links)\n",
    "    soups['jobs_links'][i] = indeed_jobs_links\n",
    "    soups['companies_links'][i] = indeed_companies_links"
   ]
  },
  {
   "cell_type": "code",
   "execution_count": 117,
   "id": "4f31a8d8-f416-4be3-80f3-626fe9485f2b",
   "metadata": {},
   "outputs": [
    {
     "name": "stdout",
     "output_type": "stream",
     "text": [
      "27\n",
      "120\n",
      "120\n",
      "120\n"
     ]
    }
   ],
   "source": [
    "for soup in soups[soups['platform'] == 'Indeed']['soup'][:2]:\n",
    "    job_links = []\n",
    "\n",
    "    for job in BeautifulSoup(soup).find_all('a', 'jcs-JobTitle css-jspxzf eu4oa1w0'):\n",
    "        job_link = 'https://www.indeed.com/jobs?q=d&l=&from=searchOnHP&vjk=###'.replace('###', job['data-jk'])\n",
    "        job_links.append(job_link)\n",
    "\n",
    "     for job_link in job_links[:5]:\n",
    "         print(scrape_page(job_link).find('a', 'css-775knl emf9s7v0')['href'])\n",
    "\n",
    "    print('\\n')"
   ]
  },
  {
   "cell_type": "code",
   "execution_count": 115,
   "id": "c8439570-b1d7-4985-bf5a-100db8b92168",
   "metadata": {},
   "outputs": [
    {
     "data": {
      "text/plain": [
       "387"
      ]
     },
     "execution_count": 115,
     "metadata": {},
     "output_type": "execute_result"
    }
   ],
   "source": [
    "len(set(job_links))"
   ]
  },
  {
   "cell_type": "code",
   "execution_count": 114,
   "id": "0c96c3fb-a2ed-4151-967b-568a14c588a2",
   "metadata": {},
   "outputs": [
    {
     "data": {
      "text/plain": [
       "387"
      ]
     },
     "execution_count": 114,
     "metadata": {},
     "output_type": "execute_result"
    }
   ],
   "source": [
    "len(job_links) "
   ]
  },
  {
   "cell_type": "code",
   "execution_count": null,
   "id": "0f939445-7283-4aa5-a576-d31be2b2598d",
   "metadata": {},
   "outputs": [],
   "source": [
    "test_html = scrape_page('https://www.indeed.com/jobs?q=d&l=&from=searchOnHP&vjk=26c4d3754f443acb')\n"
   ]
  },
  {
   "cell_type": "code",
   "execution_count": null,
   "id": "f6fbcc62-bafc-4fdd-96b5-18d420130a54",
   "metadata": {},
   "outputs": [],
   "source": [
    "test_html.find_all('div','jobsearch-JobMetadataFooter')"
   ]
  }
 ],
 "metadata": {
  "kernelspec": {
   "display_name": "Python 3 (ipykernel)",
   "language": "python",
   "name": "python3"
  },
  "language_info": {
   "codemirror_mode": {
    "name": "ipython",
    "version": 3
   },
   "file_extension": ".py",
   "mimetype": "text/x-python",
   "name": "python",
   "nbconvert_exporter": "python",
   "pygments_lexer": "ipython3",
   "version": "3.9.16"
  }
 },
 "nbformat": 4,
 "nbformat_minor": 5
}
