{
 "cells": [
  {
   "cell_type": "markdown",
   "id": "b700e760-7e79-46b5-b2e7-870d73dfe1cf",
   "metadata": {},
   "source": [
    "## **Setting up the model**"
   ]
  },
  {
   "cell_type": "code",
   "execution_count": null,
   "id": "07a50045-2db4-4eab-adab-f4e9f97cdf28",
   "metadata": {},
   "outputs": [],
   "source": [
    "from transformers import AutoTokenizer\n",
    "import pandas as pd\n",
    "import numpy as np\n",
    "import transformers\n",
    "import torch\n",
    "import accelerate\n",
    "\n",
    "MODEL_NAME : str = \"meta-llama/Llama-2-14b-chat-hf\"\n",
    "MAX_TOKENS : int = 2056"
   ]
  },
  {
   "cell_type": "code",
   "execution_count": null,
   "id": "6351c044-c358-46b7-bdd8-a13b4a1e195a",
   "metadata": {},
   "outputs": [],
   "source": [
    "tokenizer = AutoTokenizer.from_pretrained(MODEL_NAME)\n",
    "pipeline  = transformers.pipeline(\"text-generation\",\n",
    "\n",
    "    model=                 MODEL_NAME,\n",
    "    tokenizer=             tokenizer,\n",
    "    torch_dtype=           torch.bfloat16,\n",
    "    trust_remote_code=     True,\n",
    "    device_map=            \"auto\",\n",
    "    max_length=            MAX_TOKENS,\n",
    "    do_sample=             True,\n",
    "    top_k=                 10,\n",
    "    num_return_sequences=  1,\n",
    "    eos_token_id=          tokenizer.eos_token_id\n",
    ")"
   ]
  }
 ],
 "metadata": {
  "kernelspec": {
   "display_name": "Python 3 (ipykernel)",
   "language": "python",
   "name": "python3"
  },
  "language_info": {
   "codemirror_mode": {
    "name": "ipython",
    "version": 3
   },
   "file_extension": ".py",
   "mimetype": "text/x-python",
   "name": "python",
   "nbconvert_exporter": "python",
   "pygments_lexer": "ipython3",
   "version": "3.10.11"
  }
 },
 "nbformat": 4,
 "nbformat_minor": 5
}
