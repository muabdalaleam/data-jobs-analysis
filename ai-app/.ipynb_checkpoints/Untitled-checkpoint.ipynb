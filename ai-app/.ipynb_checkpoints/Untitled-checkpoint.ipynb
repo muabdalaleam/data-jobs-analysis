{
 "cells": [
  {
   "cell_type": "markdown",
   "id": "9bbf804a-f494-42c6-82c6-ae85f9347289",
   "metadata": {},
   "source": [
    "## <center><strong>Importing <span style= 'color: #48e0dc'>Packeges</span>"
   ]
  },
  {
   "cell_type": "code",
   "execution_count": null,
   "id": "438f410d-45cb-4cdc-b2d0-3113c77cf537",
   "metadata": {},
   "outputs": [],
   "source": [
    "import re\n",
    "import sys\n",
    "import json\n",
    "import warnings\n",
    "import requests\n",
    "import cloudscraper\n",
    "import numpy             as np\n",
    "import pandas            as pd\n",
    "import seaborn           as sns\n",
    "import matplotlib.pyplot as plt\n",
    "\n",
    "from itertools                          import count\n",
    "from bs4                                import BeautifulSoup\n",
    "from selenium                           import webdriver\n",
    "from google.cloud                       import bigquery\n",
    "from urllib.request                     import urlopen\n",
    "from selenium.webdriver.common.by       import By\n",
    "from scrapy.utils.log                   import configure_logging\n",
    "from selenium.webdriver.common.keys     import Keys\n",
    "from IPython.display                    import set_matplotlib_formats\n",
    "from selenium.webdriver.chrome.service  import Service\n",
    "from selenium.webdriver.chrome.options  import Options\n",
    "from selenium.webdriver.support.ui      import WebDriverWait\n",
    "from webdriver_manager.chrome           import ChromeDriverManager\n",
    "from selenium.webdriver.support         import expected_conditions as EC"
   ]
  },
  {
   "cell_type": "code",
   "execution_count": null,
   "id": "a4feff42-da49-4334-b0fc-c54dfa1ce0da",
   "metadata": {},
   "outputs": [],
   "source": [
    "COUNTRIES : str = ['European Union', 'United States']\n",
    "LOCATION  : str = 'Remote'\n",
    "JOB_TITLE : str = 'Data analyst'"
   ]
  },
  {
   "cell_type": "markdown",
   "id": "c902ca7c-c7f4-485d-afaa-aec235bdd507",
   "metadata": {},
   "source": [
    "## <center><strong>Setting up the<span style= 'color: #5cd3f7'> web scrapers"
   ]
  },
  {
   "cell_type": "code",
   "execution_count": null,
   "id": "81fcfd0d-fe4e-4ae1-bc08-199dfda00725",
   "metadata": {},
   "outputs": [],
   "source": [
    "def scrape_page_fast(url: str) -> BeautifulSoup:\n",
    "\n",
    "    scraper = cloudscraper.create_scraper(delay= 10,browser= {\n",
    "        'browser': 'chrome',\n",
    "        'platform': 'windows',\n",
    "        'desktop': True,\n",
    "        'mobile': False}) \n",
    "    \n",
    "    content = scraper.get(url).text \n",
    "    return BeautifulSoup(content)\n",
    "\n",
    "\n",
    "\n",
    "def scrape_page(url: str, retrieve_new_url= None, user_agent= None) -> BeautifulSoup:\n",
    "\n",
    "    driver = webdriver.Chrome()\n",
    "    driver.get(url)\n",
    "\n",
    "    wait = WebDriverWait(driver, 10)\n",
    "    wait.until(EC.presence_of_element_located((By.TAG_NAME, 'body')))\n",
    "\n",
    "\n",
    "    html = BeautifulSoup(driver.page_source)\n",
    "\n",
    "    if retrieve_new_url:\n",
    "        new_url = driver.current_url\n",
    "\n",
    "        driver.quit()\n",
    "        return html, new_url\n",
    "        \n",
    "    driver.quit()\n",
    "    return html"
   ]
  }
 ],
 "metadata": {
  "kernelspec": {
   "display_name": "Python 3 (ipykernel)",
   "language": "python",
   "name": "python3"
  },
  "language_info": {
   "codemirror_mode": {
    "name": "ipython",
    "version": 3
   },
   "file_extension": ".py",
   "mimetype": "text/x-python",
   "name": "python",
   "nbconvert_exporter": "python",
   "pygments_lexer": "ipython3",
   "version": "3.9.17"
  }
 },
 "nbformat": 4,
 "nbformat_minor": 5
}
